{
  "cells": [
    {
      "cell_type": "markdown",
      "metadata": {
        "id": "t0hcF0yxun8Y"
      },
      "source": [
        "# Numpy\n",
        "\n"
      ]
    },
    {
      "cell_type": "markdown",
      "metadata": {
        "id": "9zsrJxiMun8q"
      },
      "source": [
        "#### 1. Import the numpy package under the name `np` (★☆☆) \n",
        "(**hint**: import … as …)"
      ]
    },
    {
      "cell_type": "code",
      "execution_count": 1,
      "metadata": {
        "collapsed": true,
        "id": "_bqPM-eIun8t"
      },
      "outputs": [],
      "source": [
        "import numpy as np"
      ]
    },
    {
      "cell_type": "markdown",
      "metadata": {
        "id": "p4W18jB0un8w"
      },
      "source": [
        "#### 2. Print the numpy version and the configuration (★☆☆) \n",
        "(**hint**: np.\\_\\_version\\_\\_, np.show\\_config)"
      ]
    },
    {
      "cell_type": "code",
      "execution_count": 2,
      "metadata": {
        "id": "LYjSXb6fun8y",
        "outputId": "4dcfe34e-281a-40e7-d293-3e1cc00b1082",
        "colab": {
          "base_uri": "https://localhost:8080/"
        }
      },
      "outputs": [
        {
          "output_type": "execute_result",
          "data": {
            "text/plain": [
              "('1.21.6', <function numpy.__config__.show()>)"
            ]
          },
          "metadata": {},
          "execution_count": 2
        }
      ],
      "source": [
        "np.__version__, np.show_config"
      ]
    },
    {
      "cell_type": "markdown",
      "metadata": {
        "id": "C17s72jCun80"
      },
      "source": [
        "#### 3. Create a null vector of size 10 (★☆☆) \n",
        "(**hint**: np.zeros)"
      ]
    },
    {
      "cell_type": "code",
      "execution_count": 3,
      "metadata": {
        "id": "1gamHBPyun81",
        "outputId": "4b945c23-49bc-47dc-c61d-2b21d83a853c",
        "colab": {
          "base_uri": "https://localhost:8080/"
        }
      },
      "outputs": [
        {
          "output_type": "execute_result",
          "data": {
            "text/plain": [
              "array([0., 0., 0., 0., 0., 0., 0., 0., 0., 0.])"
            ]
          },
          "metadata": {},
          "execution_count": 3
        }
      ],
      "source": [
        "np.zeros([10])"
      ]
    },
    {
      "cell_type": "markdown",
      "metadata": {
        "id": "JDd0dQG0un83"
      },
      "source": [
        "#### 4.  How to find the memory size of any array (★☆☆) \n",
        "(**hint**: size, itemsize)"
      ]
    },
    {
      "cell_type": "code",
      "execution_count": 4,
      "metadata": {
        "id": "QXqT4F2Tun85",
        "outputId": "55ac35f2-4204-470e-b166-850be45bc35e",
        "colab": {
          "base_uri": "https://localhost:8080/"
        }
      },
      "outputs": [
        {
          "output_type": "stream",
          "name": "stdout",
          "text": [
            "16\n"
          ]
        }
      ],
      "source": [
        "x = np.array([2,4])\n",
        "y =(x.size)\n",
        "z =(x.itemsize)\n",
        "print(y*z)"
      ]
    },
    {
      "cell_type": "markdown",
      "metadata": {
        "id": "FeYZrmyYun86"
      },
      "source": [
        "#### 5.  How to get the documentation of the numpy add function from the command line? (★☆☆) \n",
        "(**hint**: np.info)"
      ]
    },
    {
      "cell_type": "code",
      "execution_count": 5,
      "metadata": {
        "collapsed": true,
        "id": "l09eOQJyun88",
        "outputId": "568bf272-b8eb-4302-eacc-1ab411c6fa71",
        "colab": {
          "base_uri": "https://localhost:8080/"
        }
      },
      "outputs": [
        {
          "output_type": "stream",
          "name": "stdout",
          "text": [
            "add(x1, x2, /, out=None, *, where=True, casting='same_kind', order='K', dtype=None, subok=True[, signature, extobj])\n",
            "\n",
            "Add arguments element-wise.\n",
            "\n",
            "Parameters\n",
            "----------\n",
            "x1, x2 : array_like\n",
            "    The arrays to be added.\n",
            "    If ``x1.shape != x2.shape``, they must be broadcastable to a common\n",
            "    shape (which becomes the shape of the output).\n",
            "out : ndarray, None, or tuple of ndarray and None, optional\n",
            "    A location into which the result is stored. If provided, it must have\n",
            "    a shape that the inputs broadcast to. If not provided or None,\n",
            "    a freshly-allocated array is returned. A tuple (possible only as a\n",
            "    keyword argument) must have length equal to the number of outputs.\n",
            "where : array_like, optional\n",
            "    This condition is broadcast over the input. At locations where the\n",
            "    condition is True, the `out` array will be set to the ufunc result.\n",
            "    Elsewhere, the `out` array will retain its original value.\n",
            "    Note that if an uninitialized `out` array is created via the default\n",
            "    ``out=None``, locations within it where the condition is False will\n",
            "    remain uninitialized.\n",
            "**kwargs\n",
            "    For other keyword-only arguments, see the\n",
            "    :ref:`ufunc docs <ufuncs.kwargs>`.\n",
            "\n",
            "Returns\n",
            "-------\n",
            "add : ndarray or scalar\n",
            "    The sum of `x1` and `x2`, element-wise.\n",
            "    This is a scalar if both `x1` and `x2` are scalars.\n",
            "\n",
            "Notes\n",
            "-----\n",
            "Equivalent to `x1` + `x2` in terms of array broadcasting.\n",
            "\n",
            "Examples\n",
            "--------\n",
            ">>> np.add(1.0, 4.0)\n",
            "5.0\n",
            ">>> x1 = np.arange(9.0).reshape((3, 3))\n",
            ">>> x2 = np.arange(3.0)\n",
            ">>> np.add(x1, x2)\n",
            "array([[  0.,   2.,   4.],\n",
            "       [  3.,   5.,   7.],\n",
            "       [  6.,   8.,  10.]])\n",
            "\n",
            "The ``+`` operator can be used as a shorthand for ``np.add`` on ndarrays.\n",
            "\n",
            ">>> x1 = np.arange(9.0).reshape((3, 3))\n",
            ">>> x2 = np.arange(3.0)\n",
            ">>> x1 + x2\n",
            "array([[ 0.,  2.,  4.],\n",
            "       [ 3.,  5.,  7.],\n",
            "       [ 6.,  8., 10.]])\n",
            "None\n"
          ]
        }
      ],
      "source": [
        "print(np.info(np.add))"
      ]
    },
    {
      "cell_type": "markdown",
      "metadata": {
        "id": "4Ji40j5Tun89"
      },
      "source": [
        "#### 6.  Create a null vector of size 10 but the fifth value which is 1 (★☆☆) \n",
        "(**hint**: array\\[4\\])"
      ]
    },
    {
      "cell_type": "code",
      "execution_count": 6,
      "metadata": {
        "id": "VW7Eh394un8-",
        "outputId": "09ee9d87-ecde-4bcf-e385-18041a90e5bd",
        "colab": {
          "base_uri": "https://localhost:8080/"
        }
      },
      "outputs": [
        {
          "output_type": "stream",
          "name": "stdout",
          "text": [
            "[0. 0. 0. 0. 1. 0. 0. 0. 0. 0.]\n"
          ]
        }
      ],
      "source": [
        "x = np.zeros([10])\n",
        "x[4] = 1\n",
        "print(x)"
      ]
    },
    {
      "cell_type": "markdown",
      "metadata": {
        "id": "Bcad99xAun9A"
      },
      "source": [
        "#### 7.  Create a vector with values ranging from 10 to 49 (★☆☆) \n",
        "(**hint**: np.arange)"
      ]
    },
    {
      "cell_type": "code",
      "execution_count": 7,
      "metadata": {
        "id": "P91nnTwVun9B",
        "outputId": "8e98126c-58e7-4d35-e3b3-41da5ac6c5de",
        "colab": {
          "base_uri": "https://localhost:8080/"
        }
      },
      "outputs": [
        {
          "output_type": "stream",
          "name": "stdout",
          "text": [
            "[10 11 12 13 14 15 16 17 18 19 20 21 22 23 24 25 26 27 28 29 30 31 32 33\n",
            " 34 35 36 37 38 39 40 41 42 43 44 45 46 47 48]\n"
          ]
        }
      ],
      "source": [
        "x = np.arange(10,49)\n",
        "print(x)"
      ]
    },
    {
      "cell_type": "markdown",
      "metadata": {
        "id": "TJE_6b0run9C"
      },
      "source": [
        "#### 8.  Reverse a vector (first element becomes last) (★☆☆) \n",
        "(**hint**: array\\[::-1\\])"
      ]
    },
    {
      "cell_type": "code",
      "execution_count": 8,
      "metadata": {
        "id": "TbsTAfqGun9D",
        "outputId": "d7f68d52-e735-48cf-824b-73fbcf788535",
        "colab": {
          "base_uri": "https://localhost:8080/"
        }
      },
      "outputs": [
        {
          "output_type": "stream",
          "name": "stdout",
          "text": [
            "[10  9  8  7  6  5  4  3  2  1]\n"
          ]
        }
      ],
      "source": [
        "x = np.arange(1,11)\n",
        "print(x[::-1])"
      ]
    },
    {
      "cell_type": "markdown",
      "metadata": {
        "id": "rBj_S5cBun9E"
      },
      "source": [
        "#### 9.  Create a 3x3 matrix with values ranging from 0 to 8 (★☆☆) \n",
        "(**hint**: reshape)"
      ]
    },
    {
      "cell_type": "code",
      "execution_count": 9,
      "metadata": {
        "id": "2FKiSdoAun9F",
        "outputId": "8ddc63b1-4e63-4a42-cea4-1fd0877b18ad",
        "colab": {
          "base_uri": "https://localhost:8080/"
        }
      },
      "outputs": [
        {
          "output_type": "stream",
          "name": "stdout",
          "text": [
            "[[0 1 2]\n",
            " [3 4 5]\n",
            " [6 7 8]]\n"
          ]
        }
      ],
      "source": [
        "x = np.arange(0,9).reshape([3,3])\n",
        "print(x)"
      ]
    },
    {
      "cell_type": "markdown",
      "metadata": {
        "id": "kP-HjGtZun9G"
      },
      "source": [
        "#### 10. Find indices of non-zero elements from \\[1,2,0,0,4,0\\] (★☆☆) \n",
        "(**hint**: np.nonzero)"
      ]
    },
    {
      "cell_type": "code",
      "execution_count": 10,
      "metadata": {
        "id": "zB1-B1jKun9I",
        "outputId": "badd6a9f-3c37-459a-8f28-7ac06453c4cf",
        "colab": {
          "base_uri": "https://localhost:8080/"
        }
      },
      "outputs": [
        {
          "output_type": "stream",
          "name": "stdout",
          "text": [
            "(array([0, 1, 4]),)\n"
          ]
        }
      ],
      "source": [
        "x = np.array([1,2,0,0,4,0])\n",
        "print(np.nonzero(x))"
      ]
    },
    {
      "cell_type": "markdown",
      "metadata": {
        "id": "nr24Z-u2un9I"
      },
      "source": [
        "#### 11. Create a 3x3 identity matrix (★☆☆) \n",
        "(**hint**: np.eye)"
      ]
    },
    {
      "cell_type": "code",
      "execution_count": 11,
      "metadata": {
        "id": "bi0vx4dDun9J",
        "colab": {
          "base_uri": "https://localhost:8080/"
        },
        "outputId": "ca0ccd76-b648-4cd0-bdab-d07b3a08c53d"
      },
      "outputs": [
        {
          "output_type": "stream",
          "name": "stdout",
          "text": [
            "[[1. 0. 0.]\n",
            " [0. 1. 0.]\n",
            " [0. 0. 1.]]\n"
          ]
        }
      ],
      "source": [
        "x = np.eye(3,3)\n",
        "print(x)"
      ]
    },
    {
      "cell_type": "markdown",
      "metadata": {
        "id": "dq9mLJcOun9K"
      },
      "source": [
        "#### 12. Create a 3x3x3 array with random values (★☆☆) \n",
        "(**hint**: np.random.random)"
      ]
    },
    {
      "cell_type": "code",
      "execution_count": 12,
      "metadata": {
        "collapsed": true,
        "id": "6jOvP96uun9L",
        "colab": {
          "base_uri": "https://localhost:8080/"
        },
        "outputId": "5e722e91-06cd-406a-c2d7-5d29510be7c5"
      },
      "outputs": [
        {
          "output_type": "stream",
          "name": "stdout",
          "text": [
            "[[[0.41426244 0.56930759 0.36909886]\n",
            "  [0.67136317 0.56258973 0.46383142]\n",
            "  [0.65956062 0.6136921  0.98266583]]\n",
            "\n",
            " [[0.88263173 0.58914229 0.07962003]\n",
            "  [0.87537412 0.68161798 0.34277084]\n",
            "  [0.60711372 0.67569013 0.24330902]]\n",
            "\n",
            " [[0.02788883 0.35662092 0.17304881]\n",
            "  [0.89182632 0.04605759 0.65688483]\n",
            "  [0.74901458 0.1249409  0.41733009]]]\n"
          ]
        }
      ],
      "source": [
        "x = np.random.random((3,3,3))\n",
        "print(x)"
      ]
    },
    {
      "cell_type": "markdown",
      "metadata": {
        "id": "fASHTw1Nun9M"
      },
      "source": [
        "#### 13. Create a 10x10 array with random values and find the minimum and maximum values (★☆☆) \n",
        "(**hint**: min, max)"
      ]
    },
    {
      "cell_type": "code",
      "execution_count": 13,
      "metadata": {
        "id": "K2h8FIzIun9N",
        "colab": {
          "base_uri": "https://localhost:8080/"
        },
        "outputId": "0e006a5b-99da-445b-d799-37cfd1fecbdd"
      },
      "outputs": [
        {
          "output_type": "stream",
          "name": "stdout",
          "text": [
            "[[0.8219806  0.6326565  0.64893705 0.55343351 0.15890049 0.69071834\n",
            "  0.59209612 0.51505344 0.47942321 0.4837899 ]\n",
            " [0.03419984 0.17811645 0.24242082 0.337261   0.17718243 0.6428863\n",
            "  0.21219021 0.97555264 0.15157737 0.08365514]\n",
            " [0.01179437 0.25219291 0.65776005 0.70879372 0.89618795 0.89915262\n",
            "  0.70707935 0.79838929 0.71897425 0.37126799]\n",
            " [0.56636583 0.494517   0.17393921 0.32470527 0.19718285 0.68996866\n",
            "  0.30065382 0.63218143 0.56977318 0.18898082]\n",
            " [0.91726515 0.83908953 0.42196286 0.34656013 0.17081635 0.19842963\n",
            "  0.05683398 0.58788853 0.76319799 0.15824153]\n",
            " [0.05104156 0.35058018 0.81208494 0.93291627 0.05052589 0.14360415\n",
            "  0.5904297  0.89489201 0.70257012 0.80014491]\n",
            " [0.53712274 0.9074119  0.71669153 0.88686639 0.20310426 0.29465856\n",
            "  0.52382358 0.8273148  0.16098029 0.36382136]\n",
            " [0.58262585 0.10255953 0.60312349 0.83831728 0.99150739 0.81165305\n",
            "  0.84152112 0.90416623 0.8521479  0.08690983]\n",
            " [0.05777512 0.68157608 0.5043619  0.81845927 0.11912683 0.46902885\n",
            "  0.02592343 0.88274696 0.21890343 0.30814041]\n",
            " [0.49106136 0.37565614 0.20085177 0.53195984 0.63663523 0.27550724\n",
            "  0.63350721 0.84869795 0.99370925 0.7043355 ]]\n",
            "0.011794370434835888\n",
            "0.9937092514838105\n"
          ]
        }
      ],
      "source": [
        "x =np.random.random((10,10))\n",
        "print(x)\n",
        "print(x.min())\n",
        "print(x.max())\n"
      ]
    },
    {
      "cell_type": "markdown",
      "metadata": {
        "id": "kc8VYRATun9O"
      },
      "source": [
        "#### 14. Create a random vector of size 30 and find the mean value (★☆☆) \n",
        "(**hint**: mean)"
      ]
    },
    {
      "cell_type": "code",
      "execution_count": 14,
      "metadata": {
        "id": "emQYoNIeun9P",
        "colab": {
          "base_uri": "https://localhost:8080/"
        },
        "outputId": "2fb23e2d-caa6-4f33-ee75-b0843ec7c2a9"
      },
      "outputs": [
        {
          "output_type": "stream",
          "name": "stdout",
          "text": [
            "[0.76915208 0.58713971 0.43206467 0.53199963 0.85036781 0.81944151\n",
            " 0.38226425 0.75149826 0.59263142 0.52274842 0.18259086 0.63265453\n",
            " 0.11964917 0.43308362 0.86057356 0.16358208 0.05167206 0.23934175\n",
            " 0.43838983 0.23909159 0.08054577 0.69864809 0.38459146 0.95185413\n",
            " 0.7108745  0.99729524 0.76060811 0.3865772  0.96725421 0.55896561]\n",
            "0.5365717055122811\n"
          ]
        }
      ],
      "source": [
        "x = np.random.random(30)\n",
        "print(x)\n",
        "print(x.mean())"
      ]
    },
    {
      "cell_type": "markdown",
      "metadata": {
        "id": "xYhTUuN4un9P"
      },
      "source": [
        "#### 15. Create a 2d array with 1 on the border and 0 inside (★☆☆) \n",
        "(**hint**: array\\[1:-1, 1:-1\\])"
      ]
    },
    {
      "cell_type": "code",
      "execution_count": 15,
      "metadata": {
        "id": "AMYSTzflun9Q",
        "colab": {
          "base_uri": "https://localhost:8080/"
        },
        "outputId": "945fce88-1b76-4f65-e61f-c64f49c17f72"
      },
      "outputs": [
        {
          "output_type": "stream",
          "name": "stdout",
          "text": [
            "[[1. 1. 1. 1. 1.]\n",
            " [1. 0. 0. 0. 1.]\n",
            " [1. 0. 0. 0. 1.]\n",
            " [1. 0. 0. 0. 1.]\n",
            " [1. 1. 1. 1. 1.]]\n"
          ]
        }
      ],
      "source": [
        "x = np.ones((5,5))\n",
        "x[1:-1,1:-1] = 0\n",
        "print(x)"
      ]
    },
    {
      "cell_type": "markdown",
      "metadata": {
        "id": "GbR9KRx2un9R"
      },
      "source": [
        "#### 16. How to add a border (filled with 0's) around an existing array? (★☆☆) \n",
        "(**hint**: np.pad)"
      ]
    },
    {
      "cell_type": "code",
      "execution_count": 16,
      "metadata": {
        "id": "ygjdNIkAun9S",
        "colab": {
          "base_uri": "https://localhost:8080/"
        },
        "outputId": "2288a53d-7679-4b82-ebfc-8f28b05a8a91"
      },
      "outputs": [
        {
          "output_type": "stream",
          "name": "stdout",
          "text": [
            "[[0. 0. 0. 0. 0.]\n",
            " [0. 1. 1. 1. 0.]\n",
            " [0. 1. 1. 1. 0.]\n",
            " [0. 1. 1. 1. 0.]\n",
            " [0. 0. 0. 0. 0.]]\n"
          ]
        }
      ],
      "source": [
        "x = np.ones((3,3))\n",
        "x = np.pad(x ,pad_width = 1,mode = 'constant',constant_values = 0)\n",
        "print(x)"
      ]
    },
    {
      "cell_type": "markdown",
      "metadata": {
        "id": "Z8seZlh8un9T"
      },
      "source": [
        "#### 17. What is the result of the following expression? (★☆☆) \n",
        "(**hint**: NaN = not a number, inf = infinity)"
      ]
    },
    {
      "cell_type": "markdown",
      "metadata": {
        "id": "QE3nr4Eaun9U"
      },
      "source": [
        "```python\n",
        "0 * np.nan\n",
        "np.nan == np.nan\n",
        "np.inf > np.nan\n",
        "np.nan - np.nan\n",
        "0.3 == 3 * 0.1\n",
        "```"
      ]
    },
    {
      "cell_type": "code",
      "execution_count": 17,
      "metadata": {
        "id": "eSVOmQjnun9V",
        "colab": {
          "base_uri": "https://localhost:8080/"
        },
        "outputId": "e452bbd3-6542-4fd1-ff23-8dff643834fd"
      },
      "outputs": [
        {
          "output_type": "stream",
          "name": "stdout",
          "text": [
            "nan\n",
            "False\n",
            "False\n",
            "nan\n",
            "False\n"
          ]
        }
      ],
      "source": [
        "print(0 * np.nan)\n",
        "print(np.nan == np.nan)\n",
        "print(np.inf > np.nan)\n",
        "print(np.nan - np.nan)\n",
        "print(0.3 == 3 * 0.1)"
      ]
    },
    {
      "cell_type": "markdown",
      "metadata": {
        "id": "PZ5LaMcIun9Z"
      },
      "source": [
        "#### 18. Create a 5x5 matrix with values 1,2,3,4 just below the diagonal (★☆☆) \n",
        "(**hint**: np.diag)"
      ]
    },
    {
      "cell_type": "code",
      "execution_count": 18,
      "metadata": {
        "id": "A9y653Mdun9a",
        "colab": {
          "base_uri": "https://localhost:8080/"
        },
        "outputId": "ae21eac6-e7b8-4eb0-d55d-554767dfed5b"
      },
      "outputs": [
        {
          "output_type": "stream",
          "name": "stdout",
          "text": [
            "[[0 0 0 0 0]\n",
            " [1 0 0 0 0]\n",
            " [0 2 0 0 0]\n",
            " [0 0 3 0 0]\n",
            " [0 0 0 4 0]]\n"
          ]
        }
      ],
      "source": [
        "x = np.diag(1+np.arange(4),k = -1)\n",
        "print(x)"
      ]
    },
    {
      "cell_type": "markdown",
      "metadata": {
        "id": "5HVytLZyun9b"
      },
      "source": [
        "#### 19. Create a 8x8 matrix and fill it with a checkerboard pattern (★☆☆) \n",
        "(**hint**: array\\[::2\\])"
      ]
    },
    {
      "cell_type": "code",
      "execution_count": 19,
      "metadata": {
        "id": "7vWXFYCxun9c",
        "colab": {
          "base_uri": "https://localhost:8080/"
        },
        "outputId": "c65c7a76-e1b8-406e-81f6-ea50529cc1ed"
      },
      "outputs": [
        {
          "output_type": "stream",
          "name": "stdout",
          "text": [
            "[[0. 1. 0. 1. 0. 1. 0. 1.]\n",
            " [1. 0. 1. 0. 1. 0. 1. 0.]\n",
            " [0. 1. 0. 1. 0. 1. 0. 1.]\n",
            " [1. 0. 1. 0. 1. 0. 1. 0.]\n",
            " [0. 1. 0. 1. 0. 1. 0. 1.]\n",
            " [1. 0. 1. 0. 1. 0. 1. 0.]\n",
            " [0. 1. 0. 1. 0. 1. 0. 1.]\n",
            " [1. 0. 1. 0. 1. 0. 1. 0.]]\n"
          ]
        }
      ],
      "source": [
        "x = np.zeros((8,8))\n",
        "x[1::2,::2] = 1\n",
        "x[::2,1::2] = 1\n",
        "print(x)"
      ]
    },
    {
      "cell_type": "markdown",
      "metadata": {
        "id": "-7c-ggn_un9d"
      },
      "source": [
        "#### 20. Consider a (6,7,8) shape array, what is the index (x,y,z) of the 100th element? \n",
        "(**hint**: np.unravel_index)"
      ]
    },
    {
      "cell_type": "code",
      "execution_count": 20,
      "metadata": {
        "id": "h_xcwGANun9e",
        "colab": {
          "base_uri": "https://localhost:8080/"
        },
        "outputId": "e8e10984-3478-43b9-9153-715908c885de"
      },
      "outputs": [
        {
          "output_type": "stream",
          "name": "stdout",
          "text": [
            "(1, 5, 4)\n"
          ]
        }
      ],
      "source": [
        "print(np.unravel_index(100,(6,7,8)))"
      ]
    },
    {
      "cell_type": "markdown",
      "metadata": {
        "id": "WmGXSrP3un9f"
      },
      "source": [
        "#### 21. Create a checkerboard 8x8 matrix using the tile function (★☆☆) \n",
        "(**hint**: np.tile)"
      ]
    },
    {
      "cell_type": "code",
      "execution_count": 21,
      "metadata": {
        "id": "pq-E_9zwun9g",
        "colab": {
          "base_uri": "https://localhost:8080/"
        },
        "outputId": "856bc0db-b438-42c2-db26-3c63a38fed9b"
      },
      "outputs": [
        {
          "output_type": "stream",
          "name": "stdout",
          "text": [
            "[[0 1 0 1 0 1 0 1]\n",
            " [1 0 1 0 1 0 1 0]\n",
            " [0 1 0 1 0 1 0 1]\n",
            " [1 0 1 0 1 0 1 0]\n",
            " [0 1 0 1 0 1 0 1]\n",
            " [1 0 1 0 1 0 1 0]\n",
            " [0 1 0 1 0 1 0 1]\n",
            " [1 0 1 0 1 0 1 0]]\n"
          ]
        }
      ],
      "source": [
        "x = np.tile( np.array([[0,1],[1,0]]), (4,4))\n",
        "print(x)"
      ]
    },
    {
      "cell_type": "markdown",
      "metadata": {
        "id": "L6wFchlzun9g"
      },
      "source": [
        "#### 22. Normalize a 5x5 random matrix (★☆☆) \n",
        "(**hint**: (x - min) / (max - min))"
      ]
    },
    {
      "cell_type": "code",
      "execution_count": 22,
      "metadata": {
        "id": "D3gAmPIbun9h",
        "colab": {
          "base_uri": "https://localhost:8080/"
        },
        "outputId": "1a035fbe-0eb3-464e-e36f-75136c246f02"
      },
      "outputs": [
        {
          "output_type": "stream",
          "name": "stdout",
          "text": [
            "[[0.43682526 0.33192283 0.91821786 0.24944771 0.47113393]\n",
            " [0.33144852 0.52610593 0.69985361 0.63468044 0.58704432]\n",
            " [1.         0.24408875 0.10562304 0.89135108 0.17758509]\n",
            " [0.69531342 0.67077733 0.72182361 0.61674421 0.76093405]\n",
            " [0.         0.16060202 0.15709783 0.52611014 0.02397864]]\n"
          ]
        }
      ],
      "source": [
        "x = np.random.random((5,5))\n",
        "xmax,xmin = x.max(),x.min()\n",
        "y = (x-xmin)/(xmax - xmin)\n",
        "print(y)"
      ]
    },
    {
      "cell_type": "markdown",
      "metadata": {
        "id": "RIbezipAun9i"
      },
      "source": [
        "#### 23. Create a custom dtype that describes a color as four unsigned bytes (RGBA) (★☆☆) \n",
        "(**hint**: np.dtype)"
      ]
    },
    {
      "cell_type": "code",
      "execution_count": 23,
      "metadata": {
        "collapsed": true,
        "id": "i1WppCZwun9j",
        "colab": {
          "base_uri": "https://localhost:8080/"
        },
        "outputId": "875be7bb-2676-4b8d-dd13-f783ac7cef92"
      },
      "outputs": [
        {
          "output_type": "stream",
          "name": "stderr",
          "text": [
            "<ipython-input-23-b9f1a6f5df9c>:1: FutureWarning: Passing (type, 1) or '1type' as a synonym of type is deprecated; in a future version of numpy, it will be understood as (type, (1,)) / '(1,)type'.\n",
            "  color = np.dtype([(\"r\", np.ubyte, 1),\n"
          ]
        }
      ],
      "source": [
        "color = np.dtype([(\"r\", np.ubyte, 1),\n",
        "                  (\"g\", np.ubyte, 1),\n",
        "                  (\"b\", np.ubyte, 1),\n",
        "                  (\"a\", np.ubyte, 1)])"
      ]
    },
    {
      "cell_type": "markdown",
      "metadata": {
        "id": "WPJ4fnQPun9j"
      },
      "source": [
        "#### 24. Multiply a 5x3 matrix by a 3x2 matrix (real matrix product) (★☆☆) \n",
        "(**hint**: np.dot | @)"
      ]
    },
    {
      "cell_type": "code",
      "execution_count": 24,
      "metadata": {
        "id": "RuUUrG8gun9k",
        "colab": {
          "base_uri": "https://localhost:8080/"
        },
        "outputId": "e34b91fe-4374-4619-af4d-aeea1626ab93"
      },
      "outputs": [
        {
          "output_type": "stream",
          "name": "stdout",
          "text": [
            "[[3. 3.]\n",
            " [3. 3.]\n",
            " [3. 3.]\n",
            " [3. 3.]\n",
            " [3. 3.]]\n"
          ]
        }
      ],
      "source": [
        "x = np.ones((5,3)) @ np.ones((3,2))\n",
        "print(x)"
      ]
    },
    {
      "cell_type": "markdown",
      "metadata": {
        "id": "zTf8G02hun9l"
      },
      "source": [
        "#### 25. Given a 1D array, negate all elements which are between 3 and 8, in place. (★☆☆) \n",
        "(**hint**: >, <=)"
      ]
    },
    {
      "cell_type": "code",
      "execution_count": 25,
      "metadata": {
        "id": "j8gC5muRun9m",
        "colab": {
          "base_uri": "https://localhost:8080/"
        },
        "outputId": "36396567-beb8-47cd-a97b-0bf99ebcb7af"
      },
      "outputs": [
        {
          "output_type": "stream",
          "name": "stdout",
          "text": [
            "[ 0  1  2  3 -4 -5 -6 -7 -8  9 10]\n"
          ]
        }
      ],
      "source": [
        "Z = np.arange(11)\n",
        "Z[(3 < Z) & (Z <= 8)] *= -1\n",
        "print(Z)"
      ]
    },
    {
      "cell_type": "markdown",
      "metadata": {
        "id": "fgPqN9enun9m"
      },
      "source": [
        "#### 26. What is the output of the following script? (★☆☆) \n",
        "(**hint**: np.sum)"
      ]
    },
    {
      "cell_type": "markdown",
      "metadata": {
        "id": "qxukJ3uUun9n"
      },
      "source": [
        "```python\n",
        "# Author: Jake VanderPlas\n",
        "\n",
        "print(sum(range(5),-1))\n",
        "from numpy import *\n",
        "print(sum(range(5),-1))\n",
        "```"
      ]
    },
    {
      "cell_type": "code",
      "execution_count": 26,
      "metadata": {
        "id": "sPvmJu_eun9o",
        "colab": {
          "base_uri": "https://localhost:8080/"
        },
        "outputId": "3e09d7b2-af70-41e5-c2a3-1289124ed353"
      },
      "outputs": [
        {
          "output_type": "stream",
          "name": "stdout",
          "text": [
            "9\n",
            "10\n"
          ]
        }
      ],
      "source": [
        "print(sum(range(5),-1))\n",
        "from numpy import *\n",
        "print(sum(range(5),-1))"
      ]
    },
    {
      "cell_type": "markdown",
      "metadata": {
        "id": "XQZZcIMxun9p"
      },
      "source": [
        "#### 27. Consider an integer vector Z, which of these expressions are legal? (★☆☆)"
      ]
    },
    {
      "cell_type": "markdown",
      "metadata": {
        "id": "mKzMXDLSun9q"
      },
      "source": [
        "```python\n",
        "Z**Z\n",
        "2 << Z >> 2\n",
        "Z <- Z\n",
        "1j*Z\n",
        "Z/1/1\n",
        "Z<Z>Z\n",
        "```"
      ]
    },
    {
      "cell_type": "code",
      "execution_count": 27,
      "metadata": {
        "id": "QYaivX5Gun9r",
        "colab": {
          "base_uri": "https://localhost:8080/",
          "height": 241
        },
        "outputId": "a66ae97b-c3c9-4135-d8e6-4d49cd1f551f"
      },
      "outputs": [
        {
          "output_type": "error",
          "ename": "ValueError",
          "evalue": "ignored",
          "traceback": [
            "\u001b[0;31m---------------------------------------------------------------------------\u001b[0m",
            "\u001b[0;31mValueError\u001b[0m                                Traceback (most recent call last)",
            "\u001b[0;32m<ipython-input-27-6114e943f179>\u001b[0m in \u001b[0;36m<module>\u001b[0;34m\u001b[0m\n\u001b[0;32m----> 1\u001b[0;31m \u001b[0mprint\u001b[0m\u001b[0;34m(\u001b[0m\u001b[0mZ\u001b[0m\u001b[0;34m**\u001b[0m\u001b[0mZ\u001b[0m\u001b[0;34m)\u001b[0m\u001b[0;34m\u001b[0m\u001b[0;34m\u001b[0m\u001b[0m\n\u001b[0m\u001b[1;32m      2\u001b[0m \u001b[0mprint\u001b[0m\u001b[0;34m(\u001b[0m\u001b[0;36m2\u001b[0m \u001b[0;34m<<\u001b[0m \u001b[0mZ\u001b[0m \u001b[0;34m>>\u001b[0m \u001b[0;36m2\u001b[0m\u001b[0;34m)\u001b[0m\u001b[0;34m\u001b[0m\u001b[0;34m\u001b[0m\u001b[0m\n\u001b[1;32m      3\u001b[0m \u001b[0mprint\u001b[0m\u001b[0;34m(\u001b[0m\u001b[0mZ\u001b[0m \u001b[0;34m<\u001b[0m\u001b[0;34m-\u001b[0m \u001b[0mZ\u001b[0m\u001b[0;34m)\u001b[0m\u001b[0;34m\u001b[0m\u001b[0;34m\u001b[0m\u001b[0m\n\u001b[1;32m      4\u001b[0m \u001b[0mprint\u001b[0m\u001b[0;34m(\u001b[0m\u001b[0;36m1j\u001b[0m\u001b[0;34m*\u001b[0m\u001b[0mZ\u001b[0m\u001b[0;34m)\u001b[0m\u001b[0;34m\u001b[0m\u001b[0;34m\u001b[0m\u001b[0m\n\u001b[1;32m      5\u001b[0m \u001b[0mprint\u001b[0m\u001b[0;34m(\u001b[0m\u001b[0mZ\u001b[0m\u001b[0;34m/\u001b[0m\u001b[0;36m1\u001b[0m\u001b[0;34m/\u001b[0m\u001b[0;36m1\u001b[0m\u001b[0;34m)\u001b[0m\u001b[0;34m\u001b[0m\u001b[0;34m\u001b[0m\u001b[0m\n",
            "\u001b[0;31mValueError\u001b[0m: Integers to negative integer powers are not allowed."
          ]
        }
      ],
      "source": [
        "print(Z**Z)\n",
        "print(2 << Z >> 2)\n",
        "print(Z <- Z)\n",
        "print(1j*Z)\n",
        "print(Z/1/1)\n",
        "print(Z<Z>Z)"
      ]
    },
    {
      "cell_type": "markdown",
      "metadata": {
        "id": "W21gY_ufun9r"
      },
      "source": [
        "#### 28. What are the result of the following expressions?"
      ]
    },
    {
      "cell_type": "markdown",
      "metadata": {
        "id": "9gf6nDpIun9s"
      },
      "source": [
        "```python\n",
        "np.array(0) / np.array(0)\n",
        "np.array(0) // np.array(0)\n",
        "np.array([np.nan]).astype(int).astype(float)\n",
        "```"
      ]
    },
    {
      "cell_type": "code",
      "execution_count": 28,
      "metadata": {
        "id": "4RV_O_Mkun9t",
        "colab": {
          "base_uri": "https://localhost:8080/"
        },
        "outputId": "f41b51b3-beab-4a0f-d4ae-d166b200e69d"
      },
      "outputs": [
        {
          "metadata": {
            "tags": null
          },
          "name": "stdout",
          "output_type": "stream",
          "text": [
            "nan\n",
            "0\n",
            "[-9.22337204e+18]\n"
          ]
        },
        {
          "metadata": {
            "tags": null
          },
          "name": "stderr",
          "output_type": "stream",
          "text": [
            "<ipython-input-28-ff276be07a1f>:1: RuntimeWarning: invalid value encountered in true_divide\n",
            "  print(np.array(0)/np.array(0))\n",
            "<ipython-input-28-ff276be07a1f>:2: RuntimeWarning: divide by zero encountered in floor_divide\n",
            "  print(np.array(0)//np.array(0))\n"
          ]
        }
      ],
      "source": [
        "print(np.array(0)/np.array(0))\n",
        "print(np.array(0)//np.array(0))\n",
        "print(np.array([np.nan]).astype(int).astype(float))\n",
        "\n"
      ]
    },
    {
      "cell_type": "markdown",
      "metadata": {
        "id": "bEet2pboun9t"
      },
      "source": [
        "#### 29. How to round away from zero a float array ? (★☆☆) \n",
        "(**hint**: np.uniform, np.copysign, np.ceil, np.abs)"
      ]
    },
    {
      "cell_type": "code",
      "execution_count": 29,
      "metadata": {
        "id": "vTElFOFLun9u",
        "colab": {
          "base_uri": "https://localhost:8080/"
        },
        "outputId": "a637c656-df72-4dfe-b816-b8974bdcc46d"
      },
      "outputs": [
        {
          "metadata": {
            "tags": null
          },
          "name": "stdout",
          "output_type": "stream",
          "text": [
            "[  3.   3.   9.  -6.   3.  -7. -10.   5.  10.   7.]\n"
          ]
        }
      ],
      "source": [
        "Z = np.random.uniform(-10,+10,10)\n",
        "print (np.copysign(np.ceil(np.abs(Z)), Z))"
      ]
    },
    {
      "cell_type": "markdown",
      "metadata": {
        "id": "HeFV9BaTun9v"
      },
      "source": [
        "#### 30. How to find common values between two arrays? (★☆☆) \n",
        "(**hint**: np.intersect1d)"
      ]
    },
    {
      "cell_type": "code",
      "execution_count": 30,
      "metadata": {
        "id": "VX1GGATjun9w",
        "colab": {
          "base_uri": "https://localhost:8080/"
        },
        "outputId": "23359e78-7f44-41fd-eba0-c01928d3feb3"
      },
      "outputs": [
        {
          "metadata": {
            "tags": null
          },
          "name": "stdout",
          "output_type": "stream",
          "text": [
            "[2 4]\n"
          ]
        }
      ],
      "source": [
        "Z1 = np.array([1,2,3,4,5])\n",
        "Z2 = np.array([2,4,7,8,9])\n",
        "print(np.intersect1d(Z1,Z2))"
      ]
    },
    {
      "cell_type": "markdown",
      "metadata": {
        "id": "9k2kQI22un9w"
      },
      "source": [
        "#### 31. How to ignore all numpy warnings (not recommended)? (★☆☆) \n",
        "(**hint**: np.seterr, np.errstate)"
      ]
    },
    {
      "cell_type": "code",
      "execution_count": 31,
      "metadata": {
        "id": "ekX05zZKun9x"
      },
      "outputs": [],
      "source": [
        "defaults = np.seterr(all=\"ignore\")\n",
        "Z = np.ones(1) / 0\n"
      ]
    },
    {
      "cell_type": "markdown",
      "metadata": {
        "id": "ljW-csV1un9y"
      },
      "source": [
        "#### 32. Is the following expressions true? (★☆☆) \n",
        "(**hint**: imaginary number)"
      ]
    },
    {
      "cell_type": "markdown",
      "metadata": {
        "id": "mMFbe1Mhun9z"
      },
      "source": [
        "```python\n",
        "np.sqrt(-1) == np.emath.sqrt(-1)\n",
        "```"
      ]
    },
    {
      "cell_type": "code",
      "execution_count": 32,
      "metadata": {
        "id": "upmnV6dIun9z",
        "colab": {
          "base_uri": "https://localhost:8080/"
        },
        "outputId": "d5044b3c-dadc-4201-dc50-d75ecbea1755"
      },
      "outputs": [
        {
          "metadata": {
            "tags": null
          },
          "name": "stdout",
          "output_type": "stream",
          "text": [
            "False\n"
          ]
        }
      ],
      "source": [
        "print(np.sqrt(-1)==np.emath.sqrt(-1))\n",
        "\n",
        "\n"
      ]
    },
    {
      "cell_type": "markdown",
      "metadata": {
        "id": "0oJaoRIOun90"
      },
      "source": [
        "#### 33. How to get the dates of yesterday, today and tomorrow? (★☆☆) \n",
        "(**hint**: np.datetime64, np.timedelta64)"
      ]
    },
    {
      "cell_type": "code",
      "execution_count": 33,
      "metadata": {
        "collapsed": true,
        "id": "vawLBAVtun91",
        "colab": {
          "base_uri": "https://localhost:8080/"
        },
        "outputId": "68608a06-c379-4b6a-d8d2-3596aa3ac12d"
      },
      "outputs": [
        {
          "metadata": {
            "tags": null
          },
          "name": "stdout",
          "output_type": "stream",
          "text": [
            "2022-12-09\n",
            "2022-12-10\n",
            "2022-12-11\n"
          ]
        }
      ],
      "source": [
        "yesterday = np.datetime64('today', 'D') - np.timedelta64(1, 'D')\n",
        "today     = np.datetime64('today', 'D')\n",
        "tomorrow  = np.datetime64('today', 'D') + np.timedelta64(1, 'D')\n",
        "print(yesterday)\n",
        "print(today)\n",
        "print(tomorrow)"
      ]
    },
    {
      "cell_type": "markdown",
      "metadata": {
        "id": "zvA-qnT7un96"
      },
      "source": [
        "#### 34. How to get all the dates corresponding to the month of July 2016? (★★☆) \n",
        "(**hint**: np.arange(dtype=datetime64\\['D'\\]))"
      ]
    },
    {
      "cell_type": "code",
      "execution_count": 34,
      "metadata": {
        "id": "ktlJ0BjBun97",
        "colab": {
          "base_uri": "https://localhost:8080/"
        },
        "outputId": "63f2c649-7ef0-48a4-bd72-97b104f7a24c"
      },
      "outputs": [
        {
          "output_type": "stream",
          "name": "stdout",
          "text": [
            "['2016-07-01' '2016-07-02' '2016-07-03' '2016-07-04' '2016-07-05'\n",
            " '2016-07-06' '2016-07-07' '2016-07-08' '2016-07-09' '2016-07-10'\n",
            " '2016-07-11' '2016-07-12' '2016-07-13' '2016-07-14' '2016-07-15'\n",
            " '2016-07-16' '2016-07-17' '2016-07-18' '2016-07-19' '2016-07-20'\n",
            " '2016-07-21' '2016-07-22' '2016-07-23' '2016-07-24' '2016-07-25'\n",
            " '2016-07-26' '2016-07-27' '2016-07-28' '2016-07-29' '2016-07-30'\n",
            " '2016-07-31']\n"
          ]
        }
      ],
      "source": [
        "Z = np.arange('2016-07', '2016-08', dtype='datetime64[D]')\n",
        "print(Z)"
      ]
    },
    {
      "cell_type": "markdown",
      "metadata": {
        "id": "vLPSitclun98"
      },
      "source": [
        "#### 35. How to compute ((A+B)\\*(-A/2)) in place (without copy)? (★★☆) \n",
        "(**hint**: np.add(out=), np.negative(out=), np.multiply(out=), np.divide(out=))"
      ]
    },
    {
      "cell_type": "code",
      "execution_count": 35,
      "metadata": {
        "id": "aKj3Qgncun99",
        "colab": {
          "base_uri": "https://localhost:8080/"
        },
        "outputId": "c89e0d79-e0dd-4104-e2d9-c27b64bf3bf1"
      },
      "outputs": [
        {
          "output_type": "execute_result",
          "data": {
            "text/plain": [
              "array([-1.5, -1.5, -1.5])"
            ]
          },
          "metadata": {},
          "execution_count": 35
        }
      ],
      "source": [
        "A = np.ones(3)*1\n",
        "B = np.ones(3)*2\n",
        "C = np.ones(3)*3\n",
        "np.add(A,B,out=B)\n",
        "np.divide(A,2,out=A)\n",
        "np.negative(A,out=A)\n",
        "np.multiply(A,B,out=A)"
      ]
    },
    {
      "cell_type": "markdown",
      "metadata": {
        "id": "7A4_Id9-un99"
      },
      "source": [
        "#### 36. Extract the integer part of a random array using 5 different methods (★★☆) \n",
        "(**hint**: %, np.floor, np.ceil, astype, np.trunc)"
      ]
    },
    {
      "cell_type": "code",
      "execution_count": 36,
      "metadata": {
        "id": "JiivQZkCun9-",
        "colab": {
          "base_uri": "https://localhost:8080/"
        },
        "outputId": "d17173e2-4357-4bb0-e6c8-d04877419d3a"
      },
      "outputs": [
        {
          "output_type": "stream",
          "name": "stdout",
          "text": [
            "[6. 1. 1. 5. 8. 7. 9. 0. 9. 0.]\n",
            "[6. 1. 1. 5. 8. 7. 9. 0. 9. 0.]\n",
            "[6. 1. 1. 5. 8. 7. 9. 0. 9. 0.]\n",
            "[6 1 1 5 8 7 9 0 9 0]\n",
            "[6. 1. 1. 5. 8. 7. 9. 0. 9. 0.]\n"
          ]
        }
      ],
      "source": [
        "Z = np.random.uniform(0,10,10)\n",
        "\n",
        "print (Z - Z%1)\n",
        "print (np.floor(Z))\n",
        "print (np.ceil(Z)-1)\n",
        "print (Z.astype(int))\n",
        "print (np.trunc(Z))"
      ]
    },
    {
      "cell_type": "markdown",
      "metadata": {
        "id": "UJBBsmssun9_"
      },
      "source": [
        "#### 37. Create a 5x5 matrix with row values ranging from 0 to 4 (★★☆) \n",
        "(**hint**: np.arange)"
      ]
    },
    {
      "cell_type": "code",
      "execution_count": 37,
      "metadata": {
        "id": "G4UnhAfnun-A",
        "colab": {
          "base_uri": "https://localhost:8080/"
        },
        "outputId": "8dee9ea6-9b61-4729-d5d1-8f46f84d5397"
      },
      "outputs": [
        {
          "output_type": "stream",
          "name": "stdout",
          "text": [
            "[[0. 1. 2. 3. 4.]\n",
            " [0. 1. 2. 3. 4.]\n",
            " [0. 1. 2. 3. 4.]\n",
            " [0. 1. 2. 3. 4.]\n",
            " [0. 1. 2. 3. 4.]]\n"
          ]
        }
      ],
      "source": [
        "Z = np.zeros((5,5))\n",
        "Z += np.arange(5)\n",
        "print(Z)"
      ]
    },
    {
      "cell_type": "markdown",
      "metadata": {
        "id": "a4niTKGxun-A"
      },
      "source": [
        "#### 38. Consider a generator function that generates 10 integers and use it to build an array (★☆☆) \n",
        "(**hint**: np.fromiter)"
      ]
    },
    {
      "cell_type": "code",
      "execution_count": 38,
      "metadata": {
        "id": "LlKcfd7xun-B",
        "colab": {
          "base_uri": "https://localhost:8080/"
        },
        "outputId": "2f2bb7bb-366c-488f-8ab9-793b15108bb2"
      },
      "outputs": [
        {
          "output_type": "stream",
          "name": "stdout",
          "text": [
            "[0 1 2 3 4 5 6 7 8 9]\n"
          ]
        }
      ],
      "source": [
        "def generate():\n",
        "    for x in range(10):\n",
        "        yield x\n",
        "arr = np.fromiter(generate(), dtype=int, count=-1)\n",
        "print(arr)"
      ]
    },
    {
      "cell_type": "markdown",
      "metadata": {
        "id": "Ifjdatsdun-D"
      },
      "source": [
        "#### 39. Create a vector of size 10 with values ranging from 0 to 1, both excluded (★★☆) \n",
        "(**hint**: np.linspace)"
      ]
    },
    {
      "cell_type": "code",
      "execution_count": 39,
      "metadata": {
        "id": "r4VhBxlwun-E",
        "colab": {
          "base_uri": "https://localhost:8080/"
        },
        "outputId": "b3bbfa40-7e69-4fd8-8fc8-6d499dd73c3f"
      },
      "outputs": [
        {
          "output_type": "stream",
          "name": "stdout",
          "text": [
            "[0.09090909 0.18181818 0.27272727 0.36363636 0.45454545 0.54545455\n",
            " 0.63636364 0.72727273 0.81818182 0.90909091]\n"
          ]
        }
      ],
      "source": [
        "Z = np.linspace(0,1,11,endpoint=False)[1:]\n",
        "print(Z)"
      ]
    },
    {
      "cell_type": "markdown",
      "metadata": {
        "id": "vvhk8LLFun-E"
      },
      "source": [
        "#### 40. Create a random vector of size 10 and sort it (★★☆) \n",
        "(**hint**: sort)"
      ]
    },
    {
      "cell_type": "code",
      "execution_count": 40,
      "metadata": {
        "id": "mU5c_w_lun-F",
        "colab": {
          "base_uri": "https://localhost:8080/"
        },
        "outputId": "b5cca934-2959-4405-bac0-0a8e7687b682"
      },
      "outputs": [
        {
          "output_type": "stream",
          "name": "stdout",
          "text": [
            "[0.04287197 0.2449309  0.24703472 0.48054168 0.51184332 0.59212493\n",
            " 0.63969103 0.66894376 0.77475488 0.84575192]\n"
          ]
        }
      ],
      "source": [
        "Z = np.random.random(10)\n",
        "Z.sort()\n",
        "print(Z)"
      ]
    },
    {
      "cell_type": "markdown",
      "metadata": {
        "id": "XVV7FU0Cun-G"
      },
      "source": [
        "#### 41. How to sum a small array faster than np.sum? (★★☆) \n",
        "(**hint**: np.add.reduce)"
      ]
    },
    {
      "cell_type": "code",
      "execution_count": 41,
      "metadata": {
        "id": "HsbDHACQun-H",
        "colab": {
          "base_uri": "https://localhost:8080/"
        },
        "outputId": "e68b9a1f-f8bc-4afd-eda6-18a4f145ebe3"
      },
      "outputs": [
        {
          "output_type": "execute_result",
          "data": {
            "text/plain": [
              "6"
            ]
          },
          "metadata": {},
          "execution_count": 41
        }
      ],
      "source": [
        "Z = np.arange(4)\n",
        "np.add.reduce(Z)"
      ]
    },
    {
      "cell_type": "markdown",
      "metadata": {
        "id": "3gouKbxfun-H"
      },
      "source": [
        "#### 42. Consider two random array A and B, check if they are equal (★★☆) \n",
        "(**hint**: np.allclose, np.array\\_equal)"
      ]
    },
    {
      "cell_type": "code",
      "execution_count": 42,
      "metadata": {
        "id": "buUM4rPFun-I",
        "colab": {
          "base_uri": "https://localhost:8080/"
        },
        "outputId": "f8b972a1-1cb7-455a-949a-d693a12ee471"
      },
      "outputs": [
        {
          "output_type": "stream",
          "name": "stdout",
          "text": [
            "False\n"
          ]
        }
      ],
      "source": [
        "A = np.random.randint(0,5)\n",
        "B = np.random.randint(0,5)\n",
        "z = np.array_equal(A,B)\n",
        "print(z)"
      ]
    },
    {
      "cell_type": "markdown",
      "metadata": {
        "id": "hxf0VdtTun-J"
      },
      "source": [
        "#### 43. Make an array immutable (read-only) (★★☆) \n",
        "(**hint**: flags.writeable)"
      ]
    },
    {
      "cell_type": "code",
      "execution_count": 43,
      "metadata": {
        "id": "fjt68gQnun-J",
        "colab": {
          "base_uri": "https://localhost:8080/",
          "height": 205
        },
        "outputId": "9a937559-a0c3-491b-bda3-3bf51d9b761f"
      },
      "outputs": [
        {
          "output_type": "error",
          "ename": "ValueError",
          "evalue": "ignored",
          "traceback": [
            "\u001b[0;31m---------------------------------------------------------------------------\u001b[0m",
            "\u001b[0;31mValueError\u001b[0m                                Traceback (most recent call last)",
            "\u001b[0;32m<ipython-input-43-dcc5e7f145b5>\u001b[0m in \u001b[0;36m<module>\u001b[0;34m\u001b[0m\n\u001b[1;32m      1\u001b[0m \u001b[0mZ\u001b[0m \u001b[0;34m=\u001b[0m \u001b[0mnp\u001b[0m\u001b[0;34m.\u001b[0m\u001b[0mzeros\u001b[0m\u001b[0;34m(\u001b[0m\u001b[0;36m10\u001b[0m\u001b[0;34m)\u001b[0m\u001b[0;34m\u001b[0m\u001b[0;34m\u001b[0m\u001b[0m\n\u001b[1;32m      2\u001b[0m \u001b[0mZ\u001b[0m\u001b[0;34m.\u001b[0m\u001b[0mflags\u001b[0m\u001b[0;34m.\u001b[0m\u001b[0mwriteable\u001b[0m \u001b[0;34m=\u001b[0m \u001b[0;32mFalse\u001b[0m\u001b[0;34m\u001b[0m\u001b[0;34m\u001b[0m\u001b[0m\n\u001b[0;32m----> 3\u001b[0;31m \u001b[0mZ\u001b[0m\u001b[0;34m[\u001b[0m\u001b[0;36m0\u001b[0m\u001b[0;34m]\u001b[0m \u001b[0;34m=\u001b[0m \u001b[0;36m1\u001b[0m\u001b[0;34m\u001b[0m\u001b[0;34m\u001b[0m\u001b[0m\n\u001b[0m",
            "\u001b[0;31mValueError\u001b[0m: assignment destination is read-only"
          ]
        }
      ],
      "source": [
        "Z = np.zeros(10)\n",
        "Z.flags.writeable = False\n",
        "Z[0] = 1"
      ]
    },
    {
      "cell_type": "markdown",
      "metadata": {
        "id": "uHgOqYmgun-K"
      },
      "source": [
        "#### 44. Consider a random 10x2 matrix representing cartesian coordinates, convert them to polar coordinates (★★☆) \n",
        "(**hint**: np.sqrt, np.arctan2)"
      ]
    },
    {
      "cell_type": "code",
      "execution_count": 44,
      "metadata": {
        "id": "lNaF_ni5un-L",
        "colab": {
          "base_uri": "https://localhost:8080/"
        },
        "outputId": "c1da7ad2-13bc-4c66-d56c-ccae6031f567"
      },
      "outputs": [
        {
          "output_type": "stream",
          "name": "stdout",
          "text": [
            "[0.88408983 0.5497833  0.81525929 0.77504145 0.48589936 0.25215559\n",
            " 0.51769216 0.75238343 1.00570077 0.72993593]\n",
            "[0.64898593 0.21502418 0.17817341 0.39667189 1.19778831 0.36524225\n",
            " 1.52410297 1.1931654  0.17584437 1.41870504]\n"
          ]
        }
      ],
      "source": [
        "Z = np.random.random((10,2))\n",
        "X,Y = Z[:,0], Z[:,1]\n",
        "R = np.sqrt(X**2+Y**2)\n",
        "T = np.arctan2(Y,X)\n",
        "print(R)\n",
        "print(T)"
      ]
    },
    {
      "cell_type": "markdown",
      "metadata": {
        "id": "oMHe2Hldun-L"
      },
      "source": [
        "#### 45. Create random vector of size 10 and replace the maximum value by 0 (★★☆) \n",
        "(**hint**: argmax)"
      ]
    },
    {
      "cell_type": "code",
      "execution_count": 45,
      "metadata": {
        "id": "GtPXzC0pun-M",
        "colab": {
          "base_uri": "https://localhost:8080/"
        },
        "outputId": "9758a451-aee9-4e22-9dda-bbd1803e460a"
      },
      "outputs": [
        {
          "output_type": "stream",
          "name": "stdout",
          "text": [
            "[0.52535247 0.         0.17718167 0.6145805  0.22543067 0.58502409\n",
            " 0.61520629 0.84649496 0.62591086 0.38855485]\n"
          ]
        }
      ],
      "source": [
        "Z = np.random.random(10)\n",
        "Z[Z.argmax()] = 0\n",
        "print(Z)"
      ]
    },
    {
      "cell_type": "markdown",
      "metadata": {
        "id": "-SDb3l8Xun-N"
      },
      "source": [
        "#### 46. Create a structured array with `x` and `y` coordinates covering the \\[0,1\\]x\\[0,1\\] area (★★☆) \n",
        "(**hint**: np.meshgrid)"
      ]
    },
    {
      "cell_type": "code",
      "execution_count": 46,
      "metadata": {
        "id": "OxeXNj1-un-O",
        "colab": {
          "base_uri": "https://localhost:8080/"
        },
        "outputId": "91aa65c3-4bc0-4ee1-b5c4-6df0df099c63"
      },
      "outputs": [
        {
          "output_type": "stream",
          "name": "stdout",
          "text": [
            "[[(0, 0) (0, 0) (0, 0) (0, 0) (1, 0)]\n",
            " [(0, 0) (0, 0) (0, 0) (0, 0) (1, 0)]\n",
            " [(0, 0) (0, 0) (0, 0) (0, 0) (1, 0)]\n",
            " [(0, 0) (0, 0) (0, 0) (0, 0) (1, 0)]\n",
            " [(0, 1) (0, 1) (0, 1) (0, 1) (1, 1)]]\n"
          ]
        }
      ],
      "source": [
        "Z = np.zeros((5,5), [('x',int),('y',int)])\n",
        "Z['x'], Z['y'] = np.meshgrid(np.linspace(0,1,5),\n",
        "                             np.linspace(0,1,5))\n",
        "print(Z)"
      ]
    },
    {
      "cell_type": "markdown",
      "metadata": {
        "id": "gTOYh6Cuun-O"
      },
      "source": [
        "####  47. Given two arrays, X and Y, construct the Cauchy matrix C (Cij =1/(xi - yj)) \n",
        "(**hint**: np.subtract.outer)"
      ]
    },
    {
      "cell_type": "code",
      "execution_count": 47,
      "metadata": {
        "id": "YpARVyOfun-P",
        "colab": {
          "base_uri": "https://localhost:8080/"
        },
        "outputId": "fd886b6e-2b32-42c8-e3bc-fe13da3557e8"
      },
      "outputs": [
        {
          "output_type": "stream",
          "name": "stdout",
          "text": [
            "33961.93294480236\n"
          ]
        }
      ],
      "source": [
        "X = np.arange(10)\n",
        "Y = X + 0.5\n",
        "C = 1.0 / np.subtract.outer(X, Y)\n",
        "print(np.linalg.det(C))"
      ]
    },
    {
      "cell_type": "markdown",
      "metadata": {
        "id": "Kw-Cadj2un-Q"
      },
      "source": [
        "#### 48. Print the minimum and maximum representable value for each numpy scalar type (★★☆) \n",
        "(**hint**: np.iinfo, np.finfo, eps)"
      ]
    },
    {
      "cell_type": "code",
      "execution_count": 48,
      "metadata": {
        "id": "v3KulNz8un-Q",
        "colab": {
          "base_uri": "https://localhost:8080/"
        },
        "outputId": "600fe0eb-92f1-46ce-d267-1a052c93bc17"
      },
      "outputs": [
        {
          "output_type": "stream",
          "name": "stdout",
          "text": [
            "-128\n",
            "127\n",
            "-2147483648\n",
            "2147483647\n",
            "-9223372036854775808\n",
            "9223372036854775807\n",
            "-3.4028235e+38\n",
            "3.4028235e+38\n",
            "1.1920929e-07\n",
            "-1.7976931348623157e+308\n",
            "1.7976931348623157e+308\n",
            "2.220446049250313e-16\n"
          ]
        }
      ],
      "source": [
        "for dtype in [np.int8, np.int32, np.int64]:\n",
        "   print(np.iinfo(dtype).min)\n",
        "   print(np.iinfo(dtype).max)\n",
        "for dtype in [np.float32, np.float64]:\n",
        "   print(np.finfo(dtype).min)\n",
        "   print(np.finfo(dtype).max)\n",
        "   print(np.finfo(dtype).eps)"
      ]
    },
    {
      "cell_type": "markdown",
      "metadata": {
        "id": "-XL2e-JOun-R"
      },
      "source": [
        "#### 49. How to print all the values of an array? (★★☆) \n",
        "(**hint**: np.set\\_printoptions)"
      ]
    },
    {
      "cell_type": "code",
      "execution_count": 49,
      "metadata": {
        "id": "rbfdqpZZun-S",
        "colab": {
          "base_uri": "https://localhost:8080/"
        },
        "outputId": "aebfe102-eb90-4413-b2ed-b65d51559769"
      },
      "outputs": [
        {
          "output_type": "stream",
          "name": "stdout",
          "text": [
            "[[0. 0. 0. 0. 0. 0.]\n",
            " [0. 0. 0. 0. 0. 0.]\n",
            " [0. 0. 0. 0. 0. 0.]\n",
            " [0. 0. 0. 0. 0. 0.]]\n"
          ]
        }
      ],
      "source": [
        "np.set_printoptions(threshold=float(\"inf\"))\n",
        "arr = np.zeros((4,6))\n",
        "print(arr)"
      ]
    },
    {
      "cell_type": "markdown",
      "metadata": {
        "id": "tbWb8pThun-S"
      },
      "source": [
        "#### 50. How to find the closest value (to a given scalar) in a vector? (★★☆) \n",
        "(**hint**: argmin)"
      ]
    },
    {
      "cell_type": "code",
      "execution_count": 50,
      "metadata": {
        "id": "j4QYmXiIun-T",
        "colab": {
          "base_uri": "https://localhost:8080/"
        },
        "outputId": "4d528a9b-6acd-4055-e880-a18c8fc18a26"
      },
      "outputs": [
        {
          "output_type": "stream",
          "name": "stdout",
          "text": [
            "77\n"
          ]
        }
      ],
      "source": [
        "Z = np.arange(100)\n",
        "v = np.random.uniform(0,100)\n",
        "index = (np.abs(Z-v)).argmin()\n",
        "print(Z[index])"
      ]
    },
    {
      "cell_type": "markdown",
      "metadata": {
        "id": "cBimzfr-un-U"
      },
      "source": [
        "#### 51. Create a structured array representing a position (x,y) and a color (r,g,b) (★★☆) \n",
        "(**hint**: dtype)"
      ]
    },
    {
      "cell_type": "code",
      "execution_count": 51,
      "metadata": {
        "id": "V9YVARkiun-V",
        "colab": {
          "base_uri": "https://localhost:8080/"
        },
        "outputId": "ebf5a683-5ecd-43dc-e7c3-9f1f436e352f"
      },
      "outputs": [
        {
          "output_type": "stream",
          "name": "stdout",
          "text": [
            "[((0., 0.), (0., 0., 0.)) ((0., 0.), (0., 0., 0.))\n",
            " ((0., 0.), (0., 0., 0.)) ((0., 0.), (0., 0., 0.))\n",
            " ((0., 0.), (0., 0., 0.)) ((0., 0.), (0., 0., 0.))\n",
            " ((0., 0.), (0., 0., 0.)) ((0., 0.), (0., 0., 0.))\n",
            " ((0., 0.), (0., 0., 0.)) ((0., 0.), (0., 0., 0.))]\n"
          ]
        },
        {
          "output_type": "stream",
          "name": "stderr",
          "text": [
            "<ipython-input-51-6f1aa4d7a2ff>:1: FutureWarning: Passing (type, 1) or '1type' as a synonym of type is deprecated; in a future version of numpy, it will be understood as (type, (1,)) / '(1,)type'.\n",
            "  Z = np.zeros(10, [ ('position', [ ('x', float, 1),\n"
          ]
        }
      ],
      "source": [
        "Z = np.zeros(10, [ ('position', [ ('x', float, 1),\n",
        "                                  ('y', float, 1)]),\n",
        "                   ('color',    [ ('r', float, 1),\n",
        "                                  ('g', float, 1),\n",
        "                                  ('b', float, 1)])])\n",
        "print(Z)"
      ]
    },
    {
      "cell_type": "markdown",
      "metadata": {
        "id": "Ri9w--VCun-V"
      },
      "source": [
        "#### 52. Consider a random vector with shape (100,2) representing coordinates, find point by point distances (★★☆) \n",
        "(**hint**: np.atleast\\_2d, T, np.sqrt)"
      ]
    },
    {
      "cell_type": "code",
      "execution_count": 52,
      "metadata": {
        "id": "RssL5F_fun-W",
        "colab": {
          "base_uri": "https://localhost:8080/"
        },
        "outputId": "b5306ca1-3aef-4218-d469-29f5d632a52e"
      },
      "outputs": [
        {
          "output_type": "stream",
          "name": "stdout",
          "text": [
            "[[0.         0.23353879 1.00811472 0.1734759  0.43269987 0.72290264\n",
            "  0.08035241 0.8688491  0.69842146 0.79005984 0.96490981 0.4066546\n",
            "  0.76640679 0.19692527 0.37269914 1.16375955 0.55417302 0.65896093\n",
            "  0.75028389 0.45802338 0.87497845 0.27473298 0.45156687 1.16261655\n",
            "  0.94815043 0.89172247 0.43705355 0.93946744 0.63610316 0.33705741\n",
            "  0.75241079 0.71918808 0.7955738  0.1460369  0.30078043 0.35695617\n",
            "  0.7669735  0.45013687 0.5921768  0.77269677 0.74482485 0.60692834\n",
            "  0.70505189 0.92861699 0.54779502 0.67345827 0.81074539 0.75175863\n",
            "  0.84075762 0.55941887 0.56015677 0.9854774  0.824049   0.93997295\n",
            "  1.03912344 0.45406895 0.82600686 0.87304355 0.31729524 0.21243429\n",
            "  0.82656472 0.62557607 0.79980476 0.57823017 0.10649052 0.52145524\n",
            "  0.51679361 0.27910179 0.65515394 0.86141171 0.6281178  0.87676616\n",
            "  0.63843839 0.7911991  0.53752121 0.4277749  0.09330129 0.42327266\n",
            "  0.61192092 0.40158635 0.70807116 0.52030111 1.00915085 1.01438398\n",
            "  0.52576889 0.49051435 0.77538642 1.16471973 0.67807975 0.39468158\n",
            "  1.14903656 0.72895633 0.99317362 0.7097515  0.60864275 0.86493105\n",
            "  0.06412915 0.66083529 0.53267159 0.55709899]\n",
            " [0.23353879 0.         0.96768556 0.07698645 0.57904926 0.69773037\n",
            "  0.19908999 0.6562775  0.72248822 0.7404062  0.96918353 0.54675987\n",
            "  0.71193886 0.23636562 0.23197734 1.10797272 0.47185273 0.58655994\n",
            "  0.8098909  0.23503815 0.70111686 0.26617503 0.49126724 1.11934759\n",
            "  0.96955879 0.89842876 0.4925076  0.87170557 0.44544617 0.36363697\n",
            "  0.54746732 0.75106648 0.71471275 0.25806469 0.0672928  0.33310356\n",
            "  0.58349387 0.62676773 0.48244855 0.59428875 0.736767   0.76411739\n",
            "  0.55293129 0.84729315 0.6948713  0.74769956 0.86465849 0.6116451\n",
            "  0.79535348 0.34759746 0.68556946 0.93162991 0.73966046 0.94781467\n",
            "  0.95203236 0.42267054 0.73467881 0.70914668 0.18067551 0.37036855\n",
            "  0.81350721 0.68392791 0.70822885 0.39378025 0.16539271 0.53509315\n",
            "  0.56949086 0.06080066 0.75646431 0.87564917 0.59029804 0.79125113\n",
            "  0.45666566 0.85855145 0.33180195 0.49912522 0.30798496 0.58744711\n",
            "  0.64232246 0.5403273  0.73400603 0.3741226  0.94130374 0.96510469\n",
            "  0.60449358 0.3257148  0.84227893 1.10753965 0.46783278 0.49364031\n",
            "  1.11366231 0.71335838 0.88236925 0.59801198 0.49918165 0.82550165\n",
            "  0.17008656 0.57969134 0.50291604 0.52196511]\n",
            " [1.00811472 0.96768556 0.         0.93261373 0.75998739 0.28566169\n",
            "  1.06023459 0.83752422 0.36340931 0.22733574 0.18882446 0.75135651\n",
            "  0.25640496 0.81324723 0.7436822  0.16497507 0.4987765  0.38521836\n",
            "  0.4307829  0.88376917 0.60952951 0.74012807 0.57395523 0.15454431\n",
            "  0.25957505 0.21203194 0.59931943 0.14076767 0.71440157 0.67194782\n",
            "  0.77107089 0.36705514 0.2811924  0.86407513 0.9632738  0.65736741\n",
            "  0.66100356 0.84949253 0.50973603 0.63708547 0.27643085 0.78591405\n",
            "  0.55153072 0.19743418 0.74725453 0.49850203 0.3976028  0.49044419\n",
            "  0.17235105 0.81773275 0.67681415 0.06426809 0.26946479 0.20492956\n",
            "  0.20610468 0.55882394 0.28905982 0.56096777 0.78822048 0.8529947\n",
            "  0.19981751 0.47871361 0.30731518 0.70947437 0.92195787 0.49488076\n",
            "  0.53679713 1.01011042 0.58535218 0.24826808 0.38304119 0.23905932\n",
            "  0.67998507 0.44852391 0.7966705  0.62319022 0.96945455 0.81056439\n",
            "  0.43593586 0.74980735 0.36076535 0.63884105 0.11911451 0.0382186\n",
            "  0.57380325 0.69894097 0.44933144 0.1681226  0.80007406 0.68053626\n",
            "  0.14616001 0.28405377 0.31090694 0.42554755 0.49583918 0.14388377\n",
            "  0.99955011 0.39744228 0.47751735 0.45438662]\n",
            " [0.1734759  0.07698645 0.93261373 0.         0.50318462 0.65583162\n",
            "  0.16304402 0.69713164 0.66765012 0.70653819 0.92122165 0.47118534\n",
            "  0.67935341 0.16439745 0.22339152 1.07852116 0.44539254 0.55854259\n",
            "  0.74786681 0.28464559 0.71813693 0.20684797 0.4296119  1.08593194\n",
            "  0.91719352 0.84938891 0.42770682 0.84495831 0.47058227 0.30122923\n",
            "  0.58255803 0.69464487 0.69128426 0.18112867 0.13767062 0.28224556\n",
            "  0.60521802 0.54979237 0.46708988 0.61319747 0.69038687 0.6880633\n",
            "  0.55777053 0.82513815 0.61937519 0.6823813  0.80417784 0.6113568\n",
            "  0.76062684 0.38710701 0.61213252 0.90062087 0.71775373 0.89878683\n",
            "  0.93262145 0.37755477 0.71530083 0.72103862 0.1662168  0.29338333\n",
            "  0.76922335 0.62113321 0.68869717 0.41457993 0.08991315 0.48027347\n",
            "  0.50648776 0.1367996  0.68663403 0.82450848 0.55081255 0.77019674\n",
            "  0.47647671 0.79528007 0.36646395 0.43157154 0.23730382 0.51069502\n",
            "  0.58510725 0.46481945 0.67883092 0.37331731 0.91503232 0.9328182\n",
            "  0.53709558 0.33384005 0.77900106 1.0785432  0.50652407 0.42184308\n",
            "  1.07777338 0.66885228 0.87159372 0.58522281 0.48401152 0.78914487\n",
            "  0.11581406 0.55473621 0.45935547 0.48044242]\n",
            " [0.43269987 0.57904926 0.75998739 0.50318462 0.         0.5028564\n",
            "  0.5125289  1.01363666 0.39712601 0.59701991 0.64933216 0.03395611\n",
            "  0.58814602 0.34660908 0.52451406 0.92483288 0.50486472 0.54715855\n",
            "  0.38088328 0.70844577 0.91397572 0.35555677 0.24603057 0.90260186\n",
            "  0.60888294 0.58168252 0.21344372 0.75002207 0.7625563  0.2826224\n",
            "  0.89070579 0.39931428 0.65931764 0.32482342 0.62917871 0.35742688\n",
            "  0.84796661 0.09858288 0.57497593 0.84070193 0.48798148 0.18522476\n",
            "  0.73171685 0.76624784 0.11705447 0.29538616 0.4412123  0.74210442\n",
            "  0.62869977 0.75505301 0.13368469 0.76384199 0.68788853 0.62185431\n",
            "  0.87102272 0.37758502 0.70265561 0.88934857 0.50614139 0.2220813\n",
            "  0.56022599 0.28504882 0.68292596 0.70716439 0.42418138 0.31461732\n",
            "  0.23568974 0.63966477 0.24383748 0.54387194 0.46410972 0.73177969\n",
            "  0.74472311 0.40607649 0.72403432 0.18072613 0.34577229 0.05110375\n",
            "  0.32723283 0.04074514 0.40102232 0.5987738  0.8093888  0.78076821\n",
            "  0.18647241 0.61430435 0.39263301 0.92810728 0.84440718 0.12888597\n",
            "  0.87725798 0.48983597 0.87762002 0.65546204 0.5843622  0.6373949\n",
            "  0.47213337 0.56461598 0.40038877 0.42114442]\n",
            " [0.72290264 0.69773037 0.28566169 0.65583162 0.5028564  0.\n",
            "  0.77679219 0.72745562 0.14977729 0.09601108 0.27960631 0.48809669\n",
            "  0.09673754 0.52895254 0.48562963 0.44540967 0.25170067 0.16369751\n",
            "  0.28001993 0.65130103 0.53969569 0.45766686 0.29208487 0.43994109\n",
            "  0.30019707 0.21620445 0.31986656 0.24734635 0.53529623 0.38636447\n",
            "  0.62924131 0.17832454 0.18493056 0.57851407 0.70186488 0.37587726\n",
            "  0.5360487  0.59871987 0.29241395 0.5169005  0.06159117 0.57290074\n",
            "  0.40347728 0.26581274 0.51808699 0.30414266 0.2917062  0.36860554\n",
            "  0.12782984 0.61175876 0.44891291 0.27093013 0.20738456 0.26287026\n",
            "  0.36825456 0.27843396 0.22900053 0.49845321 0.52280537 0.56988414\n",
            "  0.11790933 0.2509353  0.21939658 0.51013991 0.63890452 0.21154142\n",
            "  0.26829192 0.74500433 0.38898628 0.20777587 0.10881743 0.23984799\n",
            "  0.50233497 0.32582002 0.5850007  0.34674316 0.68409156 0.5538945\n",
            "  0.17990175 0.48538054 0.15698969 0.41337851 0.30918329 0.29540581\n",
            "  0.31984217 0.46976044 0.31614123 0.44717242 0.63054253 0.40647068\n",
            "  0.42642434 0.0314341  0.38820665 0.2704807  0.28487017 0.14454289\n",
            "  0.71633821 0.18713689 0.19651231 0.17588168]\n",
            " [0.08035241 0.19908999 1.06023459 0.16304402 0.5125289  0.77679219\n",
            "  0.         0.85347992 0.76313449 0.83829471 1.02726535 0.48596618\n",
            "  0.81312676 0.24833279 0.38396374 1.21254718 0.59001484 0.69942579\n",
            "  0.82186118 0.43372019 0.8811709  0.32025219 0.51622824 1.21470104\n",
            "  1.01392028 0.95420716 0.50461057 0.98382022 0.63270749 0.395468\n",
            "  0.74178178 0.78561675 0.83503635 0.21233509 0.26421579 0.40329663\n",
            "  0.76803207 0.53017546 0.62011    0.77621122 0.80300019 0.68728066\n",
            "  0.71928373 0.96894759 0.62792034 0.74685811 0.88171625 0.77104545\n",
            "  0.89053447 0.54358903 0.63901782 1.033953   0.86269652 1.00295636\n",
            "  1.07834074 0.50188686 0.86254645 0.88365983 0.3266463  0.29140558\n",
            "  0.88423907 0.69607162 0.83604501 0.5772824  0.13839431 0.58178714\n",
            "  0.5851032  0.23096952 0.73203938 0.92529048 0.67767956 0.91548043\n",
            "  0.63936026 0.8642028  0.52523645 0.49814518 0.17273792 0.50362346\n",
            "  0.67706389 0.48076441 0.77324172 0.53420488 1.05388276 1.06423475\n",
            "  0.59868283 0.49664211 0.8482437  1.21313341 0.6638214  0.46910044\n",
            "  1.20306644 0.78522213 1.02455216 0.73862072 0.63692962 0.91643725\n",
            "  0.06083547 0.69874789 0.5827489  0.60623685]\n",
            " [0.8688491  0.6562775  0.83752422 0.69713164 1.01363666 0.72745562\n",
            "  0.85347992 0.         0.85847996 0.68164267 0.96240248 0.98178477\n",
            "  0.65599685 0.74255223 0.51968844 0.89166282 0.53628006 0.56891751\n",
            "  0.99292141 0.42214222 0.234341   0.68758894 0.78644194 0.9371461\n",
            "  1.00774798 0.92126378 0.81410614 0.69686168 0.2527219  0.73415034\n",
            "  0.12386472 0.89259999 0.58102934 0.80854026 0.59644443 0.65895042\n",
            "  0.19142267 1.10180313 0.46671242 0.21112796 0.7890053  1.17062393\n",
            "  0.32479489 0.64139777 1.09741659 0.98520553 1.01621859 0.3633505\n",
            "  0.72024927 0.31019447 1.04862699 0.77488352 0.58008267 0.95718626\n",
            "  0.68601895 0.64404994 0.55651518 0.28191217 0.56451076 0.89860531\n",
            "  0.81766058 0.91259485 0.5459109  0.31108112 0.76839673 0.75263476\n",
            "  0.84191933 0.64278861 1.04874085 0.92588355 0.65712088 0.59947269\n",
            "  0.26897273 1.04370661 0.33140141 0.84356541 0.91283424 1.05003485\n",
            "  0.83130802 0.9754349  0.86914051 0.41490752 0.73905459 0.81005592\n",
            "  0.90884242 0.4076138  1.03143462 0.88718233 0.19077094 0.88558187\n",
            "  0.95585121 0.75869528 0.5649207  0.45748463 0.4651926  0.75314755\n",
            "  0.81286971 0.54424513 0.65573609 0.64748115]\n",
            " [0.69842146 0.72248822 0.36340931 0.66765012 0.39712601 0.14977729\n",
            "  0.76313449 0.85847996 0.         0.23960864 0.26854935 0.39037121\n",
            "  0.24593854 0.51849513 0.5388621  0.52798974 0.34241183 0.29024502\n",
            "  0.13497853 0.72345985 0.68314225 0.46083753 0.24708041 0.50592473\n",
            "  0.25107844 0.19584849 0.26269536 0.37313409 0.64704854 0.37039681\n",
            "  0.75278081 0.03489175 0.33468899 0.55288855 0.74021008 0.38949405\n",
            "  0.66786148 0.48612704 0.40107132 0.65065477 0.10447417 0.43553569\n",
            "  0.53408362 0.40330245 0.38848016 0.15609823 0.16295204 0.50797656\n",
            "  0.25176501 0.70531352 0.31780999 0.3726696  0.35652941 0.24263194\n",
            "  0.49609306 0.30814276 0.37860126 0.6437386  0.56299635 0.51548652\n",
            "  0.16438947 0.11633187 0.36907009 0.61247412 0.63090815 0.18758058\n",
            "  0.18693111 0.77643107 0.24322622 0.16324498 0.20247832 0.38527331\n",
            "  0.61632584 0.18523512 0.67594979 0.27853165 0.64253436 0.44745855\n",
            "  0.08656127 0.38936597 0.01217342 0.50456482 0.42395377 0.38608896\n",
            "  0.21190794 0.55394426 0.17313699 0.53141056 0.74299411 0.32960911\n",
            "  0.481935   0.12207301 0.53231938 0.40805065 0.39828976 0.25102165\n",
            "  0.7052767  0.31495971 0.24097919 0.23434996]\n",
            " [0.79005984 0.7404062  0.22733574 0.70653819 0.59701991 0.09601108\n",
            "  0.83829471 0.68164267 0.23960864 0.         0.28514669 0.58106182\n",
            "  0.03078498 0.59357239 0.51678233 0.37427084 0.27210147 0.16030614\n",
            "  0.36186743 0.6636698  0.47703058 0.51823183 0.37740468 0.37949775\n",
            "  0.32613993 0.23963118 0.40712522 0.15656063 0.5158609  0.45804137\n",
            "  0.59428525 0.263803   0.10620949 0.64853228 0.73631108 0.43509629\n",
            "  0.49249204 0.69350294 0.2902333  0.47102532 0.13736571 0.66844572\n",
            "  0.36595867 0.16997035 0.61409065 0.39565253 0.36254561 0.31831796\n",
            "  0.05536967 0.60763806 0.54484804 0.19569011 0.12118547 0.27685887\n",
            "  0.27446304 0.33667339 0.14535793 0.4324633  0.56088788 0.65078827\n",
            "  0.13695291 0.34602054 0.14340902 0.50106099 0.69991616 0.29652951\n",
            "  0.3615981  0.78286326 0.48202871 0.24681903 0.16214383 0.14569957\n",
            "  0.48158332 0.40288228 0.58390536 0.43576527 0.75881379 0.64794388\n",
            "  0.27586582 0.57806128 0.24485359 0.41903733 0.22292416 0.22647352\n",
            "  0.41527509 0.47859165 0.39535505 0.37495903 0.60786542 0.49619366\n",
            "  0.37344357 0.11813036 0.2933789  0.22985723 0.27811102 0.08840548\n",
            "  0.77746784 0.17587756 0.25749403 0.2329635 ]\n",
            " [0.96490981 0.96918353 0.18882446 0.92122165 0.64933216 0.27960631\n",
            "  1.02726535 0.96240248 0.26854935 0.28514669 0.         0.64816823\n",
            "  0.31410077 0.78017672 0.76385871 0.31999446 0.53084767 0.43299162\n",
            "  0.2805878  0.9305864  0.74726042 0.71655876 0.51354178 0.27689917\n",
            "  0.07123585 0.07318914 0.53095249 0.29789    0.79981408 0.63203057\n",
            "  0.87894677 0.25459804 0.38141395 0.81896925 0.97785962 0.63903454\n",
            "  0.77537779 0.72878489 0.56553359 0.7531955  0.23276539 0.63928553\n",
            "  0.65085451 0.35355281 0.61282268 0.36127289 0.23276991 0.6004664\n",
            "  0.2421872  0.88606583 0.54517725 0.24112591 0.3837093  0.0275205\n",
            "  0.39127369 0.54651439 0.40814987 0.70010252 0.79834955 0.7839314\n",
            "  0.16235315 0.36629938 0.41662199 0.78149688 0.89260839 0.44567624\n",
            "  0.45528927 1.01909486 0.44030745 0.10675433 0.38766324 0.37550905\n",
            "  0.76572325 0.28310449 0.86054895 0.54697273 0.91097266 0.6972795\n",
            "  0.3547092  0.6481527  0.26027536 0.69056285 0.30286011 0.22654568\n",
            "  0.47200755 0.74804129 0.28814816 0.32558992 0.89260063 0.59653548\n",
            "  0.24290949 0.25829647 0.48356279 0.51495776 0.55565572 0.20946611\n",
            "  0.96838742 0.4531991  0.46702212 0.45005383]\n",
            " [0.4066546  0.54675987 0.75135651 0.47118534 0.03395611 0.48809669\n",
            "  0.48596618 0.98178477 0.39037121 0.58106182 0.64816823 0.\n",
            "  0.57070789 0.31347591 0.49076411 0.91633157 0.47693598 0.52378697\n",
            "  0.38588613 0.67448975 0.88555574 0.32160464 0.22095845 0.89624727\n",
            "  0.61094187 0.57907914 0.18805388 0.73542445 0.73035035 0.24960577\n",
            "  0.858676   0.39550176 0.6392912  0.29395914 0.59617539 0.32461904\n",
            "  0.81754772 0.12399232 0.54645064 0.81072387 0.47709283 0.21822783\n",
            "  0.70272944 0.749416   0.14819418 0.3008479  0.44703873 0.7148915\n",
            "  0.61499229 0.7215061  0.15416813 0.75245822 0.66817328 0.62081148\n",
            "  0.85549093 0.34837672 0.68212065 0.86184371 0.47218531 0.19460412\n",
            "  0.55161171 0.28199181 0.66170581 0.67464575 0.39345945 0.29324253\n",
            "  0.21980501 0.60745067 0.25819194 0.54193346 0.44323711 0.71320499\n",
            "  0.71297625 0.41489526 0.69053139 0.15534133 0.32197748 0.07212664\n",
            "  0.31607934 0.00678903 0.39522491 0.56687736 0.79624226 0.77075091\n",
            "  0.17848688 0.58141538 0.40074846 0.91938407 0.81157494 0.09949469\n",
            "  0.87209577 0.47691425 0.85797221 0.62984839 0.55629918 0.62537232\n",
            "  0.44371308 0.54044688 0.37539932 0.39698444]\n",
            " [0.76640679 0.71193886 0.25640496 0.67935341 0.58814602 0.09673754\n",
            "  0.81312676 0.65599685 0.24593854 0.03078498 0.31410077 0.57070789\n",
            "  0.         0.56962122 0.48729541 0.39981105 0.24242555 0.12984159\n",
            "  0.37324024 0.63295143 0.45552935 0.49349559 0.36222836 0.40744909\n",
            "  0.35266462 0.26585303 0.39287189 0.17479955 0.48609656 0.43666028\n",
            "  0.56652242 0.27289865 0.08960939 0.62597815 0.70688032 0.41038843\n",
            "  0.46607283 0.6854626  0.25944895 0.44503164 0.14837856 0.66774401\n",
            "  0.33808873 0.17897403 0.61099686 0.40084416 0.37851622 0.29276855\n",
            "  0.08551553 0.57701868 0.54261052 0.22142063 0.1106813  0.30477583\n",
            "  0.28750286 0.3123987  0.1327663  0.41200568 0.53208335 0.63226598\n",
            "  0.16169118 0.34680922 0.12568222 0.47058177 0.67483612 0.28196347\n",
            "  0.35248774 0.75375749 0.48565362 0.27030657 0.14062637 0.14536267\n",
            "  0.45188948 0.41657813 0.55319157 0.42250779 0.7375967  0.63880798\n",
            "  0.27258852 0.5674044  0.25248263 0.38827499 0.24343098 0.25357343\n",
            "  0.40925331 0.44785745 0.40807952 0.40018576 0.57852119 0.48317801\n",
            "  0.40256219 0.12423082 0.29364212 0.2017431  0.24734789 0.1190933\n",
            "  0.75229221 0.14509703 0.2349083  0.20987721]\n",
            " [0.19692527 0.23636562 0.81324723 0.16439745 0.34660908 0.52895254\n",
            "  0.24833279 0.74255223 0.51849513 0.59357239 0.78017672 0.31347591\n",
            "  0.56962122 0.         0.222894   0.96757987 0.36055156 0.46272593\n",
            "  0.58876459 0.37669179 0.7101976  0.07904428 0.27370357 0.96778907\n",
            "  0.76956101 0.70728181 0.2675183  0.74254369 0.49415676 0.14834302\n",
            "  0.62002799 0.54289531 0.59940526 0.06984298 0.28274627 0.16012358\n",
            "  0.61255167 0.40532144 0.40459741 0.61404862 0.5547295  0.53169161\n",
            "  0.53174679 0.7321004  0.46082544 0.52035251 0.64655587 0.57124367\n",
            "  0.64476251 0.44794706 0.44923169 0.78914599 0.62809026 0.75626865\n",
            "  0.8427855  0.25722797 0.63084002 0.70194148 0.18224959 0.16135569\n",
            "  0.6359138  0.46176902 0.60483209 0.43446209 0.11252975 0.33451508\n",
            "  0.34769516 0.29708307 0.52227507 0.67937916 0.43188005 0.68071475\n",
            "  0.48835777 0.63477617 0.41987114 0.26857007 0.18770378 0.36110042\n",
            "  0.43339711 0.30687206 0.52904757 0.35322538 0.8122423  0.81850427\n",
            "  0.37386341 0.33882513 0.61853412 0.96843249 0.5561339  0.25763841\n",
            "  0.95536811 0.53692108 0.80028447 0.52000383 0.42048546 0.66967824\n",
            "  0.18851831 0.46552671 0.33649265 0.3606529 ]\n",
            " [0.37269914 0.23197734 0.7436822  0.22339152 0.52451406 0.48562963\n",
            "  0.38396374 0.51968844 0.5388621  0.51678233 0.76385871 0.49076411\n",
            "  0.48729541 0.222894   0.         0.87910635 0.24492221 0.35917656\n",
            "  0.64738042 0.19463708 0.50228241 0.1735689  0.34723511 0.89325357\n",
            "  0.77380676 0.69625294 0.362719   0.64190662 0.27206998 0.24588419\n",
            "  0.39716345 0.57119857 0.48388745 0.28976383 0.21959544 0.17796716\n",
            "  0.39623903 0.6017752  0.25047133 0.40065257 0.53210559 0.70067351\n",
            "  0.33537817 0.61582923 0.62619026 0.60156345 0.69480147 0.38796533\n",
            "  0.57213191 0.23229093 0.59423185 0.7042857  0.50828741 0.74491243\n",
            "  0.72009055 0.23163621 0.50282059 0.50123958 0.0573472  0.38012528\n",
            "  0.60344594 0.52968458 0.47641162 0.21244605 0.26635826 0.36125646\n",
            "  0.42357452 0.26745693 0.63419745 0.67852075 0.37682751 0.55960796\n",
            "  0.26902716 0.69948887 0.20218203 0.38293975 0.39935191 0.55226844\n",
            "  0.46947986 0.48402022 0.5509703  0.15024868 0.71111652 0.73861873\n",
            "  0.47717871 0.11903075 0.68373415 0.8784117  0.33433559 0.4057183\n",
            "  0.88982378 0.50557156 0.65181636 0.36647533 0.26720849 0.60382092\n",
            "  0.32939068 0.35024441 0.30110589 0.31482846]\n",
            " [1.16375955 1.10797272 0.16497507 1.07852116 0.92483288 0.44540967\n",
            "  1.21254718 0.89166282 0.52798974 0.37427084 0.31999446 0.91633157\n",
            "  0.39981105 0.96757987 0.87910635 0.         0.63612582 0.52146916\n",
            "  0.58718185 1.00193872 0.657372   0.89250018 0.73635462 0.06263834\n",
            "  0.38906836 0.36381648 0.76253864 0.23789971 0.81026906 0.82955643\n",
            "  0.84524314 0.5302195  0.3973487  1.02116877 1.09764185 0.80936633\n",
            "  0.7330284  1.0138424  0.63444517 0.7084515  0.44089519 0.94550338\n",
            "  0.64324271 0.2746132  0.90957772 0.65905653 0.54779082 0.57649413\n",
            "  0.32305215 0.923276   0.83940415 0.17859423 0.37645589 0.34315153\n",
            "  0.205668   0.71091288 0.38850142 0.60984384 0.92734308 1.01500283\n",
            "  0.36476789 0.6427998  0.41259568 0.81557415 1.0741767  0.65649212\n",
            "  0.70141816 1.14654231 0.74457338 0.40230198 0.53571101 0.33045833\n",
            "  0.77686052 0.59891766 0.90585336 0.78709583 1.1289975  0.97534659\n",
            "  0.60083606 0.91477749 0.52497603 0.76051451 0.17110758 0.15006428\n",
            "  0.73872797 0.82022843 0.60176524 0.00698739 0.88728956 0.8448804\n",
            "  0.10111174 0.44681015 0.32780676 0.53380753 0.61894512 0.30092188\n",
            "  1.15171672 0.52887338 0.63113885 0.60694891]\n",
            " [0.55417302 0.47185273 0.4987765  0.44539254 0.50486472 0.25170067\n",
            "  0.59001484 0.53628006 0.34241183 0.27210147 0.53084767 0.47693598\n",
            "  0.24242555 0.36055156 0.24492221 0.63612582 0.         0.11474701\n",
            "  0.47094134 0.39973897 0.40926956 0.28152439 0.26155054 0.6485776\n",
            "  0.55030344 0.46765517 0.29278558 0.4003817  0.30717811 0.26099773\n",
            "  0.42145881 0.37725589 0.24601758 0.42585084 0.46451719 0.20513605\n",
            "  0.35412521 0.60092746 0.07176591 0.34289368 0.30594583 0.64304226\n",
            "  0.22887982 0.38000753 0.57216838 0.45195408 0.50536144 0.23860968\n",
            "  0.32747113 0.36495041 0.5176059  0.46005378 0.27301069 0.51457046\n",
            "  0.48854648 0.13129634 0.27263002 0.38499952 0.29126423 0.46491252\n",
            "  0.36853611 0.37824886 0.24619985 0.27007856 0.45428881 0.21680314\n",
            "  0.30736644 0.511829   0.51252914 0.45604115 0.14754005 0.32571386\n",
            "  0.2784225  0.52361399 0.33667337 0.32494961 0.54409692 0.54888225\n",
            "  0.29910176 0.47144932 0.35425521 0.16410439 0.47027212 0.49401357\n",
            "  0.37511097 0.21848705 0.50967329 0.63572853 0.40257821 0.37746757\n",
            "  0.64490907 0.27647748 0.43973383 0.16410445 0.0795294  0.35963773\n",
            "  0.52986444 0.10937953 0.11946756 0.11300557]\n",
            " [0.65896093 0.58655994 0.38521836 0.55854259 0.54715855 0.16369751\n",
            "  0.69942579 0.56891751 0.29024502 0.16030614 0.43299162 0.52378697\n",
            "  0.12984159 0.46272593 0.35917656 0.52146916 0.11474701 0.\n",
            "  0.42514923 0.50381817 0.398343   0.38425278 0.30320381 0.53407873\n",
            "  0.46151376 0.3757396  0.33610958 0.28642523 0.37180486 0.3442043\n",
            "  0.46688813 0.32400018 0.13668051 0.52437649 0.57867047 0.3029613\n",
            "  0.3778903  0.64565955 0.13264082 0.36041932 0.22453396 0.6595902\n",
            "  0.24416516 0.26984622 0.59417718 0.4270963  0.4474526  0.22041468\n",
            "  0.21535687 0.45307785 0.53159588 0.34533543 0.16552663 0.41977926\n",
            "  0.38016283 0.21099982 0.17054967 0.36292918 0.40600288 0.54804348\n",
            "  0.27209837 0.3591553  0.1458683  0.348979   0.56223859 0.2337962\n",
            "  0.32221096 0.62638478 0.50132812 0.370826   0.09478672 0.21802432\n",
            "  0.33869687 0.47523116 0.4278121  0.36861044 0.64043974 0.59534447\n",
            "  0.27626544 0.51925735 0.30060919 0.2598494  0.35648973 0.37945391\n",
            "  0.38838984 0.31894979 0.46338037 0.52113546 0.46689489 0.42752568\n",
            "  0.53119005 0.19365453 0.34618273 0.12093993 0.1228607  0.24867135\n",
            "  0.63885072 0.02472076 0.15083581 0.1273624 ]\n",
            " [0.75028389 0.8098909  0.4307829  0.74786681 0.38088328 0.28001993\n",
            "  0.82186118 0.99292141 0.13497853 0.36186743 0.2805878  0.38588613\n",
            "  0.37324024 0.58876459 0.64738042 0.58718185 0.47094134 0.42514923\n",
            "  0.         0.83773018 0.81747132 0.54374663 0.3187099  0.55236408\n",
            "  0.23055185 0.2236874  0.32124631 0.47563824 0.77760315 0.44691235\n",
            "  0.88598264 0.10231793 0.46284298 0.60969399 0.83575208 0.48338466\n",
            "  0.80254222 0.45258178 0.53279525 0.78551395 0.22514194 0.35972351\n",
            "  0.66878113 0.51447569 0.33281611 0.08549797 0.06163048 0.64282626\n",
            "  0.36141528 0.82921449 0.26657133 0.45706744 0.48226896 0.253504\n",
            "  0.59563833 0.4165957  0.50552464 0.77745765 0.66393072 0.54908149\n",
            "  0.25334393 0.12699669 0.49845607 0.7403551  0.69813099 0.28612428\n",
            "  0.24144646 0.86697747 0.15977004 0.18492293 0.33602722 0.50500403\n",
            "  0.74765546 0.05300206 0.7990906  0.3238462  0.68168173 0.42573694\n",
            "  0.17883145 0.38723987 0.12514457 0.62993098 0.51515679 0.46111612\n",
            "  0.22534368 0.67595591 0.03879195 0.59183406 0.87330743 0.35775589\n",
            "  0.52117437 0.24983441 0.64819838 0.54295069 0.53099777 0.35089416\n",
            "  0.767687   0.44985498 0.36123598 0.35941491]\n",
            " [0.45802338 0.23503815 0.88376917 0.28464559 0.70844577 0.65130103\n",
            "  0.43372019 0.42214222 0.72345985 0.6636698  0.9305864  0.67448975\n",
            "  0.63295143 0.37669179 0.19463708 1.00193872 0.39973897 0.50381817\n",
            "  0.83773018 0.         0.49464833 0.35294403 0.54186151 1.02535419\n",
            "  0.94822221 0.86682528 0.55705608 0.76545937 0.23554945 0.43692586\n",
            "  0.31824623 0.75688106 0.60692383 0.43044658 0.17437617 0.37212138\n",
            "  0.37249185 0.77831482 0.3743095  0.3880184  0.7037996  0.88870986\n",
            "  0.3802479  0.72850166 0.8146836  0.79507233 0.88269638 0.44722731\n",
            "  0.71811785 0.11892339 0.78637139 0.83605693 0.62574929 0.91412036\n",
            "  0.82140796 0.42125368 0.61368122 0.51215144 0.20230527 0.53726825\n",
            "  0.76826592 0.72254315 0.58934311 0.19955357 0.36635671 0.55229405\n",
            "  0.61791746 0.22231554 0.82882781 0.85327234 0.54499639 0.67195285\n",
            "  0.25720805 0.89027147 0.11379247 0.57634764 0.51635419 0.73119276\n",
            "  0.65901295 0.66770074 0.73563306 0.24505686 0.83084288 0.87230813\n",
            "  0.67176591 0.18514292 0.87473523 1.00013421 0.23638681 0.59517606\n",
            "  1.02780444 0.6751226  0.73105707 0.46832481 0.38793277 0.75204468\n",
            "  0.39807356 0.48807706 0.4825774  0.49187393]\n",
            " [0.87497845 0.70111686 0.60952951 0.71813693 0.91397572 0.53969569\n",
            "  0.8811709  0.234341   0.68314225 0.47703058 0.74726042 0.88555574\n",
            "  0.45552935 0.7101976  0.50228241 0.657372   0.40926956 0.398343\n",
            "  0.81747132 0.49464833 0.         0.63964059 0.6705043  0.70346238\n",
            "  0.79855663 0.71378522 0.70200083 0.46891247 0.2597706  0.65535677\n",
            "  0.21440442 0.71516624 0.37149549 0.78001584 0.65560227 0.58569135\n",
            "  0.12252391 1.00946278 0.33910531 0.10733501 0.59939037 1.04828792\n",
            "  0.18427585 0.41218572 0.97906826 0.82526438 0.83110458 0.17849135\n",
            "  0.50782097 0.37882168 0.92116783 0.54597335 0.3642983  0.74514947\n",
            "  0.45171155 0.53743675 0.33950398 0.04861744 0.55808043 0.84794249\n",
            "  0.61370342 0.75737287 0.3344909  0.3073896  0.76862701 0.61755311\n",
            "  0.70924162 0.70806818 0.89922705 0.72376687 0.49296729 0.37506649\n",
            "  0.24451554 0.86504958 0.38120528 0.73421712 0.89591378 0.95726912\n",
            "  0.67442088 0.8799229  0.69241452 0.35753375 0.5069025  0.58023436\n",
            "  0.77717714 0.38521083 0.85466291 0.65286327 0.28509116 0.78607371\n",
            "  0.7231352  0.57094827 0.33065526 0.27742647 0.32974257 0.53850406\n",
            "  0.82971128 0.37463252 0.52108523 0.5055066 ]\n",
            " [0.27473298 0.26617503 0.74012807 0.20684797 0.35555677 0.45766686\n",
            "  0.32025219 0.68758894 0.46083753 0.51823183 0.71655876 0.32160464\n",
            "  0.49349559 0.07904428 0.1735689  0.89250018 0.28152439 0.38425278\n",
            "  0.54374663 0.35294403 0.63964059 0.         0.22509236 0.89454362\n",
            "  0.71068989 0.64426188 0.22759805 0.66551341 0.43587935 0.09797644\n",
            "  0.56395214 0.48783996 0.52089591 0.14572078 0.29714211 0.08314079\n",
            "  0.54692191 0.42899388 0.32691479 0.546609   0.48756723 0.53626147\n",
            "  0.4588468  0.65388541 0.46258678 0.48234262 0.59889424 0.49541044\n",
            "  0.57029066 0.4057727  0.43905895 0.71392115 0.54946187 0.69358052\n",
            "  0.76440793 0.18165291 0.55193938 0.62902586 0.15069217 0.21226887\n",
            "  0.56776512 0.41777161 0.52588963 0.37670596 0.18187925 0.27359784\n",
            "  0.30342194 0.32393396 0.4968954  0.61846365 0.35742917 0.60214012\n",
            "  0.42633479 0.59240772 0.37575081 0.23778417 0.26460102 0.38021833\n",
            "  0.37837031 0.31481657 0.47199298 0.2855431  0.73538386 0.74400822\n",
            "  0.34172804 0.28006671 0.57613881 0.89317021 0.50590235 0.24514471\n",
            "  0.88341904 0.46783517 0.72125244 0.44150246 0.34257266 0.5962849\n",
            "  0.25948684 0.38663505 0.26261449 0.28598571]\n",
            " [0.45156687 0.49126724 0.57395523 0.4296119  0.24603057 0.29208487\n",
            "  0.51622824 0.78644194 0.24708041 0.37740468 0.51354178 0.22095845\n",
            "  0.36222836 0.27370357 0.34723511 0.73635462 0.26155054 0.30320381\n",
            "  0.3187099  0.54186151 0.6705043  0.22509236 0.         0.72633722\n",
            "  0.49769257 0.44035908 0.03292999 0.53396355 0.54143432 0.12838715\n",
            "  0.66614123 0.26968002 0.42321214 0.3058575  0.5192946  0.17166318\n",
            "  0.61185577 0.34391575 0.33284483 0.60248083 0.30024127 0.38447045\n",
            "  0.4902095  0.54061912 0.31208121 0.25931748 0.37456831 0.49685079\n",
            "  0.41910397 0.55862088 0.26277848 0.56301392 0.45259101 0.48844468\n",
            "  0.64972664 0.14257256 0.46483825 0.64432501 0.3532971  0.27907935\n",
            "  0.3817219  0.1927474  0.44332945 0.49103318 0.38545955 0.08097767\n",
            "  0.07903162 0.54873518 0.28715798 0.40986845 0.22704889 0.49998599\n",
            "  0.51904183 0.36738793 0.52710755 0.06562559 0.39969991 0.29286624\n",
            "  0.16083988 0.21623965 0.25704093 0.37749795 0.59919453 0.58672741\n",
            "  0.13095702 0.40675293 0.3511288  0.73839951 0.63051213 0.12454871\n",
            "  0.70839423 0.28991044 0.64176214 0.40944023 0.34093101 0.43622744\n",
            "  0.45880289 0.31950714 0.15451586 0.17610825]\n",
            " [1.16261655 1.11934759 0.15454431 1.08593194 0.90260186 0.43994109\n",
            "  1.21470104 0.9371461  0.50592473 0.37949775 0.27689917 0.89624727\n",
            "  0.40744909 0.96778907 0.89325357 0.06263834 0.6485776  0.53407873\n",
            "  0.55236408 1.02535419 0.70346238 0.89454362 0.72633722 0.\n",
            "  0.34303981 0.32913182 0.7507767  0.26104955 0.8424334  0.82630259\n",
            "  0.88486377 0.50425036 0.41843387 1.01844917 1.11270089 0.81171367\n",
            "  0.77284008 0.98887807 0.65365688 0.74833932 0.42682115 0.91204104\n",
            "  0.67612121 0.30623109 0.88006133 0.62803175 0.50877301 0.61085987\n",
            "  0.32535097 0.95203262 0.81058889 0.18980548 0.40085166 0.30201723\n",
            "  0.2544529  0.71313275 0.41593417 0.65536867 0.93929269 1.00537904\n",
            "  0.34697019 0.61823159 0.43825745 0.84378788 1.07639763 0.64799611\n",
            "  0.68543614 1.16040407 0.7114731  0.36819296 0.53728197 0.35940859\n",
            "  0.80852375 0.5595189  0.93305454 0.77352382 1.12317673 0.95253554\n",
            "  0.58336703 0.89512983 0.50159569 0.78167712 0.20211902 0.15465948\n",
            "  0.71782376 0.84175297 0.56371422 0.06960045 0.92280141 0.82974104\n",
            "  0.0401432  0.4369245  0.37724409 0.55966534 0.63885883 0.2982648\n",
            "  1.15399707 0.54413673 0.63195614 0.60868539]\n",
            " [0.94815043 0.96955879 0.25957505 0.91719352 0.60888294 0.30019707\n",
            "  1.01392028 1.00774798 0.25107844 0.32613993 0.07123585 0.61094187\n",
            "  0.35266462 0.76956101 0.77380676 0.38906836 0.55030344 0.46151376\n",
            "  0.23055185 0.94822221 0.79855663 0.71068989 0.49769257 0.34303981\n",
            "  0.         0.08687152 0.51119802 0.36160664 0.83270578 0.62140045\n",
            "  0.91890036 0.22904874 0.42831807 0.8030794  0.98308075 0.63675846\n",
            "  0.81852486 0.68308412 0.59229206 0.79715879 0.24452617 0.58337456\n",
            "  0.69051885 0.415588   0.56250941 0.31498751 0.17576791 0.64445218\n",
            "  0.29075265 0.91195578 0.49706993 0.3096907  0.43436832 0.05738747\n",
            "  0.46016797 0.54901522 0.45929118 0.75227245 0.80402807 0.75892849\n",
            "  0.19167623 0.33261806 0.4647596  0.80991701 0.88198566 0.43712132\n",
            "  0.43234117 1.02182685 0.38780382 0.09530549 0.40341668 0.43221809\n",
            "  0.79914282 0.22360883 0.88511619 0.52341809 0.88874189 0.6550683\n",
            "  0.33685736 0.61158287 0.24071838 0.71320307 0.37182641 0.29702895\n",
            "  0.43928854 0.76879002 0.23106531 0.39485766 0.92703775 0.56846815\n",
            "  0.30710737 0.27385208 0.54813856 0.5541762  0.58404791 0.26117202\n",
            "  0.95627161 0.48353235 0.47308881 0.45921564]\n",
            " [0.89172247 0.89842876 0.21203194 0.84938891 0.58168252 0.21620445\n",
            "  0.95420716 0.92126378 0.19584849 0.23963118 0.07318914 0.57907914\n",
            "  0.26585303 0.70728181 0.69625294 0.36381648 0.46765517 0.3757396\n",
            "  0.2236874  0.86682528 0.71378522 0.64426188 0.44035908 0.32913182\n",
            "  0.08687152 0.         0.45794711 0.28978485 0.74640977 0.55907106\n",
            "  0.83202885 0.18389031 0.34276553 0.74578661 0.90861244 0.56737075\n",
            "  0.73181928 0.66379783 0.50716975 0.71055039 0.16416954 0.58307398\n",
            "  0.60364958 0.34058441 0.55158542 0.29930266 0.18576459 0.55792193\n",
            "  0.20675904 0.82736772 0.48264378 0.2497382  0.35018266 0.04941925\n",
            "  0.39812952 0.47595124 0.37520904 0.66792255 0.72913109 0.7113346\n",
            "  0.10485708 0.29716888 0.37947521 0.72455077 0.81974922 0.37276772\n",
            "  0.38275624 0.94905334 0.38237371 0.03908001 0.3220219  0.35169983\n",
            "  0.71275013 0.23683138 0.80093592 0.47437963 0.83800408 0.63037884\n",
            "  0.28175652 0.57880024 0.18797524 0.62954976 0.31152409 0.2458391\n",
            "  0.40183557 0.68591545 0.23849631 0.36861529 0.84054357 0.52469643\n",
            "  0.29929855 0.19180337 0.47552122 0.46731024 0.49848917 0.17944328\n",
            "  0.89540917 0.39741717 0.39743402 0.38158209]\n",
            " [0.43705355 0.4925076  0.59931943 0.42770682 0.21344372 0.31986656\n",
            "  0.50461057 0.81410614 0.26269536 0.40712522 0.53095249 0.18805388\n",
            "  0.39287189 0.2675183  0.362719   0.76253864 0.29278558 0.33610958\n",
            "  0.32124631 0.55705608 0.70200083 0.22759805 0.03292999 0.7507767\n",
            "  0.51119802 0.45794711 0.         0.56358694 0.56742564 0.12967016\n",
            "  0.69310737 0.28217179 0.45538323 0.2926333  0.5244318  0.18494317\n",
            "  0.64136889 0.31114738 0.36374728 0.63251014 0.32398389 0.35657968\n",
            "  0.5210506  0.57157214 0.28336608 0.25519959 0.3793081  0.52895486\n",
            "  0.44742408 0.5795759  0.23767335 0.59051685 0.48468989 0.50527022\n",
            "  0.68024509 0.17028722 0.4972406  0.67634982 0.36393416 0.25549289\n",
            "  0.40476207 0.19425091 0.47591064 0.51579409 0.37739787 0.11090967\n",
            "  0.08068164 0.55111519 0.27296527 0.42592505 0.25904076 0.53169376\n",
            "  0.54599374 0.36769106 0.54802381 0.03277722 0.38006784 0.25999934\n",
            "  0.17626143 0.18331343 0.27180604 0.4029756  0.6281269  0.61331232\n",
            "  0.11578336 0.42925785 0.35142112 0.76475957 0.65518827 0.09189912\n",
            "  0.73172649 0.31572935 0.67404    0.44213675 0.37228255 0.46330722\n",
            "  0.44860087 0.35243155 0.18736568 0.20903793]\n",
            " [0.93946744 0.87170557 0.14076767 0.84495831 0.75002207 0.24734635\n",
            "  0.98382022 0.69686168 0.37313409 0.15656063 0.29789    0.73542445\n",
            "  0.17479955 0.74254369 0.64190662 0.23789971 0.4003817  0.28642523\n",
            "  0.47563824 0.76545937 0.46891247 0.66551341 0.53396355 0.26104955\n",
            "  0.36160664 0.28978485 0.56358694 0.         0.58255013 0.61138059\n",
            "  0.63264963 0.38930059 0.1594862  0.80011478 0.86003081 0.58267751\n",
            "  0.52185632 0.8453794  0.39655299 0.49775018 0.26967112 0.80862758\n",
            "  0.41717543 0.05770734 0.75913661 0.52605956 0.45912995 0.35371545\n",
            "  0.12248646 0.69101605 0.68886683 0.07841844 0.13994678 0.30428301\n",
            "  0.12303564 0.48554939 0.15518613 0.42038655 0.69103682 0.80661872\n",
            "  0.22237092 0.48710614 0.1772146  0.58274979 0.84590764 0.45307386\n",
            "  0.5156219  0.90922305 0.61450828 0.31570752 0.31542297 0.10044867\n",
            "  0.54844014 0.50661755 0.67203658 0.5919604  0.91229261 0.80109161\n",
            "  0.42467836 0.73266344 0.37512716 0.52300252 0.07013993 0.11475967\n",
            "  0.56590199 0.58286047 0.50302294 0.2368241  0.66521035 0.65224873\n",
            "  0.26893448 0.26144395 0.18658339 0.29867644 0.38110207 0.1248601\n",
            "  0.92305758 0.29202154 0.40944007 0.38425905]\n",
            " [0.63610316 0.44544617 0.71440157 0.47058227 0.7625563  0.53529623\n",
            "  0.63270749 0.2527219  0.64704854 0.5158609  0.79981408 0.73035035\n",
            "  0.48609656 0.49415676 0.27206998 0.81026906 0.30717811 0.37180486\n",
            "  0.77760315 0.23554945 0.2597706  0.43587935 0.54143432 0.8424334\n",
            "  0.83270578 0.74640977 0.56742564 0.58255013 0.         0.4819131\n",
            "  0.12888943 0.68192646 0.43406525 0.56174561 0.39683303 0.40663934\n",
            "  0.13881763 0.84961568 0.24638536 0.15268187 0.59548634 0.92363071\n",
            "  0.16706942 0.53676704 0.84977302 0.7580971  0.80946849 0.23464602\n",
            "  0.56495742 0.12411241 0.80418613 0.65882495 0.44525469 0.78884691\n",
            "  0.61646    0.39909827 0.42749393 0.27687582 0.32176846 0.64765625\n",
            "  0.64189301 0.68396144 0.40731893 0.05969685 0.5317868  0.5166616\n",
            "  0.60250136 0.44893237 0.81414847 0.74262718 0.44587019 0.48307018\n",
            "  0.03450785 0.8300694  0.12177884 0.59572227 0.67061134 0.79799562\n",
            "  0.60602939 0.72393173 0.65861036 0.16464427 0.64132384 0.69580665\n",
            "  0.66775762 0.15599516 0.81638014 0.80746632 0.09599401 0.63516214\n",
            "  0.85137244 0.56463631 0.51415065 0.29008669 0.25125411 0.59986037\n",
            "  0.58525603 0.3492386  0.42330736 0.41999946]\n",
            " [0.33705741 0.36363697 0.67194782 0.30122923 0.2826224  0.38636447\n",
            "  0.395468   0.73415034 0.37039681 0.45804137 0.63203057 0.24960577\n",
            "  0.43666028 0.14834302 0.24588419 0.82955643 0.26099773 0.3442043\n",
            "  0.44691235 0.43692586 0.65535677 0.09797644 0.12838715 0.82630259\n",
            "  0.62140045 0.55907106 0.12967016 0.61138059 0.4819131  0.\n",
            "  0.61061453 0.39548241 0.47853673 0.192151   0.39480043 0.07529315\n",
            "  0.57641936 0.36770575 0.32191554 0.57199993 0.40820912 0.45505499\n",
            "  0.47110983 0.60732894 0.38049638 0.38439651 0.50294874 0.49520328\n",
            "  0.50673546 0.47351757 0.34945576 0.65207467 0.50807131 0.60800124\n",
            "  0.71848092 0.13400994 0.51471496 0.63768245 0.23846708 0.20493823\n",
            "  0.48980102 0.32049557 0.49000322 0.42549593 0.26087268 0.18637785\n",
            "  0.20592185 0.42179575 0.40040717 0.53103649 0.29623759 0.55950501\n",
            "  0.46611934 0.49503433 0.44229066 0.14186251 0.30094023 0.31612031\n",
            "  0.28581053 0.24303666 0.38107695 0.31990934 0.67999814 0.67967684\n",
            "  0.24435321 0.33182143 0.4787555  0.83083192 0.5619956  0.16000615\n",
            "  0.81210864 0.39190009 0.68994698 0.42483474 0.33502029 0.52940408\n",
            "  0.33635892 0.35255639 0.20210857 0.22746086]\n",
            " [0.75241079 0.54746732 0.77107089 0.58255803 0.89070579 0.62924131\n",
            "  0.74178178 0.12386472 0.75278081 0.59428525 0.87894677 0.858676\n",
            "  0.56652242 0.62002799 0.39716345 0.84524314 0.42145881 0.46688813\n",
            "  0.88598264 0.31824623 0.21440442 0.56395214 0.66614123 0.88486377\n",
            "  0.91890036 0.83202885 0.69310737 0.63264963 0.12888943 0.61061453\n",
            "  0.         0.78737103 0.50014472 0.68663534 0.49136206 0.53537008\n",
            "  0.1122149  0.97831413 0.35429901 0.1367918  0.69068146 1.04966738\n",
            "  0.22843394 0.580636   0.97613197 0.87302778 0.91316192 0.28158679\n",
            "  0.63796723 0.2004412  0.9287916  0.71096795 0.50446806 0.87109645\n",
            "  0.64245304 0.52357075 0.48289356 0.25128539 0.44363147 0.77524983\n",
            "  0.72730769 0.79959028 0.46783739 0.18730011 0.65024063 0.63609684\n",
            "  0.72409853 0.54049137 0.93333886 0.8329186  0.55032124 0.53248865\n",
            "  0.14712539 0.93765381 0.21654604 0.72207548 0.79274819 0.92662332\n",
            "  0.7195341  0.85229136 0.76387822 0.29199286 0.68312484 0.7473923\n",
            "  0.79038721 0.28390161 0.92471712 0.84151244 0.08285017 0.7629419\n",
            "  0.89913996 0.65991854 0.52764136 0.3647912  0.35504075 0.67213853\n",
            "  0.69831376 0.44267491 0.54033107 0.5340274 ]\n",
            " [0.71918808 0.75106648 0.36705514 0.69464487 0.39931428 0.17832454\n",
            "  0.78561675 0.89259999 0.03489175 0.263803   0.25459804 0.39550176\n",
            "  0.27289865 0.54289531 0.57119857 0.5302195  0.37725589 0.32400018\n",
            "  0.10231793 0.75688106 0.71516624 0.48783996 0.26968002 0.50425036\n",
            "  0.22904874 0.18389031 0.28217179 0.38930059 0.68192646 0.39548241\n",
            "  0.78737103 0.         0.36231183 0.57432867 0.77041543 0.4185954\n",
            "  0.70181735 0.48467327 0.43591143 0.68439219 0.12648584 0.42250277\n",
            "  0.56804615 0.423086   0.38034118 0.13684089 0.12814427 0.54077059\n",
            "  0.27007938 0.73990943 0.30981047 0.38213954 0.38287129 0.22770992\n",
            "  0.51164245 0.33993279 0.40560544 0.67516284 0.59398526 0.53120494\n",
            "  0.1724204  0.11427899 0.39744785 0.64732718 0.65498434 0.21614946\n",
            "  0.2034555  0.80570838 0.2253909  0.14784694 0.23714534 0.40873648\n",
            "  0.65116983 0.15123542 0.71046783 0.29484572 0.66015069 0.44874652\n",
            "  0.10969613 0.39508932 0.02349828 0.5392387  0.43616072 0.3924539\n",
            "  0.21794886 0.58830227 0.13976494 0.53403221 0.77787586 0.34230578\n",
            "  0.47804832 0.14878111 0.55438648 0.44098658 0.43302598 0.26519431\n",
            "  0.72846088 0.34872056 0.27472277 0.26879498]\n",
            " [0.7955738  0.71471275 0.2811924  0.69128426 0.65931764 0.18493056\n",
            "  0.83503635 0.58102934 0.33468899 0.10620949 0.38141395 0.6392912\n",
            "  0.08960939 0.59940526 0.48388745 0.3973487  0.24601758 0.13668051\n",
            "  0.46284298 0.60692383 0.37149549 0.52089591 0.42321214 0.41843387\n",
            "  0.42831807 0.34276553 0.45538323 0.1594862  0.43406525 0.47853673\n",
            "  0.50014472 0.36231183 0.         0.66084926 0.70122784 0.43961493\n",
            "  0.39444631 0.75758447 0.23710932 0.37196868 0.23795535 0.75011539\n",
            "  0.27444002 0.13402981 0.69073593 0.4886343  0.46731144 0.21954682\n",
            "  0.13923    0.53672271 0.62364529 0.22945916 0.02969487 0.37647335\n",
            "  0.24362202 0.34655436 0.04487412 0.32647972 0.53426371 0.68080547\n",
            "  0.24227807 0.4318157  0.03721034 0.42840288 0.69828077 0.34624873\n",
            "  0.42546053 0.75082975 0.57228775 0.35238839 0.19642386 0.08139768\n",
            "  0.39957615 0.50603727 0.5162155  0.48672926 0.77648405 0.70922883\n",
            "  0.35445568 0.63543248 0.34161127 0.36370861 0.22759116 0.26604405\n",
            "  0.48624642 0.42366446 0.49765551 0.39615544 0.52189245 0.54716633\n",
            "  0.42213696 0.21353778 0.2187717  0.14441834 0.22161587 0.17255301\n",
            "  0.77460301 0.13665058 0.2793635  0.25417658]\n",
            " [0.1460369  0.25806469 0.86407513 0.18112867 0.32482342 0.57851407\n",
            "  0.21233509 0.80854026 0.55288855 0.64853228 0.81896925 0.29395914\n",
            "  0.62597815 0.06984298 0.28976383 1.02116877 0.42585084 0.52437649\n",
            "  0.60969399 0.43044658 0.78001584 0.14572078 0.3058575  1.01844917\n",
            "  0.8030794  0.74578661 0.2926333  0.80011478 0.56174561 0.192151\n",
            "  0.68663534 0.57432867 0.66084926 0.         0.31463627 0.22193318\n",
            "  0.68177956 0.36874865 0.47262704 0.68357726 0.59907216 0.50872991\n",
            "  0.60152181 0.79245141 0.44173859 0.53563478 0.66942156 0.6404039\n",
            "  0.69816255 0.5098188  0.44090643 0.84332535 0.68988888 0.79411646\n",
            "  0.90347909 0.31523915 0.69381927 0.7717337  0.24490451 0.11283439\n",
            "  0.68086538 0.48375554 0.66809699 0.50207029 0.09951208 0.37550483\n",
            "  0.37296117 0.31777271 0.52591802 0.71571441 0.48639212 0.74224657\n",
            "  0.55694796 0.65259832 0.48278041 0.28588336 0.11888091 0.32979651\n",
            "  0.46648001 0.28787001 0.56268989 0.42293401 0.8693386  0.8714266\n",
            "  0.38736442 0.40704807 0.63656892 1.0223315  0.62076442 0.26002984\n",
            "  1.00414566 0.58368986 0.86510939 0.58697948 0.4882915  0.72137421\n",
            "  0.15876928 0.52872532 0.3911913  0.41610477]\n",
            " [0.30078043 0.0672928  0.9632738  0.13767062 0.62917871 0.70186488\n",
            "  0.26421579 0.59644443 0.74021008 0.73631108 0.97785962 0.59617539\n",
            "  0.70688032 0.28274627 0.21959544 1.09764185 0.46451719 0.57867047\n",
            "  0.83575208 0.17437617 0.65560227 0.29714211 0.5192946  1.11270089\n",
            "  0.98308075 0.90861244 0.5244318  0.86003081 0.39683303 0.39480043\n",
            "  0.49136206 0.77041543 0.70122784 0.31463627 0.         0.35288122\n",
            "  0.53564559 0.68247649 0.46506401 0.54828444 0.74516047 0.81435075\n",
            "  0.51776668 0.83165299 0.74354791 0.77826594 0.88828952 0.57978278\n",
            "  0.79164527 0.29094326 0.72947471 0.92354418 0.7246018  0.9577413\n",
            "  0.93338785 0.4341214  0.71744188 0.66719663 0.17951622 0.42746498\n",
            "  0.81916557 0.7115247  0.69136285 0.34922536 0.22757869 0.5546516\n",
            "  0.59828895 0.05316683 0.79366225 0.88825334 0.59321348 0.77502927\n",
            "  0.41166764 0.88581547 0.27867667 0.53464865 0.37349684 0.64109789\n",
            "  0.66343452 0.58958886 0.75202982 0.34721001 0.92880091 0.95804737\n",
            "  0.63887011 0.29316751 0.86962386 1.09678932 0.41023026 0.53563329\n",
            "  1.1094179  0.72000318 0.85679858 0.57655691 0.48130606 0.82315348\n",
            "  0.23737923 0.56911568 0.51117843 0.52788435]\n",
            " [0.35695617 0.33310356 0.65736741 0.28224556 0.35742688 0.37587726\n",
            "  0.40329663 0.65895042 0.38949405 0.43509629 0.63903454 0.32461904\n",
            "  0.41038843 0.16012358 0.17796716 0.80936633 0.20513605 0.3029613\n",
            "  0.48338466 0.37212138 0.58569135 0.08314079 0.17166318 0.81171367\n",
            "  0.63675846 0.56737075 0.18494317 0.58267751 0.40663934 0.07529315\n",
            "  0.53537008 0.4185954  0.43961493 0.22193318 0.35288122 0.\n",
            "  0.50309917 0.44297719 0.25842571 0.49952849 0.40824225 0.52711636\n",
            "  0.40191729 0.57205022 0.45249997 0.42996614 0.53541216 0.43085644\n",
            "  0.48724836 0.40076334 0.4171334  0.63078451 0.46845965 0.6167856\n",
            "  0.68281989 0.09861303 0.47194974 0.57034712 0.18195289 0.2644171\n",
            "  0.48755344 0.36061862 0.44617969 0.35022542 0.26490278 0.20244737\n",
            "  0.24990894 0.38711532 0.45728516 0.54327783 0.27447467 0.52098274\n",
            "  0.39115481 0.5340333  0.36936342 0.20518944 0.33942473 0.39141343\n",
            "  0.31075625 0.3180896  0.40108143 0.24506599 0.65248163 0.66093822\n",
            "  0.30000982 0.25688383 0.51792731 0.81003036 0.48698675 0.2327622\n",
            "  0.80100295 0.38729569 0.64340266 0.36827265 0.27290233 0.51349274\n",
            "  0.34249803 0.30679834 0.18001501 0.20304029]\n",
            " [0.7669735  0.58349387 0.66100356 0.60521802 0.84796661 0.5360487\n",
            "  0.76803207 0.19142267 0.66786148 0.49249204 0.77537779 0.81754772\n",
            "  0.46607283 0.61255167 0.39623903 0.7330284  0.35412521 0.3778903\n",
            "  0.80254222 0.37249185 0.12252391 0.54692191 0.61185577 0.77284008\n",
            "  0.81852486 0.73181928 0.64136889 0.52185632 0.13881763 0.57641936\n",
            "  0.1122149  0.70181735 0.39444631 0.68177956 0.53564559 0.50309917\n",
            "  0.         0.94017325 0.28277358 0.02457961 0.59760738 0.9958127\n",
            "  0.13377835 0.46916276 0.92391763 0.79761186 0.82495791 0.17494594\n",
            "  0.53337928 0.25629995 0.8712898  0.60025736 0.39650679 0.76897823\n",
            "  0.53039522 0.47161543 0.37412989 0.14800476 0.44993285 0.75860156\n",
            "  0.62773317 0.7258544  0.36071536 0.19081856 0.66135025 0.57069511\n",
            "  0.66149127 0.58773777 0.86404298 0.73535451 0.46730295 0.42203395\n",
            "  0.12882113 0.85301429 0.25937468 0.67227039 0.79479947 0.88790877\n",
            "  0.6438102  0.81150139 0.67839013 0.26149529 0.57124335 0.63649982\n",
            "  0.72921023 0.2772464  0.84094775 0.72930228 0.16790131 0.71908118\n",
            "  0.78752292 0.56727771 0.41650439 0.26632226 0.27900213 0.56699497\n",
            "  0.71868293 0.35318545 0.47295245 0.46243064]\n",
            " [0.45013687 0.62676773 0.84949253 0.54979237 0.09858288 0.59871987\n",
            "  0.53017546 1.10180313 0.48612704 0.69350294 0.72878489 0.12399232\n",
            "  0.6854626  0.40532144 0.6017752  1.0138424  0.60092746 0.64565955\n",
            "  0.45258178 0.77831482 1.00946278 0.42899388 0.34391575 0.98887807\n",
            "  0.68308412 0.66379783 0.31114738 0.8453794  0.84961568 0.36770575\n",
            "  0.97831413 0.48467327 0.75758447 0.36874865 0.68247649 0.44297719\n",
            "  0.94017325 0.         0.67036585 0.93380202 0.58074495 0.16486577\n",
            "  0.82647204 0.86309447 0.13114065 0.3684146  0.51022713 0.8388478\n",
            "  0.72353641 0.8339417  0.1869821  0.8563449  0.78605854 0.70127758\n",
            "  0.96695487 0.4721478  0.80103413 0.98583166 0.57714417 0.25659741\n",
            "  0.65034748 0.3711282  0.7814292  0.79296866 0.4642824  0.4131928\n",
            "  0.33307182 0.68616539 0.30078929 0.62524223 0.56260501 0.8295211\n",
            "  0.83346448 0.46960065 0.80344768 0.27837053 0.35754748 0.05230764\n",
            "  0.42110587 0.129541   0.48886637 0.68720428 0.90348192 0.87180753\n",
            "  0.27964302 0.69843618 0.4579462  1.01738154 0.92842303 0.22347034\n",
            "  0.96192914 0.58436818 0.97571747 0.75327422 0.68028141 0.73076367\n",
            "  0.49915791 0.66295801 0.49841549 0.51945365]\n",
            " [0.5921768  0.48244855 0.50973603 0.46708988 0.57497593 0.29241395\n",
            "  0.62011    0.46671242 0.40107132 0.2902333  0.56553359 0.54645064\n",
            "  0.25944895 0.40459741 0.25047133 0.63444517 0.07176591 0.13264082\n",
            "  0.53279525 0.3743095  0.33910531 0.32691479 0.33284483 0.65365688\n",
            "  0.59229206 0.50716975 0.36374728 0.39655299 0.24638536 0.32191554\n",
            "  0.35429901 0.43591143 0.23710932 0.47262704 0.46506401 0.25842571\n",
            "  0.28277358 0.67036585 0.         0.27117798 0.35124483 0.71480278\n",
            "  0.15736469 0.36659504 0.64385003 0.51908805 0.56321343 0.17329497\n",
            "  0.34417327 0.32057524 0.58934107 0.46387115 0.25962141 0.55190862\n",
            "  0.46968633 0.19852049 0.25269632 0.31711172 0.30400136 0.52247967\n",
            "  0.40422481 0.44606177 0.22644797 0.21772633 0.48860601 0.28792261\n",
            "  0.37885224 0.51541742 0.58227204 0.50014364 0.19948677 0.31001812\n",
            "  0.2152595  0.58492627 0.29517325 0.39568269 0.591507   0.61818623\n",
            "  0.36538188 0.54082493 0.41253151 0.12925357 0.46450384 0.49963428\n",
            "  0.4466883  0.18926071 0.57158324 0.63326345 0.34237498 0.44696872\n",
            "  0.65439214 0.32059604 0.40478977 0.11852055 0.01692203 0.3783869\n",
            "  0.56136845 0.11437555 0.19019091 0.18076974]\n",
            " [0.77269677 0.59428875 0.63708547 0.61319747 0.84070193 0.5169005\n",
            "  0.77621122 0.21112796 0.65065477 0.47102532 0.7531955  0.81072387\n",
            "  0.44503164 0.61404862 0.40065257 0.7084515  0.34289368 0.36041932\n",
            "  0.78551395 0.3880184  0.10733501 0.546609   0.60248083 0.74833932\n",
            "  0.79715879 0.71055039 0.63251014 0.49775018 0.15268187 0.57199993\n",
            "  0.1367918  0.68439219 0.37196868 0.68357726 0.54828444 0.49952849\n",
            "  0.02457961 0.93380202 0.27117798 0.         0.57838048 0.98569738\n",
            "  0.11757597 0.44485298 0.91429355 0.78259125 0.80670453 0.15284265\n",
            "  0.51107194 0.2734843  0.86049915 0.57616275 0.37332873 0.74718263\n",
            "  0.50583822 0.46347757 0.35072001 0.1271824  0.45540157 0.75753142\n",
            "  0.60672119 0.71137421 0.33784204 0.20052476 0.66667849 0.55871433\n",
            "  0.64991899 0.60073405 0.85042426 0.71477875 0.45111556 0.39805929\n",
            "  0.13766133 0.83562761 0.2743596  0.6637777  0.79775808 0.88149992\n",
            "  0.62900435 0.80477004 0.66101911 0.26125573 0.54679382 0.6123469\n",
            "  0.71781618 0.28218842 0.82379175 0.7047232  0.19047948 0.71186396\n",
            "  0.76314675 0.54821911 0.39217986 0.24657414 0.26613863 0.54450374\n",
            "  0.72577334 0.33570053 0.46088728 0.44931686]\n",
            " [0.74482485 0.736767   0.27643085 0.69038687 0.48798148 0.06159117\n",
            "  0.80300019 0.7890053  0.10447417 0.13736571 0.23276539 0.47709283\n",
            "  0.14837856 0.5547295  0.53210559 0.44089519 0.30594583 0.22453396\n",
            "  0.22514194 0.7037996  0.59939037 0.48756723 0.30024127 0.42682115\n",
            "  0.24452617 0.16416954 0.32398389 0.26967112 0.59548634 0.40820912\n",
            "  0.69068146 0.12648584 0.23795535 0.59907216 0.74516047 0.40824225\n",
            "  0.59760738 0.58074495 0.35124483 0.57838048 0.         0.53919968\n",
            "  0.46506797 0.29883357 0.48974572 0.26010605 0.23176697 0.42961645\n",
            "  0.14766028 0.66899186 0.41934377 0.27586791 0.25716532 0.21285996\n",
            "  0.3927057  0.31418204 0.28038868 0.55738952 0.56564436 0.57893993\n",
            "  0.08186468 0.21745934 0.27396915 0.56877191 0.66643608 0.22399077\n",
            "  0.26053767 0.78635417 0.34764071 0.15011176 0.15889147 0.28230997\n",
            "  0.5627663  0.26830103 0.64162527 0.34696322 0.69915558 0.5389798\n",
            "  0.16104768 0.47518086 0.10832009 0.46933197 0.32342422 0.29378841\n",
            "  0.3016694  0.52440819 0.25970284 0.44357419 0.69095785 0.40410628\n",
            "  0.40815561 0.03088731 0.42850176 0.3318825  0.34451461 0.15019059\n",
            "  0.74320596 0.24828155 0.23426744 0.21757605]\n",
            " [0.60692834 0.76411739 0.78591405 0.6880633  0.18522476 0.57290074\n",
            "  0.68728066 1.17062393 0.43553569 0.66844572 0.63928553 0.21822783\n",
            "  0.66774401 0.53169161 0.70067351 0.94550338 0.64304226 0.6595902\n",
            "  0.35972351 0.88870986 1.04828792 0.53626147 0.38447045 0.91204104\n",
            "  0.58337456 0.58307398 0.35657968 0.80862758 0.92363071 0.45505499\n",
            "  1.04966738 0.42250277 0.75011539 0.50872991 0.81435075 0.52711636\n",
            "  0.9958127  0.16486577 0.71480278 0.98569738 0.53919968 0.\n",
            "  0.87165384 0.83656467 0.07461902 0.28754894 0.40793537 0.87121842\n",
            "  0.68685972 0.92786588 0.12799621 0.80457606 0.77613647 0.61254542\n",
            "  0.93161621 0.52659518 0.79495388 1.01823819 0.68681764 0.40203555\n",
            "  0.59491326 0.32268631 0.77951176 0.87100682 0.60766402 0.43081091\n",
            "  0.33928485 0.82467201 0.20093191 0.54410385 0.56731877 0.81256456\n",
            "  0.90256285 0.36006213 0.89647883 0.32793746 0.5159897  0.18367555\n",
            "  0.39575153 0.2248612  0.43415089 0.75902021 0.8583912  0.81355405\n",
            "  0.27171707 0.78173407 0.35241259 0.94992091 1.01004197 0.29504928\n",
            "  0.88082353 0.55132697 0.96100361 0.77701998 0.72134421 0.6862246\n",
            "  0.6513527  0.68070064 0.52738158 0.54298861]\n",
            " [0.70505189 0.55293129 0.55153072 0.55777053 0.73171685 0.40347728\n",
            "  0.71928373 0.32479489 0.53408362 0.36595867 0.65085451 0.70272944\n",
            "  0.33808873 0.53174679 0.33537817 0.64324271 0.22887982 0.24416516\n",
            "  0.66878113 0.3802479  0.18427585 0.4588468  0.4902095  0.67612121\n",
            "  0.69051885 0.60364958 0.5210506  0.41717543 0.16706942 0.47110983\n",
            "  0.22843394 0.56804615 0.27444002 0.60152181 0.51776668 0.40191729\n",
            "  0.13377835 0.82647204 0.15736469 0.11757597 0.46506797 0.87165384\n",
            "  0.         0.37010042 0.80102204 0.66501543 0.691429   0.06836944\n",
            "  0.41065073 0.28442148 0.74568399 0.49425848 0.28218162 0.64270682\n",
            "  0.45007261 0.3543529  0.26284283 0.17024759 0.39265075 0.66506383\n",
            "  0.49898198 0.59385157 0.2445262  0.18144491 0.59867673 0.44288708\n",
            "  0.5344081  0.57089235 0.73316665 0.6051607  0.33378    0.31713224\n",
            "  0.13410431 0.71923784 0.27210133 0.55288995 0.71890242 0.77421021\n",
            "  0.51143993 0.69698979 0.54461547 0.18531879 0.47463218 0.53118603\n",
            "  0.60242553 0.22722577 0.70717451 0.64041287 0.24854697 0.60334831\n",
            "  0.68609558 0.43455645 0.35188603 0.13636141 0.15037615 0.44511356\n",
            "  0.66456016 0.2194749  0.34516457 0.33259693]\n",
            " [0.92861699 0.84729315 0.19743418 0.82513815 0.76624784 0.26581274\n",
            "  0.96894759 0.64139777 0.40330245 0.16997035 0.35355281 0.749416\n",
            "  0.17897403 0.7321004  0.61582923 0.2746132  0.38000753 0.26984622\n",
            "  0.51447569 0.72850166 0.41218572 0.65388541 0.54061912 0.30623109\n",
            "  0.415588   0.34058441 0.57157214 0.05770734 0.53676704 0.60732894\n",
            "  0.580636   0.423086   0.13402981 0.79245141 0.83165299 0.57205022\n",
            "  0.46916276 0.86309447 0.36659504 0.44485298 0.29883357 0.83656467\n",
            "  0.37010042 0.         0.7835736  0.55867688 0.5029167  0.30463445\n",
            "  0.15331326 0.64870034 0.71403112 0.13380556 0.10766084 0.35850633\n",
            "  0.11117086 0.47732686 0.11510811 0.36360015 0.66715678 0.80702736\n",
            "  0.26377011 0.51388372 0.14054249 0.54096096 0.83201002 0.46070518\n",
            "  0.53058977 0.88193339 0.64645217 0.36373908 0.31562321 0.05683833\n",
            "  0.50307087 0.54880961 0.63128394 0.60141597 0.90702475 0.81705734\n",
            "  0.44571049 0.74619408 0.40678022 0.48935441 0.10455687 0.16866078\n",
            "  0.58521587 0.5484811  0.54401692 0.2723395  0.61659845 0.66210219\n",
            "  0.31854104 0.28529003 0.1358618  0.26022683 0.35037218 0.16650574\n",
            "  0.90846626 0.27066506 0.40578584 0.38034446]\n",
            " [0.54779502 0.6948713  0.74725453 0.61937519 0.11705447 0.51808699\n",
            "  0.62792034 1.09741659 0.38848016 0.61409065 0.61282268 0.14819418\n",
            "  0.61099686 0.46082544 0.62619026 0.90957772 0.57216838 0.59417718\n",
            "  0.33281611 0.8146836  0.97906826 0.46258678 0.31208121 0.88006133\n",
            "  0.56250941 0.55158542 0.28336608 0.75913661 0.84977302 0.38049638\n",
            "  0.97613197 0.38034118 0.69073593 0.44173859 0.74354791 0.45249997\n",
            "  0.92391763 0.13114065 0.64385003 0.91429355 0.48974572 0.07461902\n",
            "  0.80102204 0.7835736  0.         0.25230421 0.38744067 0.80278932\n",
            "  0.6367097  0.85324723 0.07069931 0.76091883 0.71759865 0.58551647\n",
            "  0.88208057 0.45362437 0.73538316 0.95014935 0.61298562 0.33861148\n",
            "  0.55158284 0.27254921 0.71870501 0.79684287 0.54115499 0.36269362\n",
            "  0.27211484 0.75558636 0.17520043 0.51255167 0.50349515 0.75633732\n",
            "  0.82907512 0.34393996 0.82186155 0.25408806 0.45905737 0.12946804\n",
            "  0.33856184 0.15456382 0.38882908 0.68513287 0.81227354 0.77266786\n",
            "  0.20611726 0.70726751 0.33347219 0.91360428 0.93577711 0.22050167\n",
            "  0.85088068 0.49882946 0.90461776 0.7100005  0.65093458 0.63905851\n",
            "  0.58876944 0.61454377 0.4580274  0.47476979]\n",
            " [0.67345827 0.74769956 0.49850203 0.6823813  0.29538616 0.30414266\n",
            "  0.74685811 0.98520553 0.15609823 0.39565253 0.36127289 0.3008479\n",
            "  0.40084416 0.52035251 0.60156345 0.65905653 0.45195408 0.4270963\n",
            "  0.08549797 0.79507233 0.82526438 0.48234262 0.25931748 0.62803175\n",
            "  0.31498751 0.29930266 0.25519959 0.52605956 0.7580971  0.38439651\n",
            "  0.87302778 0.13684089 0.4886343  0.53563478 0.77826594 0.42996614\n",
            "  0.79761186 0.3684146  0.51908805 0.78259125 0.26010605 0.28754894\n",
            "  0.66501543 0.55867688 0.25230421 0.         0.14621701 0.64750779\n",
            "  0.4061894  0.79779418 0.18392284 0.51764991 0.5115185  0.3338491\n",
            "  0.64847682 0.37626575 0.53300332 0.7883978  0.611919   0.46877123\n",
            "  0.30840782 0.07443282 0.52196892 0.71592885 0.62718702 0.24619194\n",
            "  0.18033804 0.80617108 0.088569   0.26025649 0.33299703 0.5413411\n",
            "  0.73023059 0.11792625 0.76688692 0.2520214  0.6017595  0.34041202\n",
            "  0.15390634 0.30238968 0.15190265 0.60279044 0.57261192 0.52602094\n",
            "  0.14827084 0.64359517 0.10242978 0.6633068  0.85254285 0.27895336\n",
            "  0.59858671 0.27780693 0.68838969 0.54787981 0.52001302 0.40203493\n",
            "  0.69432351 0.45116466 0.33488954 0.33906675]\n",
            " [0.81074539 0.86465849 0.3976028  0.80417784 0.4412123  0.2917062\n",
            "  0.88171625 1.01621859 0.16295204 0.36254561 0.23276991 0.44703873\n",
            "  0.37851622 0.64655587 0.69480147 0.54779082 0.50536144 0.4474526\n",
            "  0.06163048 0.88269638 0.83110458 0.59889424 0.37456831 0.50877301\n",
            "  0.17576791 0.18576459 0.3793081  0.45912995 0.80946849 0.50294874\n",
            "  0.91316192 0.12814427 0.46731144 0.66942156 0.88828952 0.53541216\n",
            "  0.82495791 0.51022713 0.56321343 0.80670453 0.23176697 0.40793537\n",
            "  0.691429   0.5029167  0.38744067 0.14621701 0.         0.66003724\n",
            "  0.35266617 0.86792289 0.32340388 0.43105597 0.4836624  0.20684481\n",
            "  0.5753219  0.46318285 0.50789743 0.78913216 0.71434986 0.61045336\n",
            "  0.23925802 0.18570106 0.50400567 0.7754151  0.75667635 0.33487834\n",
            "  0.29886972 0.92101254 0.21237324 0.1497295  0.36389535 0.5002726\n",
            "  0.77842145 0.05116809 0.83838568 0.38357589 0.74294245 0.48522675\n",
            "  0.22579718 0.44850695 0.15112715 0.66733678 0.49141623 0.43055752\n",
            "  0.28655853 0.71600508 0.05558238 0.55286186 0.9054517  0.41898646\n",
            "  0.47559942 0.26032452 0.63843117 0.56118441 0.5597623  0.336568\n",
            "  0.82702523 0.47206551 0.40171712 0.39671924]\n",
            " [0.75175863 0.6116451  0.49044419 0.6113568  0.74210442 0.36860554\n",
            "  0.77104545 0.3633505  0.50797656 0.31831796 0.6004664  0.7148915\n",
            "  0.29276855 0.57124367 0.38796533 0.57649413 0.23860968 0.22041468\n",
            "  0.64282626 0.44722731 0.17849135 0.49541044 0.49685079 0.61085987\n",
            "  0.64445218 0.55792193 0.52895486 0.35371545 0.23464602 0.49520328\n",
            "  0.28158679 0.54077059 0.21954682 0.6404039  0.57978278 0.43085644\n",
            "  0.17494594 0.8388478  0.17329497 0.15284265 0.42961645 0.87121842\n",
            "  0.06836944 0.30463445 0.80278932 0.64750779 0.66003724 0.\n",
            "  0.35843424 0.3527903  0.74377884 0.43154849 0.22288419 0.59434016\n",
            "  0.38193004 0.36960955 0.20158763 0.14756583 0.44520376 0.69523116\n",
            "  0.45436754 0.57908523 0.18635644 0.24923012 0.64603787 0.44044282\n",
            "  0.53194844 0.63273523 0.72079878 0.5629345  0.31477873 0.25327704\n",
            "  0.20218625 0.69156796 0.34014519 0.56151847 0.75893661 0.78694987\n",
            "  0.49611804 0.70952286 0.51770252 0.23857749 0.40891983 0.46830416\n",
            "  0.59972936 0.28699741 0.68053311 0.57351315 0.3119831  0.61554522\n",
            "  0.6221675  0.40003946 0.28403579 0.1000258  0.16060709 0.39207599\n",
            "  0.71474342 0.19642672 0.34500715 0.3282434 ]\n",
            " [0.84075762 0.79535348 0.17235105 0.76062684 0.62869977 0.12782984\n",
            "  0.89053447 0.72024927 0.25176501 0.05536967 0.2421872  0.61499229\n",
            "  0.08551553 0.64476251 0.57213191 0.32305215 0.32747113 0.21535687\n",
            "  0.36141528 0.71811785 0.50782097 0.57029066 0.41910397 0.32535097\n",
            "  0.29075265 0.20675904 0.44742408 0.12248646 0.56495742 0.50673546\n",
            "  0.63796723 0.27007938 0.13923    0.69816255 0.79164527 0.48724836\n",
            "  0.53337928 0.72353641 0.34417327 0.51107194 0.14766028 0.68685972\n",
            "  0.41065073 0.15331326 0.6367097  0.4061894  0.35266617 0.35843424\n",
            "  0.         0.65982697 0.56649549 0.14541591 0.14363469 0.23772421\n",
            "  0.24537098 0.38864784 0.16859934 0.46154632 0.61602332 0.69561855\n",
            "  0.11434589 0.3648779  0.17475588 0.5526536  0.7521447  0.33823725\n",
            "  0.39533366 0.83810281 0.49431215 0.22168082 0.21295092 0.14859954\n",
            "  0.53052538 0.39713017 0.6366929  0.47455263 0.80677472 0.67979934\n",
            "  0.30254445 0.61244446 0.25448995 0.47325361 0.18145907 0.17376294\n",
            "  0.44392689 0.5329827  0.39167847 0.32416905 0.65560638 0.53429737\n",
            "  0.3183326  0.13921188 0.28696618 0.27609372 0.33154797 0.0349249\n",
            "  0.82974473 0.23004769 0.30827059 0.28435169]\n",
            " [0.55941887 0.34759746 0.81773275 0.38710701 0.75505301 0.61175876\n",
            "  0.54358903 0.31019447 0.70531352 0.60763806 0.88606583 0.7215061\n",
            "  0.57701868 0.44794706 0.23229093 0.923276   0.36495041 0.45307785\n",
            "  0.82921449 0.11892339 0.37882168 0.4057727  0.55862088 0.95203262\n",
            "  0.91195578 0.82736772 0.5795759  0.69101605 0.12411241 0.47351757\n",
            "  0.2004412  0.73990943 0.53672271 0.5098188  0.29094326 0.40076334\n",
            "  0.25629995 0.8339417  0.32057524 0.2734843  0.66899186 0.92786588\n",
            "  0.28442148 0.64870034 0.85324723 0.79779418 0.86792289 0.3527903\n",
            "  0.65982697 0.         0.81620405 0.76528253 0.55156258 0.87243343\n",
            "  0.73393947 0.42309958 0.53619066 0.39963373 0.26575138 0.60852105\n",
            "  0.72477124 0.72354256 0.51390811 0.10836771 0.4607721  0.55162274\n",
            "  0.62881899 0.34046325 0.84306568 0.81885059 0.51203741 0.59343456\n",
            "  0.15205485 0.88221554 0.03155232 0.60377326 0.60780558 0.78418328\n",
            "  0.65177817 0.71480415 0.71733622 0.20103198 0.75287552 0.8021406\n",
            "  0.68929482 0.15419937 0.8674775  0.92085514 0.12030986 0.63317694\n",
            "  0.95831479 0.63879187 0.63542412 0.39294931 0.33062775 0.69460348\n",
            "  0.50276657 0.433437   0.46798239 0.47121914]\n",
            " [0.56015677 0.68556946 0.67681415 0.61213252 0.13368469 0.44891291\n",
            "  0.63901782 1.04862699 0.31780999 0.54484804 0.54517725 0.15416813\n",
            "  0.54261052 0.44923169 0.59423185 0.83940415 0.5176059  0.53159588\n",
            "  0.26657133 0.78637139 0.92116783 0.43905895 0.26277848 0.81058889\n",
            "  0.49706993 0.48264378 0.23767335 0.68886683 0.80418613 0.34945576\n",
            "  0.9287916  0.30981047 0.62364529 0.44090643 0.72947471 0.4171334\n",
            "  0.8712898  0.1869821  0.58934107 0.86049915 0.41934377 0.12799621\n",
            "  0.74568399 0.71403112 0.07069931 0.18392284 0.32340388 0.74377884\n",
            "  0.56649549 0.81620405 0.         0.69021965 0.65008493 0.51776505\n",
            "  0.81185277 0.40530345 0.66841736 0.89062876 0.58704288 0.34774539\n",
            "  0.48089724 0.20199749 0.6524573  0.75327197 0.53991128 0.30363957\n",
            "  0.21192653 0.74631042 0.11460801 0.44369063 0.43939983 0.68782644\n",
            "  0.78173003 0.28276536 0.78466528 0.21245983 0.47614557 0.16772036\n",
            "  0.27003243 0.15882131 0.31813101 0.64007418 0.74165875 0.70204351\n",
            "  0.14405    0.66679339 0.27097023 0.84337591 0.89271774 0.19434269\n",
            "  0.7818867  0.42898917 0.83622663 0.64918087 0.59530795 0.56848334\n",
            "  0.59479565 0.55275012 0.40076721 0.41567754]\n",
            " [0.9854774  0.93162991 0.06426809 0.90062087 0.76384199 0.27093013\n",
            "  1.033953   0.77488352 0.3726696  0.19569011 0.24112591 0.75245822\n",
            "  0.22142063 0.78914599 0.7042857  0.17859423 0.46005378 0.34533543\n",
            "  0.45706744 0.83605693 0.54597335 0.71392115 0.56301392 0.18980548\n",
            "  0.3096907  0.2497382  0.59051685 0.07841844 0.65882495 0.65207467\n",
            "  0.71096795 0.38213954 0.22945916 0.84332535 0.92354418 0.63078451\n",
            "  0.60025736 0.8563449  0.46387115 0.57616275 0.27586791 0.80457606\n",
            "  0.49425848 0.13380556 0.76091883 0.51764991 0.43105597 0.43154849\n",
            "  0.14541591 0.76528253 0.69021965 0.         0.21396039 0.2529207\n",
            "  0.15048876 0.53235642 0.23150016 0.49737895 0.75121727 0.84046671\n",
            "  0.20974557 0.48898329 0.25183626 0.65691647 0.89558338 0.48241892\n",
            "  0.53417099 0.97164269 0.60589054 0.2819755  0.35735964 0.178534\n",
            "  0.6245705  0.48094311 0.74538646 0.61661269 0.95219061 0.81484701\n",
            "  0.43673827 0.75034964 0.37211026 0.59204388 0.06230867 0.03698232\n",
            "  0.5775286  0.65214759 0.47978546 0.17929126 0.74260401 0.67564377\n",
            "  0.19303822 0.27643315 0.24804215 0.37233481 0.44913675 0.12755595\n",
            "  0.97312249 0.3546023  0.45280587 0.42849309]\n",
            " [0.824049   0.73966046 0.26946479 0.71775373 0.68788853 0.20738456\n",
            "  0.86269652 0.58008267 0.35652941 0.12118547 0.3837093  0.66817328\n",
            "  0.1106813  0.62809026 0.50828741 0.37645589 0.27301069 0.16552663\n",
            "  0.48226896 0.62574929 0.3642983  0.54946187 0.45259101 0.40085166\n",
            "  0.43436832 0.35018266 0.48468989 0.13994678 0.44525469 0.50807131\n",
            "  0.50446806 0.38287129 0.02969487 0.68988888 0.7246018  0.46845965\n",
            "  0.39650679 0.78605854 0.25962141 0.37332873 0.25716532 0.77613647\n",
            "  0.28218162 0.10766084 0.71759865 0.5115185  0.4836624  0.22288419\n",
            "  0.14363469 0.55156258 0.65008493 0.21396039 0.         0.3808807\n",
            "  0.21564453 0.37588136 0.02505772 0.31791236 0.55949645 0.7104657\n",
            "  0.25305022 0.45654646 0.03793836 0.44322382 0.72623745 0.37530267\n",
            "  0.45358695 0.77465665 0.5961107  0.36281936 0.22566009 0.05280031\n",
            "  0.41091268 0.52397958 0.53221756 0.51593391 0.80573402 0.73792035\n",
            "  0.38039122 0.66437285 0.36285324 0.38418521 0.20560409 0.25091259\n",
            "  0.51367498 0.44380338 0.5162461  0.37489153 0.53068214 0.57642446\n",
            "  0.40694842 0.23460368 0.1898053  0.15882452 0.24362334 0.17440288\n",
            "  0.80235948 0.16394878 0.30905603 0.28387145]\n",
            " [0.93997295 0.94781467 0.20492956 0.89878683 0.62185431 0.26287026\n",
            "  1.00295636 0.95718626 0.24263194 0.27685887 0.0275205  0.62081148\n",
            "  0.30477583 0.75626865 0.74491243 0.34315153 0.51457046 0.41977926\n",
            "  0.253504   0.91412036 0.74514947 0.69358052 0.48844468 0.30201723\n",
            "  0.05738747 0.04941925 0.50527022 0.30428301 0.78884691 0.60800124\n",
            "  0.87109645 0.22770992 0.37647335 0.79411646 0.9577413  0.6167856\n",
            "  0.76897823 0.70127758 0.55190862 0.74718263 0.21285996 0.61254542\n",
            "  0.64270682 0.35850633 0.58551647 0.3338491  0.20684481 0.59434016\n",
            "  0.23772421 0.87243343 0.51776505 0.2529207  0.3808807  0.\n",
            "  0.40339894 0.52529711 0.40564594 0.69847495 0.77824078 0.75770663\n",
            "  0.14769808 0.33900688 0.41242292 0.76874118 0.86876292 0.4217878\n",
            "  0.42908503 0.99834335 0.41326557 0.07994799 0.3698282  0.37648354\n",
            "  0.7549481  0.257505   0.8464171  0.52078855 0.88516594 0.6697704\n",
            "  0.32901614 0.62082959 0.23404999 0.67559999 0.31516262 0.24179431\n",
            "  0.44485432 0.73247921 0.26201342 0.34855326 0.88233509 0.56986676\n",
            "  0.2688544  0.23975421 0.4907869  0.50643841 0.54263731 0.20673511\n",
            "  0.94428711 0.44074921 0.44658152 0.43042564]\n",
            " [1.03912344 0.95203236 0.20610468 0.93262145 0.87102272 0.36825456\n",
            "  1.07834074 0.68601895 0.49609306 0.27446304 0.39127369 0.85549093\n",
            "  0.28750286 0.8427855  0.72009055 0.205668   0.48854648 0.38016283\n",
            "  0.59563833 0.82140796 0.45171155 0.76440793 0.64972664 0.2544529\n",
            "  0.46016797 0.39812952 0.68024509 0.12303564 0.61646    0.71848092\n",
            "  0.64245304 0.51164245 0.24362202 0.90347909 0.93338785 0.68281989\n",
            "  0.53039522 0.96695487 0.46968633 0.50583822 0.3927057  0.93161621\n",
            "  0.45007261 0.11117086 0.88208057 0.64847682 0.5753219  0.38193004\n",
            "  0.24537098 0.73393947 0.81185277 0.15048876 0.21564453 0.40339894\n",
            "  0.         0.58842421 0.2175585  0.40425981 0.77270453 0.91783847\n",
            "  0.34255243 0.61013218 0.24412484 0.62814709 0.94182026 0.56934605\n",
            "  0.63589756 0.98444651 0.73699743 0.42821198 0.42601162 0.162864\n",
            "  0.58410368 0.62405395 0.71929802 0.70954362 1.01818165 0.92202331\n",
            "  0.54685547 0.85251748 0.49791727 0.58785249 0.08841558 0.16809995\n",
            "  0.68778505 0.645698   0.62145763 0.20116943 0.68853148 0.77012375\n",
            "  0.27921769 0.38390535 0.12284584 0.35724343 0.45305258 0.2464976\n",
            "  1.0179993  0.37959286 0.51684553 0.49140494]\n",
            " [0.45406895 0.42267054 0.55882394 0.37755477 0.37758502 0.27843396\n",
            "  0.50188686 0.64404994 0.30814276 0.33667339 0.54651439 0.34837672\n",
            "  0.3123987  0.25722797 0.23163621 0.71091288 0.13129634 0.21099982\n",
            "  0.4165957  0.42125368 0.53743675 0.18165291 0.14257256 0.71313275\n",
            "  0.54901522 0.47595124 0.17028722 0.48554939 0.39909827 0.13400994\n",
            "  0.52357075 0.33993279 0.34655436 0.31523915 0.4341214  0.09861303\n",
            "  0.47161543 0.4721478  0.19852049 0.46347757 0.31418204 0.52659518\n",
            "  0.3543529  0.47732686 0.45362437 0.37626575 0.46318285 0.36960955\n",
            "  0.38864784 0.42309958 0.40530345 0.53235642 0.37588136 0.52529711\n",
            "  0.58842421 0.         0.38151176 0.51526691 0.25551008 0.33886594\n",
            "  0.39193318 0.30265079 0.35650914 0.34970608 0.36349699 0.13117641\n",
            "  0.20629465 0.473239   0.42044877 0.45434096 0.17586862 0.42785555\n",
            "  0.37646927 0.46904805 0.39187789 0.20070367 0.42997807 0.41990713\n",
            "  0.23813489 0.34264411 0.3201753  0.2357163  0.55512591 0.56235612\n",
            "  0.26944263 0.26929661 0.45348566 0.71163241 0.48906581 0.24902293\n",
            "  0.70268047 0.29155558 0.55614467 0.29302882 0.20935073 0.41494159\n",
            "  0.44109825 0.2185854  0.08195134 0.10444742]\n",
            " [0.82600686 0.73467881 0.28905982 0.71530083 0.70265561 0.22900053\n",
            "  0.86254645 0.55651518 0.37860126 0.14535793 0.40814987 0.68212065\n",
            "  0.1327663  0.63084002 0.50282059 0.38850142 0.27263002 0.17054967\n",
            "  0.50552464 0.61368122 0.33950398 0.55193938 0.46483825 0.41593417\n",
            "  0.45929118 0.37520904 0.4972406  0.15518613 0.42749393 0.51471496\n",
            "  0.48289356 0.40560544 0.04487412 0.69381927 0.71744188 0.47194974\n",
            "  0.37412989 0.80103413 0.25269632 0.35072001 0.28038868 0.79495388\n",
            "  0.26284283 0.11510811 0.73538316 0.53300332 0.50789743 0.20158763\n",
            "  0.16859934 0.53619066 0.66841736 0.23150016 0.02505772 0.40564594\n",
            "  0.2175585  0.38151176 0.         0.2929832  0.55516949 0.71822774\n",
            "  0.27803314 0.47663449 0.02660377 0.42804431 0.72688559 0.38889037\n",
            "  0.469393   0.76804957 0.61694609 0.38784537 0.23888704 0.0583275\n",
            "  0.39332609 0.54777589 0.51779911 0.52887823 0.81048225 0.75237294\n",
            "  0.39931786 0.67814761 0.38524627 0.37429232 0.21743836 0.26846098\n",
            "  0.53066864 0.43337391 0.53982325 0.38654579 0.51132437 0.58912246\n",
            "  0.42387975 0.25699633 0.17722475 0.14536806 0.23623967 0.19903259\n",
            "  0.80247082 0.16531335 0.31814246 0.29331226]\n",
            " [0.87304355 0.70914668 0.56096777 0.72103862 0.88934857 0.49845321\n",
            "  0.88365983 0.28191217 0.6437386  0.4324633  0.70010252 0.86184371\n",
            "  0.41200568 0.70194148 0.50123958 0.60984384 0.38499952 0.36292918\n",
            "  0.77745765 0.51215144 0.04861744 0.62902586 0.64432501 0.65536867\n",
            "  0.75227245 0.66792255 0.67634982 0.42038655 0.27687582 0.63768245\n",
            "  0.25128539 0.67516284 0.32647972 0.7717337  0.66719663 0.57034712\n",
            "  0.14800476 0.98583166 0.31711172 0.1271824  0.55738952 1.01823819\n",
            "  0.17024759 0.36360015 0.95014935 0.7883978  0.78913216 0.14756583\n",
            "  0.46154632 0.39963373 0.89062876 0.49737895 0.31791236 0.69847495\n",
            "  0.40425981 0.51526691 0.2929832  0.         0.55801716 0.83426402\n",
            "  0.56872472 0.721848   0.2893159  0.31810764 0.76655661 0.58761741\n",
            "  0.67896296 0.72012912 0.86419476 0.67884431 0.45769689 0.32702295\n",
            "  0.25634411 0.82424094 0.39839233 0.70886491 0.88896515 0.93383922\n",
            "  0.63907115 0.85640245 0.65266904 0.35282423 0.45839142 0.53161749\n",
            "  0.74659916 0.38725344 0.81425888 0.60542402 0.31565411 0.76241234\n",
            "  0.67474151 0.52950837 0.28396823 0.24244856 0.30596249 0.49174545\n",
            "  0.83044166 0.33995708 0.49252954 0.47543401]\n",
            " [0.31729524 0.18067551 0.78822048 0.1662168  0.50614139 0.52280537\n",
            "  0.3266463  0.56451076 0.56299635 0.56088788 0.79834955 0.47218531\n",
            "  0.53208335 0.18224959 0.0573472  0.92734308 0.29126423 0.40600288\n",
            "  0.66393072 0.20230527 0.55808043 0.15069217 0.3532971  0.93929269\n",
            "  0.80402807 0.72913109 0.36393416 0.69103682 0.32176846 0.23846708\n",
            "  0.44363147 0.59398526 0.53426371 0.24490451 0.17951622 0.18195289\n",
            "  0.44993285 0.57714417 0.30400136 0.45540157 0.56564436 0.68681764\n",
            "  0.39265075 0.66715678 0.61298562 0.611919   0.71434986 0.44520376\n",
            "  0.61602332 0.26575138 0.58704288 0.75121727 0.55949645 0.77824078\n",
            "  0.77270453 0.25551008 0.55516949 0.55801716 0.         0.34321021\n",
            "  0.63989018 0.54229139 0.52864122 0.26279206 0.21142211 0.37951879\n",
            "  0.43181022 0.22261706 0.63686896 0.70907465 0.41434297 0.61132643\n",
            "  0.32172407 0.71508604 0.23805531 0.37995348 0.34927059 0.52940891\n",
            "  0.48864152 0.46539628 0.57493408 0.20758923 0.76066171 0.78489872\n",
            "  0.47970655 0.17322418 0.69905609 0.92688627 0.37596769 0.39431607\n",
            "  0.93432567 0.54056436 0.70717309 0.42120588 0.3208743  0.64674963\n",
            "  0.272428   0.39903059 0.3317058  0.3484182 ]\n",
            " [0.21243429 0.37036855 0.8529947  0.29338333 0.2220813  0.56988414\n",
            "  0.29140558 0.89860531 0.51548652 0.65078827 0.7839314  0.19460412\n",
            "  0.63226598 0.16135569 0.38012528 1.01500283 0.46491252 0.54804348\n",
            "  0.54908149 0.53726825 0.84794249 0.21226887 0.27907935 1.00537904\n",
            "  0.75892849 0.7113346  0.25549289 0.80661872 0.64765625 0.20493823\n",
            "  0.77524983 0.53120494 0.68080547 0.11283439 0.42746498 0.2644171\n",
            "  0.75860156 0.25659741 0.52247967 0.75753142 0.57893993 0.40203555\n",
            "  0.66506383 0.80702736 0.33861148 0.46877123 0.61045336 0.69523116\n",
            "  0.69561855 0.60852105 0.34774539 0.84046671 0.7104657  0.75770663\n",
            "  0.91783847 0.33886594 0.71822774 0.83426402 0.34321021 0.\n",
            "  0.66005923 0.42845545 0.69390349 0.58826185 0.20789442 0.35851234\n",
            "  0.32864344 0.4295902  0.44411445 0.67786625 0.49210926 0.76116768\n",
            "  0.63860104 0.58662051 0.5799507  0.23696369 0.13304632 0.22008856\n",
            "  0.43001814 0.18936018 0.5236803  0.49710802 0.87369614 0.86516029\n",
            "  0.32396472 0.49167488 0.57119994 1.01691933 0.71445982 0.1916926\n",
            "  0.98699206 0.56894119 0.894172   0.62900485 0.53654295 0.71438939\n",
            "  0.25015828 0.55722893 0.40175104 0.42712747]\n",
            " [0.82656472 0.81350721 0.19981751 0.76922335 0.56022599 0.11790933\n",
            "  0.88423907 0.81766058 0.16438947 0.13695291 0.16235315 0.55161171\n",
            "  0.16169118 0.6359138  0.60344594 0.36476789 0.36853611 0.27209837\n",
            "  0.25334393 0.76826592 0.61370342 0.56776512 0.3817219  0.34697019\n",
            "  0.19167623 0.10485708 0.40476207 0.22237092 0.64189301 0.48980102\n",
            "  0.72730769 0.1724204  0.24227807 0.68086538 0.81916557 0.48755344\n",
            "  0.62773317 0.65034748 0.40422481 0.60672119 0.08186468 0.59491326\n",
            "  0.49898198 0.26377011 0.55158284 0.30840782 0.23925802 0.45436754\n",
            "  0.11434589 0.72477124 0.48089724 0.20974557 0.25305022 0.14769808\n",
            "  0.34255243 0.39193318 0.27803314 0.56872472 0.63989018 0.66005923\n",
            "  0.         0.28050453 0.2794119  0.62107392 0.74736275 0.30585494\n",
            "  0.33851259 0.86172642 0.39686563 0.11012019 0.22662807 0.26291142\n",
            "  0.60814704 0.28517409 0.69886839 0.42672731 0.78091095 0.61086361\n",
            "  0.23675406 0.5501286  0.16286577 0.5284097  0.26430721 0.22171149\n",
            "  0.37398905 0.58572483 0.280925   0.36793106 0.73584211 0.48277861\n",
            "  0.32696487 0.10038479 0.39917787 0.36269053 0.39495904 0.09795904\n",
            "  0.8243031  0.2932537  0.31071817 0.29180567]\n",
            " [0.62557607 0.68392791 0.47871361 0.62113321 0.28504882 0.2509353\n",
            "  0.69607162 0.91259485 0.11633187 0.34602054 0.36629938 0.28199181\n",
            "  0.34680922 0.46176902 0.52968458 0.6427998  0.37824886 0.3591553\n",
            "  0.12699669 0.72254315 0.75737287 0.41777161 0.1927474  0.61823159\n",
            "  0.33261806 0.29716888 0.19425091 0.48710614 0.68396144 0.32049557\n",
            "  0.79959028 0.11427899 0.4318157  0.48375554 0.7115247  0.36061862\n",
            "  0.7258544  0.3711282  0.44606177 0.71137421 0.21745934 0.32268631\n",
            "  0.59385157 0.51388372 0.27254921 0.07443282 0.18570106 0.57908523\n",
            "  0.3648779  0.72354256 0.20199749 0.48898329 0.45654646 0.33900688\n",
            "  0.61013218 0.30265079 0.47663449 0.721848   0.54229139 0.42845545\n",
            "  0.28050453 0.         0.46335473 0.6415275  0.57129176 0.1720765\n",
            "  0.11465558 0.741482   0.14262731 0.25994747 0.2644216  0.49077694\n",
            "  0.65631915 0.17464375 0.69268318 0.19799342 0.55998081 0.33449133\n",
            "  0.08296911 0.28187175 0.117961   0.52835831 0.53974057 0.50219788\n",
            "  0.10669641 0.56935074 0.15838193 0.64640831 0.77827455 0.23694004\n",
            "  0.59231235 0.2286455  0.63908675 0.48007709 0.44753602 0.36650932\n",
            "  0.64133451 0.38274061 0.26066912 0.2655806 ]\n",
            " [0.79980476 0.70822885 0.30731518 0.68869717 0.68292596 0.21939658\n",
            "  0.83604501 0.5459109  0.36907009 0.14340902 0.41662199 0.66170581\n",
            "  0.12568222 0.60483209 0.47641162 0.41259568 0.24619985 0.1458683\n",
            "  0.49845607 0.58934311 0.3344909  0.52588963 0.44332945 0.43825745\n",
            "  0.4647596  0.37947521 0.47591064 0.1772146  0.40731893 0.49000322\n",
            "  0.46783739 0.39744785 0.03721034 0.66809699 0.69136285 0.44617969\n",
            "  0.36071536 0.7814292  0.22644797 0.33784204 0.27396915 0.77951176\n",
            "  0.2445262  0.14054249 0.71870501 0.52196892 0.50400567 0.18635644\n",
            "  0.17475588 0.51390811 0.6524573  0.25183626 0.03793836 0.41242292\n",
            "  0.24412484 0.35650914 0.02660377 0.2893159  0.52864122 0.69390349\n",
            "  0.2794119  0.46335473 0.         0.40559982 0.7004835  0.36855328\n",
            "  0.45089357 0.74185844 0.60464756 0.38953017 0.21882469 0.08374503\n",
            "  0.37297454 0.54223651 0.494828   0.50780625 0.78497711 0.73233681\n",
            "  0.38456033 0.65759454 0.37637503 0.34894402 0.24150613 0.28879957\n",
            "  0.51330658 0.40825404 0.5336116  0.41082679 0.49295321 0.56780459\n",
            "  0.4447834  0.2487399  0.20046533 0.1215344  0.2100725  0.20724769\n",
            "  0.77599878 0.13939278 0.29487964 0.27032245]\n",
            " [0.57823017 0.39378025 0.70947437 0.41457993 0.70716439 0.51013991\n",
            "  0.5772824  0.31108112 0.61247412 0.50106099 0.78149688 0.67464575\n",
            "  0.47058177 0.43446209 0.21244605 0.81557415 0.27007856 0.348979\n",
            "  0.7403551  0.19955357 0.3073896  0.37670596 0.49103318 0.84378788\n",
            "  0.80991701 0.72455077 0.51579409 0.58274979 0.05969685 0.42549593\n",
            "  0.18730011 0.64732718 0.42840288 0.50207029 0.34922536 0.35022542\n",
            "  0.19081856 0.79296866 0.21772633 0.20052476 0.56877191 0.87100682\n",
            "  0.18144491 0.54096096 0.79684287 0.71592885 0.7754151  0.24923012\n",
            "  0.5526536  0.10836771 0.75327197 0.65691647 0.44322382 0.76874118\n",
            "  0.62814709 0.34970608 0.42804431 0.31810764 0.26279206 0.58826185\n",
            "  0.62107392 0.6415275  0.40559982 0.         0.47341825 0.4717878\n",
            "  0.55511966 0.40207723 0.76828496 0.71786382 0.41440198 0.485459\n",
            "  0.0628867  0.79317615 0.09118824 0.54318249 0.61126318 0.74156742\n",
            "  0.56574764 0.66816246 0.62429406 0.11418792 0.64497089 0.69377298\n",
            "  0.61914265 0.09664172 0.77899803 0.81324735 0.13947968 0.58052484\n",
            "  0.84994776 0.5382023  0.53322166 0.28458233 0.22612163 0.58750247\n",
            "  0.52852191 0.32829821 0.38152049 0.38099238]\n",
            " [0.10649052 0.16539271 0.92195787 0.08991315 0.42418138 0.63890452\n",
            "  0.13839431 0.76839673 0.63090815 0.69991616 0.89260839 0.39345945\n",
            "  0.67483612 0.11252975 0.26635826 1.0741767  0.45428881 0.56223859\n",
            "  0.69813099 0.36635671 0.76862701 0.18187925 0.38545955 1.07639763\n",
            "  0.88198566 0.81974922 0.37739787 0.84590764 0.5317868  0.26087268\n",
            "  0.65024063 0.65498434 0.69828077 0.09951208 0.22757869 0.26490278\n",
            "  0.66135025 0.4642824  0.48860601 0.66667849 0.66643608 0.60766402\n",
            "  0.59867673 0.83201002 0.54115499 0.62718702 0.75667635 0.64603787\n",
            "  0.7521447  0.4607721  0.53991128 0.89558338 0.72623745 0.86876292\n",
            "  0.94182026 0.36349699 0.72688559 0.76655661 0.21142211 0.20789442\n",
            "  0.74736275 0.57129176 0.7004835  0.47341825 0.         0.44698531\n",
            "  0.45799229 0.22288694 0.62235502 0.79190827 0.53930663 0.77903747\n",
            "  0.53303856 0.74296024 0.43720293 0.37536284 0.15018983 0.42747599\n",
            "  0.54561413 0.38738003 0.64139992 0.41383464 0.91592602 0.925841\n",
            "  0.47938421 0.38450886 0.72678684 1.07478116 0.5778252  0.3558207\n",
            "  1.06501156 0.64796335 0.89147817 0.60671933 0.50523386 0.77813376\n",
            "  0.07760759 0.56238627 0.44444431 0.46786271]\n",
            " [0.52145524 0.53509315 0.49488076 0.48027347 0.31461732 0.21154142\n",
            "  0.58178714 0.75263476 0.18758058 0.29652951 0.44567624 0.29324253\n",
            "  0.28196347 0.33451508 0.36125646 0.65649212 0.21680314 0.2337962\n",
            "  0.28612428 0.55229405 0.61755311 0.27359784 0.08097767 0.64799611\n",
            "  0.43712132 0.37276772 0.11090967 0.45307386 0.5166616  0.18637785\n",
            "  0.63609684 0.21614946 0.34624873 0.37550483 0.5546516  0.20244737\n",
            "  0.57069511 0.4131928  0.28792261 0.55871433 0.22399077 0.43081091\n",
            "  0.44288708 0.46070518 0.36269362 0.24619194 0.33487834 0.44044282\n",
            "  0.33823725 0.55162274 0.30363957 0.48241892 0.37530267 0.4217878\n",
            "  0.56934605 0.13117641 0.38889037 0.58761741 0.37951879 0.35851234\n",
            "  0.30585494 0.1720765  0.36855328 0.4717878  0.44698531 0.\n",
            "  0.09174102 0.58955893 0.29756253 0.34542392 0.15000355 0.42146144\n",
            "  0.49063807 0.33830056 0.52069623 0.14099905 0.47558478 0.36379816\n",
            "  0.10912274 0.28926105 0.19897609 0.35796719 0.51821718 0.50666\n",
            "  0.15977535 0.39742424 0.32262256 0.65841184 0.60976302 0.20169049\n",
            "  0.63126014 0.21107166 0.56501326 0.34741505 0.29269684 0.35594328\n",
            "  0.5227319  0.25284592 0.09782705 0.11220132]\n",
            " [0.51679361 0.56949086 0.53679713 0.50648776 0.23568974 0.26829192\n",
            "  0.5851032  0.84191933 0.18693111 0.3615981  0.45528927 0.21980501\n",
            "  0.35248774 0.34769516 0.42357452 0.70141816 0.30736644 0.32221096\n",
            "  0.24144646 0.61791746 0.70924162 0.30342194 0.07903162 0.68543614\n",
            "  0.43234117 0.38275624 0.08068164 0.5156219  0.60250136 0.20592185\n",
            "  0.72409853 0.2034555  0.42546053 0.37296117 0.59828895 0.24990894\n",
            "  0.66149127 0.33307182 0.37885224 0.64991899 0.26053767 0.33928485\n",
            "  0.5344081  0.53058977 0.27211484 0.18033804 0.29886972 0.53194844\n",
            "  0.39533366 0.62881899 0.21192653 0.53417099 0.45358695 0.42908503\n",
            "  0.63589756 0.20629465 0.469393   0.67896296 0.43181022 0.32864344\n",
            "  0.33851259 0.11465558 0.45089357 0.55511966 0.45799229 0.09174102\n",
            "  0.         0.62730296 0.21426528 0.34928951 0.23302959 0.49646921\n",
            "  0.57778727 0.28911296 0.5974658  0.09170422 0.45674468 0.28646813\n",
            "  0.10265876 0.21713096 0.19504194 0.44093363 0.57670118 0.55399742\n",
            "  0.06805135 0.47539236 0.27283382 0.70411174 0.69412487 0.14438604\n",
            "  0.6641428  0.25789145 0.64299324 0.43807445 0.38411031 0.40673343\n",
            "  0.52926312 0.34242925 0.18924461 0.2037652 ]\n",
            " [0.27910179 0.06080066 1.01011042 0.1367996  0.63966477 0.74500433\n",
            "  0.23096952 0.64278861 0.77643107 0.78286326 1.01909486 0.60745067\n",
            "  0.75375749 0.29708307 0.26745693 1.14654231 0.511829   0.62638478\n",
            "  0.86697747 0.22231554 0.70806818 0.32393396 0.54873518 1.16040407\n",
            "  1.02182685 0.94905334 0.55111519 0.90922305 0.44893237 0.42179575\n",
            "  0.54049137 0.80570838 0.75082975 0.31777271 0.05316683 0.38711532\n",
            "  0.58773777 0.68616539 0.51541742 0.60073405 0.78635417 0.82467201\n",
            "  0.57089235 0.88193339 0.75558636 0.80617108 0.92101254 0.63273523\n",
            "  0.83810281 0.34046325 0.74631042 0.97164269 0.77465665 0.99834335\n",
            "  0.98444651 0.473239   0.76804957 0.72012912 0.22261706 0.4295902\n",
            "  0.86172642 0.741482   0.74185844 0.40207723 0.22288694 0.58955893\n",
            "  0.62730296 0.         0.81644024 0.9274292  0.63674642 0.82542379\n",
            "  0.46439586 0.91611798 0.32981194 0.55861078 0.35992402 0.64746688\n",
            "  0.69755556 0.60103162 0.78808676 0.39933866 0.97827491 1.00581862\n",
            "  0.66381934 0.34595572 0.89986189 1.14581804 0.45869148 0.55417728\n",
            "  1.15626445 0.76200885 0.90912978 0.62799672 0.53181083 0.86911813\n",
            "  0.21502046 0.61769644 0.55208826 0.56994367]\n",
            " [0.65515394 0.75646431 0.58535218 0.68663403 0.24383748 0.38898628\n",
            "  0.73203938 1.04874085 0.24322622 0.48202871 0.44030745 0.25819194\n",
            "  0.48565362 0.52227507 0.63419745 0.74457338 0.51252914 0.50132812\n",
            "  0.15977004 0.82882781 0.89922705 0.4968954  0.28715798 0.7114731\n",
            "  0.38780382 0.38237371 0.27296527 0.61450828 0.81414847 0.40040717\n",
            "  0.93333886 0.2253909  0.57228775 0.52591802 0.79366225 0.45728516\n",
            "  0.86404298 0.30078929 0.58227204 0.85042426 0.34764071 0.20093191\n",
            "  0.73316665 0.64645217 0.17520043 0.088569   0.21237324 0.72079878\n",
            "  0.49431215 0.84306568 0.11460801 0.60589054 0.5961107  0.41326557\n",
            "  0.73699743 0.42044877 0.61694609 0.86419476 0.63686896 0.44411445\n",
            "  0.39686563 0.14262731 0.60464756 0.76828496 0.62235502 0.29756253\n",
            "  0.21426528 0.81644024 0.         0.34335259 0.4065416  0.62767633\n",
            "  0.78817476 0.16910028 0.81169622 0.25911162 0.57595987 0.281794\n",
            "  0.22513472 0.26150014 0.23982778 0.65414989 0.66112173 0.61359349\n",
            "  0.15730904 0.68964526 0.15828402 0.74900069 0.90683595 0.26654382\n",
            "  0.68075131 0.36391224 0.77524338 0.62216118 0.58506302 0.49058129\n",
            "  0.68366087 0.52468887 0.39317521 0.40170606]\n",
            " [0.86141171 0.87564917 0.24826808 0.82450848 0.54387194 0.20777587\n",
            "  0.92529048 0.92588355 0.16324498 0.24681903 0.10675433 0.54193346\n",
            "  0.27030657 0.67937916 0.67852075 0.40230198 0.45604115 0.370826\n",
            "  0.18492293 0.85327234 0.72376687 0.61846365 0.40986845 0.36819296\n",
            "  0.09530549 0.03908001 0.42592505 0.31570752 0.74262718 0.53103649\n",
            "  0.8329186  0.14784694 0.35238839 0.71571441 0.88825334 0.54327783\n",
            "  0.73535451 0.62524223 0.50014364 0.71477875 0.15011176 0.54410385\n",
            "  0.6051607  0.36373908 0.51255167 0.26025649 0.1497295  0.5629345\n",
            "  0.22168082 0.81885059 0.44369063 0.2819755  0.36281936 0.07994799\n",
            "  0.42821198 0.45434096 0.38784537 0.67884431 0.70907465 0.67786625\n",
            "  0.11012019 0.25994747 0.38953017 0.71786382 0.79190827 0.34542392\n",
            "  0.34928951 0.9274292  0.34335259 0.         0.30880134 0.36961539\n",
            "  0.70942226 0.20039897 0.79163833 0.44099113 0.8056197  0.59231441\n",
            "  0.24978563 0.5418044  0.15432692 0.61941518 0.34295937 0.28084087\n",
            "  0.36535432 0.67447967 0.20111414 0.40700702 0.83757288 0.48992264\n",
            "  0.33833051 0.18006374 0.49948415 0.4693683  0.49260877 0.1985745\n",
            "  0.86697302 0.39359233 0.3778998  0.3639103 ]\n",
            " [0.6281178  0.59029804 0.38304119 0.55081255 0.46410972 0.10881743\n",
            "  0.67767956 0.65712088 0.20247832 0.16214383 0.38766324 0.44323711\n",
            "  0.14062637 0.43188005 0.37682751 0.53571101 0.14754005 0.09478672\n",
            "  0.33602722 0.54499639 0.49296729 0.35742917 0.22704889 0.53728197\n",
            "  0.40341668 0.3220219  0.25904076 0.31542297 0.44587019 0.29623759\n",
            "  0.55032124 0.23714534 0.19642386 0.48639212 0.59321348 0.27447467\n",
            "  0.46730295 0.56260501 0.19948677 0.45111556 0.15889147 0.56731877\n",
            "  0.33378    0.31562321 0.50349515 0.33299703 0.36389535 0.31477873\n",
            "  0.21295092 0.51203741 0.43939983 0.35735964 0.22566009 0.3698282\n",
            "  0.42601162 0.17586862 0.23888704 0.45769689 0.41434297 0.49210926\n",
            "  0.22662807 0.2644216  0.21882469 0.41440198 0.53930663 0.15000355\n",
            "  0.23302959 0.63674642 0.4065416  0.30880134 0.         0.27307944\n",
            "  0.41456751 0.38739268 0.48406967 0.2903057  0.59716214 0.51361507\n",
            "  0.18150003 0.43926314 0.21367343 0.31151578 0.38378033 0.38671338\n",
            "  0.29738176 0.36575839 0.37467082 0.53661355 0.54186127 0.35076627\n",
            "  0.5273398  0.13021885 0.41517929 0.21566358 0.19593437 0.23916488\n",
            "  0.61691373 0.11835916 0.09544624 0.07144405]\n",
            " [0.87676616 0.79125113 0.23905932 0.77019674 0.73177969 0.23984799\n",
            "  0.91548043 0.59947269 0.38527331 0.14569957 0.37550905 0.71320499\n",
            "  0.14536267 0.68071475 0.55960796 0.33045833 0.32571386 0.21802432\n",
            "  0.50500403 0.67195285 0.37506649 0.60214012 0.49998599 0.35940859\n",
            "  0.43221809 0.35169983 0.53169376 0.10044867 0.48307018 0.55950501\n",
            "  0.53248865 0.40873648 0.08139768 0.74224657 0.77502927 0.52098274\n",
            "  0.42203395 0.8295211  0.31001812 0.39805929 0.28230997 0.81256456\n",
            "  0.31713224 0.05683833 0.75633732 0.5413411  0.5002726  0.25327704\n",
            "  0.14859954 0.59343456 0.68782644 0.178534   0.05280031 0.37648354\n",
            "  0.162864   0.42785555 0.0583275  0.32702295 0.61132643 0.76116768\n",
            "  0.26291142 0.49077694 0.08374503 0.485459   0.77903747 0.42146144\n",
            "  0.49646921 0.82542379 0.62767633 0.36961539 0.27307944 0.\n",
            "  0.44912109 0.54344861 0.5755013  0.56243881 0.85781775 0.78218445\n",
            "  0.41785764 0.70963126 0.39030906 0.43251782 0.15954523 0.21513943\n",
            "  0.55438913 0.49166858 0.53706576 0.32840511 0.56489831 0.62309594\n",
            "  0.36907661 0.26376737 0.14844645 0.20362828 0.29372338 0.17226998\n",
            "  0.85515319 0.21673464 0.35943833 0.3341049 ]\n",
            " [0.63843839 0.45666566 0.67998507 0.47647671 0.74472311 0.50233497\n",
            "  0.63936026 0.26897273 0.61632584 0.48158332 0.76572325 0.71297625\n",
            "  0.45188948 0.48835777 0.26902716 0.77686052 0.2784225  0.33869687\n",
            "  0.74765546 0.25720805 0.24451554 0.42633479 0.51904183 0.80852375\n",
            "  0.79914282 0.71275013 0.54599374 0.54844014 0.03450785 0.46611934\n",
            "  0.14712539 0.65116983 0.39957615 0.55694796 0.41166764 0.39115481\n",
            "  0.12882113 0.83346448 0.2152595  0.13766133 0.5627663  0.90256285\n",
            "  0.13410431 0.50307087 0.82907512 0.73023059 0.77842145 0.20218625\n",
            "  0.53052538 0.15205485 0.78173003 0.6245705  0.41091268 0.7549481\n",
            "  0.58410368 0.37646927 0.39332609 0.25634411 0.32172407 0.63860104\n",
            "  0.60814704 0.65631915 0.37297454 0.0628867  0.53303856 0.49063807\n",
            "  0.57778727 0.46439586 0.78817476 0.70942226 0.41456751 0.44912109\n",
            "  0.         0.79994749 0.14433487 0.57505008 0.66832032 0.78156498\n",
            "  0.57751994 0.70665503 0.62779081 0.14626169 0.60761731 0.66155281\n",
            "  0.64375149 0.1501758  0.78644675 0.77412887 0.12820853 0.61661039\n",
            "  0.81719867 0.53189264 0.48357066 0.25557884 0.21915834 0.56542312\n",
            "  0.58986303 0.31586671 0.39598349 0.39142797]\n",
            " [0.7911991  0.85855145 0.44852391 0.79528007 0.40607649 0.32582002\n",
            "  0.8642028  1.04370661 0.18523512 0.40288228 0.28310449 0.41489526\n",
            "  0.41657813 0.63477617 0.69948887 0.59891766 0.52361399 0.47523116\n",
            "  0.05300206 0.89027147 0.86504958 0.59240772 0.36738793 0.5595189\n",
            "  0.22360883 0.23683138 0.36769106 0.50661755 0.8300694  0.49503433\n",
            "  0.93765381 0.15123542 0.50603727 0.65259832 0.88581547 0.5340333\n",
            "  0.85301429 0.46960065 0.58492627 0.83562761 0.26830103 0.36006213\n",
            "  0.71923784 0.54880961 0.34393996 0.11792625 0.05116809 0.69156796\n",
            "  0.39713017 0.88221554 0.28276536 0.48094311 0.52397958 0.257505\n",
            "  0.62405395 0.46904805 0.54777589 0.82424094 0.71508604 0.58662051\n",
            "  0.28517409 0.17464375 0.54223651 0.79317615 0.74296024 0.33830056\n",
            "  0.28911296 0.91611798 0.16910028 0.20039897 0.38739268 0.54344861\n",
            "  0.79994749 0.         0.852092   0.36765494 0.71963199 0.44783812\n",
            "  0.23161099 0.41697169 0.17462931 0.68288786 0.5408946  0.48120354\n",
            "  0.26556241 0.72895141 0.01628207 0.60400405 0.92583415 0.39683296\n",
            "  0.52601394 0.29493722 0.68383915 0.59193113 0.58281647 0.38304115\n",
            "  0.81112452 0.49995183 0.41423784 0.41229276]\n",
            " [0.53752121 0.33180195 0.7966705  0.36646395 0.72403432 0.5850007\n",
            "  0.52523645 0.33140141 0.67594979 0.58390536 0.86054895 0.69053139\n",
            "  0.55319157 0.41987114 0.20218203 0.90585336 0.33667337 0.4278121\n",
            "  0.7990906  0.11379247 0.38120528 0.37575081 0.52710755 0.93305454\n",
            "  0.88511619 0.80093592 0.54802381 0.67203658 0.12177884 0.44229066\n",
            "  0.21654604 0.71046783 0.5162155  0.48278041 0.27867667 0.36936342\n",
            "  0.25937468 0.80344768 0.29517325 0.2743596  0.64162527 0.89647883\n",
            "  0.27210133 0.63128394 0.82186155 0.76688692 0.83838568 0.34014519\n",
            "  0.6366929  0.03155232 0.78466528 0.74538646 0.53221756 0.8464171\n",
            "  0.71929802 0.39187789 0.51779911 0.39839233 0.23805531 0.5799507\n",
            "  0.69886839 0.69268318 0.494828   0.09118824 0.43720293 0.52069623\n",
            "  0.5974658  0.32981194 0.81169622 0.79163833 0.48406967 0.5755013\n",
            "  0.14433487 0.852092   0.         0.57223988 0.58292717 0.75353311\n",
            "  0.621391   0.68383901 0.6880026  0.17257238 0.73504567 0.78213041\n",
            "  0.65780636 0.12340885 0.83728021 0.90362271 0.14066816 0.60186203\n",
            "  0.93829443 0.61159502 0.62398718 0.37339373 0.3060441  0.67134805\n",
            "  0.48227712 0.40886564 0.43787599 0.44168233]\n",
            " [0.4277749  0.49912522 0.62319022 0.43157154 0.18072613 0.34674316\n",
            "  0.49814518 0.84356541 0.27853165 0.43576527 0.54697273 0.15534133\n",
            "  0.42250779 0.26857007 0.38293975 0.78709583 0.32494961 0.36861044\n",
            "  0.3238462  0.57634764 0.73421712 0.23778417 0.06562559 0.77352382\n",
            "  0.52341809 0.47437963 0.03277722 0.5919604  0.59572227 0.14186251\n",
            "  0.72207548 0.29484572 0.48672926 0.28588336 0.53464865 0.20518944\n",
            "  0.67227039 0.27837053 0.39568269 0.6637777  0.34696322 0.32793746\n",
            "  0.55288995 0.60141597 0.25408806 0.2520214  0.38357589 0.56151847\n",
            "  0.47455263 0.60377326 0.21245983 0.61661269 0.51593391 0.52078855\n",
            "  0.70954362 0.20070367 0.52887823 0.70886491 0.37995348 0.23696369\n",
            "  0.42672731 0.19799342 0.50780625 0.54318249 0.37536284 0.14099905\n",
            "  0.09170422 0.55861078 0.25911162 0.44099113 0.2903057  0.56243881\n",
            "  0.57505008 0.36765494 0.57223988 0.         0.36534735 0.22724378\n",
            "  0.19338612 0.15067444 0.28674271 0.43109571 0.65570526 0.63842632\n",
            "  0.10553685 0.45501015 0.35150984 0.78950036 0.68236256 0.06070795\n",
            "  0.75335039 0.34072853 0.70547345 0.47491057 0.40447461 0.48914115\n",
            "  0.44388649 0.38510757 0.22012449 0.24166298]\n",
            " [0.09330129 0.30798496 0.96945455 0.23730382 0.34577229 0.68409156\n",
            "  0.17273792 0.91283424 0.64253436 0.75881379 0.91097266 0.32197748\n",
            "  0.7375967  0.18770378 0.39935191 1.1289975  0.54409692 0.64043974\n",
            "  0.68168173 0.51635419 0.89591378 0.26460102 0.39969991 1.12317673\n",
            "  0.88874189 0.83800408 0.38006784 0.91229261 0.67061134 0.30094023\n",
            "  0.79274819 0.66015069 0.77648405 0.11888091 0.37349684 0.33942473\n",
            "  0.79479947 0.35754748 0.591507   0.79775808 0.69915558 0.5159897\n",
            "  0.71890242 0.90702475 0.45905737 0.6017595  0.74294245 0.75893661\n",
            "  0.80677472 0.60780558 0.47614557 0.95219061 0.80573402 0.88516594\n",
            "  1.01818165 0.42997807 0.81048225 0.88896515 0.34927059 0.13304632\n",
            "  0.78091095 0.55998081 0.78497711 0.61126318 0.15018983 0.47558478\n",
            "  0.45674468 0.35992402 0.57595987 0.8056197  0.59716214 0.85781775\n",
            "  0.66832032 0.71963199 0.58292717 0.36534735 0.         0.33266422\n",
            "  0.55626579 0.31743888 0.65130821 0.53838856 0.98093485 0.97894995\n",
            "  0.45638483 0.51817039 0.70418251 1.1304777  0.72301311 0.32395604\n",
            "  1.10684389 0.6864366  0.9828067  0.70571262 0.60716867 0.82821552\n",
            "  0.14983123 0.64575954 0.50289709 0.52816774]\n",
            " [0.42327266 0.58744711 0.81056439 0.51069502 0.05110375 0.5538945\n",
            "  0.50362346 1.05003485 0.44745855 0.64794388 0.6972795  0.07212664\n",
            "  0.63880798 0.36110042 0.55226844 0.97534659 0.54888225 0.59534447\n",
            "  0.42573694 0.73119276 0.95726912 0.38021833 0.29286624 0.95253554\n",
            "  0.6550683  0.63037884 0.25999934 0.80109161 0.79799562 0.31612031\n",
            "  0.92662332 0.44874652 0.70922883 0.32979651 0.64109789 0.39141343\n",
            "  0.88790877 0.05230764 0.61818623 0.88149992 0.5389798  0.18367555\n",
            "  0.77421021 0.81705734 0.12946804 0.34041202 0.48522675 0.78694987\n",
            "  0.67979934 0.78418328 0.16772036 0.81484701 0.73792035 0.6697704\n",
            "  0.92202331 0.41990713 0.75237294 0.93383922 0.52940891 0.22008856\n",
            "  0.61086361 0.33449133 0.73233681 0.74156742 0.42747599 0.36379816\n",
            "  0.28646813 0.64746688 0.281794   0.59231441 0.51361507 0.78218445\n",
            "  0.78156498 0.44783812 0.75353311 0.22724378 0.33266422 0.\n",
            "  0.37829576 0.07743684 0.45109427 0.63531664 0.86049008 0.83159864\n",
            "  0.23737518 0.64733681 0.4350602  0.97867006 0.87743823 0.17142733\n",
            "  0.92679482 0.54093925 0.92770412 0.70194014 0.62819052 0.68846049\n",
            "  0.46815729 0.61225721 0.44736472 0.46875596]\n",
            " [0.61192092 0.64232246 0.43593586 0.58510725 0.32723283 0.17990175\n",
            "  0.67706389 0.83130802 0.08656127 0.27586582 0.3547092  0.31607934\n",
            "  0.27258852 0.43339711 0.46947986 0.60083606 0.29910176 0.27626544\n",
            "  0.17883145 0.65901295 0.67442088 0.37837031 0.16083988 0.58336703\n",
            "  0.33685736 0.28175652 0.17626143 0.42467836 0.60602939 0.28581053\n",
            "  0.7195341  0.10969613 0.35445568 0.46648001 0.66343452 0.31075625\n",
            "  0.6438102  0.42110587 0.36538188 0.62900435 0.16104768 0.39575153\n",
            "  0.51143993 0.44571049 0.33856184 0.15390634 0.22579718 0.49611804\n",
            "  0.30254445 0.65177817 0.27003243 0.43673827 0.38039122 0.32901614\n",
            "  0.54685547 0.23813489 0.39931786 0.63907115 0.48864152 0.43001814\n",
            "  0.23675406 0.08296911 0.38456033 0.56574764 0.54561413 0.10912274\n",
            "  0.10265876 0.69755556 0.22513472 0.24978563 0.18150003 0.41785764\n",
            "  0.57751994 0.23161099 0.621391   0.19338612 0.55626579 0.37829576\n",
            "  0.         0.31424613 0.09622075 0.45379752 0.48245211 0.45468084\n",
            "  0.1414664  0.49806498 0.21637952 0.6037367  0.70101839 0.24692948\n",
            "  0.56162652 0.1633329  0.56622307 0.39716355 0.3661182  0.31016473\n",
            "  0.61949642 0.29978935 0.18442864 0.18610403]\n",
            " [0.40158635 0.5403273  0.74980735 0.46481945 0.04074514 0.48538054\n",
            "  0.48076441 0.9754349  0.38936597 0.57806128 0.6481527  0.00678903\n",
            "  0.5674044  0.30687206 0.48402022 0.91477749 0.47144932 0.51925735\n",
            "  0.38723987 0.66770074 0.8799229  0.31481657 0.21623965 0.89512983\n",
            "  0.61158287 0.57880024 0.18331343 0.73266344 0.72393173 0.24303666\n",
            "  0.85229136 0.39508932 0.63543248 0.28787001 0.58958886 0.3180896\n",
            "  0.81150139 0.129541   0.54082493 0.80477004 0.47518086 0.2248612\n",
            "  0.69698979 0.74619408 0.15456382 0.30238968 0.44850695 0.70952286\n",
            "  0.61244446 0.71480415 0.15882131 0.75034964 0.66437285 0.62082959\n",
            "  0.85251748 0.34264411 0.67814761 0.85640245 0.46539628 0.18936018\n",
            "  0.5501286  0.28187175 0.65759454 0.66816246 0.38738003 0.28926105\n",
            "  0.21713096 0.60103162 0.26150014 0.5418044  0.43926314 0.70963126\n",
            "  0.70665503 0.41697169 0.68383901 0.15067444 0.31743888 0.07743684\n",
            "  0.31424613 0.         0.39441038 0.56053058 0.79376568 0.76891619\n",
            "  0.17763139 0.57485562 0.40269882 0.91778465 0.80502285 0.09399052\n",
            "  0.87122273 0.47458381 0.85415496 0.62482543 0.55077032 0.62316653\n",
            "  0.43812312 0.5357449  0.370577   0.39233103]\n",
            " [0.70807116 0.73400603 0.36076535 0.67883092 0.40102232 0.15698969\n",
            "  0.77324172 0.86914051 0.01217342 0.24485359 0.26027536 0.39522491\n",
            "  0.25248263 0.52904757 0.5509703  0.52497603 0.35425521 0.30060919\n",
            "  0.12514457 0.73563306 0.69241452 0.47199298 0.25704093 0.50159569\n",
            "  0.24071838 0.18797524 0.27180604 0.37512716 0.65861036 0.38107695\n",
            "  0.76387822 0.02349828 0.34161127 0.56268989 0.75202982 0.40108143\n",
            "  0.67839013 0.48886637 0.41253151 0.66101911 0.10832009 0.43415089\n",
            "  0.54461547 0.40678022 0.38882908 0.15190265 0.15112715 0.51770252\n",
            "  0.25448995 0.71733622 0.31813101 0.37211026 0.36285324 0.23404999\n",
            "  0.49791727 0.3201753  0.38524627 0.65266904 0.57493408 0.5236803\n",
            "  0.16286577 0.117961   0.37637503 0.62429406 0.64139992 0.19897609\n",
            "  0.19504194 0.78808676 0.23982778 0.15432692 0.21367343 0.39030906\n",
            "  0.62779081 0.17462931 0.6880026  0.28674271 0.65130821 0.45109427\n",
            "  0.09622075 0.39441038 0.         0.51655302 0.42445413 0.38441997\n",
            "  0.216782   0.56604329 0.16293481 0.52853222 0.75457104 0.33678861\n",
            "  0.47687669 0.12827183 0.53681015 0.41785962 0.40957136 0.25208403\n",
            "  0.71555562 0.32532992 0.25315088 0.24643918]\n",
            " [0.52030111 0.3741226  0.63884105 0.37331731 0.5987738  0.41337851\n",
            "  0.53420488 0.41490752 0.50456482 0.41903733 0.69056285 0.56687736\n",
            "  0.38827499 0.35322538 0.15024868 0.76051451 0.16410439 0.2598494\n",
            "  0.62993098 0.24505686 0.35753375 0.2855431  0.37749795 0.78167712\n",
            "  0.71320307 0.62954976 0.4029756  0.52300252 0.16464427 0.31990934\n",
            "  0.29199286 0.5392387  0.36370861 0.42293401 0.34721001 0.24506599\n",
            "  0.26149529 0.68720428 0.12925357 0.26125573 0.46933197 0.75902021\n",
            "  0.18531879 0.48935441 0.68513287 0.60279044 0.66733678 0.23857749\n",
            "  0.47325361 0.20103198 0.64007418 0.59204388 0.38418521 0.67559999\n",
            "  0.58785249 0.2357163  0.37429232 0.35282423 0.20758923 0.49710802\n",
            "  0.5284097  0.52835831 0.34894402 0.11418792 0.41383464 0.35796719\n",
            "  0.44093363 0.39933866 0.65414989 0.61941518 0.31151578 0.43251782\n",
            "  0.14626169 0.68288786 0.17257238 0.43109571 0.53838856 0.63531664\n",
            "  0.45379752 0.56053058 0.51655302 0.         0.58978874 0.62806372\n",
            "  0.50509317 0.06013698 0.66840243 0.75904475 0.25336977 0.47095253\n",
            "  0.78320979 0.43945752 0.5098433  0.23063983 0.14307907 0.50733101\n",
            "  0.47924513 0.24322959 0.2693745  0.27090132]\n",
            " [1.00915085 0.94130374 0.11911451 0.91503232 0.8093888  0.30918329\n",
            "  1.05388276 0.73905459 0.42395377 0.22292416 0.30286011 0.79624226\n",
            "  0.24343098 0.8122423  0.71111652 0.17110758 0.47027212 0.35648973\n",
            "  0.51515679 0.83084288 0.5069025  0.73538386 0.59919453 0.20211902\n",
            "  0.37182641 0.31152409 0.6281269  0.07013993 0.64132384 0.67999814\n",
            "  0.68312484 0.43616072 0.22759116 0.8693386  0.92880091 0.65248163\n",
            "  0.57124335 0.90348192 0.46450384 0.54679382 0.32342422 0.8583912\n",
            "  0.47463218 0.10455687 0.81227354 0.57261192 0.49141623 0.40891983\n",
            "  0.18145907 0.75287552 0.74165875 0.06230867 0.20560409 0.31516262\n",
            "  0.08841558 0.55512591 0.21743836 0.45839142 0.76066171 0.87369614\n",
            "  0.26430721 0.53974057 0.24150613 0.64497089 0.91592602 0.51821718\n",
            "  0.57670118 0.97827491 0.66112173 0.34295937 0.38378033 0.15954523\n",
            "  0.60761731 0.5408946  0.73504567 0.65570526 0.98093485 0.86049008\n",
            "  0.48245211 0.79376568 0.42445413 0.58978874 0.         0.08197178\n",
            "  0.62389609 0.64938899 0.53916608 0.16934206 0.72078129 0.7156072\n",
            "  0.21698361 0.31957286 0.19403216 0.3627075  0.4487735  0.17334099\n",
            "  0.99311024 0.36164627 0.47833876 0.45327721]\n",
            " [1.01438398 0.96510469 0.0382186  0.9328182  0.78076821 0.29540581\n",
            "  1.06423475 0.81005592 0.38608896 0.22647352 0.22654568 0.77075091\n",
            "  0.25357343 0.81850427 0.73861873 0.15006428 0.49401357 0.37945391\n",
            "  0.46111612 0.87230813 0.58023436 0.74400822 0.58672741 0.15465948\n",
            "  0.29702895 0.2458391  0.61331232 0.11475967 0.69580665 0.67967684\n",
            "  0.7473923  0.3924539  0.26604405 0.8714266  0.95804737 0.66093822\n",
            "  0.63649982 0.87180753 0.49963428 0.6123469  0.29378841 0.81355405\n",
            "  0.53118603 0.16866078 0.77266786 0.52602094 0.43055752 0.46830416\n",
            "  0.17376294 0.8021406  0.70204351 0.03698232 0.25091259 0.24179431\n",
            "  0.16809995 0.56235612 0.26846098 0.53161749 0.78489872 0.86516029\n",
            "  0.22171149 0.50219788 0.28879957 0.69377298 0.925841   0.50666\n",
            "  0.55399742 1.00581862 0.61359349 0.28084087 0.38671338 0.21513943\n",
            "  0.66155281 0.48120354 0.78213041 0.63842632 0.97894995 0.83159864\n",
            "  0.45468084 0.76891619 0.38441997 0.62806372 0.08197178 0.\n",
            "  0.59430125 0.68818841 0.48129724 0.15177168 0.77949265 0.69674488\n",
            "  0.15618499 0.29773153 0.27530879 0.40919266 0.4850623  0.15087991\n",
            "  1.00343363 0.3895397  0.48201928 0.45810513]\n",
            " [0.52576889 0.60449358 0.57380325 0.53709558 0.18647241 0.31984217\n",
            "  0.59868283 0.90884242 0.21190794 0.41527509 0.47200755 0.17848688\n",
            "  0.40925331 0.37386341 0.47717871 0.73872797 0.37511097 0.38838984\n",
            "  0.22534368 0.67176591 0.77717714 0.34172804 0.13095702 0.71782376\n",
            "  0.43928854 0.40183557 0.11578336 0.56590199 0.66775762 0.24435321\n",
            "  0.79038721 0.21794886 0.48624642 0.38736442 0.63887011 0.30000982\n",
            "  0.72921023 0.27964302 0.4466883  0.71781618 0.3016694  0.27171707\n",
            "  0.60242553 0.58521587 0.20611726 0.14827084 0.28655853 0.59972936\n",
            "  0.44392689 0.68929482 0.14405    0.5775286  0.51367498 0.44485432\n",
            "  0.68778505 0.26944263 0.53066864 0.74659916 0.47970655 0.32396472\n",
            "  0.37398905 0.10669641 0.51330658 0.61914265 0.47938421 0.15977535\n",
            "  0.06805135 0.66381934 0.15730904 0.36535432 0.29738176 0.55438913\n",
            "  0.64375149 0.26556241 0.65780636 0.10553685 0.45638483 0.23737518\n",
            "  0.1414664  0.17763139 0.216782   0.50509317 0.62389609 0.59430125\n",
            "  0.         0.53688482 0.24967024 0.74192006 0.75846287 0.13243033\n",
            "  0.69362621 0.30473743 0.70205583 0.50531287 0.45210509 0.45139596\n",
            "  0.54606297 0.40916226 0.2572722  0.27167073]\n",
            " [0.49051435 0.3257148  0.69894097 0.33384005 0.61430435 0.46976044\n",
            "  0.49664211 0.4076138  0.55394426 0.47859165 0.74804129 0.58141538\n",
            "  0.44785745 0.33882513 0.11903075 0.82022843 0.21848705 0.31894979\n",
            "  0.67595591 0.18514292 0.38521083 0.28006671 0.40675293 0.84175297\n",
            "  0.76879002 0.68591545 0.42925785 0.58286047 0.15599516 0.33182143\n",
            "  0.28390161 0.58830227 0.42366446 0.40704807 0.29316751 0.25688383\n",
            "  0.2772464  0.69843618 0.18926071 0.28218842 0.52440819 0.78173407\n",
            "  0.22722577 0.5484811  0.70726751 0.64359517 0.71600508 0.28699741\n",
            "  0.5329827  0.15419937 0.66679339 0.65214759 0.44380338 0.73247921\n",
            "  0.645698   0.26929661 0.43337391 0.38725344 0.17322418 0.49167488\n",
            "  0.58572483 0.56935074 0.40825404 0.09664172 0.38450886 0.39742424\n",
            "  0.47539236 0.34595572 0.68964526 0.67447967 0.36575839 0.49166858\n",
            "  0.1501758  0.72895141 0.12340885 0.45501015 0.51817039 0.64733681\n",
            "  0.49806498 0.57485562 0.56604329 0.06013698 0.64938899 0.68818841\n",
            "  0.53688482 0.         0.71407446 0.81869486 0.23018274 0.48898252\n",
            "  0.84334621 0.49495554 0.56426025 0.2889414  0.20321477 0.56694688\n",
            "  0.44451665 0.30293769 0.31486347 0.31961031]\n",
            " [0.77538642 0.84227893 0.44933144 0.77900106 0.39263301 0.31614123\n",
            "  0.8482437  1.03143462 0.17313699 0.39535505 0.28814816 0.40074846\n",
            "  0.40807952 0.61853412 0.68373415 0.60176524 0.50967329 0.46338037\n",
            "  0.03879195 0.87473523 0.85466291 0.57613881 0.3511288  0.56371422\n",
            "  0.23106531 0.23849631 0.35142112 0.50302294 0.81638014 0.4787555\n",
            "  0.92471712 0.13976494 0.49765551 0.63656892 0.86962386 0.51792731\n",
            "  0.84094775 0.4579462  0.57158324 0.82379175 0.25970284 0.35241259\n",
            "  0.70717451 0.54401692 0.33347219 0.10242978 0.05558238 0.68053311\n",
            "  0.39167847 0.8674775  0.27097023 0.47978546 0.5162461  0.26201342\n",
            "  0.62145763 0.45348566 0.53982325 0.81425888 0.69905609 0.57119994\n",
            "  0.280925   0.15838193 0.5336116  0.77899803 0.72678684 0.32262256\n",
            "  0.27283382 0.89986189 0.15828402 0.20111414 0.37467082 0.53706576\n",
            "  0.78644675 0.01628207 0.83728021 0.35150984 0.70418251 0.4350602\n",
            "  0.21637952 0.40269882 0.16293481 0.66840243 0.53916608 0.48129724\n",
            "  0.24967024 0.71407446 0.         0.60672235 0.91207327 0.38114931\n",
            "  0.53085787 0.28554067 0.67862165 0.58074843 0.56975076 0.37888302\n",
            "  0.79506031 0.48809593 0.39950702 0.39802423]\n",
            " [1.16471973 1.10753965 0.1681226  1.0785432  0.92810728 0.44717242\n",
            "  1.21313341 0.88718233 0.53141056 0.37495903 0.32558992 0.91938407\n",
            "  0.40018576 0.96843249 0.8784117  0.00698739 0.63572853 0.52113546\n",
            "  0.59183406 1.00013421 0.65286327 0.89317021 0.73839951 0.06960045\n",
            "  0.39485766 0.36861529 0.76475957 0.2368241  0.80746632 0.83083192\n",
            "  0.84151244 0.53403221 0.39615544 1.0223315  1.09678932 0.81003036\n",
            "  0.72930228 1.01738154 0.63326345 0.7047232  0.44357419 0.94992091\n",
            "  0.64041287 0.2723395  0.91360428 0.6633068  0.55286186 0.57351315\n",
            "  0.32416905 0.92085514 0.84337591 0.17929126 0.37489153 0.34855326\n",
            "  0.20116943 0.71163241 0.38654579 0.60542402 0.92688627 1.01691933\n",
            "  0.36793106 0.64640831 0.41082679 0.81324735 1.07478116 0.65841184\n",
            "  0.70411174 1.14581804 0.74900069 0.40700702 0.53661355 0.32840511\n",
            "  0.77412887 0.60400405 0.90362271 0.78950036 1.1304777  0.97867006\n",
            "  0.6037367  0.91778465 0.52853222 0.75904475 0.16934206 0.15177168\n",
            "  0.74192006 0.81869486 0.60672235 0.         0.88405811 0.84743196\n",
            "  0.10808947 0.44904298 0.32301609 0.53189874 0.61768972 0.30263561\n",
            "  1.1522994  0.52822585 0.63205694 0.6077803 ]\n",
            " [0.67807975 0.46783278 0.80007406 0.50652407 0.84440718 0.63054253\n",
            "  0.6638214  0.19077094 0.74299411 0.60786542 0.89260063 0.81157494\n",
            "  0.57852119 0.5561339  0.33433559 0.88728956 0.40257821 0.46689489\n",
            "  0.87330743 0.23638681 0.28509116 0.50590235 0.63051213 0.92280141\n",
            "  0.92703775 0.84054357 0.65518827 0.66521035 0.09599401 0.5619956\n",
            "  0.08285017 0.77787586 0.52189245 0.62076442 0.41023026 0.48698675\n",
            "  0.16790131 0.92842303 0.34237498 0.19047948 0.69095785 1.01004197\n",
            "  0.24854697 0.61659845 0.93577711 0.85254285 0.9054517  0.3119831\n",
            "  0.65560638 0.12030986 0.89271774 0.74260401 0.53068214 0.88233509\n",
            "  0.68853148 0.48906581 0.51132437 0.31565411 0.37596769 0.71445982\n",
            "  0.73584211 0.77827455 0.49295321 0.13947968 0.5778252  0.60976302\n",
            "  0.69412487 0.45869148 0.90683595 0.83757288 0.54186127 0.56489831\n",
            "  0.12820853 0.92583415 0.14066816 0.68236256 0.72301311 0.87743823\n",
            "  0.70101839 0.80502285 0.75457104 0.25336977 0.72078129 0.77949265\n",
            "  0.75846287 0.23018274 0.91207327 0.88405811 0.         0.71858899\n",
            "  0.9339636  0.66008736 0.57923188 0.37956983 0.34704537 0.69040167\n",
            "  0.62230666 0.44398686 0.51765599 0.51516792]\n",
            " [0.39468158 0.49364031 0.68053626 0.42184308 0.12888597 0.40647068\n",
            "  0.46910044 0.88558187 0.32960911 0.49619366 0.59653548 0.09949469\n",
            "  0.48317801 0.25763841 0.4057183  0.8448804  0.37746757 0.42752568\n",
            "  0.35775589 0.59517606 0.78607371 0.24514471 0.12454871 0.82974104\n",
            "  0.56846815 0.52469643 0.09189912 0.65224873 0.63516214 0.16000615\n",
            "  0.7629419  0.34230578 0.54716633 0.26002984 0.53563329 0.2327622\n",
            "  0.71908118 0.22347034 0.44696872 0.71186396 0.40410628 0.29504928\n",
            "  0.60334831 0.66210219 0.22050167 0.27895336 0.41898646 0.61554522\n",
            "  0.53429737 0.63317694 0.19434269 0.67564377 0.57642446 0.56986676\n",
            "  0.77012375 0.24902293 0.58912246 0.76241234 0.39431607 0.1916926\n",
            "  0.48277861 0.23694004 0.56780459 0.58052484 0.3558207  0.20169049\n",
            "  0.14438604 0.55417728 0.26654382 0.48992264 0.35076627 0.62309594\n",
            "  0.61661039 0.39683296 0.60186203 0.06070795 0.32395604 0.17142733\n",
            "  0.24692948 0.09399052 0.33678861 0.47095253 0.7156072  0.69674488\n",
            "  0.13243033 0.48898252 0.38114931 0.84743196 0.71858899 0.\n",
            "  0.80851795 0.3993554  0.7658668  0.53133729 0.45681113 0.5480964\n",
            "  0.41848955 0.4432826  0.2778346  0.30023669]\n",
            " [1.14903656 1.11366231 0.14616001 1.07777338 0.87725798 0.42642434\n",
            "  1.20306644 0.95585121 0.481935   0.37344357 0.24290949 0.87209577\n",
            "  0.40256219 0.95536811 0.88982378 0.10111174 0.64490907 0.53119005\n",
            "  0.52117437 1.02780444 0.7231352  0.88341904 0.70839423 0.0401432\n",
            "  0.30710737 0.29929855 0.73172649 0.26893448 0.85137244 0.81210864\n",
            "  0.89913996 0.47804832 0.42213696 1.00414566 1.1094179  0.80100295\n",
            "  0.78752292 0.96192914 0.65439214 0.76314675 0.40815561 0.88082353\n",
            "  0.68609558 0.31854104 0.85088068 0.59858671 0.47559942 0.6221675\n",
            "  0.3183326  0.95831479 0.7818867  0.19303822 0.40694842 0.2688544\n",
            "  0.27921769 0.70268047 0.42387975 0.67474151 0.93432567 0.98699206\n",
            "  0.32696487 0.59231235 0.4447834  0.84994776 1.06501156 0.63126014\n",
            "  0.6641428  1.15626445 0.68075131 0.33833051 0.5273398  0.36907661\n",
            "  0.81719867 0.52601394 0.93829443 0.75335039 1.10684389 0.92679482\n",
            "  0.56162652 0.87122273 0.47687669 0.78320979 0.21698361 0.15618499\n",
            "  0.69362621 0.84334621 0.53085787 0.10808947 0.9339636  0.80851795\n",
            "  0.         0.4207143  0.40104048 0.5653655  0.64013167 0.28865574\n",
            "  1.14252523 0.54290157 0.62098801 0.59841048]\n",
            " [0.72895633 0.71335838 0.28405377 0.66885228 0.48983597 0.0314341\n",
            "  0.78522213 0.75869528 0.12207301 0.11813036 0.25829647 0.47691425\n",
            "  0.12423082 0.53692108 0.50557156 0.44681015 0.27647748 0.19365453\n",
            "  0.24983441 0.6751226  0.57094827 0.46783517 0.28991044 0.4369245\n",
            "  0.27385208 0.19180337 0.31572935 0.26144395 0.56463631 0.39190009\n",
            "  0.65991854 0.14878111 0.21353778 0.58368986 0.72000318 0.38729569\n",
            "  0.56727771 0.58436818 0.32059604 0.54821911 0.03088731 0.55132697\n",
            "  0.43455645 0.28529003 0.49882946 0.27780693 0.26032452 0.40003946\n",
            "  0.13921188 0.63879187 0.42898917 0.27643315 0.23460368 0.23975421\n",
            "  0.38390535 0.29155558 0.25699633 0.52950837 0.54056436 0.56894119\n",
            "  0.10038479 0.2286455  0.2487399  0.5382023  0.64796335 0.21107166\n",
            "  0.25789145 0.76200885 0.36391224 0.18006374 0.13021885 0.26376737\n",
            "  0.53189264 0.29493722 0.61159502 0.34072853 0.6864366  0.54093925\n",
            "  0.1633329  0.47458381 0.12827183 0.43945752 0.31957286 0.29773153\n",
            "  0.30473743 0.49495554 0.28554067 0.44904298 0.66008736 0.3993554\n",
            "  0.4207143  0.         0.41147357 0.30185535 0.31372049 0.14890187\n",
            "  0.72509135 0.21743845 0.21046246 0.19215755]\n",
            " [0.99317362 0.88236925 0.31090694 0.87159372 0.87762002 0.38820665\n",
            "  1.02455216 0.5649207  0.53231938 0.2933789  0.48356279 0.85797221\n",
            "  0.29364212 0.80028447 0.65181636 0.32780676 0.43973383 0.34618273\n",
            "  0.64819838 0.73105707 0.33065526 0.72125244 0.64176214 0.37724409\n",
            "  0.54813856 0.47552122 0.67404    0.18658339 0.51415065 0.68994698\n",
            "  0.52764136 0.55438648 0.2187717  0.86510939 0.85679858 0.64340266\n",
            "  0.41650439 0.97571747 0.40478977 0.39217986 0.42850176 0.96100361\n",
            "  0.35188603 0.1358618  0.90461776 0.68838969 0.63843117 0.28403579\n",
            "  0.28696618 0.63542412 0.83622663 0.24804215 0.1898053  0.4907869\n",
            "  0.12284584 0.55614467 0.17722475 0.28396823 0.70717309 0.894172\n",
            "  0.39917787 0.63908675 0.20046533 0.53322166 0.89147817 0.56501326\n",
            "  0.64299324 0.90912978 0.77524338 0.49948415 0.41517929 0.14844645\n",
            "  0.48357066 0.68383915 0.62398718 0.70547345 0.9828067  0.92770412\n",
            "  0.56622307 0.85415496 0.53681015 0.5098433  0.19403216 0.27530879\n",
            "  0.70205583 0.56426025 0.67862165 0.32301609 0.57923188 0.7658668\n",
            "  0.40104048 0.41147357 0.         0.28639807 0.38789772 0.30229156\n",
            "  0.96540381 0.3377367  0.49517708 0.47045014]\n",
            " [0.7097515  0.59801198 0.42554755 0.58522281 0.65546204 0.2704807\n",
            "  0.73862072 0.45748463 0.40805065 0.22985723 0.51495776 0.62984839\n",
            "  0.2017431  0.52000383 0.36647533 0.53380753 0.16410445 0.12093993\n",
            "  0.54295069 0.46832481 0.27742647 0.44150246 0.40944023 0.55966534\n",
            "  0.5541762  0.46731024 0.44213675 0.29867644 0.29008669 0.42483474\n",
            "  0.3647912  0.44098658 0.14441834 0.58697948 0.57655691 0.36827265\n",
            "  0.26632226 0.75327422 0.11852055 0.24657414 0.3318825  0.77701998\n",
            "  0.13636141 0.26022683 0.7100005  0.54787981 0.56118441 0.1000258\n",
            "  0.27609372 0.39294931 0.64918087 0.37233481 0.15882452 0.50643841\n",
            "  0.35724343 0.29302882 0.14536806 0.24244856 0.42120588 0.62900485\n",
            "  0.36269053 0.48007709 0.1215344  0.28458233 0.60671933 0.34741505\n",
            "  0.43807445 0.62799672 0.62216118 0.4693683  0.21566358 0.20362828\n",
            "  0.25557884 0.59193113 0.37339373 0.47491057 0.70571262 0.70194014\n",
            "  0.39716355 0.62482543 0.41785962 0.23063983 0.3627075  0.40919266\n",
            "  0.50531287 0.2889414  0.58074843 0.53189874 0.37956983 0.53133729\n",
            "  0.5653655  0.30185535 0.28639807 0.         0.10169224 0.31085129\n",
            "  0.67980725 0.09754667 0.25519788 0.23586822]\n",
            " [0.60864275 0.49918165 0.49583918 0.48401152 0.5843622  0.28487017\n",
            "  0.63692962 0.4651926  0.39828976 0.27811102 0.55565572 0.55629918\n",
            "  0.24734789 0.42048546 0.26720849 0.61894512 0.0795294  0.1228607\n",
            "  0.53099777 0.38793277 0.32974257 0.34257266 0.34093101 0.63885883\n",
            "  0.58404791 0.49848917 0.37228255 0.38110207 0.25125411 0.33502029\n",
            "  0.35504075 0.43302598 0.22161587 0.4882915  0.48130606 0.27290233\n",
            "  0.27900213 0.68028141 0.01692203 0.26613863 0.34451461 0.72134421\n",
            "  0.15037615 0.35037218 0.65093458 0.52001302 0.5597623  0.16060709\n",
            "  0.33154797 0.33062775 0.59530795 0.44913675 0.24362334 0.54263731\n",
            "  0.45305258 0.20935073 0.23623967 0.30596249 0.3208743  0.53654295\n",
            "  0.39495904 0.44753602 0.2100725  0.22612163 0.50523386 0.29269684\n",
            "  0.38411031 0.53181083 0.58506302 0.49260877 0.19593437 0.29372338\n",
            "  0.21915834 0.58281647 0.3060441  0.40447461 0.60716867 0.62819052\n",
            "  0.3661182  0.55077032 0.40957136 0.14307907 0.4487735  0.4850623\n",
            "  0.45210509 0.20321477 0.56975076 0.61768972 0.34704537 0.45681113\n",
            "  0.64013167 0.31372049 0.38789772 0.10169224 0.         0.36596906\n",
            "  0.57813344 0.10285324 0.19489932 0.18343246]\n",
            " [0.86493105 0.82550165 0.14388377 0.78914487 0.6373949  0.14454289\n",
            "  0.91643725 0.75314755 0.25102165 0.08840548 0.20946611 0.62537232\n",
            "  0.1190933  0.66967824 0.60382092 0.30092188 0.35963773 0.24867135\n",
            "  0.35089416 0.75204468 0.53850406 0.5962849  0.43622744 0.2982648\n",
            "  0.26117202 0.17944328 0.46330722 0.1248601  0.59986037 0.52940408\n",
            "  0.67213853 0.26519431 0.17255301 0.72137421 0.82315348 0.51349274\n",
            "  0.56699497 0.73076367 0.3783869  0.54450374 0.15019059 0.6862246\n",
            "  0.44511356 0.16650574 0.63905851 0.40203493 0.336568   0.39207599\n",
            "  0.0349249  0.69460348 0.56848334 0.12755595 0.17440288 0.20673511\n",
            "  0.2464976  0.41494159 0.19903259 0.49174545 0.64674963 0.71438939\n",
            "  0.09795904 0.36650932 0.20724769 0.58750247 0.77813376 0.35594328\n",
            "  0.40673343 0.86911813 0.49058129 0.1985745  0.23916488 0.17226998\n",
            "  0.56542312 0.38304115 0.67134805 0.48914115 0.82821552 0.68846049\n",
            "  0.31016473 0.62316653 0.25208403 0.50733101 0.17334099 0.15087991\n",
            "  0.45139596 0.56694688 0.37888302 0.30263561 0.69040167 0.5480964\n",
            "  0.28865574 0.14890187 0.30229156 0.31085129 0.36596906 0.\n",
            "  0.85573252 0.2641095  0.33369135 0.31050294]\n",
            " [0.06412915 0.17008656 0.99955011 0.11581406 0.47213337 0.71633821\n",
            "  0.06083547 0.81286971 0.7052767  0.77746784 0.96838742 0.44371308\n",
            "  0.75229221 0.18851831 0.32939068 1.15171672 0.52986444 0.63885072\n",
            "  0.767687   0.39807356 0.82971128 0.25948684 0.45880289 1.15399707\n",
            "  0.95627161 0.89540917 0.44860087 0.92305758 0.58525603 0.33635892\n",
            "  0.69831376 0.72846088 0.77460301 0.15876928 0.23737923 0.34249803\n",
            "  0.71868293 0.49915791 0.56136845 0.72577334 0.74320596 0.6513527\n",
            "  0.66456016 0.90846626 0.58876944 0.69432351 0.82702523 0.71474342\n",
            "  0.82974473 0.50276657 0.59479565 0.97312249 0.80235948 0.94428711\n",
            "  1.0179993  0.44109825 0.80247082 0.83044166 0.272428   0.25015828\n",
            "  0.8243031  0.64133451 0.77599878 0.52852191 0.07760759 0.5227319\n",
            "  0.52926312 0.21502046 0.68366087 0.86697302 0.61691373 0.85515319\n",
            "  0.58986303 0.81112452 0.48227712 0.44388649 0.14983123 0.46815729\n",
            "  0.61949642 0.43812312 0.71555562 0.47924513 0.99311024 1.00343363\n",
            "  0.54606297 0.44451665 0.79506031 1.1522994  0.62230666 0.41848955\n",
            "  1.14252523 0.72509135 0.96540381 0.67980725 0.57813344 0.85573252\n",
            "  0.         0.63842221 0.52204151 0.54546976]\n",
            " [0.66083529 0.57969134 0.39744228 0.55473621 0.56461598 0.18713689\n",
            "  0.69874789 0.54424513 0.31495971 0.17587756 0.4531991  0.54044688\n",
            "  0.14509703 0.46552671 0.35024441 0.52887338 0.10937953 0.02472076\n",
            "  0.44985498 0.48807706 0.37463252 0.38663505 0.31950714 0.54413673\n",
            "  0.48353235 0.39741717 0.35243155 0.29202154 0.3492386  0.35255639\n",
            "  0.44267491 0.34872056 0.13665058 0.52872532 0.56911568 0.30679834\n",
            "  0.35318545 0.66295801 0.11437555 0.33570053 0.24828155 0.68070064\n",
            "  0.2194749  0.27066506 0.61454377 0.45116466 0.47206551 0.19642672\n",
            "  0.23004769 0.433437   0.55275012 0.3546023  0.16394878 0.44074921\n",
            "  0.37959286 0.2185854  0.16531335 0.33995708 0.39903059 0.55722893\n",
            "  0.2932537  0.38274061 0.13939278 0.32829821 0.56238627 0.25284592\n",
            "  0.34242925 0.61769644 0.52468887 0.39359233 0.11835916 0.21673464\n",
            "  0.31586671 0.49995183 0.40886564 0.38510757 0.64575954 0.61225721\n",
            "  0.29978935 0.5357449  0.32532992 0.24322959 0.36164627 0.3895397\n",
            "  0.40916226 0.30293769 0.48809593 0.52822585 0.44398686 0.4432826\n",
            "  0.54290157 0.21743845 0.3377367  0.09754667 0.10285324 0.2641095\n",
            "  0.63842221 0.         0.1654857  0.14351232]\n",
            " [0.53267159 0.50291604 0.47751735 0.45935547 0.40038877 0.19651231\n",
            "  0.5827489  0.65573609 0.24097919 0.25749403 0.46702212 0.37539932\n",
            "  0.2349083  0.33649265 0.30110589 0.63113885 0.11946756 0.15083581\n",
            "  0.36123598 0.4825774  0.52108523 0.26261449 0.15451586 0.63195614\n",
            "  0.47308881 0.39743402 0.18736568 0.40944007 0.42330736 0.20210857\n",
            "  0.54033107 0.27472277 0.2793635  0.3911913  0.51117843 0.18001501\n",
            "  0.47295245 0.49841549 0.19019091 0.46088728 0.23426744 0.52738158\n",
            "  0.34516457 0.40578584 0.4580274  0.33488954 0.40171712 0.34500715\n",
            "  0.30827059 0.46798239 0.40076721 0.45280587 0.30905603 0.44658152\n",
            "  0.51684553 0.08195134 0.31814246 0.49252954 0.3317058  0.40175104\n",
            "  0.31071817 0.26066912 0.29487964 0.38152049 0.44444431 0.09782705\n",
            "  0.18924461 0.55208826 0.39317521 0.3778998  0.09544624 0.35943833\n",
            "  0.39598349 0.41423784 0.43787599 0.22012449 0.50289709 0.44736472\n",
            "  0.18442864 0.370577   0.25315088 0.2693745  0.47833876 0.48201928\n",
            "  0.2572722  0.31486347 0.39950702 0.63205694 0.51765599 0.2778346\n",
            "  0.62098801 0.21046246 0.49517708 0.25519788 0.19489932 0.33369135\n",
            "  0.52204151 0.1654857  0.         0.02544148]\n",
            " [0.55709899 0.52196511 0.45438662 0.48044242 0.42114442 0.17588168\n",
            "  0.60623685 0.64748115 0.23434996 0.2329635  0.45005383 0.39698444\n",
            "  0.20987721 0.3606529  0.31482846 0.60694891 0.11300557 0.1273624\n",
            "  0.35941491 0.49187393 0.5055066  0.28598571 0.17610825 0.60868539\n",
            "  0.45921564 0.38158209 0.20903793 0.38425905 0.41999946 0.22746086\n",
            "  0.5340274  0.26879498 0.25417658 0.41610477 0.52788435 0.20304029\n",
            "  0.46243064 0.51945365 0.18076974 0.44931686 0.21757605 0.54298861\n",
            "  0.33259693 0.38034446 0.47476979 0.33906675 0.39671924 0.3282434\n",
            "  0.28435169 0.47121914 0.41567754 0.42849309 0.28387145 0.43042564\n",
            "  0.49140494 0.10444742 0.29331226 0.47543401 0.3484182  0.42712747\n",
            "  0.29180567 0.2655806  0.27032245 0.38099238 0.46786271 0.11220132\n",
            "  0.2037652  0.56994367 0.40170606 0.3639103  0.07144405 0.3341049\n",
            "  0.39142797 0.41229276 0.44168233 0.24166298 0.52816774 0.46875596\n",
            "  0.18610403 0.39233103 0.24643918 0.27090132 0.45327721 0.45810513\n",
            "  0.27167073 0.31961031 0.39802423 0.6077803  0.51516792 0.30023669\n",
            "  0.59841048 0.19215755 0.47045014 0.23586822 0.18343246 0.31050294\n",
            "  0.54546976 0.14351232 0.02544148 0.        ]]\n"
          ]
        }
      ],
      "source": [
        "Z = np.random.random((100,2))\n",
        "X,Y = np.atleast_2d(Z[:,0], Z[:,1])\n",
        "D = np.sqrt( (X-X.T)**2 + (Y-Y.T)**2)\n",
        "print(D)\n"
      ]
    },
    {
      "cell_type": "markdown",
      "metadata": {
        "id": "HL52SQl1un-X"
      },
      "source": [
        "#### 53. How to convert a float (32 bits) array into an integer (32 bits) in place? \n",
        "(**hint**: astype(copy=False))"
      ]
    },
    {
      "cell_type": "code",
      "execution_count": 53,
      "metadata": {
        "id": "Oyau9dNQun-Y",
        "colab": {
          "base_uri": "https://localhost:8080/"
        },
        "outputId": "3ee00f4e-b05d-4500-f805-ed9a67aa29ea"
      },
      "outputs": [
        {
          "output_type": "stream",
          "name": "stdout",
          "text": [
            "[0 1 2 3 4 5 6 7 8 9]\n"
          ]
        }
      ],
      "source": [
        "Z = np.arange(10, dtype=np.float32)\n",
        "Z = Z.astype(np.int32, copy=False)\n",
        "print(Z)"
      ]
    },
    {
      "cell_type": "markdown",
      "metadata": {
        "id": "S2-K6E-Tun-Y"
      },
      "source": [
        "#### 54. How to read the following file? (★★☆) \n",
        "(**hint**: np.genfromtxt)"
      ]
    },
    {
      "cell_type": "markdown",
      "metadata": {
        "id": "POQ5F8c1un-a"
      },
      "source": [
        "```\n",
        "1, 2, 3, 4, 5\n",
        "6,  ,  , 7, 8\n",
        " ,  , 9,10,11\n",
        "```"
      ]
    },
    {
      "cell_type": "code",
      "execution_count": 54,
      "metadata": {
        "id": "zDxLeN7Cun-e",
        "colab": {
          "base_uri": "https://localhost:8080/"
        },
        "outputId": "a16a94d1-0cb8-4c8a-8d14-7059ba32de69"
      },
      "outputs": [
        {
          "output_type": "stream",
          "name": "stdout",
          "text": [
            "[[ 1  2  3  4  5]\n",
            " [ 6 -1 -1  7  8]\n",
            " [-1 -1  9 10 11]]\n"
          ]
        },
        {
          "output_type": "stream",
          "name": "stderr",
          "text": [
            "<ipython-input-54-60e0b49bafc2>:9: DeprecationWarning: `np.int` is a deprecated alias for the builtin `int`. To silence this warning, use `int` by itself. Doing this will not modify any behavior and is safe. When replacing `np.int`, you may wish to use e.g. `np.int64` or `np.int32` to specify the precision. If you wish to review your current use, check the release note link for additional information.\n",
            "Deprecated in NumPy 1.20; for more details and guidance: https://numpy.org/devdocs/release/1.20.0-notes.html#deprecations\n",
            "  arr = np.genfromtxt(s, delimiter=\",\", dtype=np.int)\n"
          ]
        }
      ],
      "source": [
        "from io import StringIO\n",
        "\n",
        "s = StringIO('''1, 2, 3, 4, 5\n",
        "\n",
        "                6,  ,  , 7, 8\n",
        "\n",
        "                 ,  , 9,10,11\n",
        "''')\n",
        "arr = np.genfromtxt(s, delimiter=\",\", dtype=np.int)\n",
        "print(arr)"
      ]
    },
    {
      "cell_type": "markdown",
      "metadata": {
        "id": "EK45J2RJun-f"
      },
      "source": [
        "#### 55. What is the equivalent of enumerate for numpy arrays? (★★☆) \n",
        "(**hint**: np.ndenumerate, np.ndindex)"
      ]
    },
    {
      "cell_type": "code",
      "execution_count": 55,
      "metadata": {
        "id": "T0SAsbmpun-g",
        "colab": {
          "base_uri": "https://localhost:8080/"
        },
        "outputId": "7f48f2cc-b1db-40a3-ac25-3eec019909b1"
      },
      "outputs": [
        {
          "output_type": "stream",
          "name": "stdout",
          "text": [
            "(0, 0) 0\n",
            "(0, 1) 1\n",
            "(0, 2) 2\n",
            "(1, 0) 3\n",
            "(1, 1) 4\n",
            "(1, 2) 5\n",
            "(2, 0) 6\n",
            "(2, 1) 7\n",
            "(2, 2) 8\n",
            "(0, 0) 0\n",
            "(0, 1) 1\n",
            "(0, 2) 2\n",
            "(1, 0) 3\n",
            "(1, 1) 4\n",
            "(1, 2) 5\n",
            "(2, 0) 6\n",
            "(2, 1) 7\n",
            "(2, 2) 8\n"
          ]
        }
      ],
      "source": [
        "Z = np.arange(9).reshape(3,3)\n",
        "for index, value in np.ndenumerate(Z):\n",
        "    print(index, value)\n",
        "for index in np.ndindex(Z.shape):\n",
        "    print(index, Z[index])"
      ]
    },
    {
      "cell_type": "markdown",
      "metadata": {
        "id": "VrOUTAXVun-h"
      },
      "source": [
        "#### 56. Generate a generic 2D Gaussian-like array (★★☆) \n",
        "(**hint**: np.meshgrid, np.exp)"
      ]
    },
    {
      "cell_type": "code",
      "execution_count": 56,
      "metadata": {
        "id": "AU947v9Zun-i",
        "colab": {
          "base_uri": "https://localhost:8080/"
        },
        "outputId": "23ed8b4d-6262-47a3-8332-cbeaf83b5934"
      },
      "outputs": [
        {
          "output_type": "stream",
          "name": "stdout",
          "text": [
            "[[0.36787944 0.44822088 0.51979489 0.57375342 0.60279818 0.60279818\n",
            "  0.57375342 0.51979489 0.44822088 0.36787944]\n",
            " [0.44822088 0.54610814 0.63331324 0.69905581 0.73444367 0.73444367\n",
            "  0.69905581 0.63331324 0.54610814 0.44822088]\n",
            " [0.51979489 0.63331324 0.73444367 0.81068432 0.85172308 0.85172308\n",
            "  0.81068432 0.73444367 0.63331324 0.51979489]\n",
            " [0.57375342 0.69905581 0.81068432 0.89483932 0.9401382  0.9401382\n",
            "  0.89483932 0.81068432 0.69905581 0.57375342]\n",
            " [0.60279818 0.73444367 0.85172308 0.9401382  0.98773022 0.98773022\n",
            "  0.9401382  0.85172308 0.73444367 0.60279818]\n",
            " [0.60279818 0.73444367 0.85172308 0.9401382  0.98773022 0.98773022\n",
            "  0.9401382  0.85172308 0.73444367 0.60279818]\n",
            " [0.57375342 0.69905581 0.81068432 0.89483932 0.9401382  0.9401382\n",
            "  0.89483932 0.81068432 0.69905581 0.57375342]\n",
            " [0.51979489 0.63331324 0.73444367 0.81068432 0.85172308 0.85172308\n",
            "  0.81068432 0.73444367 0.63331324 0.51979489]\n",
            " [0.44822088 0.54610814 0.63331324 0.69905581 0.73444367 0.73444367\n",
            "  0.69905581 0.63331324 0.54610814 0.44822088]\n",
            " [0.36787944 0.44822088 0.51979489 0.57375342 0.60279818 0.60279818\n",
            "  0.57375342 0.51979489 0.44822088 0.36787944]]\n"
          ]
        }
      ],
      "source": [
        "X, Y = np.meshgrid(np.linspace(-1,1,10), np.linspace(-1,1,10))\n",
        "D = np.sqrt(X*X+Y*Y)\n",
        "sigma, mu = 1.0, 0.0\n",
        "G = np.exp(-( (D-mu)**2 / ( 2.0 * sigma**2 ) ) )\n",
        "print(G)"
      ]
    },
    {
      "cell_type": "markdown",
      "metadata": {
        "id": "pQ05WFldun-i"
      },
      "source": [
        "#### 57. How to randomly place p elements in a 2D array? (★★☆) \n",
        "(**hint**: np.put, np.random.choice)"
      ]
    },
    {
      "cell_type": "code",
      "execution_count": 58,
      "metadata": {
        "id": "iwqzrV4Gun-j",
        "colab": {
          "base_uri": "https://localhost:8080/"
        },
        "outputId": "a9df1ada-c01e-4458-92f3-02610c08e175"
      },
      "outputs": [
        {
          "output_type": "stream",
          "name": "stdout",
          "text": [
            "[[1. 0. 0. 0. 0. 0. 0. 0. 0. 0.]\n",
            " [0. 0. 0. 0. 0. 0. 0. 0. 0. 0.]\n",
            " [0. 0. 0. 0. 0. 0. 0. 0. 0. 0.]\n",
            " [0. 0. 0. 0. 0. 0. 0. 0. 0. 0.]\n",
            " [0. 0. 0. 0. 0. 0. 1. 0. 0. 0.]\n",
            " [0. 0. 0. 0. 0. 0. 0. 0. 0. 0.]\n",
            " [0. 0. 0. 0. 0. 0. 0. 0. 0. 0.]\n",
            " [0. 0. 0. 0. 0. 0. 0. 0. 0. 0.]\n",
            " [0. 0. 0. 0. 0. 0. 0. 0. 0. 0.]\n",
            " [0. 0. 0. 0. 0. 0. 0. 1. 0. 0.]]\n"
          ]
        }
      ],
      "source": [
        "n = 10\n",
        "p = 3\n",
        "Z = np.zeros((n,n))\n",
        "np.put(Z, np.random.choice(range(n*n), p, replace=False),1)\n",
        "print(Z)"
      ]
    },
    {
      "cell_type": "markdown",
      "metadata": {
        "id": "uP85J9Txun-k"
      },
      "source": [
        "#### 58. Subtract the mean of each row of a matrix (★★☆) \n",
        "(**hint**: mean(axis=,keepdims=))"
      ]
    },
    {
      "cell_type": "code",
      "execution_count": 59,
      "metadata": {
        "id": "yUdxgoFJun-l",
        "colab": {
          "base_uri": "https://localhost:8080/"
        },
        "outputId": "0f01e7fa-6cc0-4e6c-88be-65d6d9857d6e"
      },
      "outputs": [
        {
          "output_type": "stream",
          "name": "stdout",
          "text": [
            "[[-0.33073823  0.35014984 -0.26312765 -0.02959325  0.26753405  0.3113113\n",
            "  -0.16188371  0.11632041 -0.44163178  0.18165902]\n",
            " [-0.36583333  0.16017142 -0.39488594 -0.33862169  0.51023899  0.52580201\n",
            "  -0.3879881   0.42301946  0.29121875 -0.42312156]\n",
            " [ 0.15865678  0.1964345  -0.0073554  -0.23814977 -0.08619006 -0.26495945\n",
            "   0.41144123 -0.33354883 -0.0253352   0.1890062 ]\n",
            " [ 0.1662536  -0.43118494  0.05741206 -0.2233582   0.34355636  0.13760471\n",
            "   0.26059381 -0.21240953 -0.48248717  0.38401929]\n",
            " [-0.02964058  0.12041369  0.3095675  -0.32218325  0.40978165 -0.30177647\n",
            "  -0.40074362  0.08693244 -0.27955869  0.40720732]]\n"
          ]
        }
      ],
      "source": [
        "X = np.random.rand(5, 10)\n",
        "Y = X - X.mean(axis=1, keepdims=True)\n",
        "print(Y)\n"
      ]
    },
    {
      "cell_type": "markdown",
      "metadata": {
        "id": "uwgyQRBkun-l"
      },
      "source": [
        "#### 59. How to sort an array by the nth column? (★★☆) \n",
        "(**hint**: argsort)"
      ]
    },
    {
      "cell_type": "code",
      "execution_count": 62,
      "metadata": {
        "id": "kSjsdoX1un-m",
        "colab": {
          "base_uri": "https://localhost:8080/"
        },
        "outputId": "fc8d2f65-f28e-496b-8185-bef8bed4d8d1"
      },
      "outputs": [
        {
          "output_type": "stream",
          "name": "stdout",
          "text": [
            "[[1 5 2]\n",
            " [2 6 9]\n",
            " [9 6 2]]\n"
          ]
        }
      ],
      "source": [
        "Z = np.random.randint(0,10,(3,3))\n",
        "\n",
        "print(Z[Z[:,1].argsort()])"
      ]
    },
    {
      "cell_type": "markdown",
      "metadata": {
        "id": "iFVjQMLaun-o"
      },
      "source": [
        "#### 60. How to tell if a given 2D array has null columns? (★★☆) \n",
        "(**hint**: any, ~)"
      ]
    },
    {
      "cell_type": "code",
      "execution_count": 63,
      "metadata": {
        "id": "zt0Gb-7Iun-q",
        "colab": {
          "base_uri": "https://localhost:8080/"
        },
        "outputId": "c4f8f7ad-4606-4748-af66-9a4ff3f8efbd"
      },
      "outputs": [
        {
          "output_type": "stream",
          "name": "stdout",
          "text": [
            "False\n"
          ]
        }
      ],
      "source": [
        "Z = np.random.randint(0,3,(3,10))\n",
        "print((~Z.any(axis=0)).any())"
      ]
    },
    {
      "cell_type": "markdown",
      "metadata": {
        "id": "ss3ogzBtun-r"
      },
      "source": [
        "#### 61. Find the nearest value from a given value in an array (★★☆) \n",
        "(**hint**: np.abs, argmin, flat)"
      ]
    },
    {
      "cell_type": "code",
      "execution_count": 64,
      "metadata": {
        "id": "odwPiZnsun-s",
        "colab": {
          "base_uri": "https://localhost:8080/"
        },
        "outputId": "191ca324-55a9-4541-b019-e3cbf223882e"
      },
      "outputs": [
        {
          "output_type": "stream",
          "name": "stdout",
          "text": [
            "0.5033746147769986\n"
          ]
        }
      ],
      "source": [
        "Z = np.random.uniform(0,1,10)\n",
        "z = 0.5\n",
        "m = Z.flat[np.abs(Z - z).argmin()]\n",
        "print(m)"
      ]
    },
    {
      "cell_type": "markdown",
      "metadata": {
        "id": "-1uo1fGBun-t"
      },
      "source": [
        "#### 62. Considering two arrays with shape (1,3) and (3,1), how to compute their sum using an iterator? (★★☆) \n",
        "(**hint**: np.nditer)"
      ]
    },
    {
      "cell_type": "code",
      "execution_count": 65,
      "metadata": {
        "id": "cPeELAjPun-u",
        "colab": {
          "base_uri": "https://localhost:8080/"
        },
        "outputId": "c232a9ab-3601-4652-e526-9073f5d2924d"
      },
      "outputs": [
        {
          "output_type": "stream",
          "name": "stdout",
          "text": [
            "[[0 1 2]\n",
            " [1 2 3]\n",
            " [2 3 4]]\n"
          ]
        }
      ],
      "source": [
        "A = np.arange(3).reshape(3,1)\n",
        "B = np.arange(3).reshape(1,3)\n",
        "it = np.nditer([A,B,None])\n",
        "for x,y,z in it: z[...] = x + y\n",
        "print(it.operands[2])"
      ]
    },
    {
      "cell_type": "markdown",
      "metadata": {
        "id": "DWhzZerZun-v"
      },
      "source": [
        "#### 63. Create an array class that has a name attribute (★★☆) \n",
        "(**hint**: class method)"
      ]
    },
    {
      "cell_type": "code",
      "execution_count": 66,
      "metadata": {
        "id": "YwteOCh1un-w",
        "colab": {
          "base_uri": "https://localhost:8080/"
        },
        "outputId": "fff9da47-cb48-47fe-a728-ea27bc6b1743"
      },
      "outputs": [
        {
          "output_type": "stream",
          "name": "stdout",
          "text": [
            "range_10\n"
          ]
        }
      ],
      "source": [
        "class NamedArray(np.ndarray):\n",
        "    def __new__(cls, array, name=\"no name\"):\n",
        "        obj = np.asarray(array).view(cls)\n",
        "        obj.name = name\n",
        "        return obj\n",
        "    def __array_finalize__(self, obj):\n",
        "        if obj is None: return\n",
        "        self.info = getattr(obj, 'name', \"no name\")\n",
        "\n",
        "Z = NamedArray(np.arange(10), \"range_10\")\n",
        "print (Z.name)"
      ]
    },
    {
      "cell_type": "markdown",
      "metadata": {
        "id": "oQzj57zcun-x"
      },
      "source": [
        "#### 64. Consider a given vector, how to add 1 to each element indexed by a second vector (be careful with repeated indices)? (★★★) \n",
        "(**hint**: np.bincount | np.add.at)"
      ]
    },
    {
      "cell_type": "code",
      "execution_count": 67,
      "metadata": {
        "id": "vV88hgT8un-y",
        "colab": {
          "base_uri": "https://localhost:8080/"
        },
        "outputId": "10b30044-9e8f-459b-f5fa-41ed463d567c"
      },
      "outputs": [
        {
          "output_type": "stream",
          "name": "stdout",
          "text": [
            "[4. 1. 1. 4. 2. 3. 4. 6. 1. 4.]\n"
          ]
        }
      ],
      "source": [
        "Z = np.ones(10)\n",
        "I = np.random.randint(0,len(Z),20)\n",
        "np.add.at(Z, I, 1)\n",
        "print(Z)"
      ]
    },
    {
      "cell_type": "markdown",
      "metadata": {
        "id": "H3xB1aG2un-y"
      },
      "source": [
        "#### 65. How to accumulate elements of a vector (X) to an array (F) based on an index list (I)? (★★★) \n",
        "(**hint**: np.bincount)"
      ]
    },
    {
      "cell_type": "code",
      "execution_count": 68,
      "metadata": {
        "id": "LgqmmALyun-z",
        "colab": {
          "base_uri": "https://localhost:8080/"
        },
        "outputId": "90f51006-f0d6-457c-e16d-18aa4bb2de40"
      },
      "outputs": [
        {
          "output_type": "stream",
          "name": "stdout",
          "text": [
            "[0. 7. 0. 6. 5. 0. 0. 0. 0. 3.]\n"
          ]
        }
      ],
      "source": [
        "X = [1,2,3,4,5,6]\n",
        "I = [1,3,9,3,4,1]\n",
        "F = np.bincount(I,X)\n",
        "print(F)"
      ]
    },
    {
      "cell_type": "markdown",
      "metadata": {
        "id": "MIDz-eiRun-0"
      },
      "source": [
        "#### 66. Considering a (w,h,3) image of (dtype=ubyte), compute the number of unique colors (★★★) \n",
        "(**hint**: np.unique)"
      ]
    },
    {
      "cell_type": "code",
      "execution_count": 69,
      "metadata": {
        "id": "fsCQp0Uwun-7",
        "colab": {
          "base_uri": "https://localhost:8080/"
        },
        "outputId": "8b8e0341-5fa5-4244-bbbc-409b2e45e80e"
      },
      "outputs": [
        {
          "output_type": "stream",
          "name": "stdout",
          "text": [
            "64\n"
          ]
        }
      ],
      "source": [
        "w, h = 256, 256\n",
        "I = np.random.randint(0, 4, (h, w, 3)).astype(np.ubyte)\n",
        "colors = np.unique(I.reshape(-1, 3), axis=0)\n",
        "n = len(colors)\n",
        "print(n)"
      ]
    },
    {
      "cell_type": "markdown",
      "metadata": {
        "id": "ISEneJgpun-8"
      },
      "source": [
        "#### 67. Considering a four dimensions array, how to get sum over the last two axis at once? (★★★) \n",
        "(**hint**: sum(axis=(-2,-1)))"
      ]
    },
    {
      "cell_type": "code",
      "execution_count": 70,
      "metadata": {
        "id": "BcvtZALPun-9",
        "colab": {
          "base_uri": "https://localhost:8080/"
        },
        "outputId": "eef4bb5d-b5a9-4534-f4f9-adeeb9b9755c"
      },
      "outputs": [
        {
          "output_type": "stream",
          "name": "stdout",
          "text": [
            "[[40 55 34 67]\n",
            " [81 61 48 48]\n",
            " [45 34 60 53]]\n"
          ]
        }
      ],
      "source": [
        "arr = np.random.randint(0,10,(3,4,3,4))\n",
        "sum = arr.sum(axis=(-2,-1))\n",
        "print(sum)"
      ]
    },
    {
      "cell_type": "markdown",
      "metadata": {
        "id": "Uki4Cahrun--"
      },
      "source": [
        "#### 68. Considering a one-dimensional vector D, how to compute means of subsets of D using a vector S of same size describing subset  indices? (★★★) \n",
        "(**hint**: np.bincount)"
      ]
    },
    {
      "cell_type": "code",
      "execution_count": 71,
      "metadata": {
        "id": "sJeTo3yGun-_",
        "colab": {
          "base_uri": "https://localhost:8080/"
        },
        "outputId": "a43daa01-ca0b-4c85-c02c-86aefc0e786e"
      },
      "outputs": [
        {
          "output_type": "stream",
          "name": "stdout",
          "text": [
            "0    0.562806\n",
            "1    0.572865\n",
            "2    0.598817\n",
            "3    0.438441\n",
            "4    0.424493\n",
            "5    0.435659\n",
            "6    0.524187\n",
            "7    0.585624\n",
            "8    0.440073\n",
            "9    0.713390\n",
            "dtype: float64\n"
          ]
        }
      ],
      "source": [
        "D = np.random.uniform(0,1,100)\n",
        "S = np.random.randint(0,10,100)\n",
        "\n",
        "import pandas as pd\n",
        "print(pd.Series(D).groupby(S).mean())\n"
      ]
    },
    {
      "cell_type": "markdown",
      "metadata": {
        "id": "cu4ofeTZun-_"
      },
      "source": [
        "#### 69. How to get the diagonal of a dot product? (★★★) \n",
        "(**hint**: np.diag)"
      ]
    },
    {
      "cell_type": "code",
      "execution_count": 72,
      "metadata": {
        "id": "dwAeZTKaun_A",
        "colab": {
          "base_uri": "https://localhost:8080/"
        },
        "outputId": "05d22109-44b9-4f09-e210-5ca93e293ba3"
      },
      "outputs": [
        {
          "output_type": "execute_result",
          "data": {
            "text/plain": [
              "array([0.94206339, 0.62828658, 1.39561347, 0.4090527 , 0.72552947])"
            ]
          },
          "metadata": {},
          "execution_count": 72
        }
      ],
      "source": [
        "arr1 = np.random.uniform(0,1,(5,5))\n",
        "arr2 = np.random.uniform(0,1,(5,5))\n",
        "\n",
        "np.diag(np.dot(arr1, arr2))\n"
      ]
    },
    {
      "cell_type": "markdown",
      "metadata": {
        "id": "uvMliXk-un_B"
      },
      "source": [
        "#### 70. Consider the vector \\[1, 2, 3, 4, 5\\], how to build a new vector with 3 consecutive zeros interleaved between each value? (★★★) \n",
        "(**hint**: array\\[::4\\])"
      ]
    },
    {
      "cell_type": "code",
      "execution_count": 73,
      "metadata": {
        "id": "fjSLO-0cun_C",
        "colab": {
          "base_uri": "https://localhost:8080/"
        },
        "outputId": "3f21a2e3-415d-4d4a-9e78-dd7f108531db"
      },
      "outputs": [
        {
          "output_type": "stream",
          "name": "stdout",
          "text": [
            "[1. 0. 0. 0. 2. 0. 0. 0. 3. 0. 0. 0. 4. 0. 0. 0. 5.]\n"
          ]
        }
      ],
      "source": [
        "Z = np.array([1,2,3,4,5])\n",
        "nz = 3\n",
        "Z0 = np.zeros(len(Z) + (len(Z)-1)*(nz))\n",
        "Z0[::nz+1] = Z\n",
        "print(Z0)"
      ]
    },
    {
      "cell_type": "markdown",
      "metadata": {
        "id": "f8gZsC_Uun_D"
      },
      "source": [
        "#### 71. Consider an array of dimension (5,5,3), how to mulitply it by an array with dimensions (5,5)? (★★★) \n",
        "(**hint**: array\\[:, :, None\\])"
      ]
    },
    {
      "cell_type": "code",
      "execution_count": 74,
      "metadata": {
        "collapsed": true,
        "id": "JnnGU24Pun_E",
        "colab": {
          "base_uri": "https://localhost:8080/"
        },
        "outputId": "c3769cfd-38cb-4e33-b6a7-4b47c017d14f"
      },
      "outputs": [
        {
          "output_type": "stream",
          "name": "stdout",
          "text": [
            "[[[2. 2. 2.]\n",
            "  [2. 2. 2.]\n",
            "  [2. 2. 2.]\n",
            "  [2. 2. 2.]\n",
            "  [2. 2. 2.]]\n",
            "\n",
            " [[2. 2. 2.]\n",
            "  [2. 2. 2.]\n",
            "  [2. 2. 2.]\n",
            "  [2. 2. 2.]\n",
            "  [2. 2. 2.]]\n",
            "\n",
            " [[2. 2. 2.]\n",
            "  [2. 2. 2.]\n",
            "  [2. 2. 2.]\n",
            "  [2. 2. 2.]\n",
            "  [2. 2. 2.]]\n",
            "\n",
            " [[2. 2. 2.]\n",
            "  [2. 2. 2.]\n",
            "  [2. 2. 2.]\n",
            "  [2. 2. 2.]\n",
            "  [2. 2. 2.]]\n",
            "\n",
            " [[2. 2. 2.]\n",
            "  [2. 2. 2.]\n",
            "  [2. 2. 2.]\n",
            "  [2. 2. 2.]\n",
            "  [2. 2. 2.]]]\n"
          ]
        }
      ],
      "source": [
        "A = np.ones((5,5,3))\n",
        "B = 2*np.ones((5,5))\n",
        "print(A * B[:,:,None])"
      ]
    },
    {
      "cell_type": "markdown",
      "metadata": {
        "id": "w8wN-gJcun_E"
      },
      "source": [
        "#### 72. How to swap two rows of an array? (★★★) \n",
        "(**hint**: array\\[\\[\\]\\] = array\\[\\[\\]\\])"
      ]
    },
    {
      "cell_type": "code",
      "execution_count": 75,
      "metadata": {
        "id": "Dm82etVhun_F",
        "colab": {
          "base_uri": "https://localhost:8080/"
        },
        "outputId": "0163d285-8aab-4915-98b4-d00d5abfbb4e"
      },
      "outputs": [
        {
          "output_type": "stream",
          "name": "stdout",
          "text": [
            "[[ 5  6  7  8  9]\n",
            " [ 0  1  2  3  4]\n",
            " [10 11 12 13 14]\n",
            " [15 16 17 18 19]\n",
            " [20 21 22 23 24]]\n"
          ]
        }
      ],
      "source": [
        "A = np.arange(25).reshape(5,5)\n",
        "A[[0,1]] = A[[1,0]]\n",
        "print(A)"
      ]
    },
    {
      "cell_type": "markdown",
      "metadata": {
        "id": "aNr36PxHun_G"
      },
      "source": [
        "#### 73. Consider a set of 10 triplets describing 10 triangles (with shared vertices), find the set of unique line segments composing all the  triangles (★★★) \n",
        "(**hint**: repeat, np.roll, np.sort, view, np.unique)"
      ]
    },
    {
      "cell_type": "code",
      "execution_count": 76,
      "metadata": {
        "id": "wlfz7KQNun_H",
        "colab": {
          "base_uri": "https://localhost:8080/"
        },
        "outputId": "37d966a8-12d6-4310-d60a-474ddce17dd6"
      },
      "outputs": [
        {
          "output_type": "stream",
          "name": "stdout",
          "text": [
            "[( 0, 59) ( 3, 12) ( 3, 40) ( 4, 87) ( 4, 96) ( 7, 32) ( 7, 34) ( 9, 29)\n",
            " ( 9, 57) (11, 70) (11, 74) (12, 40) (14, 34) (14, 84) (23, 26) (23, 70)\n",
            " (26, 70) (27, 75) (27, 76) (29, 57) (29, 74) (29, 89) (32, 34) (34, 84)\n",
            " (59, 59) (70, 74) (74, 89) (75, 76) (87, 96)]\n"
          ]
        }
      ],
      "source": [
        "faces = np.random.randint(0,100,(10,3))\n",
        "F = np.roll(faces.repeat(2,axis=1),-1,axis=1)\n",
        "F = F.reshape(len(F)*3,2)\n",
        "F = np.sort(F,axis=1)\n",
        "G = F.view( dtype=[('p0',F.dtype),('p1',F.dtype)] )\n",
        "G = np.unique(G)\n",
        "print(G)"
      ]
    },
    {
      "cell_type": "markdown",
      "metadata": {
        "id": "R1hcwrO4un_I"
      },
      "source": [
        "#### 74. Given an array C that is a bincount, how to produce an array A such that np.bincount(A) == C? (★★★) \n",
        "(**hint**: np.repeat)"
      ]
    },
    {
      "cell_type": "code",
      "execution_count": 77,
      "metadata": {
        "id": "fSPmNcbxun_J",
        "colab": {
          "base_uri": "https://localhost:8080/"
        },
        "outputId": "b4289d79-eff9-4946-de85-763ee57a3fe2"
      },
      "outputs": [
        {
          "output_type": "stream",
          "name": "stdout",
          "text": [
            "[1 1 2 3 4 4 6]\n"
          ]
        }
      ],
      "source": [
        "C = np.bincount([1,1,2,3,4,4,6])\n",
        "A = np.repeat(np.arange(len(C)), C)\n",
        "print(A)"
      ]
    },
    {
      "cell_type": "markdown",
      "metadata": {
        "id": "E_3YRqe9un_N"
      },
      "source": [
        "#### 75. How to compute averages using a sliding window over an array? (★★★) \n",
        "(**hint**: np.cumsum)"
      ]
    },
    {
      "cell_type": "code",
      "execution_count": 78,
      "metadata": {
        "id": "SicC9CLMun_R",
        "colab": {
          "base_uri": "https://localhost:8080/"
        },
        "outputId": "9ca85986-7f56-446a-b06e-7ae2a5917547"
      },
      "outputs": [
        {
          "output_type": "stream",
          "name": "stdout",
          "text": [
            "[ 1.  2.  3.  4.  5.  6.  7.  8.  9. 10. 11. 12. 13. 14. 15. 16. 17. 18.]\n"
          ]
        }
      ],
      "source": [
        "def moving_average(a, n=3) :\n",
        "    ret = np.cumsum(a, dtype=float)\n",
        "    ret[n:] = ret[n:] - ret[:-n]\n",
        "    return ret[n - 1:] / n\n",
        "Z = np.arange(20)\n",
        "print(moving_average(Z, n=3))"
      ]
    },
    {
      "cell_type": "markdown",
      "metadata": {
        "id": "Koextpb7un_S"
      },
      "source": [
        "#### 76. Consider a one-dimensional array Z, build a two-dimensional array whose first row is (Z\\[0\\],Z\\[1\\],Z\\[2\\]) and each subsequent row is  shifted by 1 (last row should be (Z\\[-3\\],Z\\[-2\\],Z\\[-1\\]) (★★★) \n",
        "(**hint**: from numpy.lib import stride_tricks)"
      ]
    },
    {
      "cell_type": "code",
      "execution_count": 79,
      "metadata": {
        "id": "lWGV_OZgun_T",
        "colab": {
          "base_uri": "https://localhost:8080/"
        },
        "outputId": "f2ccdf35-4956-4d3b-9ba4-dd34557237a1"
      },
      "outputs": [
        {
          "output_type": "stream",
          "name": "stdout",
          "text": [
            "[[0 1 2]\n",
            " [1 2 3]\n",
            " [2 3 4]\n",
            " [3 4 5]\n",
            " [4 5 6]\n",
            " [5 6 7]\n",
            " [6 7 8]\n",
            " [7 8 9]]\n"
          ]
        }
      ],
      "source": [
        "from numpy.lib import stride_tricks\n",
        "\n",
        "def rolling(a, window):\n",
        "    shape = (a.size - window + 1, window)\n",
        "    strides = (a.itemsize, a.itemsize)\n",
        "    return stride_tricks.as_strided(a, shape=shape, strides=strides)\n",
        "Z = rolling(np.arange(10), 3)\n",
        "print(Z)"
      ]
    },
    {
      "cell_type": "markdown",
      "metadata": {
        "id": "egqd_L-Bun_U"
      },
      "source": [
        "#### 77. How to negate a boolean, or to change the sign of a float inplace? (★★★) \n",
        "(**hint**: np.logical_not, np.negative)"
      ]
    },
    {
      "cell_type": "code",
      "execution_count": 80,
      "metadata": {
        "id": "yPOdKemWun_V",
        "colab": {
          "base_uri": "https://localhost:8080/"
        },
        "outputId": "7ec33e01-5d50-41c9-8e32-6afb740e1735"
      },
      "outputs": [
        {
          "output_type": "execute_result",
          "data": {
            "text/plain": [
              "array([-0.6885898 , -0.48067445, -0.30053086, -0.50781717,  0.8862604 ,\n",
              "       -0.20027351, -0.25005681, -0.39383382, -0.74068439, -0.22102668,\n",
              "        0.03318793, -0.21385464, -0.56167443, -0.91681034,  0.88034552,\n",
              "       -0.39866734,  0.48375289, -0.47414882, -0.80516048,  0.64271481,\n",
              "        0.77348548, -0.60593686, -0.32489133,  0.36470448, -0.00259061,\n",
              "       -0.99629155,  0.09085548, -0.16569327, -0.42841614, -0.33695004,\n",
              "       -0.67236042, -0.44479428,  0.33374939, -0.17780484,  0.98172211,\n",
              "        0.08786789, -0.12033087, -0.34572516,  0.26575209, -0.36942312,\n",
              "        0.93452189, -0.65012189,  0.47378212,  0.52011457, -0.68256304,\n",
              "       -0.38560192,  0.56775042, -0.54364083, -0.30918541,  0.87545364,\n",
              "       -0.99418496, -0.01022871, -0.3706093 , -0.20815475,  0.48069973,\n",
              "        0.00430138,  0.91376817,  0.32344421, -0.22065121,  0.49683834,\n",
              "        0.54054589,  0.99033871,  0.76067406, -0.52762332, -0.71396291,\n",
              "       -0.54550166, -0.71557232,  0.91924851, -0.58725328,  0.01565852,\n",
              "        0.86211238, -0.78641048,  0.75742311,  0.34338501,  0.84619792,\n",
              "        0.94180456, -0.55227654,  0.15687423, -0.686826  , -0.0638664 ,\n",
              "        0.08188896, -0.2059293 ,  0.11464714, -0.12824089,  0.59768743,\n",
              "       -0.79061767, -0.16320426,  0.47905585, -0.57530266, -0.16973224,\n",
              "        0.1720316 , -0.45695865,  0.69141353, -0.07623666, -0.5661684 ,\n",
              "        0.6743301 ,  0.29105841, -0.67059524, -0.86688856,  0.79755111])"
            ]
          },
          "metadata": {},
          "execution_count": 80
        }
      ],
      "source": [
        "Z = np.random.randint(0,2,100)\n",
        "np.logical_not(Z, out=Z)\n",
        "\n",
        "Z = np.random.uniform(-1.0,1.0,100)\n",
        "np.negative(Z, out=Z)"
      ]
    },
    {
      "cell_type": "markdown",
      "metadata": {
        "id": "vx_Q0npSun_W"
      },
      "source": [
        "#### 78. Consider 2 sets of points P0,P1 describing lines (2d) and a point p, how to compute distance from p to each line i  (P0\\[i\\],P1\\[i\\])? (★★★)"
      ]
    },
    {
      "cell_type": "code",
      "execution_count": 81,
      "metadata": {
        "id": "ZmK-zpEZun_W",
        "colab": {
          "base_uri": "https://localhost:8080/"
        },
        "outputId": "063fea48-88ff-4906-fded-05934a542755"
      },
      "outputs": [
        {
          "output_type": "stream",
          "name": "stdout",
          "text": [
            "[ 3.22431731  1.731385   14.95496482  5.41712899  0.81272151  7.03432794\n",
            "  1.14477174  5.51899065  2.50141164  2.95626865]\n"
          ]
        }
      ],
      "source": [
        "def distance(P0, P1, p):\n",
        "    T = P1 - P0\n",
        "    L = (T**2).sum(axis=1)\n",
        "    U = -((P0[:,0]-p[...,0])*T[:,0] + (P0[:,1]-p[...,1])*T[:,1]) / L\n",
        "    U = U.reshape(len(U),1)\n",
        "    D = P0 + U*T - p\n",
        "    return np.sqrt((D**2).sum(axis=1))\n",
        "\n",
        "P0 = np.random.uniform(-10,10,(10,2))\n",
        "P1 = np.random.uniform(-10,10,(10,2))\n",
        "p  = np.random.uniform(-10,10,( 1,2))\n",
        "print(distance(P0, P1, p))"
      ]
    },
    {
      "cell_type": "markdown",
      "metadata": {
        "id": "pYVj6rEUun_X"
      },
      "source": [
        "#### 79. Consider 2 sets of points P0,P1 describing lines (2d) and a set of points P, how to compute distance from each point j (P\\[j\\]) to each line i (P0\\[i\\],P1\\[i\\])? (★★★)"
      ]
    },
    {
      "cell_type": "code",
      "execution_count": 82,
      "metadata": {
        "id": "paOM7GQkun_Y",
        "colab": {
          "base_uri": "https://localhost:8080/"
        },
        "outputId": "10906d33-a247-4a29-f9c5-c1ebd6217457"
      },
      "outputs": [
        {
          "output_type": "stream",
          "name": "stdout",
          "text": [
            "[[10.51598419  8.29153968  1.54630185  1.03869061  2.77480419  6.7497583\n",
            "   1.82595261  1.39112611  4.20052629  1.59900838]\n",
            " [ 5.76017952 12.65547138  9.96208398  9.91406289  7.91863272  1.35733679\n",
            "   8.33643753 10.05543772  9.5025182   5.92172642]\n",
            " [ 2.20360542  5.20177447  4.12476499  1.6650792  15.04336443  0.53553688\n",
            "  12.04400156  5.03849688 16.27073507 14.7671004 ]\n",
            " [17.13405337 13.3173535   2.26319142  0.34946042  3.72661113 11.20924836\n",
            "   4.06086374  2.0544303   2.24694172  5.12504632]\n",
            " [ 0.51575215 11.27909771 13.0779291  14.12921798 14.28447964  7.66984185\n",
            "  14.88799598 15.95291138 15.90090265 12.08173246]\n",
            " [ 7.28920176  7.5590381   3.12050802  3.17982454  6.04634733  3.51943825\n",
            "   5.18734847  4.40405277  7.4881854   4.76777326]\n",
            " [ 9.01012883 15.27801953 10.48714899  9.73794978  4.73511013  0.7376183\n",
            "   5.48976007  8.48330792  6.3493028   2.60986482]\n",
            " [ 6.93118507  6.09449437  1.74618996  1.96394896  6.32749246  4.01131015\n",
            "   5.16483003  3.66504554  7.73696311  5.20767668]\n",
            " [ 6.39694443 11.55069387  8.25244509  8.17883753  7.19912147  0.04807349\n",
            "   7.31593158  8.49150696  8.74897847  5.37618188]\n",
            " [13.24884166  2.46797439  7.00282648  7.54551009  0.37720242 13.44662941\n",
            "   2.8632054   6.16053988  0.8757578   0.67325739]]\n"
          ]
        }
      ],
      "source": [
        "P0 = np.random.uniform(-10, 10, (10,2))\n",
        "P1 = np.random.uniform(-10,10,(10,2))\n",
        "p = np.random.uniform(-10, 10, (10,2))\n",
        "print(np.array([distance(P0,P1,p_i) for p_i in p]))"
      ]
    },
    {
      "cell_type": "markdown",
      "metadata": {
        "id": "9OBAxgiQun_Z"
      },
      "source": [
        "#### 80. Consider an arbitrary array, write a function that extract a subpart with a fixed shape and centered on a given element (pad with a `fill` value when necessary) (★★★) \n",
        "(**hint**: minimum, maximum)"
      ]
    },
    {
      "cell_type": "code",
      "execution_count": 83,
      "metadata": {
        "id": "_g5_oKOKun_Z",
        "colab": {
          "base_uri": "https://localhost:8080/"
        },
        "outputId": "5cafc06c-79bb-4a80-c30d-8a57be54fee2"
      },
      "outputs": [
        {
          "output_type": "stream",
          "name": "stdout",
          "text": [
            "[[9 5 4 3 1 1 7 9 0 3]\n",
            " [5 4 7 8 0 2 7 5 0 2]\n",
            " [7 4 7 9 0 0 2 7 7 2]\n",
            " [8 8 9 7 2 2 7 7 5 1]\n",
            " [0 7 0 7 7 4 9 5 4 1]\n",
            " [0 5 4 7 1 1 3 2 9 2]\n",
            " [1 3 5 0 0 8 6 9 5 2]\n",
            " [2 5 9 8 0 7 5 9 9 0]\n",
            " [0 0 9 9 2 6 5 2 9 8]\n",
            " [7 2 1 5 4 2 5 1 3 5]]\n",
            "[[0 0 0 0 0]\n",
            " [0 9 5 4 3]\n",
            " [0 5 4 7 8]\n",
            " [0 7 4 7 9]\n",
            " [0 8 8 9 7]]\n"
          ]
        },
        {
          "output_type": "stream",
          "name": "stderr",
          "text": [
            "<ipython-input-83-f2b5781f38bf>:23: FutureWarning: Using a non-tuple sequence for multidimensional indexing is deprecated; use `arr[tuple(seq)]` instead of `arr[seq]`. In the future this will be interpreted as an array index, `arr[np.array(seq)]`, which will result either in an error or a different result.\n",
            "  R[r] = Z[z]\n"
          ]
        }
      ],
      "source": [
        "Z = np.random.randint(0,10,(10,10))\n",
        "shape = (5,5)\n",
        "fill  = 0\n",
        "position = (1,1)\n",
        "\n",
        "R = np.ones(shape, dtype=Z.dtype)*fill\n",
        "P  = np.array(list(position)).astype(int)\n",
        "Rs = np.array(list(R.shape)).astype(int)\n",
        "Zs = np.array(list(Z.shape)).astype(int)\n",
        "\n",
        "R_start = np.zeros((len(shape),)).astype(int)\n",
        "R_stop  = np.array(list(shape)).astype(int)\n",
        "Z_start = (P-Rs//2)\n",
        "Z_stop  = (P+Rs//2)+Rs%2\n",
        "\n",
        "R_start = (R_start - np.minimum(Z_start,0)).tolist()\n",
        "Z_start = (np.maximum(Z_start,0)).tolist()\n",
        "R_stop = np.maximum(R_start, (R_stop - np.maximum(Z_stop-Zs,0))).tolist()\n",
        "Z_stop = (np.minimum(Z_stop,Zs)).tolist()\n",
        "\n",
        "r = [slice(start,stop) for start,stop in zip(R_start,R_stop)]\n",
        "z = [slice(start,stop) for start,stop in zip(Z_start,Z_stop)]\n",
        "R[r] = Z[z]\n",
        "print(Z)\n",
        "print(R)"
      ]
    },
    {
      "cell_type": "markdown",
      "metadata": {
        "id": "eyN13xExun_a"
      },
      "source": [
        "#### 81. Consider an array Z = \\[1,2,3,4,5,6,7,8,9,10,11,12,13,14\\], how to generate an array R = \\[\\[1,2,3,4\\], \\[2,3,4,5\\], \\[3,4,5,6\\], ..., \\[11,12,13,14\\]\\]? (★★★) \n",
        "(**hint**: stride\\_tricks.as\\_strided)"
      ]
    },
    {
      "cell_type": "code",
      "execution_count": 84,
      "metadata": {
        "id": "URTKzv_Gun_b",
        "colab": {
          "base_uri": "https://localhost:8080/"
        },
        "outputId": "2d2d89bd-e535-4db4-9cf1-ebfb47595fd0"
      },
      "outputs": [
        {
          "output_type": "stream",
          "name": "stdout",
          "text": [
            "[[ 1  2  3  4]\n",
            " [ 2  3  4  5]\n",
            " [ 3  4  5  6]\n",
            " [ 4  5  6  7]\n",
            " [ 5  6  7  8]\n",
            " [ 6  7  8  9]\n",
            " [ 7  8  9 10]\n",
            " [ 8  9 10 11]\n",
            " [ 9 10 11 12]\n",
            " [10 11 12 13]\n",
            " [11 12 13 14]]\n"
          ]
        }
      ],
      "source": [
        "Z = np.arange(1,15,dtype=np.uint32)\n",
        "R = stride_tricks.as_strided(Z,(11,4),(4,4))\n",
        "print(R)"
      ]
    },
    {
      "cell_type": "markdown",
      "metadata": {
        "id": "zBjTWyNeun_b"
      },
      "source": [
        "#### 82. Compute a matrix rank (★★★) \n",
        "(**hint**: np.linalg.svd) (suggestion: np.linalg.svd)"
      ]
    },
    {
      "cell_type": "code",
      "execution_count": 85,
      "metadata": {
        "id": "H5lJcJ6kun_c",
        "colab": {
          "base_uri": "https://localhost:8080/"
        },
        "outputId": "cf88af6d-28bf-4855-a23e-97c3557f2d7e"
      },
      "outputs": [
        {
          "output_type": "stream",
          "name": "stdout",
          "text": [
            "10\n"
          ]
        }
      ],
      "source": [
        "Z = np.random.uniform(0,1,(10,10))\n",
        "U, S, V = np.linalg.svd(Z) # Singular Value Decomposition\n",
        "rank = np.sum(S > 1e-10)\n",
        "print(rank)"
      ]
    },
    {
      "cell_type": "markdown",
      "metadata": {
        "id": "VqyNWs_Iun_c"
      },
      "source": [
        "#### 83. How to find the most frequent value in an array? \n",
        "(**hint**: np.bincount, argmax)"
      ]
    },
    {
      "cell_type": "code",
      "execution_count": 86,
      "metadata": {
        "id": "ysGBu_3Fun_d",
        "colab": {
          "base_uri": "https://localhost:8080/"
        },
        "outputId": "47e12b42-4726-48e3-d30b-3ea6d939e522"
      },
      "outputs": [
        {
          "output_type": "stream",
          "name": "stdout",
          "text": [
            "0\n"
          ]
        }
      ],
      "source": [
        "Z = np.random.randint(0,10,50)\n",
        "print(np.bincount(Z).argmax())"
      ]
    },
    {
      "cell_type": "markdown",
      "metadata": {
        "id": "BWmkE5HMun_e"
      },
      "source": [
        "#### 84. Extract all the contiguous 3x3 blocks from a random 10x10 matrix (★★★) \n",
        "(**hint**: stride\\_tricks.as\\_strided)"
      ]
    },
    {
      "cell_type": "code",
      "execution_count": 87,
      "metadata": {
        "id": "0axT_shkun_e",
        "colab": {
          "base_uri": "https://localhost:8080/"
        },
        "outputId": "350da3e0-d087-4279-a09f-1abd86f17498"
      },
      "outputs": [
        {
          "output_type": "stream",
          "name": "stdout",
          "text": [
            "[[[[4 0 4]\n",
            "   [2 3 1]\n",
            "   [3 4 1]]\n",
            "\n",
            "  [[0 4 2]\n",
            "   [3 1 0]\n",
            "   [4 1 2]]\n",
            "\n",
            "  [[4 2 4]\n",
            "   [1 0 3]\n",
            "   [1 2 1]]\n",
            "\n",
            "  [[2 4 0]\n",
            "   [0 3 0]\n",
            "   [2 1 4]]\n",
            "\n",
            "  [[4 0 4]\n",
            "   [3 0 4]\n",
            "   [1 4 0]]\n",
            "\n",
            "  [[0 4 3]\n",
            "   [0 4 4]\n",
            "   [4 0 1]]\n",
            "\n",
            "  [[4 3 4]\n",
            "   [4 4 2]\n",
            "   [0 1 3]]\n",
            "\n",
            "  [[3 4 4]\n",
            "   [4 2 3]\n",
            "   [1 3 3]]]\n",
            "\n",
            "\n",
            " [[[2 3 1]\n",
            "   [3 4 1]\n",
            "   [0 0 1]]\n",
            "\n",
            "  [[3 1 0]\n",
            "   [4 1 2]\n",
            "   [0 1 1]]\n",
            "\n",
            "  [[1 0 3]\n",
            "   [1 2 1]\n",
            "   [1 1 0]]\n",
            "\n",
            "  [[0 3 0]\n",
            "   [2 1 4]\n",
            "   [1 0 1]]\n",
            "\n",
            "  [[3 0 4]\n",
            "   [1 4 0]\n",
            "   [0 1 2]]\n",
            "\n",
            "  [[0 4 4]\n",
            "   [4 0 1]\n",
            "   [1 2 1]]\n",
            "\n",
            "  [[4 4 2]\n",
            "   [0 1 3]\n",
            "   [2 1 0]]\n",
            "\n",
            "  [[4 2 3]\n",
            "   [1 3 3]\n",
            "   [1 0 1]]]\n",
            "\n",
            "\n",
            " [[[3 4 1]\n",
            "   [0 0 1]\n",
            "   [0 4 4]]\n",
            "\n",
            "  [[4 1 2]\n",
            "   [0 1 1]\n",
            "   [4 4 0]]\n",
            "\n",
            "  [[1 2 1]\n",
            "   [1 1 0]\n",
            "   [4 0 0]]\n",
            "\n",
            "  [[2 1 4]\n",
            "   [1 0 1]\n",
            "   [0 0 2]]\n",
            "\n",
            "  [[1 4 0]\n",
            "   [0 1 2]\n",
            "   [0 2 4]]\n",
            "\n",
            "  [[4 0 1]\n",
            "   [1 2 1]\n",
            "   [2 4 4]]\n",
            "\n",
            "  [[0 1 3]\n",
            "   [2 1 0]\n",
            "   [4 4 1]]\n",
            "\n",
            "  [[1 3 3]\n",
            "   [1 0 1]\n",
            "   [4 1 3]]]\n",
            "\n",
            "\n",
            " [[[0 0 1]\n",
            "   [0 4 4]\n",
            "   [3 1 1]]\n",
            "\n",
            "  [[0 1 1]\n",
            "   [4 4 0]\n",
            "   [1 1 0]]\n",
            "\n",
            "  [[1 1 0]\n",
            "   [4 0 0]\n",
            "   [1 0 3]]\n",
            "\n",
            "  [[1 0 1]\n",
            "   [0 0 2]\n",
            "   [0 3 4]]\n",
            "\n",
            "  [[0 1 2]\n",
            "   [0 2 4]\n",
            "   [3 4 4]]\n",
            "\n",
            "  [[1 2 1]\n",
            "   [2 4 4]\n",
            "   [4 4 4]]\n",
            "\n",
            "  [[2 1 0]\n",
            "   [4 4 1]\n",
            "   [4 4 0]]\n",
            "\n",
            "  [[1 0 1]\n",
            "   [4 1 3]\n",
            "   [4 0 4]]]\n",
            "\n",
            "\n",
            " [[[0 4 4]\n",
            "   [3 1 1]\n",
            "   [1 4 4]]\n",
            "\n",
            "  [[4 4 0]\n",
            "   [1 1 0]\n",
            "   [4 4 3]]\n",
            "\n",
            "  [[4 0 0]\n",
            "   [1 0 3]\n",
            "   [4 3 0]]\n",
            "\n",
            "  [[0 0 2]\n",
            "   [0 3 4]\n",
            "   [3 0 4]]\n",
            "\n",
            "  [[0 2 4]\n",
            "   [3 4 4]\n",
            "   [0 4 4]]\n",
            "\n",
            "  [[2 4 4]\n",
            "   [4 4 4]\n",
            "   [4 4 1]]\n",
            "\n",
            "  [[4 4 1]\n",
            "   [4 4 0]\n",
            "   [4 1 4]]\n",
            "\n",
            "  [[4 1 3]\n",
            "   [4 0 4]\n",
            "   [1 4 3]]]\n",
            "\n",
            "\n",
            " [[[3 1 1]\n",
            "   [1 4 4]\n",
            "   [1 2 4]]\n",
            "\n",
            "  [[1 1 0]\n",
            "   [4 4 3]\n",
            "   [2 4 4]]\n",
            "\n",
            "  [[1 0 3]\n",
            "   [4 3 0]\n",
            "   [4 4 0]]\n",
            "\n",
            "  [[0 3 4]\n",
            "   [3 0 4]\n",
            "   [4 0 4]]\n",
            "\n",
            "  [[3 4 4]\n",
            "   [0 4 4]\n",
            "   [0 4 0]]\n",
            "\n",
            "  [[4 4 4]\n",
            "   [4 4 1]\n",
            "   [4 0 4]]\n",
            "\n",
            "  [[4 4 0]\n",
            "   [4 1 4]\n",
            "   [0 4 0]]\n",
            "\n",
            "  [[4 0 4]\n",
            "   [1 4 3]\n",
            "   [4 0 1]]]\n",
            "\n",
            "\n",
            " [[[1 4 4]\n",
            "   [1 2 4]\n",
            "   [0 0 1]]\n",
            "\n",
            "  [[4 4 3]\n",
            "   [2 4 4]\n",
            "   [0 1 3]]\n",
            "\n",
            "  [[4 3 0]\n",
            "   [4 4 0]\n",
            "   [1 3 3]]\n",
            "\n",
            "  [[3 0 4]\n",
            "   [4 0 4]\n",
            "   [3 3 3]]\n",
            "\n",
            "  [[0 4 4]\n",
            "   [0 4 0]\n",
            "   [3 3 4]]\n",
            "\n",
            "  [[4 4 1]\n",
            "   [4 0 4]\n",
            "   [3 4 4]]\n",
            "\n",
            "  [[4 1 4]\n",
            "   [0 4 0]\n",
            "   [4 4 3]]\n",
            "\n",
            "  [[1 4 3]\n",
            "   [4 0 1]\n",
            "   [4 3 2]]]\n",
            "\n",
            "\n",
            " [[[1 2 4]\n",
            "   [0 0 1]\n",
            "   [4 1 0]]\n",
            "\n",
            "  [[2 4 4]\n",
            "   [0 1 3]\n",
            "   [1 0 0]]\n",
            "\n",
            "  [[4 4 0]\n",
            "   [1 3 3]\n",
            "   [0 0 0]]\n",
            "\n",
            "  [[4 0 4]\n",
            "   [3 3 3]\n",
            "   [0 0 3]]\n",
            "\n",
            "  [[0 4 0]\n",
            "   [3 3 4]\n",
            "   [0 3 1]]\n",
            "\n",
            "  [[4 0 4]\n",
            "   [3 4 4]\n",
            "   [3 1 4]]\n",
            "\n",
            "  [[0 4 0]\n",
            "   [4 4 3]\n",
            "   [1 4 0]]\n",
            "\n",
            "  [[4 0 1]\n",
            "   [4 3 2]\n",
            "   [4 0 3]]]]\n"
          ]
        }
      ],
      "source": [
        "Z = np.random.randint(0,5,(10,10))\n",
        "n = 3\n",
        "i = 1 + (Z.shape[0]-3)\n",
        "j = 1 + (Z.shape[1]-3)\n",
        "C = stride_tricks.as_strided(Z, shape=(i, j, n, n), strides=Z.strides + Z.strides)\n",
        "print(C)"
      ]
    },
    {
      "cell_type": "markdown",
      "metadata": {
        "id": "9apdLiN6un_f"
      },
      "source": [
        "#### 85. Create a 2D array subclass such that Z\\[i,j\\] == Z\\[j,i\\] (★★★) \n",
        "(**hint**: class method)"
      ]
    },
    {
      "cell_type": "code",
      "execution_count": 88,
      "metadata": {
        "id": "RoSbKtgKun_g",
        "colab": {
          "base_uri": "https://localhost:8080/"
        },
        "outputId": "7eb9b0ab-7802-4ce1-fe5f-1134fa69c7c3"
      },
      "outputs": [
        {
          "output_type": "stream",
          "name": "stdout",
          "text": [
            "[[ 6 17 12  4  9]\n",
            " [17  4  5  7  8]\n",
            " [12  5  8 42 10]\n",
            " [ 4  7 42  7  7]\n",
            " [ 9  8 10  7  1]]\n"
          ]
        }
      ],
      "source": [
        "class Symetric(np.ndarray):\n",
        "    def __setitem__(self, index, value):\n",
        "        i,j = index\n",
        "        super(Symetric, self).__setitem__((i,j), value)\n",
        "        super(Symetric, self).__setitem__((j,i), value)\n",
        "\n",
        "def symetric(Z):\n",
        "    return np.asarray(Z + Z.T - np.diag(Z.diagonal())).view(Symetric)\n",
        "\n",
        "S = symetric(np.random.randint(0,10,(5,5)))\n",
        "S[2,3] = 42\n",
        "print(S)"
      ]
    },
    {
      "cell_type": "markdown",
      "metadata": {
        "id": "_S9dvPz-un_g"
      },
      "source": [
        "#### 86. Consider a set of p matrices wich shape (n,n) and a set of p vectors with shape (n,1). How to compute the sum of of the p matrix products at once? (result has shape (n,1)) (★★★) \n",
        "(**hint**: np.tensordot)"
      ]
    },
    {
      "cell_type": "code",
      "execution_count": 89,
      "metadata": {
        "id": "lFlUrnPXun_h",
        "colab": {
          "base_uri": "https://localhost:8080/"
        },
        "outputId": "b440d5ac-ec39-4d2b-9da1-5b759523c3a5"
      },
      "outputs": [
        {
          "output_type": "stream",
          "name": "stdout",
          "text": [
            "[[200.]\n",
            " [200.]\n",
            " [200.]\n",
            " [200.]\n",
            " [200.]\n",
            " [200.]\n",
            " [200.]\n",
            " [200.]\n",
            " [200.]\n",
            " [200.]\n",
            " [200.]\n",
            " [200.]\n",
            " [200.]\n",
            " [200.]\n",
            " [200.]\n",
            " [200.]\n",
            " [200.]\n",
            " [200.]\n",
            " [200.]\n",
            " [200.]]\n"
          ]
        }
      ],
      "source": [
        "p, n = 10, 20\n",
        "M = np.ones((p,n,n))\n",
        "V = np.ones((p,n,1))\n",
        "S = np.tensordot(M, V, axes=[[0, 2], [0, 1]])\n",
        "print(S)"
      ]
    },
    {
      "cell_type": "markdown",
      "metadata": {
        "id": "69ab171eun_h"
      },
      "source": [
        "#### 87. Consider a 16x16 array, how to get the block-sum (block size is 4x4)? (★★★) \n",
        "(**hint**: np.add.reduceat)"
      ]
    },
    {
      "cell_type": "code",
      "execution_count": 90,
      "metadata": {
        "id": "dNhcLURgun_i",
        "colab": {
          "base_uri": "https://localhost:8080/"
        },
        "outputId": "63cb2bb9-082f-4d12-9ee6-04b1f8ea819a"
      },
      "outputs": [
        {
          "output_type": "stream",
          "name": "stdout",
          "text": [
            "[[16. 16. 16. 16.]\n",
            " [16. 16. 16. 16.]\n",
            " [16. 16. 16. 16.]\n",
            " [16. 16. 16. 16.]]\n"
          ]
        }
      ],
      "source": [
        "Z = np.ones((16,16))\n",
        "k = 4\n",
        "S = np.add.reduceat(np.add.reduceat(Z, np.arange(0, Z.shape[0], k), axis=0),\n",
        "                                       np.arange(0, Z.shape[1], k), axis=1)\n",
        "print(S)"
      ]
    },
    {
      "cell_type": "markdown",
      "metadata": {
        "id": "bD-zrfzFun_j"
      },
      "source": [
        "#### 88. How to implement the Game of Life using numpy arrays? (★★★)"
      ]
    },
    {
      "cell_type": "code",
      "execution_count": 91,
      "metadata": {
        "id": "LdjDcTqzun_j",
        "colab": {
          "base_uri": "https://localhost:8080/"
        },
        "outputId": "dc05b03a-abdd-4f28-f58f-5f0a0f6f8e54"
      },
      "outputs": [
        {
          "output_type": "stream",
          "name": "stdout",
          "text": [
            "[[0 0 0 0 0 0 0 0 0 0 0 0 0 0 0 0 0 0 0 0 0 0 0 0 0 0 0 0 0 0 0 0 0 0 0 0\n",
            "  0 0 0 0 0 0 0 0 0 0 0 0 0 0]\n",
            " [0 0 0 0 0 0 0 0 0 0 0 0 1 1 0 0 0 0 0 0 0 0 0 1 0 0 0 0 0 0 0 0 0 0 0 0\n",
            "  0 0 1 0 0 0 0 0 0 0 0 0 0 0]\n",
            " [0 0 0 0 0 0 0 0 0 0 0 0 1 1 0 0 0 0 0 0 0 0 1 0 1 0 0 0 0 0 0 0 0 0 0 0\n",
            "  0 1 0 1 0 0 0 0 0 0 0 0 0 0]\n",
            " [0 0 0 0 0 0 0 0 0 0 0 0 0 0 0 0 0 0 0 0 0 0 1 0 1 0 0 0 0 0 0 0 0 0 0 0\n",
            "  0 1 0 0 1 0 0 0 0 0 0 0 0 0]\n",
            " [0 0 0 0 0 0 0 0 0 0 0 0 0 0 0 0 0 0 0 0 0 0 0 1 0 0 0 0 0 0 0 0 0 0 0 0\n",
            "  0 0 1 1 0 0 0 0 0 0 0 0 0 0]\n",
            " [0 0 0 0 0 0 0 0 0 0 0 0 0 0 0 0 0 0 0 0 0 0 0 0 0 0 0 0 0 0 0 0 1 0 0 0\n",
            "  0 0 0 0 0 0 0 0 0 0 0 0 0 0]\n",
            " [0 0 0 0 0 0 0 0 0 0 0 0 0 0 0 0 0 0 0 0 0 0 0 0 0 0 0 0 0 0 0 0 1 0 0 0\n",
            "  0 0 0 0 0 0 0 0 0 0 0 0 0 0]\n",
            " [0 0 0 0 0 0 0 0 0 0 0 0 0 0 0 0 0 0 0 0 0 0 0 1 0 0 0 0 0 0 0 1 0 0 0 0\n",
            "  0 0 0 0 0 0 0 0 0 0 0 0 0 0]\n",
            " [0 0 0 0 0 0 0 0 0 0 0 0 0 0 0 0 0 0 0 0 0 0 1 1 1 1 1 0 0 0 0 0 1 1 1 0\n",
            "  0 0 0 0 0 0 0 0 0 1 1 0 0 0]\n",
            " [0 0 0 0 0 0 0 0 0 0 0 0 0 0 0 0 0 0 0 0 0 1 1 1 1 1 0 0 0 0 1 1 0 0 0 1\n",
            "  0 0 0 0 0 0 0 0 0 1 1 0 0 0]\n",
            " [0 0 0 0 0 0 0 0 0 0 0 0 0 0 0 0 0 0 0 0 0 0 1 1 0 1 1 0 0 1 0 1 0 1 0 1\n",
            "  0 0 0 0 0 0 0 0 0 0 0 0 0 0]\n",
            " [0 0 0 0 0 0 0 0 0 0 0 0 0 0 0 0 0 0 0 0 0 0 0 1 0 0 0 1 0 0 0 0 0 0 0 1\n",
            "  0 0 0 0 0 0 0 0 0 0 0 0 0 0]\n",
            " [0 0 0 0 0 0 0 0 0 0 0 0 0 0 1 1 0 0 0 0 0 0 0 0 0 1 1 1 1 0 0 0 1 1 1 0\n",
            "  0 0 0 0 0 0 0 0 0 0 0 0 0 0]\n",
            " [0 0 0 0 0 0 0 0 0 0 0 1 1 1 1 1 0 1 1 0 0 0 0 0 0 1 0 0 1 0 0 0 0 0 1 0\n",
            "  0 0 0 0 0 0 0 0 0 0 0 0 0 0]\n",
            " [0 0 0 0 0 0 0 0 0 0 0 1 1 0 0 0 0 1 1 0 0 0 0 0 0 0 1 0 0 1 1 0 0 1 0 0\n",
            "  0 0 0 0 0 0 0 0 0 0 0 0 0 0]\n",
            " [0 0 0 0 0 0 0 0 0 0 0 1 0 0 0 1 0 1 1 1 0 0 0 0 0 1 0 1 0 0 1 0 1 0 0 0\n",
            "  0 1 1 0 0 0 0 0 0 0 0 0 0 0]\n",
            " [0 0 0 0 0 0 0 0 0 0 0 0 1 1 0 1 0 1 0 0 0 0 0 0 0 0 1 0 0 0 0 1 0 0 0 0\n",
            "  0 1 0 1 0 0 0 0 0 0 0 0 0 0]\n",
            " [0 0 1 1 0 0 0 0 0 0 0 0 0 0 0 0 1 1 0 0 0 0 0 0 0 0 0 0 0 0 0 0 0 0 0 0\n",
            "  0 1 0 1 0 0 0 0 0 0 0 0 0 0]\n",
            " [0 1 1 1 0 0 0 0 0 0 0 0 0 0 0 0 0 0 0 0 0 0 0 0 0 0 0 0 0 0 0 0 0 0 0 0\n",
            "  0 0 0 1 1 0 0 0 0 0 0 0 0 0]\n",
            " [0 1 1 0 0 0 0 0 0 0 0 0 0 0 0 0 0 0 0 0 0 0 0 0 0 0 0 0 0 0 0 0 0 0 0 0\n",
            "  1 0 0 1 0 0 0 0 0 0 0 0 0 0]\n",
            " [0 1 0 0 0 0 0 0 0 0 0 0 0 0 0 0 0 0 0 0 0 0 0 0 0 0 0 0 0 0 0 0 0 0 1 1\n",
            "  0 0 1 0 0 0 0 1 0 0 0 0 0 0]\n",
            " [0 1 0 0 0 0 0 0 0 0 0 0 0 0 0 0 0 0 0 0 0 0 0 0 0 0 0 0 0 0 0 0 0 0 0 0\n",
            "  1 0 0 0 0 1 0 0 1 0 0 0 0 0]\n",
            " [0 0 1 0 0 0 0 0 0 0 0 0 1 1 0 0 0 0 0 0 0 0 0 0 0 0 0 0 0 0 0 0 0 0 0 0\n",
            "  0 0 1 1 1 0 1 0 0 1 1 0 0 0]\n",
            " [0 0 0 0 0 0 0 0 0 0 0 0 0 0 1 0 0 0 0 0 0 0 0 0 0 0 0 0 0 0 0 0 0 0 0 0\n",
            "  0 0 1 0 0 0 1 0 0 1 1 0 0 0]\n",
            " [0 0 0 0 0 0 0 0 0 0 0 0 1 1 0 0 0 0 0 0 0 0 0 0 0 0 0 0 0 0 0 0 0 0 0 0\n",
            "  0 1 0 0 1 1 0 0 0 1 1 0 0 0]\n",
            " [0 0 0 0 0 0 0 0 0 0 0 0 0 0 0 0 0 0 0 0 1 1 0 0 0 0 0 0 0 0 0 0 0 0 0 0\n",
            "  0 0 1 0 0 1 0 0 1 0 1 0 0 0]\n",
            " [0 0 0 0 0 0 0 0 0 0 0 0 0 0 0 0 0 0 0 1 0 0 1 0 0 0 0 0 0 0 0 0 0 0 0 0\n",
            "  0 0 0 1 1 1 0 0 0 0 0 1 0 0]\n",
            " [0 0 0 0 0 0 0 0 0 0 0 0 0 0 0 0 0 0 0 0 1 1 0 0 0 0 0 0 0 0 0 0 0 0 0 0\n",
            "  0 0 0 0 1 1 0 0 1 0 0 1 0 0]\n",
            " [0 0 0 0 0 0 0 0 0 0 0 0 0 0 0 0 0 0 0 0 0 0 0 0 0 0 0 0 0 0 0 0 0 0 0 0\n",
            "  0 0 0 0 0 0 0 1 0 0 1 0 0 0]\n",
            " [0 0 0 0 0 0 0 0 0 0 0 0 0 0 0 0 0 0 0 0 0 0 0 0 0 0 0 0 0 0 0 0 0 0 0 0\n",
            "  0 0 0 0 0 0 0 0 0 0 0 0 0 0]\n",
            " [0 0 0 0 0 0 0 0 0 0 0 0 0 0 0 0 0 0 0 0 0 0 0 0 0 0 0 0 0 0 0 0 0 0 0 0\n",
            "  0 0 0 0 0 0 0 0 0 0 0 0 0 0]\n",
            " [0 0 0 0 0 0 0 0 0 0 0 0 0 0 0 0 0 0 0 0 0 0 0 0 0 0 0 0 0 0 0 0 0 0 0 0\n",
            "  0 0 0 0 0 0 0 1 0 0 0 0 0 0]\n",
            " [0 0 0 0 0 0 0 0 0 0 0 0 0 0 0 0 0 0 0 0 0 0 0 0 0 0 0 0 0 0 0 0 0 0 0 0\n",
            "  0 0 0 0 0 0 0 0 0 0 1 0 0 0]\n",
            " [0 0 0 0 0 0 0 0 0 0 0 0 0 0 0 0 0 0 0 0 0 0 0 0 0 0 0 0 0 0 0 0 0 0 0 0\n",
            "  0 0 0 0 0 0 0 1 0 0 1 0 0 0]\n",
            " [0 0 0 0 0 0 0 0 0 0 0 0 0 0 0 0 0 0 0 0 0 0 0 0 0 0 0 0 0 0 0 0 0 0 0 0\n",
            "  0 0 0 0 0 0 0 0 0 1 0 0 0 0]\n",
            " [0 0 0 0 0 0 0 0 0 0 0 0 0 0 0 0 0 0 0 0 0 0 0 0 0 0 0 0 0 0 0 0 0 0 0 0\n",
            "  0 0 0 0 0 0 0 0 0 0 0 0 0 0]\n",
            " [0 0 0 0 0 0 0 0 0 0 0 0 0 0 0 0 0 0 0 0 0 0 0 0 0 0 0 0 0 0 0 0 0 0 0 0\n",
            "  0 0 0 0 0 0 0 0 0 0 0 0 0 0]\n",
            " [0 0 0 0 0 0 0 0 0 0 0 0 0 0 0 0 0 0 0 0 0 0 0 0 0 0 0 0 0 0 0 0 0 0 0 0\n",
            "  0 0 0 0 0 1 1 0 0 0 0 0 0 0]\n",
            " [0 0 0 0 0 0 0 0 0 0 0 0 0 0 0 0 0 0 0 0 0 0 0 0 0 1 0 0 0 0 0 0 0 0 0 0\n",
            "  0 0 0 0 1 0 0 1 0 0 0 0 0 0]\n",
            " [0 0 1 1 0 0 0 0 0 0 0 0 0 0 0 0 0 0 0 0 0 0 0 0 1 0 1 1 0 0 0 0 0 0 0 0\n",
            "  0 0 0 0 0 1 1 0 0 0 0 0 0 0]\n",
            " [0 0 1 1 0 0 0 0 0 0 0 0 0 0 0 0 0 0 0 0 0 0 0 0 1 1 0 0 0 0 0 0 0 0 0 0\n",
            "  0 0 0 0 0 0 0 0 0 0 0 0 0 0]\n",
            " [0 0 0 0 0 0 0 0 0 0 0 0 0 0 0 0 0 0 0 0 0 0 0 0 1 0 0 0 0 0 0 0 0 0 0 0\n",
            "  0 0 0 0 0 0 0 0 0 0 0 0 0 0]\n",
            " [0 0 0 0 0 0 0 0 1 0 0 0 0 0 0 0 0 0 0 0 0 1 1 1 0 0 0 0 0 0 0 0 0 0 0 0\n",
            "  0 0 0 0 0 0 0 0 0 0 0 0 0 0]\n",
            " [0 0 0 0 0 0 0 0 1 0 0 0 0 0 0 0 0 0 0 0 0 0 0 0 0 0 0 0 0 0 0 0 0 0 0 0\n",
            "  0 0 0 0 0 0 0 0 0 0 0 0 0 0]\n",
            " [0 0 0 0 0 0 0 0 1 0 0 0 0 0 0 0 0 0 0 0 0 0 0 0 0 0 0 0 0 0 0 0 0 0 0 0\n",
            "  0 0 0 0 0 0 0 0 0 0 0 0 0 0]\n",
            " [0 0 0 0 0 0 0 0 0 0 0 0 0 0 0 0 0 0 0 0 0 0 0 0 0 0 0 0 0 0 0 0 0 0 0 0\n",
            "  0 0 0 0 0 0 0 0 0 0 0 0 0 0]\n",
            " [0 0 0 0 0 0 0 0 0 0 0 0 0 0 0 0 0 0 0 0 0 0 0 0 0 0 0 0 0 0 0 0 0 0 0 1\n",
            "  1 1 0 0 0 0 0 0 0 0 0 0 0 0]\n",
            " [0 0 0 0 0 0 0 0 0 0 0 0 0 0 0 0 0 0 0 0 0 0 0 0 0 0 0 0 0 0 0 0 0 0 0 0\n",
            "  0 0 0 0 0 0 0 0 0 0 0 0 0 0]\n",
            " [0 0 0 0 0 0 0 0 0 0 0 0 0 0 0 0 0 0 0 0 0 0 0 0 0 0 0 0 0 0 0 0 0 0 0 0\n",
            "  0 0 0 0 0 0 0 0 0 0 0 0 0 0]\n",
            " [0 0 0 0 0 0 0 0 0 0 0 0 0 0 0 0 0 0 0 0 0 0 0 0 0 0 0 0 0 0 0 0 0 0 0 0\n",
            "  0 0 0 0 0 0 0 0 0 0 0 0 0 0]]\n"
          ]
        }
      ],
      "source": [
        "def iterate(Z):\n",
        "   \n",
        "    N = (Z[0:-2,0:-2] + Z[0:-2,1:-1] + Z[0:-2,2:] +\n",
        "         Z[1:-1,0:-2]                + Z[1:-1,2:] +\n",
        "         Z[2:  ,0:-2] + Z[2:  ,1:-1] + Z[2:  ,2:])\n",
        "\n",
        "  \n",
        "    birth = (N==3) & (Z[1:-1,1:-1]==0)\n",
        "    survive = ((N==2) | (N==3)) & (Z[1:-1,1:-1]==1)\n",
        "    Z[...] = 0\n",
        "    Z[1:-1,1:-1][birth | survive] = 1\n",
        "    return Z\n",
        "\n",
        "Z = np.random.randint(0,2,(50,50))\n",
        "for i in range(100): Z = iterate(Z)\n",
        "print(Z)\n"
      ]
    },
    {
      "cell_type": "markdown",
      "metadata": {
        "id": "ks5el7naun_k"
      },
      "source": [
        "#### 89. How to get the n largest values of an array (★★★) \n",
        "(**hint**: np.argsort | np.argpartition)"
      ]
    },
    {
      "cell_type": "code",
      "execution_count": 92,
      "metadata": {
        "id": "hKd-66hPun_l",
        "colab": {
          "base_uri": "https://localhost:8080/"
        },
        "outputId": "bf68a1c3-5c04-4907-fadc-08cdb5b0b7dc"
      },
      "outputs": [
        {
          "output_type": "stream",
          "name": "stdout",
          "text": [
            "[9995 9996 9997 9998 9999]\n"
          ]
        }
      ],
      "source": [
        "arr = np.arange(10000)\n",
        "np.random.shuffle(arr)\n",
        "n = 5\n",
        "print(arr[np.argsort(arr)[-n:]])"
      ]
    },
    {
      "cell_type": "markdown",
      "metadata": {
        "id": "C8mQD1ycun_l"
      },
      "source": [
        "#### 90. Given an arbitrary number of vectors, build the cartesian product (every combinations of every item) (★★★) \n",
        "(**hint**: np.indices)"
      ]
    },
    {
      "cell_type": "code",
      "execution_count": 93,
      "metadata": {
        "scrolled": true,
        "id": "QgCIhcDQun_m",
        "colab": {
          "base_uri": "https://localhost:8080/"
        },
        "outputId": "22424192-bebc-4ec2-c5d4-a03ab0ea52af"
      },
      "outputs": [
        {
          "output_type": "stream",
          "name": "stdout",
          "text": [
            "[[1 4 6]\n",
            " [1 4 7]\n",
            " [1 5 6]\n",
            " [1 5 7]\n",
            " [2 4 6]\n",
            " [2 4 7]\n",
            " [2 5 6]\n",
            " [2 5 7]\n",
            " [3 4 6]\n",
            " [3 4 7]\n",
            " [3 5 6]\n",
            " [3 5 7]]\n"
          ]
        }
      ],
      "source": [
        "def cartesian(arrays):\n",
        "    arrays = [np.asarray(a) for a in arrays]\n",
        "    shape = (len(x) for x in arrays)\n",
        "\n",
        "    ix = np.indices(shape, dtype=int)\n",
        "    ix = ix.reshape(len(arrays), -1).T\n",
        "\n",
        "    for n, arr in enumerate(arrays):\n",
        "        ix[:, n] = arrays[n][ix[:, n]]\n",
        "\n",
        "    return ix\n",
        "\n",
        "print (cartesian(([1, 2, 3], [4, 5], [6, 7])))"
      ]
    },
    {
      "cell_type": "markdown",
      "metadata": {
        "id": "Sqq_GmOAun_n"
      },
      "source": [
        "#### 91. How to create a record array from a regular array? (★★★) \n",
        "(**hint**: np.core.records.fromarrays)"
      ]
    },
    {
      "cell_type": "code",
      "execution_count": 94,
      "metadata": {
        "id": "SfWf3uXzun_n",
        "colab": {
          "base_uri": "https://localhost:8080/"
        },
        "outputId": "6e1bdacd-66f6-4d54-d9a7-2d240dd74367"
      },
      "outputs": [
        {
          "output_type": "stream",
          "name": "stdout",
          "text": [
            "[(b'Hello', 2.5, 3) (b'World', 3.6, 2)]\n"
          ]
        }
      ],
      "source": [
        "Z = np.array([(\"Hello\", 2.5, 3),\n",
        "              (\"World\", 3.6, 2)])\n",
        "R = np.core.records.fromarrays(Z.T, \n",
        "                               names='col1, col2, col3',\n",
        "                               formats = 'S8, f8, i8')\n",
        "print(R)"
      ]
    },
    {
      "cell_type": "markdown",
      "metadata": {
        "id": "KolYUT6Qun_o"
      },
      "source": [
        "#### 92. Consider a large vector Z, compute Z to the power of 3 using 3 different methods (★★★) \n",
        "(**hint**: np.power, \\*, np.einsum)"
      ]
    },
    {
      "cell_type": "code",
      "execution_count": 96,
      "metadata": {
        "id": "24hVVzfkun_p",
        "colab": {
          "base_uri": "https://localhost:8080/"
        },
        "outputId": "2f682393-2bff-42b7-fe30-bbf190a2e8a8"
      },
      "outputs": [
        {
          "output_type": "stream",
          "name": "stdout",
          "text": [
            "3.86 s ± 38.4 ms per loop (mean ± std. dev. of 7 runs, 1 loop each)\n",
            "201 ms ± 20.9 ms per loop (mean ± std. dev. of 7 runs, 10 loops each)\n",
            "147 ms ± 20 ms per loop (mean ± std. dev. of 7 runs, 10 loops each)\n"
          ]
        }
      ],
      "source": [
        "x = np.random.rand(int(5e7))\n",
        "\n",
        "%timeit np.power(x,3)\n",
        "%timeit x*x*x\n",
        "%timeit np.einsum('i,i,i->i',x,x,x)\n"
      ]
    },
    {
      "cell_type": "markdown",
      "metadata": {
        "id": "J3fLo4B8un_p"
      },
      "source": [
        "#### 93. Consider two arrays A and B of shape (8,3) and (2,2). How to find rows of A that contain elements of each row of B regardless of the order of the elements in B? (★★★) \n",
        "(**hint**: np.where)"
      ]
    },
    {
      "cell_type": "code",
      "execution_count": 97,
      "metadata": {
        "id": "LD1AJOPMun_q",
        "colab": {
          "base_uri": "https://localhost:8080/"
        },
        "outputId": "ab0d06d4-0174-40a2-bce8-85f70735bc0c"
      },
      "outputs": [
        {
          "output_type": "stream",
          "name": "stdout",
          "text": [
            "[2 3 5 7]\n"
          ]
        }
      ],
      "source": [
        "A = np.random.randint(0,5,(8,3))\n",
        "B = np.random.randint(0,5,(2,2))\n",
        "\n",
        "C = (A[..., np.newaxis, np.newaxis] == B)\n",
        "rows = np.where(C.any((3,1)).all(1))[0]\n",
        "print(rows)"
      ]
    },
    {
      "cell_type": "markdown",
      "metadata": {
        "id": "UGtvKb_9un_q"
      },
      "source": [
        "#### 94. Considering a 10x3 matrix, extract rows with unequal values (e.g. \\[2,2,3\\]) (★★★)"
      ]
    },
    {
      "cell_type": "code",
      "execution_count": 98,
      "metadata": {
        "id": "UBXJAlYHun_r",
        "colab": {
          "base_uri": "https://localhost:8080/"
        },
        "outputId": "5fd9caed-25d1-4b77-d3c0-221079fd0605"
      },
      "outputs": [
        {
          "output_type": "stream",
          "name": "stdout",
          "text": [
            "[[4 3 2]\n",
            " [2 0 3]\n",
            " [1 2 4]\n",
            " [0 4 4]\n",
            " [4 0 3]\n",
            " [0 0 1]\n",
            " [0 1 1]\n",
            " [4 4 0]\n",
            " [1 1 2]\n",
            " [4 1 2]]\n"
          ]
        }
      ],
      "source": [
        "Z = np.random.randint(0,5,(10,3))\n",
        "U = Z[Z.max(axis=1) != Z.min(axis=1),:]\n",
        "print(U)"
      ]
    },
    {
      "cell_type": "markdown",
      "metadata": {
        "id": "eknhJK_Bun_s"
      },
      "source": [
        "#### 95. Convert a vector of ints into a matrix binary representation (★★★) \n",
        "(**hint**: np.unpackbits)"
      ]
    },
    {
      "cell_type": "code",
      "execution_count": 99,
      "metadata": {
        "id": "p7-20jU1un_s",
        "colab": {
          "base_uri": "https://localhost:8080/"
        },
        "outputId": "615351be-03fc-4b8f-f07e-67ddaeb0ee04"
      },
      "outputs": [
        {
          "output_type": "stream",
          "name": "stdout",
          "text": [
            "[[0 0 0 0 0 0 0 0]\n",
            " [0 0 0 0 0 0 0 1]\n",
            " [0 0 0 0 0 0 1 0]\n",
            " [0 0 0 0 0 0 1 1]\n",
            " [0 0 0 0 1 1 1 1]\n",
            " [0 0 0 1 0 0 0 0]\n",
            " [0 0 1 0 0 0 0 0]\n",
            " [0 1 0 0 0 0 0 0]\n",
            " [1 0 0 0 0 0 0 0]]\n"
          ]
        }
      ],
      "source": [
        "I = np.array([0, 1, 2, 3, 15, 16, 32, 64, 128])\n",
        "B = ((I.reshape(-1,1) & (2**np.arange(8))) != 0).astype(int)\n",
        "print(B[:,::-1])"
      ]
    },
    {
      "cell_type": "markdown",
      "metadata": {
        "id": "t7PZ15Kiun_x"
      },
      "source": [
        "#### 96. Given a two dimensional array, how to extract unique rows? (★★★) \n",
        "(**hint**: np.ascontiguousarray)"
      ]
    },
    {
      "cell_type": "code",
      "execution_count": 100,
      "metadata": {
        "id": "RFaWd3hYun_x",
        "colab": {
          "base_uri": "https://localhost:8080/"
        },
        "outputId": "7f796b44-7d44-4db5-acfa-e599edd0dd93"
      },
      "outputs": [
        {
          "output_type": "stream",
          "name": "stdout",
          "text": [
            "[[0 1 0]\n",
            " [0 1 1]\n",
            " [1 0 0]\n",
            " [1 0 1]\n",
            " [1 1 0]\n",
            " [1 1 1]]\n"
          ]
        }
      ],
      "source": [
        "Z = np.random.randint(0,2,(6,3))\n",
        "T = np.ascontiguousarray(Z).view(np.dtype((np.void, Z.dtype.itemsize * Z.shape[1])))\n",
        "_, idx = np.unique(T, return_index=True)\n",
        "uZ = Z[idx]\n",
        "print(uZ)"
      ]
    },
    {
      "cell_type": "markdown",
      "metadata": {
        "id": "QxOVSMB7un_y"
      },
      "source": [
        "#### 97. Considering 2 vectors A & B, write the einsum equivalent of inner, outer, sum, and mul function (★★★) \n",
        "(**hint**: np.einsum)"
      ]
    },
    {
      "cell_type": "code",
      "execution_count": 101,
      "metadata": {
        "id": "eUmZlgJ2un_z",
        "colab": {
          "base_uri": "https://localhost:8080/"
        },
        "outputId": "513188ee-fdfc-4a49-e830-972cfaacce71"
      },
      "outputs": [
        {
          "output_type": "execute_result",
          "data": {
            "text/plain": [
              "array([[2.87052286e-01, 9.64497949e-01, 1.90602101e-01, 5.27850117e-01,\n",
              "        3.83090728e-01, 2.68339456e-01, 3.58907685e-02, 6.79957998e-01,\n",
              "        4.51239356e-01, 7.12620525e-01],\n",
              "       [2.58487353e-01, 8.68519550e-01, 1.71635047e-01, 4.75323091e-01,\n",
              "        3.44968890e-01, 2.41636660e-01, 3.23192332e-02, 6.12294526e-01,\n",
              "        4.06335962e-01, 6.41706764e-01],\n",
              "       [1.21585362e-01, 4.08527778e-01, 8.07324192e-02, 2.23578947e-01,\n",
              "        1.62263905e-01, 1.13659258e-01, 1.52020810e-02, 2.88006554e-01,\n",
              "        1.91129293e-01, 3.01841264e-01],\n",
              "       [1.89579965e-01, 6.36990180e-01, 1.25880689e-01, 3.48611774e-01,\n",
              "        2.53007310e-01, 1.77221318e-01, 2.37035932e-02, 4.49069454e-01,\n",
              "        2.98015189e-01, 4.70640997e-01],\n",
              "       [1.75416981e-01, 5.89402442e-01, 1.16476498e-01, 3.22567973e-01,\n",
              "        2.34105848e-01, 1.63981614e-01, 2.19327647e-02, 4.15520743e-01,\n",
              "        2.75751315e-01, 4.35480737e-01],\n",
              "       [4.19858106e-03, 1.41072655e-02, 2.78784879e-03, 7.72061959e-03,\n",
              "        5.60329094e-03, 3.92487714e-03, 5.24957675e-04, 9.94543123e-03,\n",
              "        6.60006941e-03, 1.04231709e-02],\n",
              "       [2.81578907e-01, 9.46107354e-01, 1.86967789e-01, 5.17785318e-01,\n",
              "        3.75786133e-01, 2.63222885e-01, 3.52064201e-02, 6.66992877e-01,\n",
              "        4.42635335e-01, 6.99032610e-01],\n",
              "       [2.82444860e-01, 9.49016960e-01, 1.87542779e-01, 5.19377686e-01,\n",
              "        3.76941805e-01, 2.64032386e-01, 3.53146920e-02, 6.69044110e-01,\n",
              "        4.43996591e-01, 7.01182377e-01],\n",
              "       [1.56720741e-01, 5.26582929e-01, 1.04062235e-01, 2.88188130e-01,\n",
              "        2.09154449e-01, 1.46504175e-01, 1.95951334e-02, 3.71233837e-01,\n",
              "        2.46361272e-01, 3.89066461e-01],\n",
              "       [2.09078979e-01, 7.02507020e-01, 1.38827992e-01, 3.84467809e-01,\n",
              "        2.79030065e-01, 1.95449199e-01, 2.61415971e-02, 4.95257940e-01,\n",
              "        3.28667174e-01, 5.19048197e-01]])"
            ]
          },
          "metadata": {},
          "execution_count": 101
        }
      ],
      "source": [
        "A = np.random.uniform(0,1,10)\n",
        "B = np.random.uniform(0,1,10)\n",
        "\n",
        "np.einsum('i->', A)       \n",
        "np.einsum('i,i->i', A, B) \n",
        "np.einsum('i,i', A, B)    \n",
        "np.einsum('i,j->ij', A, B)    "
      ]
    },
    {
      "cell_type": "markdown",
      "metadata": {
        "id": "WLY4YxpQun_z"
      },
      "source": [
        "#### 98. Considering a path described by two vectors (X,Y), how to sample it using equidistant samples (★★★)? \n",
        "(**hint**: np.cumsum, np.interp)"
      ]
    },
    {
      "cell_type": "code",
      "execution_count": 102,
      "metadata": {
        "collapsed": true,
        "id": "RGxLVxBmun_0"
      },
      "outputs": [],
      "source": [
        "phi = np.arange(0, 10*np.pi, 0.1)\n",
        "a = 1\n",
        "x = a*phi*np.cos(phi)\n",
        "y = a*phi*np.sin(phi)\n",
        "\n",
        "dr = (np.diff(x)**2 + np.diff(y)**2)**.5 \n",
        "r = np.zeros_like(x)\n",
        "r[1:] = np.cumsum(dr)               \n",
        "r_int = np.linspace(0, r.max(), 200) \n",
        "x_int = np.interp(r_int, r, x)       \n",
        "y_int = np.interp(r_int, r, y)"
      ]
    },
    {
      "cell_type": "markdown",
      "metadata": {
        "id": "DOupTruDun_1"
      },
      "source": [
        "#### 99. Given an integer n and a 2D array X, select from X the rows which can be interpreted as draws from a multinomial distribution with n degrees, i.e., the rows which only contain integers and which sum to n. (★★★) \n",
        "(**hint**: np.logical\\_and.reduce, np.mod)"
      ]
    },
    {
      "cell_type": "code",
      "execution_count": 103,
      "metadata": {
        "id": "1bCiYbd9un_1",
        "colab": {
          "base_uri": "https://localhost:8080/"
        },
        "outputId": "01ea8659-6981-4fd0-ccaf-f77b66b4102e"
      },
      "outputs": [
        {
          "output_type": "stream",
          "name": "stdout",
          "text": [
            "[[2. 0. 1. 1.]]\n"
          ]
        }
      ],
      "source": [
        "X = np.asarray([[1.0, 0.0, 3.0, 8.0],\n",
        "                [2.0, 0.0, 1.0, 1.0],\n",
        "                [1.5, 2.5, 1.0, 0.0]])\n",
        "n = 4\n",
        "M = np.logical_and.reduce(np.mod(X, 1) == 0, axis=-1)\n",
        "M &= (X.sum(axis=-1) == n)\n",
        "print(X[M])"
      ]
    },
    {
      "cell_type": "markdown",
      "metadata": {
        "id": "ypvT3QJPun_2"
      },
      "source": [
        "#### 100. Compute bootstrapped 95% confidence intervals for the mean of a 1D array X (i.e., resample the elements of an array with replacement N times, compute the mean of each sample, and then compute percentiles over the means). (★★★) \n",
        "(**hint**: np.percentile)"
      ]
    },
    {
      "cell_type": "code",
      "execution_count": 104,
      "metadata": {
        "id": "wI0GCyFyun_3",
        "colab": {
          "base_uri": "https://localhost:8080/"
        },
        "outputId": "67b6b48a-6158-424d-feb2-adbad0e35a41"
      },
      "outputs": [
        {
          "output_type": "stream",
          "name": "stdout",
          "text": [
            "[-0.27563362  0.11597591]\n"
          ]
        }
      ],
      "source": [
        "X = np.random.randn(100) \n",
        "N = 1000 \n",
        "idx = np.random.randint(0, X.size, (N, X.size))\n",
        "means = X[idx].mean(axis=1)\n",
        "confint = np.percentile(means, [2.5, 97.5])\n",
        "print(confint)"
      ]
    }
  ],
  "metadata": {
    "kernelspec": {
      "display_name": "Python 3",
      "language": "python",
      "name": "python3"
    },
    "language_info": {
      "codemirror_mode": {
        "name": "ipython",
        "version": 3
      },
      "file_extension": ".py",
      "mimetype": "text/x-python",
      "name": "python",
      "nbconvert_exporter": "python",
      "pygments_lexer": "ipython3",
      "version": "3.8.3"
    },
    "colab": {
      "provenance": [],
      "collapsed_sections": [
        "nr24Z-u2un9I"
      ]
    }
  },
  "nbformat": 4,
  "nbformat_minor": 0
}