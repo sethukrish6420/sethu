{
 "cells": [
  {
   "cell_type": "code",
   "execution_count": 1,
   "id": "0dcf5975",
   "metadata": {},
   "outputs": [],
   "source": [
    "from dash import Dash,html,dcc,Input,Output\n",
    "import plotly.express as px\n",
    "import seaborn as sns\n",
    "import pandas as pd"
   ]
  },
  {
   "cell_type": "code",
   "execution_count": 2,
   "id": "16fabc70",
   "metadata": {},
   "outputs": [
    {
     "data": {
      "text/plain": [
       "\"app = Dash()\\napp.layout = html.Div(children=[\\n    html.H1('happy to learn DS')\\n])\\nif __name__ == '__main__':\\n    app.run_server()\""
      ]
     },
     "execution_count": 2,
     "metadata": {},
     "output_type": "execute_result"
    }
   ],
   "source": [
    "'''app = Dash()\n",
    "app.layout = html.Div(children=[\n",
    "    html.H1('happy to learn DS')\n",
    "])\n",
    "if __name__ == '__main__':\n",
    "    app.run_server()'''"
   ]
  },
  {
   "cell_type": "code",
   "execution_count": 3,
   "id": "81123d19",
   "metadata": {},
   "outputs": [
    {
     "data": {
      "text/plain": [
       "\"app = Dash()\\napp.layout = html.Div(children=[\\n    html.H1('happy to learn DS'),\\n    html.H2('happy to learn DS'),\\n    html.H3('happy to learn DS'),\\n    html.H4('happy to learn DS'),\\n    html.H5('happy to learn DS'),\\n    html.H6('happy to learn DS')\\n    \\n])\\nif __name__ == '__main__':\\n    app.run_server()\""
      ]
     },
     "execution_count": 3,
     "metadata": {},
     "output_type": "execute_result"
    }
   ],
   "source": [
    "'''app = Dash()\n",
    "app.layout = html.Div(children=[\n",
    "    html.H1('happy to learn DS'),\n",
    "    html.H2('happy to learn DS'),\n",
    "    html.H3('happy to learn DS'),\n",
    "    html.H4('happy to learn DS'),\n",
    "    html.H5('happy to learn DS'),\n",
    "    html.H6('happy to learn DS')\n",
    "    \n",
    "])\n",
    "if __name__ == '__main__':\n",
    "    app.run_server()'''"
   ]
  },
  {
   "cell_type": "code",
   "execution_count": 4,
   "id": "5d7a3739",
   "metadata": {},
   "outputs": [
    {
     "data": {
      "text/plain": [
       "\"app = Dash()\\napp.layout = html.Div(children=[\\n    html.H1(children = 'happy to learn DS',style = {'color':'red','textAlign':'center'})\\n])\\nif __name__ == '__main__':\\n    app.run_server()\""
      ]
     },
     "execution_count": 4,
     "metadata": {},
     "output_type": "execute_result"
    }
   ],
   "source": [
    "'''app = Dash()\n",
    "app.layout = html.Div(children=[\n",
    "    html.H1(children = 'happy to learn DS',style = {'color':'red','textAlign':'center'})\n",
    "])\n",
    "if __name__ == '__main__':\n",
    "    app.run_server()'''"
   ]
  },
  {
   "cell_type": "code",
   "execution_count": 5,
   "id": "9f9f29b9",
   "metadata": {},
   "outputs": [
    {
     "data": {
      "text/plain": [
       "\"app = Dash()\\ndf = sns.load_dataset('tips.csv')\\nfig = px.bar(df,x = 'sex',y = 'total_bill',color = 'day',barmode = 'group')\\napp.layout = html.Div(children=[\\n             html.H1(children = 'happy to learn DS',style = {'color':'red','textAlign':'center'}),\\n             dcc.Graph(figure = fig)\\n])\\nif __name__ == '__main__':\\n    app.run_server()\""
      ]
     },
     "execution_count": 5,
     "metadata": {},
     "output_type": "execute_result"
    }
   ],
   "source": [
    "'''app = Dash()\n",
    "df = sns.load_dataset('tips.csv')\n",
    "fig = px.bar(df,x = 'sex',y = 'total_bill',color = 'day',barmode = 'group')\n",
    "app.layout = html.Div(children=[\n",
    "             html.H1(children = 'happy to learn DS',style = {'color':'red','textAlign':'center'}),\n",
    "             dcc.Graph(figure = fig)\n",
    "])\n",
    "if __name__ == '__main__':\n",
    "    app.run_server()'''"
   ]
  },
  {
   "cell_type": "code",
   "execution_count": 6,
   "id": "ee7d4e61",
   "metadata": {},
   "outputs": [
    {
     "data": {
      "text/plain": [
       "\"app = Dash()\\ndf = pd.read_csv('tips.csv')\\nfig = px.bar(df,x = 'sex',y = 'total_bill',color = 'day',barmode = 'group')\\napp.layout = html.Div(children=[\\n             html.H1(children = 'happy to learn DS',style = {'color':'red','textAlign':'center'}),\\n             dcc.Graph(figure = fig)\\n])\\nif __name__ == '__main__':\\n    app.run_server()\""
      ]
     },
     "execution_count": 6,
     "metadata": {},
     "output_type": "execute_result"
    }
   ],
   "source": [
    "'''app = Dash()\n",
    "df = pd.read_csv('tips.csv')\n",
    "fig = px.bar(df,x = 'sex',y = 'total_bill',color = 'day',barmode = 'group')\n",
    "app.layout = html.Div(children=[\n",
    "             html.H1(children = 'happy to learn DS',style = {'color':'red','textAlign':'center'}),\n",
    "             dcc.Graph(figure = fig)\n",
    "])\n",
    "if __name__ == '__main__':\n",
    "    app.run_server()'''"
   ]
  },
  {
   "cell_type": "code",
   "execution_count": 7,
   "id": "611a8c6c",
   "metadata": {},
   "outputs": [
    {
     "data": {
      "text/plain": [
       "\"app = Dash()\\ndf = pd.read_csv('tips.csv')\\nfig = px.scatter(df,x = 'total_bill',y = 'tip',color = 'sex')\\napp.layout = html.Div(children=[\\n             html.H1(children = 'happy to learn DS',style = {'color':'red','textAlign':'center'}),\\n             dcc.Graph(figure = fig)\\n])\\nif __name__ == '__main__':\\n    app.run_server()\""
      ]
     },
     "execution_count": 7,
     "metadata": {},
     "output_type": "execute_result"
    }
   ],
   "source": [
    "'''app = Dash()\n",
    "df = pd.read_csv('tips.csv')\n",
    "fig = px.scatter(df,x = 'total_bill',y = 'tip',color = 'sex')\n",
    "app.layout = html.Div(children=[\n",
    "             html.H1(children = 'happy to learn DS',style = {'color':'red','textAlign':'center'}),\n",
    "             dcc.Graph(figure = fig)\n",
    "])\n",
    "if __name__ == '__main__':\n",
    "    app.run_server()'''"
   ]
  },
  {
   "cell_type": "code",
   "execution_count": 8,
   "id": "94c01cd4",
   "metadata": {},
   "outputs": [
    {
     "data": {
      "text/plain": [
       "\"app = Dash()\\ndf = pd.read_csv('flights.csv')\\nfig = px.scatter(df,x = 'year',y = 'passengers')\\napp.layout = html.Div(children=[\\n             html.H1(children = 'happy to learn DS',style = {'color':'red','textAlign':'center'}),\\n             dcc.Graph(figure = fig)\\n])\\nif __name__ == '__main__':\\n    app.run_server()\""
      ]
     },
     "execution_count": 8,
     "metadata": {},
     "output_type": "execute_result"
    }
   ],
   "source": [
    "'''app = Dash()\n",
    "df = pd.read_csv('flights.csv')\n",
    "fig = px.scatter(df,x = 'year',y = 'passengers')\n",
    "app.layout = html.Div(children=[\n",
    "             html.H1(children = 'happy to learn DS',style = {'color':'red','textAlign':'center'}),\n",
    "             dcc.Graph(figure = fig)\n",
    "])\n",
    "if __name__ == '__main__':\n",
    "    app.run_server()'''"
   ]
  },
  {
   "cell_type": "code",
   "execution_count": 9,
   "id": "9b39af12",
   "metadata": {},
   "outputs": [
    {
     "data": {
      "text/plain": [
       "\"app = Dash()\\ndf = pd.read_csv('flights.csv')\\nfig = px.scatter(df,x = 'year',y = 'passengers',color = 'month',size = 'passengers')\\napp.layout = html.Div(children=[\\n             html.H1(children = 'happy to learn DS',style = {'color':'red','textAlign':'center'}),\\n             dcc.Graph(figure = fig)\\n])\\nif __name__ == '__main__':\\n    app.run_server()\""
      ]
     },
     "execution_count": 9,
     "metadata": {},
     "output_type": "execute_result"
    }
   ],
   "source": [
    "'''app = Dash()\n",
    "df = pd.read_csv('flights.csv')\n",
    "fig = px.scatter(df,x = 'year',y = 'passengers',color = 'month',size = 'passengers')\n",
    "app.layout = html.Div(children=[\n",
    "             html.H1(children = 'happy to learn DS',style = {'color':'red','textAlign':'center'}),\n",
    "             dcc.Graph(figure = fig)\n",
    "])\n",
    "if __name__ == '__main__':\n",
    "    app.run_server()'''"
   ]
  },
  {
   "cell_type": "code",
   "execution_count": 10,
   "id": "23a55a27",
   "metadata": {},
   "outputs": [
    {
     "data": {
      "text/plain": [
       "\"app = Dash()\\ndf = pd.read_csv('tips.csv')\\nfig1 = px.scatter(df,x = 'total_bill',y = 'tip',color = 'sex')\\nfig2 = px.bar(df,x ='sex',y='tip',color ='smoker')\\napp.layout = html.Div(children=[\\n             html.H1(children = 'happy to learn DS',style = {'color':'red','textAlign':'center'}),\\n             dcc.Graph(figure = fig1),\\n             dcc.Graph(figure = fig2)\\n])\\nif __name__ == '__main__':\\n    app.run_server()\""
      ]
     },
     "execution_count": 10,
     "metadata": {},
     "output_type": "execute_result"
    }
   ],
   "source": [
    "'''app = Dash()\n",
    "df = pd.read_csv('tips.csv')\n",
    "fig1 = px.scatter(df,x = 'total_bill',y = 'tip',color = 'sex')\n",
    "fig2 = px.bar(df,x ='sex',y='tip',color ='smoker')\n",
    "app.layout = html.Div(children=[\n",
    "             html.H1(children = 'happy to learn DS',style = {'color':'red','textAlign':'center'}),\n",
    "             dcc.Graph(figure = fig1),\n",
    "             dcc.Graph(figure = fig2)\n",
    "])\n",
    "if __name__ == '__main__':\n",
    "    app.run_server()'''"
   ]
  },
  {
   "cell_type": "code",
   "execution_count": 11,
   "id": "e6f0b0e6",
   "metadata": {},
   "outputs": [
    {
     "data": {
      "text/plain": [
       "\"app = Dash()\\ndf = pd.read_csv('flights.csv')\\nfig = px.scatter(df,x = 'year',y = 'passengers',color = 'month',size = 'passengers')\\napp.layout = html.Div(children=[\\n             html.H1(children = 'happy to learn DS',style = {'color':'red','textAlign':'center'}),\\n             dcc.Dropdown(['A','B','C','D']),\\n             dcc.Graph(figure = fig)\\n            \\n])\\nif __name__ == '__main__':\\n    app.run_server()\""
      ]
     },
     "execution_count": 11,
     "metadata": {},
     "output_type": "execute_result"
    }
   ],
   "source": [
    "'''app = Dash()\n",
    "df = pd.read_csv('flights.csv')\n",
    "fig = px.scatter(df,x = 'year',y = 'passengers',color = 'month',size = 'passengers')\n",
    "app.layout = html.Div(children=[\n",
    "             html.H1(children = 'happy to learn DS',style = {'color':'red','textAlign':'center'}),\n",
    "             dcc.Dropdown(['A','B','C','D']),\n",
    "             dcc.Graph(figure = fig)\n",
    "            \n",
    "])\n",
    "if __name__ == '__main__':\n",
    "    app.run_server()'''"
   ]
  },
  {
   "cell_type": "code",
   "execution_count": 12,
   "id": "dbe4ccc7",
   "metadata": {},
   "outputs": [
    {
     "data": {
      "text/plain": [
       "'app = Dash()\\ndf = pd.read_csv(\\'flights.csv\\')\\nfig = px.scatter(df,x = \\'year\\',y = \\'passengers\\',color = \\'month\\',size = \\'passengers\\')\\napp.layout = html.Div(children=[\\n             html.H1(children = \\'happy to learn DS\\',style = {\\'color\\':\\'red\\',\\'textAlign\\':\\'center\\'}),\\n             dcc.Dropdown([\\'A\\',\\'B\\',\\'C\\',\\'D\\'],\"A\",multi = True,disabled = True),\\n             dcc.Graph(figure = fig)\\n            \\n])\\nif __name__ == \\'__main__\\':\\n    app.run_server()'"
      ]
     },
     "execution_count": 12,
     "metadata": {},
     "output_type": "execute_result"
    }
   ],
   "source": [
    "'''app = Dash()\n",
    "df = pd.read_csv('flights.csv')\n",
    "fig = px.scatter(df,x = 'year',y = 'passengers',color = 'month',size = 'passengers')\n",
    "app.layout = html.Div(children=[\n",
    "             html.H1(children = 'happy to learn DS',style = {'color':'red','textAlign':'center'}),\n",
    "             dcc.Dropdown(['A','B','C','D'],\"A\",multi = True,disabled = True),\n",
    "             dcc.Graph(figure = fig)\n",
    "            \n",
    "])\n",
    "if __name__ == '__main__':\n",
    "    app.run_server()'''"
   ]
  },
  {
   "cell_type": "code",
   "execution_count": 13,
   "id": "3dd6f912",
   "metadata": {},
   "outputs": [
    {
     "data": {
      "text/plain": [
       "'app = Dash()\\ndf = pd.read_csv(\\'flights.csv\\')\\nfig = px.scatter(df,x = \\'year\\',y = \\'passengers\\',color = \\'month\\',size = \\'passengers\\')\\napp.layout = html.Div(children=[\\n             html.H1(children = \\'happy to learn DS\\',style = {\\'color\\':\\'red\\',\\'textAlign\\':\\'center\\'}),\\n             dcc.Dropdown([\\'A\\',\\'B\\',\\'C\\',\\'D\\'],\"A\"),\\n             dcc.Graph(figure = fig)\\n            \\n])\\nif __name__ == \\'__main__\\':\\n    app.run_server()'"
      ]
     },
     "execution_count": 13,
     "metadata": {},
     "output_type": "execute_result"
    }
   ],
   "source": [
    "'''app = Dash()\n",
    "df = pd.read_csv('flights.csv')\n",
    "fig = px.scatter(df,x = 'year',y = 'passengers',color = 'month',size = 'passengers')\n",
    "app.layout = html.Div(children=[\n",
    "             html.H1(children = 'happy to learn DS',style = {'color':'red','textAlign':'center'}),\n",
    "             dcc.Dropdown(['A','B','C','D'],\"A\"),\n",
    "             dcc.Graph(figure = fig)\n",
    "            \n",
    "])\n",
    "if __name__ == '__main__':\n",
    "    app.run_server()'''"
   ]
  },
  {
   "cell_type": "code",
   "execution_count": 14,
   "id": "0ae4b68c",
   "metadata": {},
   "outputs": [
    {
     "data": {
      "text/plain": [
       "'app = Dash()\\napp.layout = html.Div(children=[\\n    html.H1(children = \\'happy to learn DS\\',style = {\\'color\\':\\'red\\',\\'textAlign\\':\\'center\\'}),\\n    dcc.RadioItems([\\'male\\',\"female\",\"others\"])\\n])\\nif __name__ == \\'__main__\\':\\n    app.run_server()'"
      ]
     },
     "execution_count": 14,
     "metadata": {},
     "output_type": "execute_result"
    }
   ],
   "source": [
    "'''app = Dash()\n",
    "app.layout = html.Div(children=[\n",
    "    html.H1(children = 'happy to learn DS',style = {'color':'red','textAlign':'center'}),\n",
    "    dcc.RadioItems(['male',\"female\",\"others\"])\n",
    "])\n",
    "if __name__ == '__main__':\n",
    "    app.run_server()'''"
   ]
  },
  {
   "cell_type": "code",
   "execution_count": 15,
   "id": "2e60f343",
   "metadata": {},
   "outputs": [
    {
     "data": {
      "text/plain": [
       "'app = Dash()\\napp.layout = html.Div(children=[\\n    html.H1(children = \\'happy to learn DS\\',style = {\\'color\\':\\'red\\',\\'textAlign\\':\\'center\\'}),\\n    dcc.RadioItems([\\'male\\',\"female\",\"others\"],\\'male\\')\\n])\\nif __name__ == \\'__main__\\':\\n    app.run_server()'"
      ]
     },
     "execution_count": 15,
     "metadata": {},
     "output_type": "execute_result"
    }
   ],
   "source": [
    "'''app = Dash()\n",
    "app.layout = html.Div(children=[\n",
    "    html.H1(children = 'happy to learn DS',style = {'color':'red','textAlign':'center'}),\n",
    "    dcc.RadioItems(['male',\"female\",\"others\"],'male')\n",
    "])\n",
    "if __name__ == '__main__':\n",
    "    app.run_server()'''"
   ]
  },
  {
   "cell_type": "code",
   "execution_count": 16,
   "id": "0076dd80",
   "metadata": {},
   "outputs": [
    {
     "data": {
      "text/plain": [
       "'app = Dash()\\napp.layout = html.Div(children=[\\n    html.H1(children = \\'happy to learn DS\\',style = {\\'color\\':\\'red\\',\\'textAlign\\':\\'center\\'}),\\n    dcc.RadioItems([\\'male\\',\"female\",\"others\"],\\'male\\'),\\n    dcc.RadioItems(options =[{\\'label\\':\\'male\\',\\'value\\':\\'M\\'},{\\'label\\':\\'female\\',\\'value\\':\\'F\\'},{\\'label\\':\\'others\\',\\'value\\':\\'Not\\'}])\\n])\\nif __name__ == \\'__main__\\':\\n    app.run_server()'"
      ]
     },
     "execution_count": 16,
     "metadata": {},
     "output_type": "execute_result"
    }
   ],
   "source": [
    "'''app = Dash()\n",
    "app.layout = html.Div(children=[\n",
    "    html.H1(children = 'happy to learn DS',style = {'color':'red','textAlign':'center'}),\n",
    "    dcc.RadioItems(['male',\"female\",\"others\"],'male'),\n",
    "    dcc.RadioItems(options =[{'label':'male','value':'M'},{'label':'female','value':'F'},{'label':'others','value':'Not'}])\n",
    "])\n",
    "if __name__ == '__main__':\n",
    "    app.run_server()'''"
   ]
  },
  {
   "cell_type": "code",
   "execution_count": 17,
   "id": "e45822de",
   "metadata": {},
   "outputs": [
    {
     "data": {
      "text/plain": [
       "'app = Dash()\\napp.layout = html.Div(children=[\\n    html.H1(children = \\'happy to learn DS\\',style = {\\'color\\':\\'red\\',\\'textAlign\\':\\'center\\'}),\\n    dcc.RadioItems([\\'male\\',\"female\",\"others\"],\\'male\\'),\\n    dcc.RadioItems(options =[{\\'label\\':\\'male\\',\\'value\\':\\'M\\'},{\\'label\\':\\'female\\',\\'value\\':\\'F\\'},{\\'label\\':\\'others\\',\\'value\\':\\'Not\\',\\'disabled\\':True}\\n                            ])\\n])\\nif __name__ == \\'__main__\\':\\n    app.run_server()'"
      ]
     },
     "execution_count": 17,
     "metadata": {},
     "output_type": "execute_result"
    }
   ],
   "source": [
    "'''app = Dash()\n",
    "app.layout = html.Div(children=[\n",
    "    html.H1(children = 'happy to learn DS',style = {'color':'red','textAlign':'center'}),\n",
    "    dcc.RadioItems(['male',\"female\",\"others\"],'male'),\n",
    "    dcc.RadioItems(options =[{'label':'male','value':'M'},{'label':'female','value':'F'},{'label':'others','value':'Not','disabled':True}\n",
    "                            ])\n",
    "])\n",
    "if __name__ == '__main__':\n",
    "    app.run_server()'''"
   ]
  },
  {
   "cell_type": "code",
   "execution_count": 18,
   "id": "ad25f422",
   "metadata": {},
   "outputs": [
    {
     "data": {
      "text/plain": [
       "'app = Dash()\\napp.layout = html.Div(children=[\\n    html.H1(children = \\'happy to learn DS\\',style = {\\'color\\':\\'red\\',\\'textAlign\\':\\'center\\'}),\\n    dcc.RadioItems([\\'male\\',\"female\",\"others\"]),\\n    dcc.Slider(0,5),\\n    dcc.Slider(0,50),\\n    dcc.Slider(0,50,2),\\n    dcc.Slider(0,50,marks = {0:\\'0kg\\',10:\\'10kg\\',20:\\'20kg\\'}),\\n    dcc.Slider(0,50,marks = {0:\\'0kg\\',10:\\'10kg\\',20:\\'20kg\\'},value=10),\\n    \\n])\\nif __name__ == \\'__main__\\':\\n    app.run_server()'"
      ]
     },
     "execution_count": 18,
     "metadata": {},
     "output_type": "execute_result"
    }
   ],
   "source": [
    "'''app = Dash()\n",
    "app.layout = html.Div(children=[\n",
    "    html.H1(children = 'happy to learn DS',style = {'color':'red','textAlign':'center'}),\n",
    "    dcc.RadioItems(['male',\"female\",\"others\"]),\n",
    "    dcc.Slider(0,5),\n",
    "    dcc.Slider(0,50),\n",
    "    dcc.Slider(0,50,2),\n",
    "    dcc.Slider(0,50,marks = {0:'0kg',10:'10kg',20:'20kg'}),\n",
    "    dcc.Slider(0,50,marks = {0:'0kg',10:'10kg',20:'20kg'},value=10),\n",
    "    \n",
    "])\n",
    "if __name__ == '__main__':\n",
    "    app.run_server()'''"
   ]
  },
  {
   "cell_type": "code",
   "execution_count": 19,
   "id": "e315eceb",
   "metadata": {},
   "outputs": [
    {
     "data": {
      "text/plain": [
       "'app = Dash()\\napp.layout = html.Div(children=[\\n    html.H1(children = \\'happy to learn DS\\',style = {\\'color\\':\\'red\\',\\'textAlign\\':\\'center\\'}),\\n    dcc.RadioItems([\\'male\\',\"female\",\"others\"]),\\n    dcc.RangeSlider(0,50),\\n    dcc.RangeSlider(0,50,value =[15,20],tooltip = {\\'placement\\':\\'bottom\\',\\'always_visible\\' : True})\\n])\\nif __name__ == \\'__main__\\':\\n    app.run_server()'"
      ]
     },
     "execution_count": 19,
     "metadata": {},
     "output_type": "execute_result"
    }
   ],
   "source": [
    "'''app = Dash()\n",
    "app.layout = html.Div(children=[\n",
    "    html.H1(children = 'happy to learn DS',style = {'color':'red','textAlign':'center'}),\n",
    "    dcc.RadioItems(['male',\"female\",\"others\"]),\n",
    "    dcc.RangeSlider(0,50),\n",
    "    dcc.RangeSlider(0,50,value =[15,20],tooltip = {'placement':'bottom','always_visible' : True})\n",
    "])\n",
    "if __name__ == '__main__':\n",
    "    app.run_server()'''"
   ]
  },
  {
   "cell_type": "code",
   "execution_count": 20,
   "id": "2c4e080a",
   "metadata": {},
   "outputs": [],
   "source": [
    "# date picker"
   ]
  },
  {
   "cell_type": "code",
   "execution_count": 2,
   "id": "6810577a",
   "metadata": {},
   "outputs": [],
   "source": [
    "from datetime import date"
   ]
  },
  {
   "cell_type": "code",
   "execution_count": null,
   "id": "77233d0c",
   "metadata": {},
   "outputs": [
    {
     "name": "stdout",
     "output_type": "stream",
     "text": [
      "Dash is running on http://127.0.0.1:8050/\n",
      "\n",
      " * Serving Flask app '__main__'\n",
      " * Debug mode: off\n"
     ]
    },
    {
     "name": "stderr",
     "output_type": "stream",
     "text": [
      "WARNING: This is a development server. Do not use it in a production deployment. Use a production WSGI server instead.\n",
      " * Running on http://127.0.0.1:8050\n",
      "Press CTRL+C to quit\n",
      "127.0.0.1 - - [14/Dec/2022 14:18:57] \"GET / HTTP/1.1\" 200 -\n",
      "127.0.0.1 - - [14/Dec/2022 14:19:05] \"GET /_favicon.ico?v=2.7.0 HTTP/1.1\" 200 -\n",
      "127.0.0.1 - - [14/Dec/2022 14:19:05] \"GET /_dash-layout HTTP/1.1\" 200 -\n",
      "127.0.0.1 - - [14/Dec/2022 14:19:05] \"GET /_dash-dependencies HTTP/1.1\" 200 -\n",
      "127.0.0.1 - - [14/Dec/2022 14:19:07] \"GET /_dash-component-suites/dash/dcc/async-datepicker.js HTTP/1.1\" 200 -\n"
     ]
    }
   ],
   "source": [
    "'''app = Dash()\n",
    "app.layout = html.Div(children=[\n",
    "    html.H1(children = 'happy to learn DS',style = {'color':'red','textAlign':'center'}),\n",
    "    dcc.DatePickerSingle()\n",
    "])\n",
    "if __name__ == '__main__':\n",
    "    app.run_server()'''"
   ]
  },
  {
   "cell_type": "code",
   "execution_count": null,
   "id": "426841e4",
   "metadata": {},
   "outputs": [
    {
     "name": "stdout",
     "output_type": "stream",
     "text": [
      "Dash is running on http://127.0.0.1:8050/\n",
      "\n",
      " * Serving Flask app '__main__'\n",
      " * Debug mode: off\n"
     ]
    },
    {
     "name": "stderr",
     "output_type": "stream",
     "text": [
      "WARNING: This is a development server. Do not use it in a production deployment. Use a production WSGI server instead.\n",
      " * Running on http://127.0.0.1:8050\n",
      "Press CTRL+C to quit\n",
      "127.0.0.1 - - [14/Dec/2022 14:23:17] \"GET / HTTP/1.1\" 200 -\n",
      "127.0.0.1 - - [14/Dec/2022 14:23:19] \"GET /_dash-dependencies HTTP/1.1\" 200 -\n",
      "127.0.0.1 - - [14/Dec/2022 14:23:19] \"GET /_dash-layout HTTP/1.1\" 200 -\n",
      "127.0.0.1 - - [14/Dec/2022 14:23:20] \"GET /_dash-component-suites/dash/dcc/async-datepicker.js HTTP/1.1\" 304 -\n"
     ]
    }
   ],
   "source": [
    "'''app = Dash()\n",
    "app.layout = html.Div(children=[\n",
    "    html.H1(children = 'happy to learn DS',style = {'color':'red','textAlign':'center'}),\n",
    "    dcc.DatePickerSingle(min_date_allowed = date(2000,6,4))\n",
    "])\n",
    "if __name__ == '__main__':\n",
    "    app.run_server()'''"
   ]
  },
  {
   "cell_type": "code",
   "execution_count": null,
   "id": "76365aa4",
   "metadata": {},
   "outputs": [
    {
     "name": "stdout",
     "output_type": "stream",
     "text": [
      "Dash is running on http://127.0.0.1:8050/\n",
      "\n",
      " * Serving Flask app '__main__'\n",
      " * Debug mode: off\n"
     ]
    },
    {
     "name": "stderr",
     "output_type": "stream",
     "text": [
      "WARNING: This is a development server. Do not use it in a production deployment. Use a production WSGI server instead.\n",
      " * Running on http://127.0.0.1:8050\n",
      "Press CTRL+C to quit\n",
      "127.0.0.1 - - [14/Dec/2022 14:44:09] \"GET / HTTP/1.1\" 200 -\n",
      "127.0.0.1 - - [14/Dec/2022 14:44:10] \"GET /_dash-dependencies HTTP/1.1\" 200 -\n"
     ]
    },
    {
     "name": "stdout",
     "output_type": "stream",
     "text": [
      "Exception on /_dash-layout [GET]\n",
      "Traceback (most recent call last):\n",
      "  File \"C:\\Users\\sethukrish\\AppData\\Local\\Programs\\Python\\Python310\\lib\\site-packages\\flask\\app.py\", line 2525, in wsgi_app\n",
      "    response = self.full_dispatch_request()\n",
      "  File \"C:\\Users\\sethukrish\\AppData\\Local\\Programs\\Python\\Python310\\lib\\site-packages\\flask\\app.py\", line 1822, in full_dispatch_request\n",
      "    rv = self.handle_user_exception(e)\n",
      "  File \"C:\\Users\\sethukrish\\AppData\\Local\\Programs\\Python\\Python310\\lib\\site-packages\\flask\\app.py\", line 1820, in full_dispatch_request\n",
      "    rv = self.dispatch_request()\n",
      "  File \"C:\\Users\\sethukrish\\AppData\\Local\\Programs\\Python\\Python310\\lib\\site-packages\\flask\\app.py\", line 1796, in dispatch_request\n",
      "    return self.ensure_sync(self.view_functions[rule.endpoint])(**view_args)\n",
      "  File \"C:\\Users\\sethukrish\\AppData\\Local\\Programs\\Python\\Python310\\lib\\site-packages\\dash\\dash.py\", line 659, in serve_layout\n",
      "    to_json(layout),\n",
      "  File \"C:\\Users\\sethukrish\\AppData\\Local\\Programs\\Python\\Python310\\lib\\site-packages\\dash\\_utils.py\", line 22, in to_json\n",
      "    return to_json_plotly(value)\n",
      "  File \"C:\\Users\\sethukrish\\AppData\\Local\\Programs\\Python\\Python310\\lib\\site-packages\\plotly\\io\\_json.py\", line 123, in to_json_plotly\n",
      "    return json.dumps(plotly_object, cls=PlotlyJSONEncoder, **opts)\n",
      "  File \"C:\\Users\\sethukrish\\AppData\\Local\\Programs\\Python\\Python310\\lib\\json\\__init__.py\", line 238, in dumps\n",
      "    **kw).encode(obj)\n",
      "  File \"C:\\Users\\sethukrish\\AppData\\Local\\Programs\\Python\\Python310\\lib\\site-packages\\_plotly_utils\\utils.py\", line 59, in encode\n",
      "    encoded_o = super(PlotlyJSONEncoder, self).encode(o)\n",
      "  File \"C:\\Users\\sethukrish\\AppData\\Local\\Programs\\Python\\Python310\\lib\\json\\encoder.py\", line 199, in encode\n",
      "    chunks = self.iterencode(o, _one_shot=True)\n",
      "  File \"C:\\Users\\sethukrish\\AppData\\Local\\Programs\\Python\\Python310\\lib\\json\\encoder.py\", line 257, in iterencode\n",
      "    return _iterencode(o, 0)\n",
      "  File \"C:\\Users\\sethukrish\\AppData\\Local\\Programs\\Python\\Python310\\lib\\site-packages\\_plotly_utils\\utils.py\", line 133, in default\n",
      "    return encoding_method(obj)\n",
      "  File \"C:\\Users\\sethukrish\\AppData\\Local\\Programs\\Python\\Python310\\lib\\site-packages\\_plotly_utils\\utils.py\", line 205, in encode_as_datetime\n",
      "    return obj.isoformat()\n",
      "TypeError: unbound method date.isoformat() needs an argument\n"
     ]
    },
    {
     "name": "stderr",
     "output_type": "stream",
     "text": [
      "127.0.0.1 - - [14/Dec/2022 14:44:10] \"GET /_dash-layout HTTP/1.1\" 500 -\n",
      "127.0.0.1 - - [14/Dec/2022 14:44:11] \"GET / HTTP/1.1\" 200 -\n"
     ]
    },
    {
     "name": "stdout",
     "output_type": "stream",
     "text": [
      "Exception on /_dash-layout [GET]\n",
      "Traceback (most recent call last):\n",
      "  File \"C:\\Users\\sethukrish\\AppData\\Local\\Programs\\Python\\Python310\\lib\\site-packages\\flask\\app.py\", line 2525, in wsgi_app\n",
      "    response = self.full_dispatch_request()\n",
      "  File \"C:\\Users\\sethukrish\\AppData\\Local\\Programs\\Python\\Python310\\lib\\site-packages\\flask\\app.py\", line 1822, in full_dispatch_request\n",
      "    rv = self.handle_user_exception(e)\n",
      "  File \"C:\\Users\\sethukrish\\AppData\\Local\\Programs\\Python\\Python310\\lib\\site-packages\\flask\\app.py\", line 1820, in full_dispatch_request\n",
      "    rv = self.dispatch_request()\n",
      "  File \"C:\\Users\\sethukrish\\AppData\\Local\\Programs\\Python\\Python310\\lib\\site-packages\\flask\\app.py\", line 1796, in dispatch_request\n",
      "    return self.ensure_sync(self.view_functions[rule.endpoint])(**view_args)\n",
      "  File \"C:\\Users\\sethukrish\\AppData\\Local\\Programs\\Python\\Python310\\lib\\site-packages\\dash\\dash.py\", line 659, in serve_layout\n",
      "    to_json(layout),\n",
      "  File \"C:\\Users\\sethukrish\\AppData\\Local\\Programs\\Python\\Python310\\lib\\site-packages\\dash\\_utils.py\", line 22, in to_json\n",
      "    return to_json_plotly(value)\n",
      "  File \"C:\\Users\\sethukrish\\AppData\\Local\\Programs\\Python\\Python310\\lib\\site-packages\\plotly\\io\\_json.py\", line 123, in to_json_plotly\n",
      "    return json.dumps(plotly_object, cls=PlotlyJSONEncoder, **opts)\n",
      "  File \"C:\\Users\\sethukrish\\AppData\\Local\\Programs\\Python\\Python310\\lib\\json\\__init__.py\", line 238, in dumps\n",
      "    **kw).encode(obj)\n",
      "  File \"C:\\Users\\sethukrish\\AppData\\Local\\Programs\\Python\\Python310\\lib\\site-packages\\_plotly_utils\\utils.py\", line 59, in encode\n",
      "    encoded_o = super(PlotlyJSONEncoder, self).encode(o)\n",
      "  File \"C:\\Users\\sethukrish\\AppData\\Local\\Programs\\Python\\Python310\\lib\\json\\encoder.py\", line 199, in encode\n",
      "    chunks = self.iterencode(o, _one_shot=True)\n",
      "  File \"C:\\Users\\sethukrish\\AppData\\Local\\Programs\\Python\\Python310\\lib\\json\\encoder.py\", line 257, in iterencode\n",
      "    return _iterencode(o, 0)\n",
      "  File \"C:\\Users\\sethukrish\\AppData\\Local\\Programs\\Python\\Python310\\lib\\site-packages\\_plotly_utils\\utils.py\", line 133, in default\n",
      "    return encoding_method(obj)\n",
      "  File \"C:\\Users\\sethukrish\\AppData\\Local\\Programs\\Python\\Python310\\lib\\site-packages\\_plotly_utils\\utils.py\", line 205, in encode_as_datetime\n",
      "    return obj.isoformat()\n",
      "TypeError: unbound method date.isoformat() needs an argument\n"
     ]
    },
    {
     "name": "stderr",
     "output_type": "stream",
     "text": [
      "127.0.0.1 - - [14/Dec/2022 14:44:12] \"GET /_dash-dependencies HTTP/1.1\" 200 -\n",
      "127.0.0.1 - - [14/Dec/2022 14:44:12] \"GET /_dash-layout HTTP/1.1\" 500 -\n"
     ]
    }
   ],
   "source": [
    "'''app = Dash() # try one by one\n",
    "app.layout = html.Div(children=[\n",
    "     html.H1(children = 'happy to learn DS',style = {'color':'red','textAlign':'center'}),\n",
    "     dcc.DatePickerSingle(min_date_allowed = date(2000,6,4)),\n",
    "     dcc.DatePickerSingle(max_date_allowed = date(2022,6,4)),\n",
    "     dcc.DatePickerSingle(min_date_allowed = date(2000,6,4),date = date),\n",
    "     dcc.DatePickerSingle(date = date(2000,4,6),display_format = 'MMMM,Y,DD'),\n",
    "     dcc.DatePickerSingle(date = date(2000,4,6),display_format = 'MMMM y,Do'),\n",
    "     dcc.DatePickerSingle(date = date(2000,4,6),display_format = 'MMM Do,YY'),\n",
    "     dcc.DatePickerRange(),\n",
    "     dcc.DatePickerRange(min_date_allowed = date(2000,6,4)),\n",
    "     dcc.DatePickerRange(max_date_allowed = date(2000,6,4)),\n",
    "     dcc.DatePickerRange(end_date = date(2000,6,4)),\n",
    "     dcc.DatePickerRange(start_date = date(2000,6,4))\n",
    "    \n",
    "    \n",
    "])\n",
    "if __name__ == '__main__':\n",
    "    app.run_server()'''"
   ]
  },
  {
   "cell_type": "code",
   "execution_count": null,
   "id": "a12f17de",
   "metadata": {},
   "outputs": [
    {
     "name": "stdout",
     "output_type": "stream",
     "text": [
      "Dash is running on http://127.0.0.1:8050/\n",
      "\n",
      " * Serving Flask app '__main__'\n",
      " * Debug mode: off\n"
     ]
    },
    {
     "name": "stderr",
     "output_type": "stream",
     "text": [
      "WARNING: This is a development server. Do not use it in a production deployment. Use a production WSGI server instead.\n",
      " * Running on http://127.0.0.1:8050\n",
      "Press CTRL+C to quit\n",
      "127.0.0.1 - - [14/Dec/2022 14:48:17] \"GET / HTTP/1.1\" 200 -\n",
      "127.0.0.1 - - [14/Dec/2022 14:48:18] \"GET /_dash-layout HTTP/1.1\" 200 -\n",
      "127.0.0.1 - - [14/Dec/2022 14:48:18] \"GET /_dash-dependencies HTTP/1.1\" 200 -\n"
     ]
    }
   ],
   "source": [
    "'''app = Dash()\n",
    "app.layout = html.Div(children=[\n",
    "    html.H1(children = 'happy to learn DS',style = {'color':'red','textAlign':'center'}),\n",
    "    dcc.Checklist(['idly','vada','dosa','poori','pongal'])\n",
    "])\n",
    "if __name__ == '__main__':\n",
    "    app.run_server()'''"
   ]
  },
  {
   "cell_type": "code",
   "execution_count": null,
   "id": "e31f3a17",
   "metadata": {},
   "outputs": [
    {
     "name": "stdout",
     "output_type": "stream",
     "text": [
      "Dash is running on http://127.0.0.1:8050/\n",
      "\n",
      " * Serving Flask app '__main__'\n",
      " * Debug mode: off\n"
     ]
    },
    {
     "name": "stderr",
     "output_type": "stream",
     "text": [
      "WARNING: This is a development server. Do not use it in a production deployment. Use a production WSGI server instead.\n",
      " * Running on http://127.0.0.1:8050\n",
      "Press CTRL+C to quit\n",
      "127.0.0.1 - - [14/Dec/2022 14:51:28] \"GET / HTTP/1.1\" 200 -\n",
      "127.0.0.1 - - [14/Dec/2022 14:51:29] \"GET /_dash-layout HTTP/1.1\" 200 -\n",
      "127.0.0.1 - - [14/Dec/2022 14:51:29] \"GET /_dash-dependencies HTTP/1.1\" 200 -\n"
     ]
    }
   ],
   "source": [
    "'''app = Dash()\n",
    "app.layout = html.Div(children=[\n",
    "    html.H1(children = 'happy to learn DS',style = {'color':'red','textAlign':'center'}),\n",
    "    dcc.Checklist(['idly','vada','dosa','poori','pongal'],['idly'])\n",
    "])\n",
    "if __name__ == '__main__':\n",
    "    app.run_server()'''"
   ]
  },
  {
   "cell_type": "code",
   "execution_count": null,
   "id": "0eb8b930",
   "metadata": {},
   "outputs": [
    {
     "name": "stdout",
     "output_type": "stream",
     "text": [
      "Dash is running on http://127.0.0.1:8050/\n",
      "\n",
      "Dash is running on http://127.0.0.1:8050/\n",
      "\n",
      " * Serving Flask app '__main__'\n",
      " * Debug mode: off\n"
     ]
    },
    {
     "name": "stderr",
     "output_type": "stream",
     "text": [
      "WARNING: This is a development server. Do not use it in a production deployment. Use a production WSGI server instead.\n",
      " * Running on http://127.0.0.1:8050\n",
      "Press CTRL+C to quit\n",
      "127.0.0.1 - - [14/Dec/2022 15:13:10] \"GET / HTTP/1.1\" 200 -\n",
      "127.0.0.1 - - [14/Dec/2022 15:13:12] \"GET /_dash-layout HTTP/1.1\" 200 -\n",
      "127.0.0.1 - - [14/Dec/2022 15:13:12] \"GET /_dash-dependencies HTTP/1.1\" 200 -\n",
      "127.0.0.1 - - [14/Dec/2022 15:13:12] \"GET /_dash-component-suites/dash/dcc/async-datepicker.js HTTP/1.1\" 304 -\n",
      "127.0.0.1 - - [14/Dec/2022 15:13:13] \"GET /_dash-component-suites/dash/dcc/async-dropdown.js HTTP/1.1\" 304 -\n"
     ]
    }
   ],
   "source": [
    "'''app = Dash()\n",
    "app.layout = html.Div(children=[\n",
    "    html.H1(children = 'please fill the given form',style = {'color':'red','text_Align':'center'}),\n",
    "    html.H3('please enter your name'),\n",
    "    dcc.Input(),\n",
    "    html.Br(),\n",
    "    html.H3('please enter yoyr DOB: '),\n",
    "    dcc.DatePickerSingle(display_format = 'MMM Do,YY'),\n",
    "    html.Br(),\n",
    "    html.H3('select your state: '),\n",
    "    dcc.Dropdown(['TAMILNADU','KERALA','KARNATAKA','ANDRA'])    \n",
    "])\n",
    "\n",
    "if __name__ == '__main__':\n",
    "    app.run_server()'''"
   ]
  },
  {
   "cell_type": "code",
   "execution_count": null,
   "id": "49b20588",
   "metadata": {},
   "outputs": [
    {
     "name": "stdout",
     "output_type": "stream",
     "text": [
      "Dash is running on http://127.0.0.1:8050/\n",
      "\n",
      " * Serving Flask app '__main__'\n",
      " * Debug mode: off\n"
     ]
    },
    {
     "name": "stderr",
     "output_type": "stream",
     "text": [
      "WARNING: This is a development server. Do not use it in a production deployment. Use a production WSGI server instead.\n",
      " * Running on http://127.0.0.1:8050\n",
      "Press CTRL+C to quit\n",
      "127.0.0.1 - - [14/Dec/2022 15:20:35] \"GET / HTTP/1.1\" 200 -\n",
      "127.0.0.1 - - [14/Dec/2022 15:20:36] \"GET /_dash-dependencies HTTP/1.1\" 200 -\n",
      "127.0.0.1 - - [14/Dec/2022 15:20:36] \"GET /_dash-layout HTTP/1.1\" 200 -\n",
      "127.0.0.1 - - [14/Dec/2022 15:20:36] \"GET /_dash-component-suites/dash/dcc/async-dropdown.js HTTP/1.1\" 304 -\n"
     ]
    }
   ],
   "source": [
    "df = pd.read_csv('tips.csv')   #using data\n",
    "app = Dash()\n",
    "app.layout = html.Div(children=[\n",
    "    html.H1(children = 'please select date',style = {'color':'red','text_Align':'center'}),\n",
    "    dcc.Dropdown(df['day'].unique()),\n",
    "    dcc.RadioItems(df['sex'].unique())\n",
    "])\n",
    "\n",
    "if __name__ == '__main__':\n",
    "    app.run_server()\n",
    "    "
   ]
  },
  {
   "cell_type": "code",
   "execution_count": 1,
   "id": "38e48968",
   "metadata": {},
   "outputs": [],
   "source": [
    "#call back function"
   ]
  },
  {
   "cell_type": "code",
   "execution_count": null,
   "id": "61403258",
   "metadata": {},
   "outputs": [
    {
     "name": "stdout",
     "output_type": "stream",
     "text": [
      "Dash is running on http://127.0.0.1:8050/\n",
      "\n",
      "Dash is running on http://127.0.0.1:8050/\n",
      "\n",
      " * Serving Flask app '__main__'\n",
      " * Debug mode: off\n"
     ]
    },
    {
     "name": "stderr",
     "output_type": "stream",
     "text": [
      "WARNING: This is a development server. Do not use it in a production deployment. Use a production WSGI server instead.\n",
      " * Running on http://127.0.0.1:8050\n",
      "Press CTRL+C to quit\n",
      "127.0.0.1 - - [16/Dec/2022 21:07:54] \"GET / HTTP/1.1\" 200 -\n",
      "127.0.0.1 - - [16/Dec/2022 21:08:03] \"GET /_favicon.ico?v=2.7.0 HTTP/1.1\" 200 -\n",
      "127.0.0.1 - - [16/Dec/2022 21:08:03] \"GET /_dash-layout HTTP/1.1\" 200 -\n",
      "127.0.0.1 - - [16/Dec/2022 21:08:03] \"GET /_dash-dependencies HTTP/1.1\" 200 -\n",
      "127.0.0.1 - - [16/Dec/2022 21:08:03] \"POST /_dash-update-component HTTP/1.1\" 200 -\n",
      "127.0.0.1 - - [16/Dec/2022 21:08:16] \"POST /_dash-update-component HTTP/1.1\" 200 -\n",
      "127.0.0.1 - - [16/Dec/2022 21:08:16] \"POST /_dash-update-component HTTP/1.1\" 200 -\n",
      "127.0.0.1 - - [16/Dec/2022 21:08:16] \"POST /_dash-update-component HTTP/1.1\" 200 -\n",
      "127.0.0.1 - - [16/Dec/2022 21:08:16] \"POST /_dash-update-component HTTP/1.1\" 200 -\n",
      "127.0.0.1 - - [16/Dec/2022 21:08:17] \"POST /_dash-update-component HTTP/1.1\" 200 -\n"
     ]
    }
   ],
   "source": [
    "'''app = Dash()\n",
    "app.layout = html.Div(children=[\n",
    "    html.H4('please enter your name: '),\n",
    "    dcc.Input(id = 'user_input'),\n",
    "    html.Br(),\n",
    "    html.H1(id='out_div')\n",
    "])\n",
    "@app.callback(Output('out_div','children'),\n",
    "              Input('user_input','value'))\n",
    "def data_manipulation(input_value):\n",
    "    return 'welcome' + str(input_value) + 'to our DS class'\n",
    "if __name__ == '__main__':\n",
    "    app.run_server()'''"
   ]
  },
  {
   "cell_type": "code",
   "execution_count": null,
   "id": "6ba04204",
   "metadata": {},
   "outputs": [
    {
     "name": "stdout",
     "output_type": "stream",
     "text": [
      "Dash is running on http://127.0.0.1:8050/\n",
      "\n",
      " * Serving Flask app '__main__'\n",
      " * Debug mode: off\n"
     ]
    },
    {
     "name": "stderr",
     "output_type": "stream",
     "text": [
      "WARNING: This is a development server. Do not use it in a production deployment. Use a production WSGI server instead.\n",
      " * Running on http://127.0.0.1:8050\n",
      "Press CTRL+C to quit\n",
      "127.0.0.1 - - [16/Dec/2022 21:15:45] \"GET / HTTP/1.1\" 200 -\n",
      "127.0.0.1 - - [16/Dec/2022 21:15:47] \"GET /_dash-layout HTTP/1.1\" 200 -\n",
      "127.0.0.1 - - [16/Dec/2022 21:15:47] \"GET /_dash-dependencies HTTP/1.1\" 200 -\n"
     ]
    },
    {
     "name": "stdout",
     "output_type": "stream",
     "text": [
      "Exception on /_dash-update-component [POST]\n",
      "Traceback (most recent call last):\n",
      "  File \"C:\\Users\\sethukrish\\AppData\\Local\\Programs\\Python\\Python310\\lib\\site-packages\\flask\\app.py\", line 2525, in wsgi_app\n",
      "    response = self.full_dispatch_request()\n",
      "  File \"C:\\Users\\sethukrish\\AppData\\Local\\Programs\\Python\\Python310\\lib\\site-packages\\flask\\app.py\", line 1822, in full_dispatch_request\n",
      "    rv = self.handle_user_exception(e)\n",
      "  File \"C:\\Users\\sethukrish\\AppData\\Local\\Programs\\Python\\Python310\\lib\\site-packages\\flask\\app.py\", line 1820, in full_dispatch_request\n",
      "    rv = self.dispatch_request()\n",
      "  File \"C:\\Users\\sethukrish\\AppData\\Local\\Programs\\Python\\Python310\\lib\\site-packages\\flask\\app.py\", line 1796, in dispatch_request\n",
      "    return self.ensure_sync(self.view_functions[rule.endpoint])(**view_args)\n",
      "  File \"C:\\Users\\sethukrish\\AppData\\Local\\Programs\\Python\\Python310\\lib\\site-packages\\dash\\dash.py\", line 1274, in dispatch\n",
      "    ctx.run(\n",
      "  File \"C:\\Users\\sethukrish\\AppData\\Local\\Programs\\Python\\Python310\\lib\\site-packages\\dash\\_callback.py\", line 440, in add_context\n",
      "    output_value = func(*func_args, **func_kwargs)  # %% callback invoked %%\n",
      "  File \"C:\\Users\\sethukrish\\AppData\\Local\\Temp\\ipykernel_1212\\1114679879.py\", line 11, in data_manipulation\n",
      "    input_value = float(input_value)\n",
      "TypeError: float() argument must be a string or a real number, not 'NoneType'\n"
     ]
    },
    {
     "name": "stderr",
     "output_type": "stream",
     "text": [
      "127.0.0.1 - - [16/Dec/2022 21:15:47] \"POST /_dash-update-component HTTP/1.1\" 500 -\n",
      "127.0.0.1 - - [16/Dec/2022 21:15:57] \"POST /_dash-update-component HTTP/1.1\" 200 -\n"
     ]
    },
    {
     "name": "stdout",
     "output_type": "stream",
     "text": [
      "Exception on /_dash-update-component [POST]\n",
      "Traceback (most recent call last):\n",
      "  File \"C:\\Users\\sethukrish\\AppData\\Local\\Programs\\Python\\Python310\\lib\\site-packages\\flask\\app.py\", line 2525, in wsgi_app\n",
      "    response = self.full_dispatch_request()\n",
      "  File \"C:\\Users\\sethukrish\\AppData\\Local\\Programs\\Python\\Python310\\lib\\site-packages\\flask\\app.py\", line 1822, in full_dispatch_request\n",
      "    rv = self.handle_user_exception(e)\n",
      "  File \"C:\\Users\\sethukrish\\AppData\\Local\\Programs\\Python\\Python310\\lib\\site-packages\\flask\\app.py\", line 1820, in full_dispatch_request\n",
      "    rv = self.dispatch_request()\n",
      "  File \"C:\\Users\\sethukrish\\AppData\\Local\\Programs\\Python\\Python310\\lib\\site-packages\\flask\\app.py\", line 1796, in dispatch_request\n",
      "    return self.ensure_sync(self.view_functions[rule.endpoint])(**view_args)\n",
      "  File \"C:\\Users\\sethukrish\\AppData\\Local\\Programs\\Python\\Python310\\lib\\site-packages\\dash\\dash.py\", line 1274, in dispatch\n",
      "    ctx.run(\n",
      "  File \"C:\\Users\\sethukrish\\AppData\\Local\\Programs\\Python\\Python310\\lib\\site-packages\\dash\\_callback.py\", line 440, in add_context\n",
      "    output_value = func(*func_args, **func_kwargs)  # %% callback invoked %%\n",
      "  File \"C:\\Users\\sethukrish\\AppData\\Local\\Temp\\ipykernel_1212\\1114679879.py\", line 11, in data_manipulation\n",
      "    input_value = float(input_value)\n",
      "ValueError: could not convert string to float: ''\n"
     ]
    },
    {
     "name": "stderr",
     "output_type": "stream",
     "text": [
      "127.0.0.1 - - [16/Dec/2022 21:16:00] \"POST /_dash-update-component HTTP/1.1\" 500 -\n"
     ]
    },
    {
     "name": "stdout",
     "output_type": "stream",
     "text": [
      "Exception on /_dash-update-component [POST]\n",
      "Traceback (most recent call last):\n",
      "  File \"C:\\Users\\sethukrish\\AppData\\Local\\Programs\\Python\\Python310\\lib\\site-packages\\flask\\app.py\", line 2525, in wsgi_app\n",
      "    response = self.full_dispatch_request()\n",
      "  File \"C:\\Users\\sethukrish\\AppData\\Local\\Programs\\Python\\Python310\\lib\\site-packages\\flask\\app.py\", line 1822, in full_dispatch_request\n",
      "    rv = self.handle_user_exception(e)\n",
      "  File \"C:\\Users\\sethukrish\\AppData\\Local\\Programs\\Python\\Python310\\lib\\site-packages\\flask\\app.py\", line 1820, in full_dispatch_request\n",
      "    rv = self.dispatch_request()\n",
      "  File \"C:\\Users\\sethukrish\\AppData\\Local\\Programs\\Python\\Python310\\lib\\site-packages\\flask\\app.py\", line 1796, in dispatch_request\n",
      "    return self.ensure_sync(self.view_functions[rule.endpoint])(**view_args)\n",
      "  File \"C:\\Users\\sethukrish\\AppData\\Local\\Programs\\Python\\Python310\\lib\\site-packages\\dash\\dash.py\", line 1274, in dispatch\n",
      "    ctx.run(\n",
      "  File \"C:\\Users\\sethukrish\\AppData\\Local\\Programs\\Python\\Python310\\lib\\site-packages\\dash\\_callback.py\", line 440, in add_context\n",
      "    output_value = func(*func_args, **func_kwargs)  # %% callback invoked %%\n",
      "  File \"C:\\Users\\sethukrish\\AppData\\Local\\Temp\\ipykernel_1212\\1114679879.py\", line 11, in data_manipulation\n",
      "    input_value = float(input_value)\n",
      "ValueError: could not convert string to float: '-'\n"
     ]
    },
    {
     "name": "stderr",
     "output_type": "stream",
     "text": [
      "127.0.0.1 - - [16/Dec/2022 21:16:02] \"POST /_dash-update-component HTTP/1.1\" 500 -\n",
      "127.0.0.1 - - [16/Dec/2022 21:16:03] \"POST /_dash-update-component HTTP/1.1\" 200 -\n"
     ]
    },
    {
     "name": "stdout",
     "output_type": "stream",
     "text": [
      "Exception on /_dash-update-component [POST]\n",
      "Traceback (most recent call last):\n",
      "  File \"C:\\Users\\sethukrish\\AppData\\Local\\Programs\\Python\\Python310\\lib\\site-packages\\flask\\app.py\", line 2525, in wsgi_app\n",
      "    response = self.full_dispatch_request()\n",
      "  File \"C:\\Users\\sethukrish\\AppData\\Local\\Programs\\Python\\Python310\\lib\\site-packages\\flask\\app.py\", line 1822, in full_dispatch_request\n",
      "    rv = self.handle_user_exception(e)\n",
      "  File \"C:\\Users\\sethukrish\\AppData\\Local\\Programs\\Python\\Python310\\lib\\site-packages\\flask\\app.py\", line 1820, in full_dispatch_request\n",
      "    rv = self.dispatch_request()\n",
      "  File \"C:\\Users\\sethukrish\\AppData\\Local\\Programs\\Python\\Python310\\lib\\site-packages\\flask\\app.py\", line 1796, in dispatch_request\n",
      "    return self.ensure_sync(self.view_functions[rule.endpoint])(**view_args)\n",
      "  File \"C:\\Users\\sethukrish\\AppData\\Local\\Programs\\Python\\Python310\\lib\\site-packages\\dash\\dash.py\", line 1274, in dispatch\n",
      "    ctx.run(\n",
      "  File \"C:\\Users\\sethukrish\\AppData\\Local\\Programs\\Python\\Python310\\lib\\site-packages\\dash\\_callback.py\", line 440, in add_context\n",
      "    output_value = func(*func_args, **func_kwargs)  # %% callback invoked %%\n",
      "  File \"C:\\Users\\sethukrish\\AppData\\Local\\Temp\\ipykernel_1212\\1114679879.py\", line 11, in data_manipulation\n",
      "    input_value = float(input_value)\n",
      "ValueError: could not convert string to float: '-'\n"
     ]
    },
    {
     "name": "stderr",
     "output_type": "stream",
     "text": [
      "127.0.0.1 - - [16/Dec/2022 21:16:05] \"POST /_dash-update-component HTTP/1.1\" 500 -\n"
     ]
    },
    {
     "name": "stdout",
     "output_type": "stream",
     "text": [
      "Exception on /_dash-update-component [POST]\n",
      "Traceback (most recent call last):\n",
      "  File \"C:\\Users\\sethukrish\\AppData\\Local\\Programs\\Python\\Python310\\lib\\site-packages\\flask\\app.py\", line 2525, in wsgi_app\n",
      "    response = self.full_dispatch_request()\n",
      "  File \"C:\\Users\\sethukrish\\AppData\\Local\\Programs\\Python\\Python310\\lib\\site-packages\\flask\\app.py\", line 1822, in full_dispatch_request\n",
      "    rv = self.handle_user_exception(e)\n",
      "  File \"C:\\Users\\sethukrish\\AppData\\Local\\Programs\\Python\\Python310\\lib\\site-packages\\flask\\app.py\", line 1820, in full_dispatch_request\n",
      "    rv = self.dispatch_request()\n",
      "  File \"C:\\Users\\sethukrish\\AppData\\Local\\Programs\\Python\\Python310\\lib\\site-packages\\flask\\app.py\", line 1796, in dispatch_request\n",
      "    return self.ensure_sync(self.view_functions[rule.endpoint])(**view_args)\n",
      "  File \"C:\\Users\\sethukrish\\AppData\\Local\\Programs\\Python\\Python310\\lib\\site-packages\\dash\\dash.py\", line 1274, in dispatch\n",
      "    ctx.run(\n",
      "  File \"C:\\Users\\sethukrish\\AppData\\Local\\Programs\\Python\\Python310\\lib\\site-packages\\dash\\_callback.py\", line 440, in add_context\n",
      "    output_value = func(*func_args, **func_kwargs)  # %% callback invoked %%\n",
      "  File \"C:\\Users\\sethukrish\\AppData\\Local\\Temp\\ipykernel_1212\\1114679879.py\", line 11, in data_manipulation\n",
      "    input_value = float(input_value)\n",
      "ValueError: could not convert string to float: ''\n"
     ]
    },
    {
     "name": "stderr",
     "output_type": "stream",
     "text": [
      "127.0.0.1 - - [16/Dec/2022 21:16:05] \"POST /_dash-update-component HTTP/1.1\" 500 -\n",
      "127.0.0.1 - - [16/Dec/2022 21:16:07] \"POST /_dash-update-component HTTP/1.1\" 200 -\n",
      "127.0.0.1 - - [16/Dec/2022 21:16:07] \"POST /_dash-update-component HTTP/1.1\" 200 -\n",
      "127.0.0.1 - - [16/Dec/2022 21:16:08] \"POST /_dash-update-component HTTP/1.1\" 200 -\n"
     ]
    },
    {
     "name": "stdout",
     "output_type": "stream",
     "text": [
      "Exception on /_dash-update-component [POST]\n",
      "Traceback (most recent call last):\n",
      "  File \"C:\\Users\\sethukrish\\AppData\\Local\\Programs\\Python\\Python310\\lib\\site-packages\\flask\\app.py\", line 2525, in wsgi_app\n",
      "    response = self.full_dispatch_request()\n",
      "  File \"C:\\Users\\sethukrish\\AppData\\Local\\Programs\\Python\\Python310\\lib\\site-packages\\flask\\app.py\", line 1822, in full_dispatch_request\n",
      "    rv = self.handle_user_exception(e)\n",
      "  File \"C:\\Users\\sethukrish\\AppData\\Local\\Programs\\Python\\Python310\\lib\\site-packages\\flask\\app.py\", line 1820, in full_dispatch_request\n",
      "    rv = self.dispatch_request()\n",
      "  File \"C:\\Users\\sethukrish\\AppData\\Local\\Programs\\Python\\Python310\\lib\\site-packages\\flask\\app.py\", line 1796, in dispatch_request\n",
      "    return self.ensure_sync(self.view_functions[rule.endpoint])(**view_args)\n",
      "  File \"C:\\Users\\sethukrish\\AppData\\Local\\Programs\\Python\\Python310\\lib\\site-packages\\dash\\dash.py\", line 1274, in dispatch\n",
      "    ctx.run(\n",
      "  File \"C:\\Users\\sethukrish\\AppData\\Local\\Programs\\Python\\Python310\\lib\\site-packages\\dash\\_callback.py\", line 440, in add_context\n",
      "    output_value = func(*func_args, **func_kwargs)  # %% callback invoked %%\n",
      "  File \"C:\\Users\\sethukrish\\AppData\\Local\\Temp\\ipykernel_1212\\1114679879.py\", line 11, in data_manipulation\n",
      "    input_value = float(input_value)\n",
      "ValueError: could not convert string to float: ''\n"
     ]
    },
    {
     "name": "stderr",
     "output_type": "stream",
     "text": [
      "127.0.0.1 - - [16/Dec/2022 21:16:08] \"POST /_dash-update-component HTTP/1.1\" 500 -\n",
      "127.0.0.1 - - [16/Dec/2022 21:16:09] \"POST /_dash-update-component HTTP/1.1\" 200 -\n",
      "127.0.0.1 - - [16/Dec/2022 21:16:10] \"POST /_dash-update-component HTTP/1.1\" 200 -\n",
      "127.0.0.1 - - [16/Dec/2022 21:16:10] \"POST /_dash-update-component HTTP/1.1\" 200 -\n",
      "127.0.0.1 - - [16/Dec/2022 21:16:12] \"POST /_dash-update-component HTTP/1.1\" 200 -\n",
      "127.0.0.1 - - [16/Dec/2022 21:16:12] \"POST /_dash-update-component HTTP/1.1\" 200 -\n",
      "127.0.0.1 - - [16/Dec/2022 21:16:13] \"POST /_dash-update-component HTTP/1.1\" 200 -\n",
      "127.0.0.1 - - [16/Dec/2022 21:16:14] \"POST /_dash-update-component HTTP/1.1\" 200 -\n",
      "127.0.0.1 - - [16/Dec/2022 21:16:14] \"POST /_dash-update-component HTTP/1.1\" 200 -\n",
      "127.0.0.1 - - [16/Dec/2022 21:16:14] \"POST /_dash-update-component HTTP/1.1\" 200 -\n",
      "127.0.0.1 - - [16/Dec/2022 21:16:15] \"POST /_dash-update-component HTTP/1.1\" 200 -\n",
      "127.0.0.1 - - [16/Dec/2022 21:16:15] \"POST /_dash-update-component HTTP/1.1\" 200 -\n",
      "127.0.0.1 - - [16/Dec/2022 21:16:15] \"POST /_dash-update-component HTTP/1.1\" 200 -\n",
      "127.0.0.1 - - [16/Dec/2022 21:16:16] \"POST /_dash-update-component HTTP/1.1\" 200 -\n"
     ]
    },
    {
     "name": "stdout",
     "output_type": "stream",
     "text": [
      "Exception on /_dash-update-component [POST]\n",
      "Traceback (most recent call last):\n",
      "  File \"C:\\Users\\sethukrish\\AppData\\Local\\Programs\\Python\\Python310\\lib\\site-packages\\flask\\app.py\", line 2525, in wsgi_app\n",
      "    response = self.full_dispatch_request()\n",
      "  File \"C:\\Users\\sethukrish\\AppData\\Local\\Programs\\Python\\Python310\\lib\\site-packages\\flask\\app.py\", line 1822, in full_dispatch_request\n",
      "    rv = self.handle_user_exception(e)\n",
      "  File \"C:\\Users\\sethukrish\\AppData\\Local\\Programs\\Python\\Python310\\lib\\site-packages\\flask\\app.py\", line 1820, in full_dispatch_request\n",
      "    rv = self.dispatch_request()\n",
      "  File \"C:\\Users\\sethukrish\\AppData\\Local\\Programs\\Python\\Python310\\lib\\site-packages\\flask\\app.py\", line 1796, in dispatch_request\n",
      "    return self.ensure_sync(self.view_functions[rule.endpoint])(**view_args)\n",
      "  File \"C:\\Users\\sethukrish\\AppData\\Local\\Programs\\Python\\Python310\\lib\\site-packages\\dash\\dash.py\", line 1274, in dispatch\n",
      "    ctx.run(\n",
      "  File \"C:\\Users\\sethukrish\\AppData\\Local\\Programs\\Python\\Python310\\lib\\site-packages\\dash\\_callback.py\", line 440, in add_context\n",
      "    output_value = func(*func_args, **func_kwargs)  # %% callback invoked %%\n",
      "  File \"C:\\Users\\sethukrish\\AppData\\Local\\Temp\\ipykernel_1212\\1114679879.py\", line 11, in data_manipulation\n",
      "    input_value = float(input_value)\n",
      "ValueError: could not convert string to float: ''\n"
     ]
    },
    {
     "name": "stderr",
     "output_type": "stream",
     "text": [
      "127.0.0.1 - - [16/Dec/2022 21:16:16] \"POST /_dash-update-component HTTP/1.1\" 500 -\n"
     ]
    }
   ],
   "source": [
    "'''app = Dash()\n",
    "app.layout = html.Div(children=[\n",
    "    html.H4('please enter your tempature: '),\n",
    "    dcc.Input(id = 'user_input'),\n",
    "    html.Br(),\n",
    "    html.H1(id='out_div')\n",
    "])\n",
    "@app.callback(Output('out_div','children'),\n",
    "              Input('user_input','value'))\n",
    "def data_manipulation(input_value):\n",
    "    input_value = float(input_value)\n",
    "    if input_value < 0:\n",
    "        return 'you are living cold place'\n",
    "    elif input_value > 0 and input_value < 30:\n",
    "        return 'you are living normal place'\n",
    "    else:\n",
    "        return 'you are living hot place'\n",
    "   \n",
    "if __name__ == '__main__':\n",
    "    app.run_server()'''"
   ]
  },
  {
   "cell_type": "code",
   "execution_count": null,
   "id": "9311005a",
   "metadata": {},
   "outputs": [
    {
     "name": "stdout",
     "output_type": "stream",
     "text": [
      "Dash is running on http://127.0.0.1:8050/\n",
      "\n",
      " * Serving Flask app '__main__'\n",
      " * Debug mode: off\n"
     ]
    },
    {
     "name": "stderr",
     "output_type": "stream",
     "text": [
      "WARNING: This is a development server. Do not use it in a production deployment. Use a production WSGI server instead.\n",
      " * Running on http://127.0.0.1:8050\n",
      "Press CTRL+C to quit\n",
      "127.0.0.1 - - [16/Dec/2022 21:20:57] \"GET / HTTP/1.1\" 200 -\n",
      "127.0.0.1 - - [16/Dec/2022 21:20:57] \"GET /_dash-layout HTTP/1.1\" 200 -\n",
      "127.0.0.1 - - [16/Dec/2022 21:20:57] \"GET /_dash-dependencies HTTP/1.1\" 200 -\n"
     ]
    },
    {
     "name": "stdout",
     "output_type": "stream",
     "text": [
      "Exception on /_dash-update-component [POST]\n",
      "Traceback (most recent call last):\n",
      "  File \"C:\\Users\\sethukrish\\AppData\\Local\\Programs\\Python\\Python310\\lib\\site-packages\\flask\\app.py\", line 2525, in wsgi_app\n",
      "    response = self.full_dispatch_request()\n",
      "  File \"C:\\Users\\sethukrish\\AppData\\Local\\Programs\\Python\\Python310\\lib\\site-packages\\flask\\app.py\", line 1822, in full_dispatch_request\n",
      "    rv = self.handle_user_exception(e)\n",
      "  File \"C:\\Users\\sethukrish\\AppData\\Local\\Programs\\Python\\Python310\\lib\\site-packages\\flask\\app.py\", line 1820, in full_dispatch_request\n",
      "    rv = self.dispatch_request()\n",
      "  File \"C:\\Users\\sethukrish\\AppData\\Local\\Programs\\Python\\Python310\\lib\\site-packages\\flask\\app.py\", line 1796, in dispatch_request\n",
      "    return self.ensure_sync(self.view_functions[rule.endpoint])(**view_args)\n",
      "  File \"C:\\Users\\sethukrish\\AppData\\Local\\Programs\\Python\\Python310\\lib\\site-packages\\dash\\dash.py\", line 1274, in dispatch\n",
      "    ctx.run(\n",
      "  File \"C:\\Users\\sethukrish\\AppData\\Local\\Programs\\Python\\Python310\\lib\\site-packages\\dash\\_callback.py\", line 440, in add_context\n",
      "    output_value = func(*func_args, **func_kwargs)  # %% callback invoked %%\n",
      "  File \"C:\\Users\\sethukrish\\AppData\\Local\\Temp\\ipykernel_5180\\454719312.py\", line 11, in data_manipulation\n",
      "    input_value = float(input_value)\n",
      "TypeError: float() argument must be a string or a real number, not 'NoneType'\n"
     ]
    },
    {
     "name": "stderr",
     "output_type": "stream",
     "text": [
      "127.0.0.1 - - [16/Dec/2022 21:20:57] \"POST /_dash-update-component HTTP/1.1\" 500 -\n",
      "127.0.0.1 - - [16/Dec/2022 21:21:02] \"POST /_dash-update-component HTTP/1.1\" 200 -\n",
      "127.0.0.1 - - [16/Dec/2022 21:21:03] \"POST /_dash-update-component HTTP/1.1\" 200 -\n"
     ]
    },
    {
     "name": "stdout",
     "output_type": "stream",
     "text": [
      "Exception on /_dash-update-component [POST]\n",
      "Traceback (most recent call last):\n",
      "  File \"C:\\Users\\sethukrish\\AppData\\Local\\Programs\\Python\\Python310\\lib\\site-packages\\flask\\app.py\", line 2525, in wsgi_app\n",
      "    response = self.full_dispatch_request()\n",
      "  File \"C:\\Users\\sethukrish\\AppData\\Local\\Programs\\Python\\Python310\\lib\\site-packages\\flask\\app.py\", line 1822, in full_dispatch_request\n",
      "    rv = self.handle_user_exception(e)\n",
      "  File \"C:\\Users\\sethukrish\\AppData\\Local\\Programs\\Python\\Python310\\lib\\site-packages\\flask\\app.py\", line 1820, in full_dispatch_request\n",
      "    rv = self.dispatch_request()\n",
      "  File \"C:\\Users\\sethukrish\\AppData\\Local\\Programs\\Python\\Python310\\lib\\site-packages\\flask\\app.py\", line 1796, in dispatch_request\n",
      "    return self.ensure_sync(self.view_functions[rule.endpoint])(**view_args)\n",
      "  File \"C:\\Users\\sethukrish\\AppData\\Local\\Programs\\Python\\Python310\\lib\\site-packages\\dash\\dash.py\", line 1274, in dispatch\n",
      "    ctx.run(\n",
      "  File \"C:\\Users\\sethukrish\\AppData\\Local\\Programs\\Python\\Python310\\lib\\site-packages\\dash\\_callback.py\", line 440, in add_context\n",
      "    output_value = func(*func_args, **func_kwargs)  # %% callback invoked %%\n",
      "  File \"C:\\Users\\sethukrish\\AppData\\Local\\Temp\\ipykernel_5180\\454719312.py\", line 11, in data_manipulation\n",
      "    input_value = float(input_value)\n",
      "TypeError: float() argument must be a string or a real number, not 'NoneType'\n"
     ]
    },
    {
     "name": "stderr",
     "output_type": "stream",
     "text": [
      "127.0.0.1 - - [16/Dec/2022 21:21:03] \"POST /_dash-update-component HTTP/1.1\" 500 -\n",
      "127.0.0.1 - - [16/Dec/2022 21:21:09] \"POST /_dash-update-component HTTP/1.1\" 200 -\n",
      "127.0.0.1 - - [16/Dec/2022 21:21:09] \"POST /_dash-update-component HTTP/1.1\" 200 -\n"
     ]
    },
    {
     "name": "stdout",
     "output_type": "stream",
     "text": [
      "Exception on /_dash-update-component [POST]\n",
      "Traceback (most recent call last):\n",
      "  File \"C:\\Users\\sethukrish\\AppData\\Local\\Programs\\Python\\Python310\\lib\\site-packages\\flask\\app.py\", line 2525, in wsgi_app\n",
      "    response = self.full_dispatch_request()\n",
      "  File \"C:\\Users\\sethukrish\\AppData\\Local\\Programs\\Python\\Python310\\lib\\site-packages\\flask\\app.py\", line 1822, in full_dispatch_request\n",
      "    rv = self.handle_user_exception(e)\n",
      "  File \"C:\\Users\\sethukrish\\AppData\\Local\\Programs\\Python\\Python310\\lib\\site-packages\\flask\\app.py\", line 1820, in full_dispatch_request\n",
      "    rv = self.dispatch_request()\n",
      "  File \"C:\\Users\\sethukrish\\AppData\\Local\\Programs\\Python\\Python310\\lib\\site-packages\\flask\\app.py\", line 1796, in dispatch_request\n",
      "    return self.ensure_sync(self.view_functions[rule.endpoint])(**view_args)\n",
      "  File \"C:\\Users\\sethukrish\\AppData\\Local\\Programs\\Python\\Python310\\lib\\site-packages\\dash\\dash.py\", line 1274, in dispatch\n",
      "    ctx.run(\n",
      "  File \"C:\\Users\\sethukrish\\AppData\\Local\\Programs\\Python\\Python310\\lib\\site-packages\\dash\\_callback.py\", line 440, in add_context\n",
      "    output_value = func(*func_args, **func_kwargs)  # %% callback invoked %%\n",
      "  File \"C:\\Users\\sethukrish\\AppData\\Local\\Temp\\ipykernel_5180\\454719312.py\", line 11, in data_manipulation\n",
      "    input_value = float(input_value)\n",
      "TypeError: float() argument must be a string or a real number, not 'NoneType'\n"
     ]
    },
    {
     "name": "stderr",
     "output_type": "stream",
     "text": [
      "127.0.0.1 - - [16/Dec/2022 21:21:10] \"POST /_dash-update-component HTTP/1.1\" 500 -\n",
      "127.0.0.1 - - [16/Dec/2022 21:21:12] \"POST /_dash-update-component HTTP/1.1\" 200 -\n",
      "127.0.0.1 - - [16/Dec/2022 21:21:12] \"POST /_dash-update-component HTTP/1.1\" 200 -\n",
      "127.0.0.1 - - [16/Dec/2022 21:21:13] \"POST /_dash-update-component HTTP/1.1\" 200 -\n"
     ]
    },
    {
     "name": "stdout",
     "output_type": "stream",
     "text": [
      "Exception on /_dash-update-component [POST]\n",
      "Traceback (most recent call last):\n",
      "  File \"C:\\Users\\sethukrish\\AppData\\Local\\Programs\\Python\\Python310\\lib\\site-packages\\flask\\app.py\", line 2525, in wsgi_app\n",
      "    response = self.full_dispatch_request()\n",
      "  File \"C:\\Users\\sethukrish\\AppData\\Local\\Programs\\Python\\Python310\\lib\\site-packages\\flask\\app.py\", line 1822, in full_dispatch_request\n",
      "    rv = self.handle_user_exception(e)\n",
      "  File \"C:\\Users\\sethukrish\\AppData\\Local\\Programs\\Python\\Python310\\lib\\site-packages\\flask\\app.py\", line 1820, in full_dispatch_request\n",
      "    rv = self.dispatch_request()\n",
      "  File \"C:\\Users\\sethukrish\\AppData\\Local\\Programs\\Python\\Python310\\lib\\site-packages\\flask\\app.py\", line 1796, in dispatch_request\n",
      "    return self.ensure_sync(self.view_functions[rule.endpoint])(**view_args)\n",
      "  File \"C:\\Users\\sethukrish\\AppData\\Local\\Programs\\Python\\Python310\\lib\\site-packages\\dash\\dash.py\", line 1274, in dispatch\n",
      "    ctx.run(\n",
      "  File \"C:\\Users\\sethukrish\\AppData\\Local\\Programs\\Python\\Python310\\lib\\site-packages\\dash\\_callback.py\", line 440, in add_context\n",
      "    output_value = func(*func_args, **func_kwargs)  # %% callback invoked %%\n",
      "  File \"C:\\Users\\sethukrish\\AppData\\Local\\Temp\\ipykernel_5180\\454719312.py\", line 11, in data_manipulation\n",
      "    input_value = float(input_value)\n",
      "TypeError: float() argument must be a string or a real number, not 'NoneType'\n"
     ]
    },
    {
     "name": "stderr",
     "output_type": "stream",
     "text": [
      "127.0.0.1 - - [16/Dec/2022 21:21:14] \"POST /_dash-update-component HTTP/1.1\" 500 -\n",
      "127.0.0.1 - - [16/Dec/2022 21:21:14] \"POST /_dash-update-component HTTP/1.1\" 200 -\n",
      "127.0.0.1 - - [16/Dec/2022 21:21:15] \"POST /_dash-update-component HTTP/1.1\" 200 -\n"
     ]
    },
    {
     "name": "stdout",
     "output_type": "stream",
     "text": [
      "Exception on /_dash-update-component [POST]\n",
      "Traceback (most recent call last):\n",
      "  File \"C:\\Users\\sethukrish\\AppData\\Local\\Programs\\Python\\Python310\\lib\\site-packages\\flask\\app.py\", line 2525, in wsgi_app\n",
      "    response = self.full_dispatch_request()\n",
      "  File \"C:\\Users\\sethukrish\\AppData\\Local\\Programs\\Python\\Python310\\lib\\site-packages\\flask\\app.py\", line 1822, in full_dispatch_request\n",
      "    rv = self.handle_user_exception(e)\n",
      "  File \"C:\\Users\\sethukrish\\AppData\\Local\\Programs\\Python\\Python310\\lib\\site-packages\\flask\\app.py\", line 1820, in full_dispatch_request\n",
      "    rv = self.dispatch_request()\n",
      "  File \"C:\\Users\\sethukrish\\AppData\\Local\\Programs\\Python\\Python310\\lib\\site-packages\\flask\\app.py\", line 1796, in dispatch_request\n",
      "    return self.ensure_sync(self.view_functions[rule.endpoint])(**view_args)\n",
      "  File \"C:\\Users\\sethukrish\\AppData\\Local\\Programs\\Python\\Python310\\lib\\site-packages\\dash\\dash.py\", line 1274, in dispatch\n",
      "    ctx.run(\n",
      "  File \"C:\\Users\\sethukrish\\AppData\\Local\\Programs\\Python\\Python310\\lib\\site-packages\\dash\\_callback.py\", line 440, in add_context\n",
      "    output_value = func(*func_args, **func_kwargs)  # %% callback invoked %%\n",
      "  File \"C:\\Users\\sethukrish\\AppData\\Local\\Temp\\ipykernel_5180\\454719312.py\", line 11, in data_manipulation\n",
      "    input_value = float(input_value)\n",
      "TypeError: float() argument must be a string or a real number, not 'NoneType'\n"
     ]
    },
    {
     "name": "stderr",
     "output_type": "stream",
     "text": [
      "127.0.0.1 - - [16/Dec/2022 21:21:15] \"POST /_dash-update-component HTTP/1.1\" 500 -\n",
      "127.0.0.1 - - [16/Dec/2022 21:21:16] \"POST /_dash-update-component HTTP/1.1\" 200 -\n",
      "127.0.0.1 - - [16/Dec/2022 21:21:17] \"POST /_dash-update-component HTTP/1.1\" 200 -\n"
     ]
    },
    {
     "name": "stdout",
     "output_type": "stream",
     "text": [
      "Exception on /_dash-update-component [POST]\n",
      "Traceback (most recent call last):\n",
      "  File \"C:\\Users\\sethukrish\\AppData\\Local\\Programs\\Python\\Python310\\lib\\site-packages\\flask\\app.py\", line 2525, in wsgi_app\n",
      "    response = self.full_dispatch_request()\n",
      "  File \"C:\\Users\\sethukrish\\AppData\\Local\\Programs\\Python\\Python310\\lib\\site-packages\\flask\\app.py\", line 1822, in full_dispatch_request\n",
      "    rv = self.handle_user_exception(e)\n",
      "  File \"C:\\Users\\sethukrish\\AppData\\Local\\Programs\\Python\\Python310\\lib\\site-packages\\flask\\app.py\", line 1820, in full_dispatch_request\n",
      "    rv = self.dispatch_request()\n",
      "  File \"C:\\Users\\sethukrish\\AppData\\Local\\Programs\\Python\\Python310\\lib\\site-packages\\flask\\app.py\", line 1796, in dispatch_request\n",
      "    return self.ensure_sync(self.view_functions[rule.endpoint])(**view_args)\n",
      "  File \"C:\\Users\\sethukrish\\AppData\\Local\\Programs\\Python\\Python310\\lib\\site-packages\\dash\\dash.py\", line 1274, in dispatch\n",
      "    ctx.run(\n",
      "  File \"C:\\Users\\sethukrish\\AppData\\Local\\Programs\\Python\\Python310\\lib\\site-packages\\dash\\_callback.py\", line 440, in add_context\n",
      "    output_value = func(*func_args, **func_kwargs)  # %% callback invoked %%\n",
      "  File \"C:\\Users\\sethukrish\\AppData\\Local\\Temp\\ipykernel_5180\\454719312.py\", line 11, in data_manipulation\n",
      "    input_value = float(input_value)\n",
      "TypeError: float() argument must be a string or a real number, not 'NoneType'\n"
     ]
    },
    {
     "name": "stderr",
     "output_type": "stream",
     "text": [
      "127.0.0.1 - - [16/Dec/2022 21:21:17] \"POST /_dash-update-component HTTP/1.1\" 500 -\n",
      "127.0.0.1 - - [16/Dec/2022 21:21:19] \"POST /_dash-update-component HTTP/1.1\" 200 -\n"
     ]
    },
    {
     "name": "stdout",
     "output_type": "stream",
     "text": [
      "Exception on /_dash-update-component [POST]\n",
      "Traceback (most recent call last):\n",
      "  File \"C:\\Users\\sethukrish\\AppData\\Local\\Programs\\Python\\Python310\\lib\\site-packages\\flask\\app.py\", line 2525, in wsgi_app\n",
      "    response = self.full_dispatch_request()\n",
      "  File \"C:\\Users\\sethukrish\\AppData\\Local\\Programs\\Python\\Python310\\lib\\site-packages\\flask\\app.py\", line 1822, in full_dispatch_request\n",
      "    rv = self.handle_user_exception(e)\n",
      "  File \"C:\\Users\\sethukrish\\AppData\\Local\\Programs\\Python\\Python310\\lib\\site-packages\\flask\\app.py\", line 1820, in full_dispatch_request\n",
      "    rv = self.dispatch_request()\n",
      "  File \"C:\\Users\\sethukrish\\AppData\\Local\\Programs\\Python\\Python310\\lib\\site-packages\\flask\\app.py\", line 1796, in dispatch_request\n",
      "    return self.ensure_sync(self.view_functions[rule.endpoint])(**view_args)\n",
      "  File \"C:\\Users\\sethukrish\\AppData\\Local\\Programs\\Python\\Python310\\lib\\site-packages\\dash\\dash.py\", line 1274, in dispatch\n",
      "    ctx.run(\n",
      "  File \"C:\\Users\\sethukrish\\AppData\\Local\\Programs\\Python\\Python310\\lib\\site-packages\\dash\\_callback.py\", line 440, in add_context\n",
      "    output_value = func(*func_args, **func_kwargs)  # %% callback invoked %%\n",
      "  File \"C:\\Users\\sethukrish\\AppData\\Local\\Temp\\ipykernel_5180\\454719312.py\", line 11, in data_manipulation\n",
      "    input_value = float(input_value)\n",
      "TypeError: float() argument must be a string or a real number, not 'NoneType'\n"
     ]
    },
    {
     "name": "stderr",
     "output_type": "stream",
     "text": [
      "127.0.0.1 - - [16/Dec/2022 21:21:19] \"POST /_dash-update-component HTTP/1.1\" 500 -\n",
      "127.0.0.1 - - [16/Dec/2022 21:21:22] \"POST /_dash-update-component HTTP/1.1\" 200 -\n"
     ]
    },
    {
     "name": "stdout",
     "output_type": "stream",
     "text": [
      "Exception on /_dash-update-component [POST]\n",
      "Traceback (most recent call last):\n",
      "  File \"C:\\Users\\sethukrish\\AppData\\Local\\Programs\\Python\\Python310\\lib\\site-packages\\flask\\app.py\", line 2525, in wsgi_app\n",
      "    response = self.full_dispatch_request()\n",
      "  File \"C:\\Users\\sethukrish\\AppData\\Local\\Programs\\Python\\Python310\\lib\\site-packages\\flask\\app.py\", line 1822, in full_dispatch_request\n",
      "    rv = self.handle_user_exception(e)\n",
      "  File \"C:\\Users\\sethukrish\\AppData\\Local\\Programs\\Python\\Python310\\lib\\site-packages\\flask\\app.py\", line 1820, in full_dispatch_request\n",
      "    rv = self.dispatch_request()\n",
      "  File \"C:\\Users\\sethukrish\\AppData\\Local\\Programs\\Python\\Python310\\lib\\site-packages\\flask\\app.py\", line 1796, in dispatch_request\n",
      "    return self.ensure_sync(self.view_functions[rule.endpoint])(**view_args)\n",
      "  File \"C:\\Users\\sethukrish\\AppData\\Local\\Programs\\Python\\Python310\\lib\\site-packages\\dash\\dash.py\", line 1274, in dispatch\n",
      "    ctx.run(\n",
      "  File \"C:\\Users\\sethukrish\\AppData\\Local\\Programs\\Python\\Python310\\lib\\site-packages\\dash\\_callback.py\", line 440, in add_context\n",
      "    output_value = func(*func_args, **func_kwargs)  # %% callback invoked %%\n",
      "  File \"C:\\Users\\sethukrish\\AppData\\Local\\Temp\\ipykernel_5180\\454719312.py\", line 11, in data_manipulation\n",
      "    input_value = float(input_value)\n",
      "TypeError: float() argument must be a string or a real number, not 'NoneType'\n"
     ]
    },
    {
     "name": "stderr",
     "output_type": "stream",
     "text": [
      "127.0.0.1 - - [16/Dec/2022 21:21:22] \"POST /_dash-update-component HTTP/1.1\" 500 -\n",
      "127.0.0.1 - - [16/Dec/2022 21:21:29] \"POST /_dash-update-component HTTP/1.1\" 200 -\n"
     ]
    },
    {
     "name": "stdout",
     "output_type": "stream",
     "text": [
      "Exception on /_dash-update-component [POST]\n",
      "Traceback (most recent call last):\n",
      "  File \"C:\\Users\\sethukrish\\AppData\\Local\\Programs\\Python\\Python310\\lib\\site-packages\\flask\\app.py\", line 2525, in wsgi_app\n",
      "    response = self.full_dispatch_request()\n",
      "  File \"C:\\Users\\sethukrish\\AppData\\Local\\Programs\\Python\\Python310\\lib\\site-packages\\flask\\app.py\", line 1822, in full_dispatch_request\n",
      "    rv = self.handle_user_exception(e)\n",
      "  File \"C:\\Users\\sethukrish\\AppData\\Local\\Programs\\Python\\Python310\\lib\\site-packages\\flask\\app.py\", line 1820, in full_dispatch_request\n",
      "    rv = self.dispatch_request()\n",
      "  File \"C:\\Users\\sethukrish\\AppData\\Local\\Programs\\Python\\Python310\\lib\\site-packages\\flask\\app.py\", line 1796, in dispatch_request\n",
      "    return self.ensure_sync(self.view_functions[rule.endpoint])(**view_args)\n",
      "  File \"C:\\Users\\sethukrish\\AppData\\Local\\Programs\\Python\\Python310\\lib\\site-packages\\dash\\dash.py\", line 1274, in dispatch\n",
      "    ctx.run(\n",
      "  File \"C:\\Users\\sethukrish\\AppData\\Local\\Programs\\Python\\Python310\\lib\\site-packages\\dash\\_callback.py\", line 440, in add_context\n",
      "    output_value = func(*func_args, **func_kwargs)  # %% callback invoked %%\n",
      "  File \"C:\\Users\\sethukrish\\AppData\\Local\\Temp\\ipykernel_5180\\454719312.py\", line 11, in data_manipulation\n",
      "    input_value = float(input_value)\n",
      "TypeError: float() argument must be a string or a real number, not 'NoneType'\n"
     ]
    },
    {
     "name": "stderr",
     "output_type": "stream",
     "text": [
      "127.0.0.1 - - [16/Dec/2022 21:21:31] \"POST /_dash-update-component HTTP/1.1\" 500 -\n"
     ]
    }
   ],
   "source": [
    "'''app = Dash()\n",
    "app.layout = html.Div(children=[\n",
    "    html.H4('please enter your tempature: '),\n",
    "    dcc.Input(id = 'user_input',type='number',min = -10,max = 100),\n",
    "    html.Br(),\n",
    "    html.H1(id='out_div')\n",
    "])\n",
    "@app.callback(Output('out_div','children'),\n",
    "              Input('user_input','value'))\n",
    "def data_manipulation(input_value):\n",
    "    input_value = float(input_value)\n",
    "    if input_value < 0:\n",
    "        return 'you are living cold place'\n",
    "    elif input_value > 0 and input_value < 30:\n",
    "        return 'you are living normal place'\n",
    "    else:\n",
    "        return 'you are living hot place'\n",
    "   \n",
    "if __name__ == '__main__':\n",
    "    app.run_server()'''"
   ]
  },
  {
   "cell_type": "code",
   "execution_count": null,
   "id": "0e600114",
   "metadata": {},
   "outputs": [
    {
     "name": "stdout",
     "output_type": "stream",
     "text": [
      "Dash is running on http://127.0.0.1:8050/\n",
      "\n",
      " * Serving Flask app '__main__'\n",
      " * Debug mode: off\n"
     ]
    },
    {
     "name": "stderr",
     "output_type": "stream",
     "text": [
      "WARNING: This is a development server. Do not use it in a production deployment. Use a production WSGI server instead.\n",
      " * Running on http://127.0.0.1:8050\n",
      "Press CTRL+C to quit\n",
      "127.0.0.1 - - [16/Dec/2022 21:29:00] \"GET / HTTP/1.1\" 200 -\n",
      "127.0.0.1 - - [16/Dec/2022 21:29:01] \"GET /_dash-layout HTTP/1.1\" 200 -\n",
      "127.0.0.1 - - [16/Dec/2022 21:29:01] \"GET /_dash-dependencies HTTP/1.1\" 200 -\n",
      "127.0.0.1 - - [16/Dec/2022 21:29:01] \"POST /_dash-update-component HTTP/1.1\" 200 -\n",
      "127.0.0.1 - - [16/Dec/2022 21:29:02] \"GET /_dash-component-suites/dash/dcc/async-dropdown.js HTTP/1.1\" 304 -\n",
      "127.0.0.1 - - [16/Dec/2022 21:29:10] \"POST /_dash-update-component HTTP/1.1\" 200 -\n",
      "127.0.0.1 - - [16/Dec/2022 21:29:12] \"POST /_dash-update-component HTTP/1.1\" 200 -\n",
      "127.0.0.1 - - [16/Dec/2022 21:29:15] \"POST /_dash-update-component HTTP/1.1\" 200 -\n",
      "127.0.0.1 - - [16/Dec/2022 21:29:19] \"POST /_dash-update-component HTTP/1.1\" 200 -\n",
      "127.0.0.1 - - [16/Dec/2022 21:29:23] \"POST /_dash-update-component HTTP/1.1\" 200 -\n",
      "127.0.0.1 - - [16/Dec/2022 21:29:28] \"POST /_dash-update-component HTTP/1.1\" 200 -\n",
      "127.0.0.1 - - [16/Dec/2022 21:29:33] \"POST /_dash-update-component HTTP/1.1\" 200 -\n"
     ]
    }
   ],
   "source": [
    "'''df = pd.read_csv('Bengaluru_House_Data.xls')\n",
    "app = Dash()\n",
    "app.layout = html.Div(children=[\n",
    "    html.H4('choose the society: '),\n",
    "    dcc.Dropdown(df['society'].unique(),id = 'user_input'),\n",
    "    html.Br(),\n",
    "    html.H1(id='out_div')\n",
    "])\n",
    "@app.callback(Output('out_div','children'),\n",
    "              Input('user_input','value'))\n",
    "def data_manipulation(input_value):\n",
    "    temp_df = df[df['society'] == input_value]\n",
    "    return str(temp_df['price'].mean())\n",
    "if __name__ == '__main__':\n",
    "    app.run_server()'''"
   ]
  },
  {
   "cell_type": "code",
   "execution_count": null,
   "id": "db1ec637",
   "metadata": {},
   "outputs": [
    {
     "name": "stdout",
     "output_type": "stream",
     "text": [
      "Dash is running on http://127.0.0.1:8050/\n",
      "\n",
      " * Serving Flask app '__main__'\n",
      " * Debug mode: off\n"
     ]
    },
    {
     "name": "stderr",
     "output_type": "stream",
     "text": [
      "WARNING: This is a development server. Do not use it in a production deployment. Use a production WSGI server instead.\n",
      " * Running on http://127.0.0.1:8050\n",
      "Press CTRL+C to quit\n",
      "127.0.0.1 - - [16/Dec/2022 21:33:57] \"GET / HTTP/1.1\" 200 -\n",
      "127.0.0.1 - - [16/Dec/2022 21:33:57] \"GET /_dash-layout HTTP/1.1\" 200 -\n",
      "127.0.0.1 - - [16/Dec/2022 21:33:57] \"GET /_dash-dependencies HTTP/1.1\" 200 -\n",
      "127.0.0.1 - - [16/Dec/2022 21:33:58] \"GET /_dash-component-suites/dash/dcc/async-dropdown.js HTTP/1.1\" 304 -\n",
      "127.0.0.1 - - [16/Dec/2022 21:33:58] \"GET /_dash-component-suites/dash/dcc/async-graph.js HTTP/1.1\" 304 -\n",
      "127.0.0.1 - - [16/Dec/2022 21:33:59] \"GET /_dash-component-suites/dash/dcc/async-plotlyjs.js HTTP/1.1\" 304 -\n",
      "127.0.0.1 - - [16/Dec/2022 21:34:32] \"POST /_dash-update-component HTTP/1.1\" 200 -\n",
      "127.0.0.1 - - [16/Dec/2022 21:34:32] \"POST /_dash-update-component HTTP/1.1\" 200 -\n",
      "127.0.0.1 - - [16/Dec/2022 21:34:50] \"POST /_dash-update-component HTTP/1.1\" 200 -\n"
     ]
    }
   ],
   "source": [
    "'''df = pd.read_csv('Bengaluru_House_Data.xls')\n",
    "app = Dash()\n",
    "app.layout = html.Div(children=[\n",
    "    html.H4('choose the society: '),\n",
    "    dcc.Dropdown(df['society'].unique(),id = 'user_input'),\n",
    "    html.Br(),\n",
    "    dcc.Graph(id='my_graph')\n",
    "])\n",
    "@app.callback(Output('my_graph','figure'),\n",
    "              Input('user_input','value'))\n",
    "def data_manipulation(input_value):\n",
    "    temp_df = df[df['society'] == input_value]\n",
    "    fig = px.scatter(temp_df,x='total_sqft',y='price',color='area_type',size = 'balcony')\n",
    "    return fig\n",
    "if __name__ == '__main__':\n",
    "    app.run_server()'''"
   ]
  },
  {
   "cell_type": "code",
   "execution_count": null,
   "id": "87688421",
   "metadata": {},
   "outputs": [],
   "source": []
  }
 ],
 "metadata": {
  "kernelspec": {
   "display_name": "Python 3 (ipykernel)",
   "language": "python",
   "name": "python3"
  },
  "language_info": {
   "codemirror_mode": {
    "name": "ipython",
    "version": 3
   },
   "file_extension": ".py",
   "mimetype": "text/x-python",
   "name": "python",
   "nbconvert_exporter": "python",
   "pygments_lexer": "ipython3",
   "version": "3.10.8"
  }
 },
 "nbformat": 4,
 "nbformat_minor": 5
}
